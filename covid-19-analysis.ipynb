{
 "cells": [
  {
   "cell_type": "code",
   "execution_count": 1,
   "id": "d2b8ffa9",
   "metadata": {},
   "outputs": [
    {
     "data": {
      "text/html": [
       "        <script type=\"text/javascript\">\n",
       "        window.PlotlyConfig = {MathJaxConfig: 'local'};\n",
       "        if (window.MathJax) {MathJax.Hub.Config({SVG: {font: \"STIX-Web\"}});}\n",
       "        if (typeof require !== 'undefined') {\n",
       "        require.undef(\"plotly\");\n",
       "        requirejs.config({\n",
       "            paths: {\n",
       "                'plotly': ['https://cdn.plot.ly/plotly-latest.min']\n",
       "            }\n",
       "        });\n",
       "        require(['plotly'], function(Plotly) {\n",
       "            window._Plotly = Plotly;\n",
       "        });\n",
       "        }\n",
       "        </script>\n",
       "        "
      ]
     },
     "metadata": {},
     "output_type": "display_data"
    },
    {
     "data": {
      "text/html": [
       "        <script type=\"text/javascript\">\n",
       "        window.PlotlyConfig = {MathJaxConfig: 'local'};\n",
       "        if (window.MathJax) {MathJax.Hub.Config({SVG: {font: \"STIX-Web\"}});}\n",
       "        if (typeof require !== 'undefined') {\n",
       "        require.undef(\"plotly\");\n",
       "        requirejs.config({\n",
       "            paths: {\n",
       "                'plotly': ['https://cdn.plot.ly/plotly-latest.min']\n",
       "            }\n",
       "        });\n",
       "        require(['plotly'], function(Plotly) {\n",
       "            window._Plotly = Plotly;\n",
       "        });\n",
       "        }\n",
       "        </script>\n",
       "        "
      ]
     },
     "metadata": {},
     "output_type": "display_data"
    }
   ],
   "source": [
    "import matplotlib.pyplot as plt\n",
    "import numpy as np\n",
    "import pandas as pd\n",
    "import seaborn as sns\n",
    "import plotly.express as px\n",
    "import cufflinks as cf\n",
    "import chart_studio.plotly as py\n",
    "import plotly.graph_objects as go\n",
    "import mplfinance as mpf\n",
    "import statsmodels.api as sm\n",
    "\n",
    "%matplotlib inline\n",
    "\n",
    "from plotly.offline import download_plotlyjs, init_notebook_mode, plot, iplot\n",
    "init_notebook_mode(connected = True)\n",
    "cf.go_offline()\n",
    "\n",
    "import requests\n",
    "from bs4 import BeautifulSoup\n",
    "import json\n",
    "from pandas import DataFrame as df"
   ]
  },
  {
   "cell_type": "code",
   "execution_count": 2,
   "id": "d314656d",
   "metadata": {},
   "outputs": [
    {
     "name": "stdout",
     "output_type": "stream",
     "text": [
      "Index(['iso_code', 'continent', 'location', 'date', 'total_cases', 'new_cases',\n",
      "       'new_cases_smoothed', 'total_deaths', 'new_deaths',\n",
      "       'new_deaths_smoothed', 'total_cases_per_million',\n",
      "       'new_cases_per_million', 'new_cases_smoothed_per_million',\n",
      "       'total_deaths_per_million', 'new_deaths_per_million',\n",
      "       'new_deaths_smoothed_per_million', 'reproduction_rate', 'icu_patients',\n",
      "       'icu_patients_per_million', 'hosp_patients',\n",
      "       'hosp_patients_per_million', 'weekly_icu_admissions',\n",
      "       'weekly_icu_admissions_per_million', 'weekly_hosp_admissions',\n",
      "       'weekly_hosp_admissions_per_million', 'new_tests', 'total_tests',\n",
      "       'total_tests_per_thousand', 'new_tests_per_thousand',\n",
      "       'new_tests_smoothed', 'new_tests_smoothed_per_thousand',\n",
      "       'positive_rate', 'tests_per_case', 'tests_units', 'total_vaccinations',\n",
      "       'people_vaccinated', 'people_fully_vaccinated', 'new_vaccinations',\n",
      "       'new_vaccinations_smoothed', 'total_vaccinations_per_hundred',\n",
      "       'people_vaccinated_per_hundred', 'people_fully_vaccinated_per_hundred',\n",
      "       'new_vaccinations_smoothed_per_million', 'stringency_index',\n",
      "       'population', 'population_density', 'median_age', 'aged_65_older',\n",
      "       'aged_70_older', 'gdp_per_capita', 'extreme_poverty',\n",
      "       'cardiovasc_death_rate', 'diabetes_prevalence', 'female_smokers',\n",
      "       'male_smokers', 'handwashing_facilities', 'hospital_beds_per_thousand',\n",
      "       'life_expectancy', 'human_development_index'],\n",
      "      dtype='object')\n",
      "['Afghanistan' 'Africa' 'Albania' 'Algeria' 'Andorra' 'Angola' 'Anguilla'\n",
      " 'Antigua and Barbuda' 'Argentina' 'Armenia' 'Aruba' 'Asia' 'Australia'\n",
      " 'Austria' 'Azerbaijan' 'Bahamas' 'Bahrain' 'Bangladesh' 'Barbados'\n",
      " 'Belarus' 'Belgium' 'Belize' 'Benin' 'Bermuda' 'Bhutan' 'Bolivia'\n",
      " 'Bosnia and Herzegovina' 'Botswana' 'Brazil' 'Brunei' 'Bulgaria'\n",
      " 'Burkina Faso' 'Burundi' 'Cambodia' 'Cameroon' 'Canada' 'Cape Verde'\n",
      " 'Cayman Islands' 'Central African Republic' 'Chad' 'Chile' 'China'\n",
      " 'Colombia' 'Comoros' 'Congo' 'Costa Rica' \"Cote d'Ivoire\" 'Croatia'\n",
      " 'Cuba' 'Curacao' 'Cyprus' 'Czechia' 'Democratic Republic of Congo'\n",
      " 'Denmark' 'Djibouti' 'Dominica' 'Dominican Republic' 'Ecuador' 'Egypt'\n",
      " 'El Salvador' 'Equatorial Guinea' 'Eritrea' 'Estonia' 'Eswatini'\n",
      " 'Ethiopia' 'Europe' 'European Union' 'Faeroe Islands' 'Falkland Islands'\n",
      " 'Fiji' 'Finland' 'France' 'Gabon' 'Gambia' 'Georgia' 'Germany' 'Ghana'\n",
      " 'Gibraltar' 'Greece' 'Greenland' 'Grenada' 'Guatemala' 'Guernsey'\n",
      " 'Guinea' 'Guinea-Bissau' 'Guyana' 'Haiti' 'Honduras' 'Hong Kong'\n",
      " 'Hungary' 'Iceland' 'India' 'Indonesia' 'International' 'Iran' 'Iraq'\n",
      " 'Ireland' 'Isle of Man' 'Israel' 'Italy' 'Jamaica' 'Japan' 'Jersey'\n",
      " 'Jordan' 'Kazakhstan' 'Kenya' 'Kosovo' 'Kuwait' 'Kyrgyzstan' 'Laos'\n",
      " 'Latvia' 'Lebanon' 'Lesotho' 'Liberia' 'Libya' 'Liechtenstein'\n",
      " 'Lithuania' 'Luxembourg' 'Macao' 'Madagascar' 'Malawi' 'Malaysia'\n",
      " 'Maldives' 'Mali' 'Malta' 'Marshall Islands' 'Mauritania' 'Mauritius'\n",
      " 'Mexico' 'Micronesia (country)' 'Moldova' 'Monaco' 'Mongolia'\n",
      " 'Montenegro' 'Montserrat' 'Morocco' 'Mozambique' 'Myanmar' 'Namibia'\n",
      " 'Nauru' 'Nepal' 'Netherlands' 'New Zealand' 'Nicaragua' 'Niger' 'Nigeria'\n",
      " 'North America' 'North Macedonia' 'Northern Cyprus' 'Norway' 'Oceania'\n",
      " 'Oman' 'Pakistan' 'Palestine' 'Panama' 'Papua New Guinea' 'Paraguay'\n",
      " 'Peru' 'Philippines' 'Poland' 'Portugal' 'Qatar' 'Romania' 'Russia'\n",
      " 'Rwanda' 'Saint Helena' 'Saint Kitts and Nevis' 'Saint Lucia'\n",
      " 'Saint Vincent and the Grenadines' 'Samoa' 'San Marino'\n",
      " 'Sao Tome and Principe' 'Saudi Arabia' 'Senegal' 'Serbia' 'Seychelles'\n",
      " 'Sierra Leone' 'Singapore' 'Slovakia' 'Slovenia' 'Solomon Islands'\n",
      " 'Somalia' 'South Africa' 'South America' 'South Korea' 'South Sudan'\n",
      " 'Spain' 'Sri Lanka' 'Sudan' 'Suriname' 'Sweden' 'Switzerland' 'Syria'\n",
      " 'Taiwan' 'Tajikistan' 'Tanzania' 'Thailand' 'Timor' 'Togo' 'Tonga'\n",
      " 'Trinidad and Tobago' 'Tunisia' 'Turkey' 'Turks and Caicos Islands'\n",
      " 'Uganda' 'Ukraine' 'United Arab Emirates' 'United Kingdom'\n",
      " 'United States' 'Uruguay' 'Uzbekistan' 'Vanuatu' 'Vatican' 'Venezuela'\n",
      " 'Vietnam' 'World' 'Yemen' 'Zambia' 'Zimbabwe']\n"
     ]
    }
   ],
   "source": [
    "covid_data = pd.read_csv('covid-data.csv')\n",
    "print(covid_data.columns)\n",
    "country_df = covid_data.location.unique()\n",
    "print(country_df)"
   ]
  },
  {
   "cell_type": "code",
   "execution_count": 3,
   "id": "25a43b92",
   "metadata": {},
   "outputs": [
    {
     "data": {
      "text/plain": [
       "<AxesSubplot:xlabel='date'>"
      ]
     },
     "execution_count": 3,
     "metadata": {},
     "output_type": "execute_result"
    },
    {
     "data": {
      "image/png": "[encoded data removed]",
      "text/plain": [
       "<Figure size 864x288 with 1 Axes>"
      ]
     },
     "metadata": {
      "needs_background": "light"
     },
     "output_type": "display_data"
    }
   ],
   "source": [
    "indexes = covid_data[covid_data['location']=='India'].index\n",
    "india = covid_data.loc[indexes, 'date':'total_cases']\n",
    "india = india.dropna()\n",
    "india.set_index('date', inplace=True)\n",
    "india.plot(figsize=(12, 4))\n",
    "india.rolling(window=30).mean()['total_cases'].plot()"
   ]
  },
  {
   "cell_type": "code",
   "execution_count": 4,
   "id": "4a803003",
   "metadata": {},
   "outputs": [
    {
     "name": "stdout",
     "output_type": "stream",
     "text": [
      "Index(['new_cases_per_million'], dtype='object')\n"
     ]
    },
    {
     "data": {
      "image/png": "[encoded data removed]",
      "text/plain": [
       "<Figure size 864x432 with 1 Axes>"
      ]
     },
     "metadata": {
      "needs_background": "light"
     },
     "output_type": "display_data"
    }
   ],
   "source": [
    "def plot_data(country, col, plot_ma=False, y_max=200):\n",
    "    indexes = covid_data[covid_data['location']==country].index\n",
    "    country_df = covid_data.loc[indexes, 'date':col]\n",
    "    country_df = country_df.dropna()\n",
    "    country_df.set_index('date', inplace=True)\n",
    "    \n",
    "    country_df.drop(country_df.columns.difference([col]), 1, inplace=True)\n",
    "    country_df.plot(figsize=(12,6), ylim=[0,y_max])\n",
    "    \n",
    "    if plot_ma:\n",
    "        country_df.rolling(window=30).mean()[col].plot()\n",
    "    print(country_df.columns)\n",
    "    \n",
    "plot_data('India', 'new_cases_per_million', True)"
   ]
  },
  {
   "cell_type": "code",
   "execution_count": 5,
   "id": "bae10b73",
   "metadata": {},
   "outputs": [
    {
     "name": "stdout",
     "output_type": "stream",
     "text": [
      "Index(['total_cases'], dtype='object')\n"
     ]
    },
    {
     "data": {
      "image/png": "[encoded data removed]",
      "text/plain": [
       "<Figure size 864x432 with 1 Axes>"
      ]
     },
     "metadata": {
      "needs_background": "light"
     },
     "output_type": "display_data"
    }
   ],
   "source": [
    "plot_data('India', 'total_cases', True)"
   ]
  },
  {
   "cell_type": "code",
   "execution_count": 6,
   "id": "a62649ef",
   "metadata": {},
   "outputs": [
    {
     "name": "stdout",
     "output_type": "stream",
     "text": [
      "Index(['total_deaths_per_million'], dtype='object')\n"
     ]
    },
    {
     "data": {
      "image/png": "[encoded data removed]",
      "text/plain": [
       "<Figure size 864x432 with 1 Axes>"
      ]
     },
     "metadata": {
      "needs_background": "light"
     },
     "output_type": "display_data"
    }
   ],
   "source": [
    "plot_data('India', 'total_deaths_per_million', True)"
   ]
  },
  {
   "cell_type": "code",
   "execution_count": 7,
   "id": "ca5fed02",
   "metadata": {},
   "outputs": [
    {
     "name": "stdout",
     "output_type": "stream",
     "text": [
      "Index(['new_deaths_per_million'], dtype='object')\n"
     ]
    },
    {
     "data": {
      "image/png": "[encoded data removed]",
      "text/plain": [
       "<Figure size 864x432 with 1 Axes>"
      ]
     },
     "metadata": {
      "needs_background": "light"
     },
     "output_type": "display_data"
    }
   ],
   "source": [
    "plot_data('India', 'new_deaths_per_million', True)"
   ]
  },
  {
   "cell_type": "code",
   "execution_count": 8,
   "id": "d0ebebff",
   "metadata": {},
   "outputs": [
    {
     "name": "stdout",
     "output_type": "stream",
     "text": [
      "Index(['total_deaths'], dtype='object')\n"
     ]
    },
    {
     "data": {
      "image/png": "[encoded data removed]",
      "text/plain": [
       "<Figure size 864x432 with 1 Axes>"
      ]
     },
     "metadata": {
      "needs_background": "light"
     },
     "output_type": "display_data"
    }
   ],
   "source": [
    "plot_data('India', 'total_deaths', True)"
   ]
  },
  {
   "cell_type": "code",
   "execution_count": 9,
   "id": "5e721ef9",
   "metadata": {},
   "outputs": [
    {
     "name": "stdout",
     "output_type": "stream",
     "text": [
      "Index(['new_cases_per_million'], dtype='object')\n"
     ]
    },
    {
     "data": {
      "image/png": "[encoded data removed]",
      "text/plain": [
       "<Figure size 864x432 with 1 Axes>"
      ]
     },
     "metadata": {
      "needs_background": "light"
     },
     "output_type": "display_data"
    }
   ],
   "source": [
    "plot_data('United States', 'new_cases_per_million', 200)"
   ]
  },
  {
   "cell_type": "code",
   "execution_count": 11,
   "id": "705ed011",
   "metadata": {},
   "outputs": [
    {
     "name": "stdout",
     "output_type": "stream",
     "text": [
      "Index(['total_cases'], dtype='object')\n"
     ]
    },
    {
     "data": {
      "image/png": "[encoded data removed]",
      "text/plain": [
       "<Figure size 864x432 with 1 Axes>"
      ]
     },
     "metadata": {
      "needs_background": "light"
     },
     "output_type": "display_data"
    }
   ],
   "source": [
    "plot_data('United States', 'total_cases', True)"
   ]
  },
  {
   "cell_type": "code",
   "execution_count": 12,
   "id": "aca1f848",
   "metadata": {},
   "outputs": [
    {
     "data": {
      "application/vnd.plotly.v1+json": {
       "config": {
        "plotlyServerURL": "https://plot.ly"
       },
       "data": [
        {
         "customdata": [
          [
           "Afghanistan"
          ]
         ],
         "hovertemplate": "location=%{customdata[0]}<br>aged_70_older=%{x}<br>total_deaths_per_million=%{y}<extra></extra>",
         "legendgroup": "Afghanistan",
         "marker": {
          "color": "#636efa",
          "symbol": "circle"
         },
         "mode": "markers",
         "name": "Afghanistan",
         "orientation": "v",
         "showlegend": true,
         "type": "scatter",
         "x": [
          1.337
         ],
         "xaxis": "x",
         "y": [
          39.175
         ],
         "yaxis": "y"
        },
        {
         "hovertemplate": "location=Afghanistan<extra></extra>",
         "legendgroup": "Afghanistan",
         "marker": {
          "color": "#636efa",
          "symbol": "circle"
         },
         "mode": "lines",
         "name": "Afghanistan",
         "showlegend": false,
         "type": "scatter",
         "xaxis": "x",
         "yaxis": "y"
        },
        {
         "customdata": [
          [
           "Africa"
          ]
         ],
         "hovertemplate": "location=%{customdata[0]}<br>aged_70_older=%{x}<br>total_deaths_per_million=%{y}<extra></extra>",
         "legendgroup": "Africa",
         "marker": {
          "color": "#EF553B",
          "symbol": "circle"
         },
         "mode": "markers",
         "name": "Africa",
         "orientation": "v",
         "showlegend": true,
         "type": "scatter",
         "x": [
          0
         ],
         "xaxis": "x",
         "y": [
          31.172
         ],
         "yaxis": "y"
        },
        {
         "hovertemplate": "location=Africa<extra></extra>",
         "legendgroup": "Africa",
         "marker": {
          "color": "#EF553B",
          "symbol": "circle"
         },
         "mode": "lines",
         "name": "Africa",
         "showlegend": false,
         "type": "scatter",
         "xaxis": "x",
         "yaxis": "y"
        },
        {
         "customdata": [
          [
           "Albania"
          ]
         ],
         "hovertemplate": "location=%{customdata[0]}<br>aged_70_older=%{x}<br>total_deaths_per_million=%{y}<extra></extra>",
         "legendgroup": "Albania",
         "marker": {
          "color": "#00cc96",
          "symbol": "circle"
         },
         "mode": "markers",
         "name": "Albania",
         "orientation": "v",
         "showlegend": true,
         "type": "scatter",
         "x": [
          8.643
         ],
         "xaxis": "x",
         "y": [
          169.226
         ],
         "yaxis": "y"
        },
        {
         "hovertemplate": "location=Albania<extra></extra>",
         "legendgroup": "Albania",
         "marker": {
          "color": "#00cc96",
          "symbol": "circle"
         },
         "mode": "lines",
         "name": "Albania",
         "showlegend": false,
         "type": "scatter",
         "xaxis": "x",
         "yaxis": "y"
        },
        {
         "customdata": [
          [
           "Algeria"
          ]
         ],
         "hovertemplate": "location=%{customdata[0]}<br>aged_70_older=%{x}<br>total_deaths_per_million=%{y}<extra></extra>",
         "legendgroup": "Algeria",
         "marker": {
          "color": "#ab63fa",
          "symbol": "circle"
         },
         "mode": "markers",
         "name": "Algeria",
         "orientation": "v",
         "showlegend": true,
         "type": "scatter",
         "x": [
          3.857
         ],
         "xaxis": "x",
         "y": [
          44.035
         ],
         "yaxis": "y"
        },
        {
         "hovertemplate": "location=Algeria<extra></extra>",
         "legendgroup": "Algeria",
         "marker": {
          "color": "#ab63fa",
          "symbol": "circle"
         },
         "mode": "lines",
         "name": "Algeria",
         "showlegend": false,
         "type": "scatter",
         "xaxis": "x",
         "yaxis": "y"
        },
        {
         "customdata": [
          [
           "Andorra"
          ]
         ],
         "hovertemplate": "location=%{customdata[0]}<br>aged_70_older=%{x}<br>total_deaths_per_million=%{y}<extra></extra>",
         "legendgroup": "Andorra",
         "marker": {
          "color": "#FFA15A",
          "symbol": "circle"
         },
         "mode": "markers",
         "name": "Andorra",
         "orientation": "v",
         "showlegend": true,
         "type": "scatter",
         "x": [
          0
         ],
         "xaxis": "x",
         "y": [
          931.858
         ],
         "yaxis": "y"
        },
        {
         "hovertemplate": "location=Andorra<extra></extra>",
         "legendgroup": "Andorra",
         "marker": {
          "color": "#FFA15A",
          "symbol": "circle"
         },
         "mode": "lines",
         "name": "Andorra",
         "showlegend": false,
         "type": "scatter",
         "xaxis": "x",
         "yaxis": "y"
        },
        {
         "customdata": [
          [
           "Angola"
          ]
         ],
         "hovertemplate": "location=%{customdata[0]}<br>aged_70_older=%{x}<br>total_deaths_per_million=%{y}<extra></extra>",
         "legendgroup": "Angola",
         "marker": {
          "color": "#19d3f3",
          "symbol": "circle"
         },
         "mode": "markers",
         "name": "Angola",
         "orientation": "v",
         "showlegend": true,
         "type": "scatter",
         "x": [
          1.362
         ],
         "xaxis": "x",
         "y": [
          8.246
         ],
         "yaxis": "y"
        },
        {
         "hovertemplate": "location=Angola<extra></extra>",
         "legendgroup": "Angola",
         "marker": {
          "color": "#19d3f3",
          "symbol": "circle"
         },
         "mode": "lines",
         "name": "Angola",
         "showlegend": false,
         "type": "scatter",
         "xaxis": "x",
         "yaxis": "y"
        },
        {
         "customdata": [
          [
           "Antigua and Barbuda"
          ]
         ],
         "hovertemplate": "location=%{customdata[0]}<br>aged_70_older=%{x}<br>total_deaths_per_million=%{y}<extra></extra>",
         "legendgroup": "Antigua and Barbuda",
         "marker": {
          "color": "#FF6692",
          "symbol": "circle"
         },
         "mode": "markers",
         "name": "Antigua and Barbuda",
         "orientation": "v",
         "showlegend": true,
         "type": "scatter",
         "x": [
          4.631
         ],
         "xaxis": "x",
         "y": [
          30.635
         ],
         "yaxis": "y"
        },
        {
         "hovertemplate": "location=Antigua and Barbuda<extra></extra>",
         "legendgroup": "Antigua and Barbuda",
         "marker": {
          "color": "#FF6692",
          "symbol": "circle"
         },
         "mode": "lines",
         "name": "Antigua and Barbuda",
         "showlegend": false,
         "type": "scatter",
         "xaxis": "x",
         "yaxis": "y"
        },
        {
         "customdata": [
          [
           "Argentina"
          ]
         ],
         "hovertemplate": "location=%{customdata[0]}<br>aged_70_older=%{x}<br>total_deaths_per_million=%{y}<extra></extra>",
         "legendgroup": "Argentina",
         "marker": {
          "color": "#B6E880",
          "symbol": "circle"
         },
         "mode": "markers",
         "name": "Argentina",
         "orientation": "v",
         "showlegend": true,
         "type": "scatter",
         "x": [
          7.441
         ],
         "xaxis": "x",
         "y": [
          657.805
         ],
         "yaxis": "y"
        },
        {
         "hovertemplate": "location=Argentina<extra></extra>",
         "legendgroup": "Argentina",
         "marker": {
          "color": "#B6E880",
          "symbol": "circle"
         },
         "mode": "lines",
         "name": "Argentina",
         "showlegend": false,
         "type": "scatter",
         "xaxis": "x",
         "yaxis": "y"
        },
        {
         "customdata": [
          [
           "Armenia"
          ]
         ],
         "hovertemplate": "location=%{customdata[0]}<br>aged_70_older=%{x}<br>total_deaths_per_million=%{y}<extra></extra>",
         "legendgroup": "Armenia",
         "marker": {
          "color": "#FF97FF",
          "symbol": "circle"
         },
         "mode": "markers",
         "name": "Armenia",
         "orientation": "v",
         "showlegend": true,
         "type": "scatter",
         "x": [
          7.571
         ],
         "xaxis": "x",
         "y": [
          412.387
         ],
         "yaxis": "y"
        },
        {
         "hovertemplate": "location=Armenia<extra></extra>",
         "legendgroup": "Armenia",
         "marker": {
          "color": "#FF97FF",
          "symbol": "circle"
         },
         "mode": "lines",
         "name": "Armenia",
         "showlegend": false,
         "type": "scatter",
         "xaxis": "x",
         "yaxis": "y"
        },
        {
         "customdata": [
          [
           "Asia"
          ]
         ],
         "hovertemplate": "location=%{customdata[0]}<br>aged_70_older=%{x}<br>total_deaths_per_million=%{y}<extra></extra>",
         "legendgroup": "Asia",
         "marker": {
          "color": "#FECB52",
          "symbol": "circle"
         },
         "mode": "markers",
         "name": "Asia",
         "orientation": "v",
         "showlegend": true,
         "type": "scatter",
         "x": [
          0
         ],
         "xaxis": "x",
         "y": [
          51.2
         ],
         "yaxis": "y"
        },
        {
         "hovertemplate": "location=Asia<extra></extra>",
         "legendgroup": "Asia",
         "marker": {
          "color": "#FECB52",
          "symbol": "circle"
         },
         "mode": "lines",
         "name": "Asia",
         "showlegend": false,
         "type": "scatter",
         "xaxis": "x",
         "yaxis": "y"
        },
        {
         "customdata": [
          [
           "Australia"
          ]
         ],
         "hovertemplate": "location=%{customdata[0]}<br>aged_70_older=%{x}<br>total_deaths_per_million=%{y}<extra></extra>",
         "legendgroup": "Australia",
         "marker": {
          "color": "#636efa",
          "symbol": "circle"
         },
         "mode": "markers",
         "name": "Australia",
         "orientation": "v",
         "showlegend": true,
         "type": "scatter",
         "x": [
          10.129
         ],
         "xaxis": "x",
         "y": [
          35.569
         ],
         "yaxis": "y"
        },
        {
         "hovertemplate": "location=Australia<extra></extra>",
         "legendgroup": "Australia",
         "marker": {
          "color": "#636efa",
          "symbol": "circle"
         },
         "mode": "lines",
         "name": "Australia",
         "showlegend": false,
         "type": "scatter",
         "xaxis": "x",
         "yaxis": "y"
        },
        {
         "customdata": [
          [
           "Austria"
          ]
         ],
         "hovertemplate": "location=%{customdata[0]}<br>aged_70_older=%{x}<br>total_deaths_per_million=%{y}<extra></extra>",
         "legendgroup": "Austria",
         "marker": {
          "color": "#EF553B",
          "symbol": "circle"
         },
         "mode": "markers",
         "name": "Austria",
         "orientation": "v",
         "showlegend": true,
         "type": "scatter",
         "x": [
          13.748
         ],
         "xaxis": "x",
         "y": [
          111.587
         ],
         "yaxis": "y"
        },
        {
         "hovertemplate": "location=Austria<extra></extra>",
         "legendgroup": "Austria",
         "marker": {
          "color": "#EF553B",
          "symbol": "circle"
         },
         "mode": "lines",
         "name": "Austria",
         "showlegend": false,
         "type": "scatter",
         "xaxis": "x",
         "yaxis": "y"
        },
        {
         "customdata": [
          [
           "Azerbaijan"
          ]
         ],
         "hovertemplate": "location=%{customdata[0]}<br>aged_70_older=%{x}<br>total_deaths_per_million=%{y}<extra></extra>",
         "legendgroup": "Azerbaijan",
         "marker": {
          "color": "#00cc96",
          "symbol": "circle"
         },
         "mode": "markers",
         "name": "Azerbaijan",
         "orientation": "v",
         "showlegend": true,
         "type": "scatter",
         "x": [
          3.871
         ],
         "xaxis": "x",
         "y": [
          67.856
         ],
         "yaxis": "y"
        },
        {
         "hovertemplate": "location=Azerbaijan<extra></extra>",
         "legendgroup": "Azerbaijan",
         "marker": {
          "color": "#00cc96",
          "symbol": "circle"
         },
         "mode": "lines",
         "name": "Azerbaijan",
         "showlegend": false,
         "type": "scatter",
         "xaxis": "x",
         "yaxis": "y"
        },
        {
         "customdata": [
          [
           "Bahamas"
          ]
         ],
         "hovertemplate": "location=%{customdata[0]}<br>aged_70_older=%{x}<br>total_deaths_per_million=%{y}<extra></extra>",
         "legendgroup": "Bahamas",
         "marker": {
          "color": "#ab63fa",
          "symbol": "circle"
         },
         "mode": "markers",
         "name": "Bahamas",
         "orientation": "v",
         "showlegend": true,
         "type": "scatter",
         "x": [
          5.2
         ],
         "xaxis": "x",
         "y": [
          345.838
         ],
         "yaxis": "y"
        },
        {
         "hovertemplate": "location=Bahamas<extra></extra>",
         "legendgroup": "Bahamas",
         "marker": {
          "color": "#ab63fa",
          "symbol": "circle"
         },
         "mode": "lines",
         "name": "Bahamas",
         "showlegend": false,
         "type": "scatter",
         "xaxis": "x",
         "yaxis": "y"
        },
        {
         "customdata": [
          [
           "Bahrain"
          ]
         ],
         "hovertemplate": "location=%{customdata[0]}<br>aged_70_older=%{x}<br>total_deaths_per_million=%{y}<extra></extra>",
         "legendgroup": "Bahrain",
         "marker": {
          "color": "#FFA15A",
          "symbol": "circle"
         },
         "mode": "markers",
         "name": "Bahrain",
         "orientation": "v",
         "showlegend": true,
         "type": "scatter",
         "x": [
          1.387
         ],
         "xaxis": "x",
         "y": [
          185.709
         ],
         "yaxis": "y"
        },
        {
         "hovertemplate": "location=Bahrain<extra></extra>",
         "legendgroup": "Bahrain",
         "marker": {
          "color": "#FFA15A",
          "symbol": "circle"
         },
         "mode": "lines",
         "name": "Bahrain",
         "showlegend": false,
         "type": "scatter",
         "xaxis": "x",
         "yaxis": "y"
        },
        {
         "customdata": [
          [
           "Bangladesh"
          ]
         ],
         "hovertemplate": "location=%{customdata[0]}<br>aged_70_older=%{x}<br>total_deaths_per_million=%{y}<extra></extra>",
         "legendgroup": "Bangladesh",
         "marker": {
          "color": "#19d3f3",
          "symbol": "circle"
         },
         "mode": "markers",
         "name": "Bangladesh",
         "orientation": "v",
         "showlegend": true,
         "type": "scatter",
         "x": [
          3.262
         ],
         "xaxis": "x",
         "y": [
          35.449
         ],
         "yaxis": "y"
        },
        {
         "hovertemplate": "location=Bangladesh<extra></extra>",
         "legendgroup": "Bangladesh",
         "marker": {
          "color": "#19d3f3",
          "symbol": "circle"
         },
         "mode": "lines",
         "name": "Bangladesh",
         "showlegend": false,
         "type": "scatter",
         "xaxis": "x",
         "yaxis": "y"
        },
        {
         "customdata": [
          [
           "Barbados"
          ]
         ],
         "hovertemplate": "location=%{customdata[0]}<br>aged_70_older=%{x}<br>total_deaths_per_million=%{y}<extra></extra>",
         "legendgroup": "Barbados",
         "marker": {
          "color": "#FF6692",
          "symbol": "circle"
         },
         "mode": "markers",
         "name": "Barbados",
         "orientation": "v",
         "showlegend": true,
         "type": "scatter",
         "x": [
          9.473
         ],
         "xaxis": "x",
         "y": [
          24.359
         ],
         "yaxis": "y"
        },
        {
         "hovertemplate": "location=Barbados<extra></extra>",
         "legendgroup": "Barbados",
         "marker": {
          "color": "#FF6692",
          "symbol": "circle"
         },
         "mode": "lines",
         "name": "Barbados",
         "showlegend": false,
         "type": "scatter",
         "xaxis": "x",
         "yaxis": "y"
        },
        {
         "customdata": [
          [
           "Belarus"
          ]
         ],
         "hovertemplate": "location=%{customdata[0]}<br>aged_70_older=%{x}<br>total_deaths_per_million=%{y}<extra></extra>",
         "legendgroup": "Belarus",
         "marker": {
          "color": "#B6E880",
          "symbol": "circle"
         },
         "mode": "markers",
         "name": "Belarus",
         "orientation": "v",
         "showlegend": true,
         "type": "scatter",
         "x": [
          9.788
         ],
         "xaxis": "x",
         "y": [
          102.124
         ],
         "yaxis": "y"
        },
        {
         "hovertemplate": "location=Belarus<extra></extra>",
         "legendgroup": "Belarus",
         "marker": {
          "color": "#B6E880",
          "symbol": "circle"
         },
         "mode": "lines",
         "name": "Belarus",
         "showlegend": false,
         "type": "scatter",
         "xaxis": "x",
         "yaxis": "y"
        },
        {
         "customdata": [
          [
           "Belgium"
          ]
         ],
         "hovertemplate": "location=%{customdata[0]}<br>aged_70_older=%{x}<br>total_deaths_per_million=%{y}<extra></extra>",
         "legendgroup": "Belgium",
         "marker": {
          "color": "#FF97FF",
          "symbol": "circle"
         },
         "mode": "markers",
         "name": "Belgium",
         "orientation": "v",
         "showlegend": true,
         "type": "scatter",
         "x": [
          12.849
         ],
         "xaxis": "x",
         "y": [
          952.404
         ],
         "yaxis": "y"
        },
        {
         "hovertemplate": "location=Belgium<extra></extra>",
         "legendgroup": "Belgium",
         "marker": {
          "color": "#FF97FF",
          "symbol": "circle"
         },
         "mode": "lines",
         "name": "Belgium",
         "showlegend": false,
         "type": "scatter",
         "xaxis": "x",
         "yaxis": "y"
        },
        {
         "customdata": [
          [
           "Belize"
          ]
         ],
         "hovertemplate": "location=%{customdata[0]}<br>aged_70_older=%{x}<br>total_deaths_per_million=%{y}<extra></extra>",
         "legendgroup": "Belize",
         "marker": {
          "color": "#FECB52",
          "symbol": "circle"
         },
         "mode": "markers",
         "name": "Belize",
         "orientation": "v",
         "showlegend": true,
         "type": "scatter",
         "x": [
          2.279
         ],
         "xaxis": "x",
         "y": [
          128.263
         ],
         "yaxis": "y"
        },
        {
         "hovertemplate": "location=Belize<extra></extra>",
         "legendgroup": "Belize",
         "marker": {
          "color": "#FECB52",
          "symbol": "circle"
         },
         "mode": "lines",
         "name": "Belize",
         "showlegend": false,
         "type": "scatter",
         "xaxis": "x",
         "yaxis": "y"
        },
        {
         "customdata": [
          [
           "Benin"
          ]
         ],
         "hovertemplate": "location=%{customdata[0]}<br>aged_70_older=%{x}<br>total_deaths_per_million=%{y}<extra></extra>",
         "legendgroup": "Benin",
         "marker": {
          "color": "#636efa",
          "symbol": "circle"
         },
         "mode": "markers",
         "name": "Benin",
         "orientation": "v",
         "showlegend": true,
         "type": "scatter",
         "x": [
          1.942
         ],
         "xaxis": "x",
         "y": [
          3.382
         ],
         "yaxis": "y"
        },
        {
         "hovertemplate": "location=Benin<extra></extra>",
         "legendgroup": "Benin",
         "marker": {
          "color": "#636efa",
          "symbol": "circle"
         },
         "mode": "lines",
         "name": "Benin",
         "showlegend": false,
         "type": "scatter",
         "xaxis": "x",
         "yaxis": "y"
        },
        {
         "customdata": [
          [
           "Bhutan"
          ]
         ],
         "hovertemplate": "location=%{customdata[0]}<br>aged_70_older=%{x}<br>total_deaths_per_million=%{y}<extra></extra>",
         "legendgroup": "Bhutan",
         "marker": {
          "color": "#EF553B",
          "symbol": "circle"
         },
         "mode": "markers",
         "name": "Bhutan",
         "orientation": "v",
         "showlegend": true,
         "type": "scatter",
         "x": [
          2.977
         ],
         "xaxis": "x",
         "y": [
          0
         ],
         "yaxis": "y"
        },
        {
         "hovertemplate": "location=Bhutan<extra></extra>",
         "legendgroup": "Bhutan",
         "marker": {
          "color": "#EF553B",
          "symbol": "circle"
         },
         "mode": "lines",
         "name": "Bhutan",
         "showlegend": false,
         "type": "scatter",
         "xaxis": "x",
         "yaxis": "y"
        },
        {
         "customdata": [
          [
           "Bolivia"
          ]
         ],
         "hovertemplate": "location=%{customdata[0]}<br>aged_70_older=%{x}<br>total_deaths_per_million=%{y}<extra></extra>",
         "legendgroup": "Bolivia",
         "marker": {
          "color": "#00cc96",
          "symbol": "circle"
         },
         "mode": "markers",
         "name": "Bolivia",
         "orientation": "v",
         "showlegend": true,
         "type": "scatter",
         "x": [
          4.393
         ],
         "xaxis": "x",
         "y": [
          742.909
         ],
         "yaxis": "y"
        },
        {
         "hovertemplate": "location=Bolivia<extra></extra>",
         "legendgroup": "Bolivia",
         "marker": {
          "color": "#00cc96",
          "symbol": "circle"
         },
         "mode": "lines",
         "name": "Bolivia",
         "showlegend": false,
         "type": "scatter",
         "xaxis": "x",
         "yaxis": "y"
        },
        {
         "customdata": [
          [
           "Bosnia and Herzegovina"
          ]
         ],
         "hovertemplate": "location=%{customdata[0]}<br>aged_70_older=%{x}<br>total_deaths_per_million=%{y}<extra></extra>",
         "legendgroup": "Bosnia and Herzegovina",
         "marker": {
          "color": "#ab63fa",
          "symbol": "circle"
         },
         "mode": "markers",
         "name": "Bosnia and Herzegovina",
         "orientation": "v",
         "showlegend": true,
         "type": "scatter",
         "x": [
          10.711
         ],
         "xaxis": "x",
         "y": [
          342.903
         ],
         "yaxis": "y"
        },
        {
         "hovertemplate": "location=Bosnia and Herzegovina<extra></extra>",
         "legendgroup": "Bosnia and Herzegovina",
         "marker": {
          "color": "#ab63fa",
          "symbol": "circle"
         },
         "mode": "lines",
         "name": "Bosnia and Herzegovina",
         "showlegend": false,
         "type": "scatter",
         "xaxis": "x",
         "yaxis": "y"
        },
        {
         "customdata": [
          [
           "Botswana"
          ]
         ],
         "hovertemplate": "location=%{customdata[0]}<br>aged_70_older=%{x}<br>total_deaths_per_million=%{y}<extra></extra>",
         "legendgroup": "Botswana",
         "marker": {
          "color": "#FFA15A",
          "symbol": "circle"
         },
         "mode": "markers",
         "name": "Botswana",
         "orientation": "v",
         "showlegend": true,
         "type": "scatter",
         "x": [
          2.242
         ],
         "xaxis": "x",
         "y": [
          8.93
         ],
         "yaxis": "y"
        },
        {
         "hovertemplate": "location=Botswana<extra></extra>",
         "legendgroup": "Botswana",
         "marker": {
          "color": "#FFA15A",
          "symbol": "circle"
         },
         "mode": "lines",
         "name": "Botswana",
         "showlegend": false,
         "type": "scatter",
         "xaxis": "x",
         "yaxis": "y"
        },
        {
         "customdata": [
          [
           "Brazil"
          ]
         ],
         "hovertemplate": "location=%{customdata[0]}<br>aged_70_older=%{x}<br>total_deaths_per_million=%{y}<extra></extra>",
         "legendgroup": "Brazil",
         "marker": {
          "color": "#19d3f3",
          "symbol": "circle"
         },
         "mode": "markers",
         "name": "Brazil",
         "orientation": "v",
         "showlegend": true,
         "type": "scatter",
         "x": [
          5.06
         ],
         "xaxis": "x",
         "y": [
          743.068
         ],
         "yaxis": "y"
        },
        {
         "hovertemplate": "location=Brazil<extra></extra>",
         "legendgroup": "Brazil",
         "marker": {
          "color": "#19d3f3",
          "symbol": "circle"
         },
         "mode": "lines",
         "name": "Brazil",
         "showlegend": false,
         "type": "scatter",
         "xaxis": "x",
         "yaxis": "y"
        },
        {
         "customdata": [
          [
           "Brunei"
          ]
         ],
         "hovertemplate": "location=%{customdata[0]}<br>aged_70_older=%{x}<br>total_deaths_per_million=%{y}<extra></extra>",
         "legendgroup": "Brunei",
         "marker": {
          "color": "#FF6692",
          "symbol": "circle"
         },
         "mode": "markers",
         "name": "Brunei",
         "orientation": "v",
         "showlegend": true,
         "type": "scatter",
         "x": [
          2.382
         ],
         "xaxis": "x",
         "y": [
          6.857
         ],
         "yaxis": "y"
        },
        {
         "hovertemplate": "location=Brunei<extra></extra>",
         "legendgroup": "Brunei",
         "marker": {
          "color": "#FF6692",
          "symbol": "circle"
         },
         "mode": "lines",
         "name": "Brunei",
         "showlegend": false,
         "type": "scatter",
         "xaxis": "x",
         "yaxis": "y"
        },
        {
         "customdata": [
          [
           "Bulgaria"
          ]
         ],
         "hovertemplate": "location=%{customdata[0]}<br>aged_70_older=%{x}<br>total_deaths_per_million=%{y}<extra></extra>",
         "legendgroup": "Bulgaria",
         "marker": {
          "color": "#B6E880",
          "symbol": "circle"
         },
         "mode": "markers",
         "name": "Bulgaria",
         "orientation": "v",
         "showlegend": true,
         "type": "scatter",
         "x": [
          13.272
         ],
         "xaxis": "x",
         "y": [
          167.088
         ],
         "yaxis": "y"
        },
        {
         "hovertemplate": "location=Bulgaria<extra></extra>",
         "legendgroup": "Bulgaria",
         "marker": {
          "color": "#B6E880",
          "symbol": "circle"
         },
         "mode": "lines",
         "name": "Bulgaria",
         "showlegend": false,
         "type": "scatter",
         "xaxis": "x",
         "yaxis": "y"
        },
        {
         "customdata": [
          [
           "Burkina Faso"
          ]
         ],
         "hovertemplate": "location=%{customdata[0]}<br>aged_70_older=%{x}<br>total_deaths_per_million=%{y}<extra></extra>",
         "legendgroup": "Burkina Faso",
         "marker": {
          "color": "#FF97FF",
          "symbol": "circle"
         },
         "mode": "markers",
         "name": "Burkina Faso",
         "orientation": "v",
         "showlegend": true,
         "type": "scatter",
         "x": [
          1.358
         ],
         "xaxis": "x",
         "y": [
          3.205
         ],
         "yaxis": "y"
        },
        {
         "hovertemplate": "location=Burkina Faso<extra></extra>",
         "legendgroup": "Burkina Faso",
         "marker": {
          "color": "#FF97FF",
          "symbol": "circle"
         },
         "mode": "lines",
         "name": "Burkina Faso",
         "showlegend": false,
         "type": "scatter",
         "xaxis": "x",
         "yaxis": "y"
        },
        {
         "customdata": [
          [
           "Burundi"
          ]
         ],
         "hovertemplate": "location=%{customdata[0]}<br>aged_70_older=%{x}<br>total_deaths_per_million=%{y}<extra></extra>",
         "legendgroup": "Burundi",
         "marker": {
          "color": "#FECB52",
          "symbol": "circle"
         },
         "mode": "markers",
         "name": "Burundi",
         "orientation": "v",
         "showlegend": true,
         "type": "scatter",
         "x": [
          1.504
         ],
         "xaxis": "x",
         "y": [
          0.084
         ],
         "yaxis": "y"
        },
        {
         "hovertemplate": "location=Burundi<extra></extra>",
         "legendgroup": "Burundi",
         "marker": {
          "color": "#FECB52",
          "symbol": "circle"
         },
         "mode": "lines",
         "name": "Burundi",
         "showlegend": false,
         "type": "scatter",
         "xaxis": "x",
         "yaxis": "y"
        },
        {
         "customdata": [
          [
           "Cambodia"
          ]
         ],
         "hovertemplate": "location=%{customdata[0]}<br>aged_70_older=%{x}<br>total_deaths_per_million=%{y}<extra></extra>",
         "legendgroup": "Cambodia",
         "marker": {
          "color": "#636efa",
          "symbol": "circle"
         },
         "mode": "markers",
         "name": "Cambodia",
         "orientation": "v",
         "showlegend": true,
         "type": "scatter",
         "x": [
          2.385
         ],
         "xaxis": "x",
         "y": [
          0
         ],
         "yaxis": "y"
        },
        {
         "hovertemplate": "location=Cambodia<extra></extra>",
         "legendgroup": "Cambodia",
         "marker": {
          "color": "#636efa",
          "symbol": "circle"
         },
         "mode": "lines",
         "name": "Cambodia",
         "showlegend": false,
         "type": "scatter",
         "xaxis": "x",
         "yaxis": "y"
        },
        {
         "customdata": [
          [
           "Cameroon"
          ]
         ],
         "hovertemplate": "location=%{customdata[0]}<br>aged_70_older=%{x}<br>total_deaths_per_million=%{y}<extra></extra>",
         "legendgroup": "Cameroon",
         "marker": {
          "color": "#EF553B",
          "symbol": "circle"
         },
         "mode": "markers",
         "name": "Cameroon",
         "orientation": "v",
         "showlegend": true,
         "type": "scatter",
         "x": [
          1.919
         ],
         "xaxis": "x",
         "y": [
          16.048
         ],
         "yaxis": "y"
        },
        {
         "hovertemplate": "location=Cameroon<extra></extra>",
         "legendgroup": "Cameroon",
         "marker": {
          "color": "#EF553B",
          "symbol": "circle"
         },
         "mode": "lines",
         "name": "Cameroon",
         "showlegend": false,
         "type": "scatter",
         "xaxis": "x",
         "yaxis": "y"
        },
        {
         "customdata": [
          [
           "Canada"
          ]
         ],
         "hovertemplate": "location=%{customdata[0]}<br>aged_70_older=%{x}<br>total_deaths_per_million=%{y}<extra></extra>",
         "legendgroup": "Canada",
         "marker": {
          "color": "#00cc96",
          "symbol": "circle"
         },
         "mode": "markers",
         "name": "Canada",
         "orientation": "v",
         "showlegend": true,
         "type": "scatter",
         "x": [
          10.797
         ],
         "xaxis": "x",
         "y": [
          268.135
         ],
         "yaxis": "y"
        },
        {
         "hovertemplate": "location=Canada<extra></extra>",
         "legendgroup": "Canada",
         "marker": {
          "color": "#00cc96",
          "symbol": "circle"
         },
         "mode": "lines",
         "name": "Canada",
         "showlegend": false,
         "type": "scatter",
         "xaxis": "x",
         "yaxis": "y"
        },
        {
         "customdata": [
          [
           "Cape Verde"
          ]
         ],
         "hovertemplate": "location=%{customdata[0]}<br>aged_70_older=%{x}<br>total_deaths_per_million=%{y}<extra></extra>",
         "legendgroup": "Cape Verde",
         "marker": {
          "color": "#ab63fa",
          "symbol": "circle"
         },
         "mode": "markers",
         "name": "Cape Verde",
         "orientation": "v",
         "showlegend": true,
         "type": "scatter",
         "x": [
          3.437
         ],
         "xaxis": "x",
         "y": [
          169.068
         ],
         "yaxis": "y"
        },
        {
         "hovertemplate": "location=Cape Verde<extra></extra>",
         "legendgroup": "Cape Verde",
         "marker": {
          "color": "#ab63fa",
          "symbol": "circle"
         },
         "mode": "lines",
         "name": "Cape Verde",
         "showlegend": false,
         "type": "scatter",
         "xaxis": "x",
         "yaxis": "y"
        },
        {
         "customdata": [
          [
           "Central African Republic"
          ]
         ],
         "hovertemplate": "location=%{customdata[0]}<br>aged_70_older=%{x}<br>total_deaths_per_million=%{y}<extra></extra>",
         "legendgroup": "Central African Republic",
         "marker": {
          "color": "#FFA15A",
          "symbol": "circle"
         },
         "mode": "markers",
         "name": "Central African Republic",
         "orientation": "v",
         "showlegend": true,
         "type": "scatter",
         "x": [
          2.251
         ],
         "xaxis": "x",
         "y": [
          12.837
         ],
         "yaxis": "y"
        },
        {
         "hovertemplate": "location=Central African Republic<extra></extra>",
         "legendgroup": "Central African Republic",
         "marker": {
          "color": "#FFA15A",
          "symbol": "circle"
         },
         "mode": "lines",
         "name": "Central African Republic",
         "showlegend": false,
         "type": "scatter",
         "xaxis": "x",
         "yaxis": "y"
        },
        {
         "customdata": [
          [
           "Chad"
          ]
         ],
         "hovertemplate": "location=%{customdata[0]}<br>aged_70_older=%{x}<br>total_deaths_per_million=%{y}<extra></extra>",
         "legendgroup": "Chad",
         "marker": {
          "color": "#19d3f3",
          "symbol": "circle"
         },
         "mode": "markers",
         "name": "Chad",
         "orientation": "v",
         "showlegend": true,
         "type": "scatter",
         "x": [
          1.446
         ],
         "xaxis": "x",
         "y": [
          5.844
         ],
         "yaxis": "y"
        },
        {
         "hovertemplate": "location=Chad<extra></extra>",
         "legendgroup": "Chad",
         "marker": {
          "color": "#19d3f3",
          "symbol": "circle"
         },
         "mode": "lines",
         "name": "Chad",
         "showlegend": false,
         "type": "scatter",
         "xaxis": "x",
         "yaxis": "y"
        },
        {
         "customdata": [
          [
           "Chile"
          ]
         ],
         "hovertemplate": "location=%{customdata[0]}<br>aged_70_older=%{x}<br>total_deaths_per_million=%{y}<extra></extra>",
         "legendgroup": "Chile",
         "marker": {
          "color": "#FF6692",
          "symbol": "circle"
         },
         "mode": "markers",
         "name": "Chile",
         "orientation": "v",
         "showlegend": true,
         "type": "scatter",
         "x": [
          6.938
         ],
         "xaxis": "x",
         "y": [
          733.723
         ],
         "yaxis": "y"
        },
        {
         "hovertemplate": "location=Chile<extra></extra>",
         "legendgroup": "Chile",
         "marker": {
          "color": "#FF6692",
          "symbol": "circle"
         },
         "mode": "lines",
         "name": "Chile",
         "showlegend": false,
         "type": "scatter",
         "xaxis": "x",
         "yaxis": "y"
        },
        {
         "customdata": [
          [
           "China"
          ]
         ],
         "hovertemplate": "location=%{customdata[0]}<br>aged_70_older=%{x}<br>total_deaths_per_million=%{y}<extra></extra>",
         "legendgroup": "China",
         "marker": {
          "color": "#B6E880",
          "symbol": "circle"
         },
         "mode": "markers",
         "name": "China",
         "orientation": "v",
         "showlegend": true,
         "type": "scatter",
         "x": [
          5.929
         ],
         "xaxis": "x",
         "y": [
          3.293
         ],
         "yaxis": "y"
        },
        {
         "hovertemplate": "location=China<extra></extra>",
         "legendgroup": "China",
         "marker": {
          "color": "#B6E880",
          "symbol": "circle"
         },
         "mode": "lines",
         "name": "China",
         "showlegend": false,
         "type": "scatter",
         "xaxis": "x",
         "yaxis": "y"
        },
        {
         "customdata": [
          [
           "Colombia"
          ]
         ],
         "hovertemplate": "location=%{customdata[0]}<br>aged_70_older=%{x}<br>total_deaths_per_million=%{y}<extra></extra>",
         "legendgroup": "Colombia",
         "marker": {
          "color": "#FF97FF",
          "symbol": "circle"
         },
         "mode": "markers",
         "name": "Colombia",
         "orientation": "v",
         "showlegend": true,
         "type": "scatter",
         "x": [
          4.312
         ],
         "xaxis": "x",
         "y": [
          600.693
         ],
         "yaxis": "y"
        },
        {
         "hovertemplate": "location=Colombia<extra></extra>",
         "legendgroup": "Colombia",
         "marker": {
          "color": "#FF97FF",
          "symbol": "circle"
         },
         "mode": "lines",
         "name": "Colombia",
         "showlegend": false,
         "type": "scatter",
         "xaxis": "x",
         "yaxis": "y"
        },
        {
         "customdata": [
          [
           "Comoros"
          ]
         ],
         "hovertemplate": "location=%{customdata[0]}<br>aged_70_older=%{x}<br>total_deaths_per_million=%{y}<extra></extra>",
         "legendgroup": "Comoros",
         "marker": {
          "color": "#FECB52",
          "symbol": "circle"
         },
         "mode": "markers",
         "name": "Comoros",
         "orientation": "v",
         "showlegend": true,
         "type": "scatter",
         "x": [
          1.726
         ],
         "xaxis": "x",
         "y": [
          8.05
         ],
         "yaxis": "y"
        },
        {
         "hovertemplate": "location=Comoros<extra></extra>",
         "legendgroup": "Comoros",
         "marker": {
          "color": "#FECB52",
          "symbol": "circle"
         },
         "mode": "lines",
         "name": "Comoros",
         "showlegend": false,
         "type": "scatter",
         "xaxis": "x",
         "yaxis": "y"
        },
        {
         "customdata": [
          [
           "Congo"
          ]
         ],
         "hovertemplate": "location=%{customdata[0]}<br>aged_70_older=%{x}<br>total_deaths_per_million=%{y}<extra></extra>",
         "legendgroup": "Congo",
         "marker": {
          "color": "#636efa",
          "symbol": "circle"
         },
         "mode": "markers",
         "name": "Congo",
         "orientation": "v",
         "showlegend": true,
         "type": "scatter",
         "x": [
          2.063
         ],
         "xaxis": "x",
         "y": [
          16.672
         ],
         "yaxis": "y"
        },
        {
         "hovertemplate": "location=Congo<extra></extra>",
         "legendgroup": "Congo",
         "marker": {
          "color": "#636efa",
          "symbol": "circle"
         },
         "mode": "lines",
         "name": "Congo",
         "showlegend": false,
         "type": "scatter",
         "xaxis": "x",
         "yaxis": "y"
        },
        {
         "customdata": [
          [
           "Costa Rica"
          ]
         ],
         "hovertemplate": "location=%{customdata[0]}<br>aged_70_older=%{x}<br>total_deaths_per_million=%{y}<extra></extra>",
         "legendgroup": "Costa Rica",
         "marker": {
          "color": "#EF553B",
          "symbol": "circle"
         },
         "mode": "markers",
         "name": "Costa Rica",
         "orientation": "v",
         "showlegend": true,
         "type": "scatter",
         "x": [
          5.694
         ],
         "xaxis": "x",
         "y": [
          260.889
         ],
         "yaxis": "y"
        },
        {
         "hovertemplate": "location=Costa Rica<extra></extra>",
         "legendgroup": "Costa Rica",
         "marker": {
          "color": "#EF553B",
          "symbol": "circle"
         },
         "mode": "lines",
         "name": "Costa Rica",
         "showlegend": false,
         "type": "scatter",
         "xaxis": "x",
         "yaxis": "y"
        },
        {
         "customdata": [
          [
           "Cote d'Ivoire"
          ]
         ],
         "hovertemplate": "location=%{customdata[0]}<br>aged_70_older=%{x}<br>total_deaths_per_million=%{y}<extra></extra>",
         "legendgroup": "Cote d'Ivoire",
         "marker": {
          "color": "#00cc96",
          "symbol": "circle"
         },
         "mode": "markers",
         "name": "Cote d'Ivoire",
         "orientation": "v",
         "showlegend": true,
         "type": "scatter",
         "x": [
          1.582
         ],
         "xaxis": "x",
         "y": [
          4.625
         ],
         "yaxis": "y"
        },
        {
         "hovertemplate": "location=Cote d'Ivoire<extra></extra>",
         "legendgroup": "Cote d'Ivoire",
         "marker": {
          "color": "#00cc96",
          "symbol": "circle"
         },
         "mode": "lines",
         "name": "Cote d'Ivoire",
         "showlegend": false,
         "type": "scatter",
         "xaxis": "x",
         "yaxis": "y"
        },
        {
         "customdata": [
          [
           "Croatia"
          ]
         ],
         "hovertemplate": "location=%{customdata[0]}<br>aged_70_older=%{x}<br>total_deaths_per_million=%{y}<extra></extra>",
         "legendgroup": "Croatia",
         "marker": {
          "color": "#ab63fa",
          "symbol": "circle"
         },
         "mode": "markers",
         "name": "Croatia",
         "orientation": "v",
         "showlegend": true,
         "type": "scatter",
         "x": [
          13.053
         ],
         "xaxis": "x",
         "y": [
          114.487
         ],
         "yaxis": "y"
        },
        {
         "hovertemplate": "location=Croatia<extra></extra>",
         "legendgroup": "Croatia",
         "marker": {
          "color": "#ab63fa",
          "symbol": "circle"
         },
         "mode": "lines",
         "name": "Croatia",
         "showlegend": false,
         "type": "scatter",
         "xaxis": "x",
         "yaxis": "y"
        },
        {
         "customdata": [
          [
           "Cuba"
          ]
         ],
         "hovertemplate": "location=%{customdata[0]}<br>aged_70_older=%{x}<br>total_deaths_per_million=%{y}<extra></extra>",
         "legendgroup": "Cuba",
         "marker": {
          "color": "#FFA15A",
          "symbol": "circle"
         },
         "mode": "markers",
         "name": "Cuba",
         "orientation": "v",
         "showlegend": true,
         "type": "scatter",
         "x": [
          9.719
         ],
         "xaxis": "x",
         "y": [
          11.301
         ],
         "yaxis": "y"
        },
        {
         "hovertemplate": "location=Cuba<extra></extra>",
         "legendgroup": "Cuba",
         "marker": {
          "color": "#FFA15A",
          "symbol": "circle"
         },
         "mode": "lines",
         "name": "Cuba",
         "showlegend": false,
         "type": "scatter",
         "xaxis": "x",
         "yaxis": "y"
        },
        {
         "customdata": [
          [
           "Cyprus"
          ]
         ],
         "hovertemplate": "location=%{customdata[0]}<br>aged_70_older=%{x}<br>total_deaths_per_million=%{y}<extra></extra>",
         "legendgroup": "Cyprus",
         "marker": {
          "color": "#19d3f3",
          "symbol": "circle"
         },
         "mode": "markers",
         "name": "Cyprus",
         "orientation": "v",
         "showlegend": true,
         "type": "scatter",
         "x": [
          8.563
         ],
         "xaxis": "x",
         "y": [
          28.542
         ],
         "yaxis": "y"
        },
        {
         "hovertemplate": "location=Cyprus<extra></extra>",
         "legendgroup": "Cyprus",
         "marker": {
          "color": "#19d3f3",
          "symbol": "circle"
         },
         "mode": "lines",
         "name": "Cyprus",
         "showlegend": false,
         "type": "scatter",
         "xaxis": "x",
         "yaxis": "y"
        },
        {
         "customdata": [
          [
           "Czechia"
          ]
         ],
         "hovertemplate": "location=%{customdata[0]}<br>aged_70_older=%{x}<br>total_deaths_per_million=%{y}<extra></extra>",
         "legendgroup": "Czechia",
         "marker": {
          "color": "#FF6692",
          "symbol": "circle"
         },
         "mode": "markers",
         "name": "Czechia",
         "orientation": "v",
         "showlegend": true,
         "type": "scatter",
         "x": [
          11.58
         ],
         "xaxis": "x",
         "y": [
          237.838
         ],
         "yaxis": "y"
        },
        {
         "hovertemplate": "location=Czechia<extra></extra>",
         "legendgroup": "Czechia",
         "marker": {
          "color": "#FF6692",
          "symbol": "circle"
         },
         "mode": "lines",
         "name": "Czechia",
         "showlegend": false,
         "type": "scatter",
         "xaxis": "x",
         "yaxis": "y"
        },
        {
         "customdata": [
          [
           "Democratic Republic of Congo"
          ]
         ],
         "hovertemplate": "location=%{customdata[0]}<br>aged_70_older=%{x}<br>total_deaths_per_million=%{y}<extra></extra>",
         "legendgroup": "Democratic Republic of Congo",
         "marker": {
          "color": "#B6E880",
          "symbol": "circle"
         },
         "mode": "markers",
         "name": "Democratic Republic of Congo",
         "orientation": "v",
         "showlegend": true,
         "type": "scatter",
         "x": [
          1.745
         ],
         "xaxis": "x",
         "y": [
          3.405
         ],
         "yaxis": "y"
        },
        {
         "hovertemplate": "location=Democratic Republic of Congo<extra></extra>",
         "legendgroup": "Democratic Republic of Congo",
         "marker": {
          "color": "#B6E880",
          "symbol": "circle"
         },
         "mode": "lines",
         "name": "Democratic Republic of Congo",
         "showlegend": false,
         "type": "scatter",
         "xaxis": "x",
         "yaxis": "y"
        },
        {
         "customdata": [
          [
           "Denmark"
          ]
         ],
         "hovertemplate": "location=%{customdata[0]}<br>aged_70_older=%{x}<br>total_deaths_per_million=%{y}<extra></extra>",
         "legendgroup": "Denmark",
         "marker": {
          "color": "#FF97FF",
          "symbol": "circle"
         },
         "mode": "markers",
         "name": "Denmark",
         "orientation": "v",
         "showlegend": true,
         "type": "scatter",
         "x": [
          12.325
         ],
         "xaxis": "x",
         "y": [
          122.406
         ],
         "yaxis": "y"
        },
        {
         "hovertemplate": "location=Denmark<extra></extra>",
         "legendgroup": "Denmark",
         "marker": {
          "color": "#FF97FF",
          "symbol": "circle"
         },
         "mode": "lines",
         "name": "Denmark",
         "showlegend": false,
         "type": "scatter",
         "xaxis": "x",
         "yaxis": "y"
        },
        {
         "customdata": [
          [
           "Djibouti"
          ]
         ],
         "hovertemplate": "location=%{customdata[0]}<br>aged_70_older=%{x}<br>total_deaths_per_million=%{y}<extra></extra>",
         "legendgroup": "Djibouti",
         "marker": {
          "color": "#FECB52",
          "symbol": "circle"
         },
         "mode": "markers",
         "name": "Djibouti",
         "orientation": "v",
         "showlegend": true,
         "type": "scatter",
         "x": [
          2.38
         ],
         "xaxis": "x",
         "y": [
          61.741
         ],
         "yaxis": "y"
        },
        {
         "hovertemplate": "location=Djibouti<extra></extra>",
         "legendgroup": "Djibouti",
         "marker": {
          "color": "#FECB52",
          "symbol": "circle"
         },
         "mode": "lines",
         "name": "Djibouti",
         "showlegend": false,
         "type": "scatter",
         "xaxis": "x",
         "yaxis": "y"
        },
        {
         "customdata": [
          [
           "Dominica"
          ]
         ],
         "hovertemplate": "location=%{customdata[0]}<br>aged_70_older=%{x}<br>total_deaths_per_million=%{y}<extra></extra>",
         "legendgroup": "Dominica",
         "marker": {
          "color": "#636efa",
          "symbol": "circle"
         },
         "mode": "markers",
         "name": "Dominica",
         "orientation": "v",
         "showlegend": true,
         "type": "scatter",
         "x": [
          0
         ],
         "xaxis": "x",
         "y": [
          0
         ],
         "yaxis": "y"
        },
        {
         "hovertemplate": "location=Dominica<extra></extra>",
         "legendgroup": "Dominica",
         "marker": {
          "color": "#636efa",
          "symbol": "circle"
         },
         "mode": "lines",
         "name": "Dominica",
         "showlegend": false,
         "type": "scatter",
         "xaxis": "x",
         "yaxis": "y"
        },
        {
         "customdata": [
          [
           "Dominican Republic"
          ]
         ],
         "hovertemplate": "location=%{customdata[0]}<br>aged_70_older=%{x}<br>total_deaths_per_million=%{y}<extra></extra>",
         "legendgroup": "Dominican Republic",
         "marker": {
          "color": "#EF553B",
          "symbol": "circle"
         },
         "mode": "markers",
         "name": "Dominican Republic",
         "orientation": "v",
         "showlegend": true,
         "type": "scatter",
         "x": [
          4.419
         ],
         "xaxis": "x",
         "y": [
          205.201
         ],
         "yaxis": "y"
        },
        {
         "hovertemplate": "location=Dominican Republic<extra></extra>",
         "legendgroup": "Dominican Republic",
         "marker": {
          "color": "#EF553B",
          "symbol": "circle"
         },
         "mode": "lines",
         "name": "Dominican Republic",
         "showlegend": false,
         "type": "scatter",
         "xaxis": "x",
         "yaxis": "y"
        },
        {
         "customdata": [
          [
           "Ecuador"
          ]
         ],
         "hovertemplate": "location=%{customdata[0]}<br>aged_70_older=%{x}<br>total_deaths_per_million=%{y}<extra></extra>",
         "legendgroup": "Ecuador",
         "marker": {
          "color": "#00cc96",
          "symbol": "circle"
         },
         "mode": "markers",
         "name": "Ecuador",
         "orientation": "v",
         "showlegend": true,
         "type": "scatter",
         "x": [
          4.458
         ],
         "xaxis": "x",
         "y": [
          713.482
         ],
         "yaxis": "y"
        },
        {
         "hovertemplate": "location=Ecuador<extra></extra>",
         "legendgroup": "Ecuador",
         "marker": {
          "color": "#00cc96",
          "symbol": "circle"
         },
         "mode": "lines",
         "name": "Ecuador",
         "showlegend": false,
         "type": "scatter",
         "xaxis": "x",
         "yaxis": "y"
        },
        {
         "customdata": [
          [
           "Egypt"
          ]
         ],
         "hovertemplate": "location=%{customdata[0]}<br>aged_70_older=%{x}<br>total_deaths_per_million=%{y}<extra></extra>",
         "legendgroup": "Egypt",
         "marker": {
          "color": "#ab63fa",
          "symbol": "circle"
         },
         "mode": "markers",
         "name": "Egypt",
         "orientation": "v",
         "showlegend": true,
         "type": "scatter",
         "x": [
          2.891
         ],
         "xaxis": "x",
         "y": [
          60.801
         ],
         "yaxis": "y"
        },
        {
         "hovertemplate": "location=Egypt<extra></extra>",
         "legendgroup": "Egypt",
         "marker": {
          "color": "#ab63fa",
          "symbol": "circle"
         },
         "mode": "lines",
         "name": "Egypt",
         "showlegend": false,
         "type": "scatter",
         "xaxis": "x",
         "yaxis": "y"
        },
        {
         "customdata": [
          [
           "El Salvador"
          ]
         ],
         "hovertemplate": "location=%{customdata[0]}<br>aged_70_older=%{x}<br>total_deaths_per_million=%{y}<extra></extra>",
         "legendgroup": "El Salvador",
         "marker": {
          "color": "#FFA15A",
          "symbol": "circle"
         },
         "mode": "markers",
         "name": "El Salvador",
         "orientation": "v",
         "showlegend": true,
         "type": "scatter",
         "x": [
          5.417
         ],
         "xaxis": "x",
         "y": [
          147.544
         ],
         "yaxis": "y"
        },
        {
         "hovertemplate": "location=El Salvador<extra></extra>",
         "legendgroup": "El Salvador",
         "marker": {
          "color": "#FFA15A",
          "symbol": "circle"
         },
         "mode": "lines",
         "name": "El Salvador",
         "showlegend": false,
         "type": "scatter",
         "xaxis": "x",
         "yaxis": "y"
        },
        {
         "customdata": [
          [
           "Equatorial Guinea"
          ]
         ],
         "hovertemplate": "location=%{customdata[0]}<br>aged_70_older=%{x}<br>total_deaths_per_million=%{y}<extra></extra>",
         "legendgroup": "Equatorial Guinea",
         "marker": {
          "color": "#19d3f3",
          "symbol": "circle"
         },
         "mode": "markers",
         "name": "Equatorial Guinea",
         "orientation": "v",
         "showlegend": true,
         "type": "scatter",
         "x": [
          1.752
         ],
         "xaxis": "x",
         "y": [
          59.16
         ],
         "yaxis": "y"
        },
        {
         "hovertemplate": "location=Equatorial Guinea<extra></extra>",
         "legendgroup": "Equatorial Guinea",
         "marker": {
          "color": "#19d3f3",
          "symbol": "circle"
         },
         "mode": "lines",
         "name": "Equatorial Guinea",
         "showlegend": false,
         "type": "scatter",
         "xaxis": "x",
         "yaxis": "y"
        },
        {
         "customdata": [
          [
           "Eritrea"
          ]
         ],
         "hovertemplate": "location=%{customdata[0]}<br>aged_70_older=%{x}<br>total_deaths_per_million=%{y}<extra></extra>",
         "legendgroup": "Eritrea",
         "marker": {
          "color": "#FF6692",
          "symbol": "circle"
         },
         "mode": "markers",
         "name": "Eritrea",
         "orientation": "v",
         "showlegend": true,
         "type": "scatter",
         "x": [
          2.171
         ],
         "xaxis": "x",
         "y": [
          0
         ],
         "yaxis": "y"
        },
        {
         "hovertemplate": "location=Eritrea<extra></extra>",
         "legendgroup": "Eritrea",
         "marker": {
          "color": "#FF6692",
          "symbol": "circle"
         },
         "mode": "lines",
         "name": "Eritrea",
         "showlegend": false,
         "type": "scatter",
         "xaxis": "x",
         "yaxis": "y"
        },
        {
         "customdata": [
          [
           "Estonia"
          ]
         ],
         "hovertemplate": "location=%{customdata[0]}<br>aged_70_older=%{x}<br>total_deaths_per_million=%{y}<extra></extra>",
         "legendgroup": "Estonia",
         "marker": {
          "color": "#B6E880",
          "symbol": "circle"
         },
         "mode": "markers",
         "name": "Estonia",
         "orientation": "v",
         "showlegend": true,
         "type": "scatter",
         "x": [
          13.491
         ],
         "xaxis": "x",
         "y": [
          55.03
         ],
         "yaxis": "y"
        },
        {
         "hovertemplate": "location=Estonia<extra></extra>",
         "legendgroup": "Estonia",
         "marker": {
          "color": "#B6E880",
          "symbol": "circle"
         },
         "mode": "lines",
         "name": "Estonia",
         "showlegend": false,
         "type": "scatter",
         "xaxis": "x",
         "yaxis": "y"
        },
        {
         "customdata": [
          [
           "Eswatini"
          ]
         ],
         "hovertemplate": "location=%{customdata[0]}<br>aged_70_older=%{x}<br>total_deaths_per_million=%{y}<extra></extra>",
         "legendgroup": "Eswatini",
         "marker": {
          "color": "#FF97FF",
          "symbol": "circle"
         },
         "mode": "markers",
         "name": "Eswatini",
         "orientation": "v",
         "showlegend": true,
         "type": "scatter",
         "x": [
          1.845
         ],
         "xaxis": "x",
         "y": [
          99.986
         ],
         "yaxis": "y"
        },
        {
         "hovertemplate": "location=Eswatini<extra></extra>",
         "legendgroup": "Eswatini",
         "marker": {
          "color": "#FF97FF",
          "symbol": "circle"
         },
         "mode": "lines",
         "name": "Eswatini",
         "showlegend": false,
         "type": "scatter",
         "xaxis": "x",
         "yaxis": "y"
        },
        {
         "customdata": [
          [
           "Ethiopia"
          ]
         ],
         "hovertemplate": "location=%{customdata[0]}<br>aged_70_older=%{x}<br>total_deaths_per_million=%{y}<extra></extra>",
         "legendgroup": "Ethiopia",
         "marker": {
          "color": "#FECB52",
          "symbol": "circle"
         },
         "mode": "markers",
         "name": "Ethiopia",
         "orientation": "v",
         "showlegend": true,
         "type": "scatter",
         "x": [
          2.063
         ],
         "xaxis": "x",
         "y": [
          12.569
         ],
         "yaxis": "y"
        },
        {
         "hovertemplate": "location=Ethiopia<extra></extra>",
         "legendgroup": "Ethiopia",
         "marker": {
          "color": "#FECB52",
          "symbol": "circle"
         },
         "mode": "lines",
         "name": "Ethiopia",
         "showlegend": false,
         "type": "scatter",
         "xaxis": "x",
         "yaxis": "y"
        },
        {
         "customdata": [
          [
           "Europe"
          ]
         ],
         "hovertemplate": "location=%{customdata[0]}<br>aged_70_older=%{x}<br>total_deaths_per_million=%{y}<extra></extra>",
         "legendgroup": "Europe",
         "marker": {
          "color": "#636efa",
          "symbol": "circle"
         },
         "mode": "markers",
         "name": "Europe",
         "orientation": "v",
         "showlegend": true,
         "type": "scatter",
         "x": [
          0
         ],
         "xaxis": "x",
         "y": [
          341.639
         ],
         "yaxis": "y"
        },
        {
         "hovertemplate": "location=Europe<extra></extra>",
         "legendgroup": "Europe",
         "marker": {
          "color": "#636efa",
          "symbol": "circle"
         },
         "mode": "lines",
         "name": "Europe",
         "showlegend": false,
         "type": "scatter",
         "xaxis": "x",
         "yaxis": "y"
        },
        {
         "customdata": [
          [
           "European Union"
          ]
         ],
         "hovertemplate": "location=%{customdata[0]}<br>aged_70_older=%{x}<br>total_deaths_per_million=%{y}<extra></extra>",
         "legendgroup": "European Union",
         "marker": {
          "color": "#EF553B",
          "symbol": "circle"
         },
         "mode": "markers",
         "name": "European Union",
         "orientation": "v",
         "showlegend": true,
         "type": "scatter",
         "x": [
          0
         ],
         "xaxis": "x",
         "y": [
          376.736
         ],
         "yaxis": "y"
        },
        {
         "hovertemplate": "location=European Union<extra></extra>",
         "legendgroup": "European Union",
         "marker": {
          "color": "#EF553B",
          "symbol": "circle"
         },
         "mode": "lines",
         "name": "European Union",
         "showlegend": false,
         "type": "scatter",
         "xaxis": "x",
         "yaxis": "y"
        },
        {
         "customdata": [
          [
           "Fiji"
          ]
         ],
         "hovertemplate": "location=%{customdata[0]}<br>aged_70_older=%{x}<br>total_deaths_per_million=%{y}<extra></extra>",
         "legendgroup": "Fiji",
         "marker": {
          "color": "#00cc96",
          "symbol": "circle"
         },
         "mode": "markers",
         "name": "Fiji",
         "orientation": "v",
         "showlegend": true,
         "type": "scatter",
         "x": [
          3.284
         ],
         "xaxis": "x",
         "y": [
          2.231
         ],
         "yaxis": "y"
        },
        {
         "hovertemplate": "location=Fiji<extra></extra>",
         "legendgroup": "Fiji",
         "marker": {
          "color": "#00cc96",
          "symbol": "circle"
         },
         "mode": "lines",
         "name": "Fiji",
         "showlegend": false,
         "type": "scatter",
         "xaxis": "x",
         "yaxis": "y"
        },
        {
         "customdata": [
          [
           "Finland"
          ]
         ],
         "hovertemplate": "location=%{customdata[0]}<br>aged_70_older=%{x}<br>total_deaths_per_million=%{y}<extra></extra>",
         "legendgroup": "Finland",
         "marker": {
          "color": "#ab63fa",
          "symbol": "circle"
         },
         "mode": "markers",
         "name": "Finland",
         "orientation": "v",
         "showlegend": true,
         "type": "scatter",
         "x": [
          13.264
         ],
         "xaxis": "x",
         "y": [
          63.891
         ],
         "yaxis": "y"
        },
        {
         "hovertemplate": "location=Finland<extra></extra>",
         "legendgroup": "Finland",
         "marker": {
          "color": "#ab63fa",
          "symbol": "circle"
         },
         "mode": "lines",
         "name": "Finland",
         "showlegend": false,
         "type": "scatter",
         "xaxis": "x",
         "yaxis": "y"
        },
        {
         "customdata": [
          [
           "France"
          ]
         ],
         "hovertemplate": "location=%{customdata[0]}<br>aged_70_older=%{x}<br>total_deaths_per_million=%{y}<extra></extra>",
         "legendgroup": "France",
         "marker": {
          "color": "#FFA15A",
          "symbol": "circle"
         },
         "mode": "markers",
         "name": "France",
         "orientation": "v",
         "showlegend": true,
         "type": "scatter",
         "x": [
          13.079
         ],
         "xaxis": "x",
         "y": [
          521.911
         ],
         "yaxis": "y"
        },
        {
         "hovertemplate": "location=France<extra></extra>",
         "legendgroup": "France",
         "marker": {
          "color": "#FFA15A",
          "symbol": "circle"
         },
         "mode": "lines",
         "name": "France",
         "showlegend": false,
         "type": "scatter",
         "xaxis": "x",
         "yaxis": "y"
        },
        {
         "customdata": [
          [
           "Gabon"
          ]
         ],
         "hovertemplate": "location=%{customdata[0]}<br>aged_70_older=%{x}<br>total_deaths_per_million=%{y}<extra></extra>",
         "legendgroup": "Gabon",
         "marker": {
          "color": "#19d3f3",
          "symbol": "circle"
         },
         "mode": "markers",
         "name": "Gabon",
         "orientation": "v",
         "showlegend": true,
         "type": "scatter",
         "x": [
          2.976
         ],
         "xaxis": "x",
         "y": [
          24.262
         ],
         "yaxis": "y"
        },
        {
         "hovertemplate": "location=Gabon<extra></extra>",
         "legendgroup": "Gabon",
         "marker": {
          "color": "#19d3f3",
          "symbol": "circle"
         },
         "mode": "lines",
         "name": "Gabon",
         "showlegend": false,
         "type": "scatter",
         "xaxis": "x",
         "yaxis": "y"
        },
        {
         "customdata": [
          [
           "Gambia"
          ]
         ],
         "hovertemplate": "location=%{customdata[0]}<br>aged_70_older=%{x}<br>total_deaths_per_million=%{y}<extra></extra>",
         "legendgroup": "Gambia",
         "marker": {
          "color": "#FF6692",
          "symbol": "circle"
         },
         "mode": "markers",
         "name": "Gambia",
         "orientation": "v",
         "showlegend": true,
         "type": "scatter",
         "x": [
          1.417
         ],
         "xaxis": "x",
         "y": [
          49.241
         ],
         "yaxis": "y"
        },
        {
         "hovertemplate": "location=Gambia<extra></extra>",
         "legendgroup": "Gambia",
         "marker": {
          "color": "#FF6692",
          "symbol": "circle"
         },
         "mode": "lines",
         "name": "Gambia",
         "showlegend": false,
         "type": "scatter",
         "xaxis": "x",
         "yaxis": "y"
        },
        {
         "customdata": [
          [
           "Georgia"
          ]
         ],
         "hovertemplate": "location=%{customdata[0]}<br>aged_70_older=%{x}<br>total_deaths_per_million=%{y}<extra></extra>",
         "legendgroup": "Georgia",
         "marker": {
          "color": "#B6E880",
          "symbol": "circle"
         },
         "mode": "markers",
         "name": "Georgia",
         "orientation": "v",
         "showlegend": true,
         "type": "scatter",
         "x": [
          10.244
         ],
         "xaxis": "x",
         "y": [
          59.661
         ],
         "yaxis": "y"
        },
        {
         "hovertemplate": "location=Georgia<extra></extra>",
         "legendgroup": "Georgia",
         "marker": {
          "color": "#B6E880",
          "symbol": "circle"
         },
         "mode": "lines",
         "name": "Georgia",
         "showlegend": false,
         "type": "scatter",
         "xaxis": "x",
         "yaxis": "y"
        },
        {
         "customdata": [
          [
           "Germany"
          ]
         ],
         "hovertemplate": "location=%{customdata[0]}<br>aged_70_older=%{x}<br>total_deaths_per_million=%{y}<extra></extra>",
         "legendgroup": "Germany",
         "marker": {
          "color": "#FF97FF",
          "symbol": "circle"
         },
         "mode": "markers",
         "name": "Germany",
         "orientation": "v",
         "showlegend": true,
         "type": "scatter",
         "x": [
          15.957
         ],
         "xaxis": "x",
         "y": [
          120.799
         ],
         "yaxis": "y"
        },
        {
         "hovertemplate": "location=Germany<extra></extra>",
         "legendgroup": "Germany",
         "marker": {
          "color": "#FF97FF",
          "symbol": "circle"
         },
         "mode": "lines",
         "name": "Germany",
         "showlegend": false,
         "type": "scatter",
         "xaxis": "x",
         "yaxis": "y"
        },
        {
         "customdata": [
          [
           "Ghana"
          ]
         ],
         "hovertemplate": "location=%{customdata[0]}<br>aged_70_older=%{x}<br>total_deaths_per_million=%{y}<extra></extra>",
         "legendgroup": "Ghana",
         "marker": {
          "color": "#FECB52",
          "symbol": "circle"
         },
         "mode": "markers",
         "name": "Ghana",
         "orientation": "v",
         "showlegend": true,
         "type": "scatter",
         "x": [
          1.948
         ],
         "xaxis": "x",
         "y": [
          10.17
         ],
         "yaxis": "y"
        },
        {
         "hovertemplate": "location=Ghana<extra></extra>",
         "legendgroup": "Ghana",
         "marker": {
          "color": "#FECB52",
          "symbol": "circle"
         },
         "mode": "lines",
         "name": "Ghana",
         "showlegend": false,
         "type": "scatter",
         "xaxis": "x",
         "yaxis": "y"
        },
        {
         "customdata": [
          [
           "Greece"
          ]
         ],
         "hovertemplate": "location=%{customdata[0]}<br>aged_70_older=%{x}<br>total_deaths_per_million=%{y}<extra></extra>",
         "legendgroup": "Greece",
         "marker": {
          "color": "#636efa",
          "symbol": "circle"
         },
         "mode": "markers",
         "name": "Greece",
         "orientation": "v",
         "showlegend": true,
         "type": "scatter",
         "x": [
          14.524
         ],
         "xaxis": "x",
         "y": [
          56.893
         ],
         "yaxis": "y"
        },
        {
         "hovertemplate": "location=Greece<extra></extra>",
         "legendgroup": "Greece",
         "marker": {
          "color": "#636efa",
          "symbol": "circle"
         },
         "mode": "lines",
         "name": "Greece",
         "showlegend": false,
         "type": "scatter",
         "xaxis": "x",
         "yaxis": "y"
        },
        {
         "customdata": [
          [
           "Grenada"
          ]
         ],
         "hovertemplate": "location=%{customdata[0]}<br>aged_70_older=%{x}<br>total_deaths_per_million=%{y}<extra></extra>",
         "legendgroup": "Grenada",
         "marker": {
          "color": "#EF553B",
          "symbol": "circle"
         },
         "mode": "markers",
         "name": "Grenada",
         "orientation": "v",
         "showlegend": true,
         "type": "scatter",
         "x": [
          5.021
         ],
         "xaxis": "x",
         "y": [
          0
         ],
         "yaxis": "y"
        },
        {
         "hovertemplate": "location=Grenada<extra></extra>",
         "legendgroup": "Grenada",
         "marker": {
          "color": "#EF553B",
          "symbol": "circle"
         },
         "mode": "lines",
         "name": "Grenada",
         "showlegend": false,
         "type": "scatter",
         "xaxis": "x",
         "yaxis": "y"
        },
        {
         "customdata": [
          [
           "Guatemala"
          ]
         ],
         "hovertemplate": "location=%{customdata[0]}<br>aged_70_older=%{x}<br>total_deaths_per_million=%{y}<extra></extra>",
         "legendgroup": "Guatemala",
         "marker": {
          "color": "#00cc96",
          "symbol": "circle"
         },
         "mode": "markers",
         "name": "Guatemala",
         "orientation": "v",
         "showlegend": true,
         "type": "scatter",
         "x": [
          3.016
         ],
         "xaxis": "x",
         "y": [
          204.571
         ],
         "yaxis": "y"
        },
        {
         "hovertemplate": "location=Guatemala<extra></extra>",
         "legendgroup": "Guatemala",
         "marker": {
          "color": "#00cc96",
          "symbol": "circle"
         },
         "mode": "lines",
         "name": "Guatemala",
         "showlegend": false,
         "type": "scatter",
         "xaxis": "x",
         "yaxis": "y"
        },
        {
         "customdata": [
          [
           "Guinea"
          ]
         ],
         "hovertemplate": "location=%{customdata[0]}<br>aged_70_older=%{x}<br>total_deaths_per_million=%{y}<extra></extra>",
         "legendgroup": "Guinea",
         "marker": {
          "color": "#ab63fa",
          "symbol": "circle"
         },
         "mode": "markers",
         "name": "Guinea",
         "orientation": "v",
         "showlegend": true,
         "type": "scatter",
         "x": [
          1.733
         ],
         "xaxis": "x",
         "y": [
          5.406
         ],
         "yaxis": "y"
        },
        {
         "hovertemplate": "location=Guinea<extra></extra>",
         "legendgroup": "Guinea",
         "marker": {
          "color": "#ab63fa",
          "symbol": "circle"
         },
         "mode": "lines",
         "name": "Guinea",
         "showlegend": false,
         "type": "scatter",
         "xaxis": "x",
         "yaxis": "y"
        },
        {
         "customdata": [
          [
           "Guinea-Bissau"
          ]
         ],
         "hovertemplate": "location=%{customdata[0]}<br>aged_70_older=%{x}<br>total_deaths_per_million=%{y}<extra></extra>",
         "legendgroup": "Guinea-Bissau",
         "marker": {
          "color": "#FFA15A",
          "symbol": "circle"
         },
         "mode": "markers",
         "name": "Guinea-Bissau",
         "orientation": "v",
         "showlegend": true,
         "type": "scatter",
         "x": [
          1.565
         ],
         "xaxis": "x",
         "y": [
          20.833
         ],
         "yaxis": "y"
        },
        {
         "hovertemplate": "location=Guinea-Bissau<extra></extra>",
         "legendgroup": "Guinea-Bissau",
         "marker": {
          "color": "#FFA15A",
          "symbol": "circle"
         },
         "mode": "lines",
         "name": "Guinea-Bissau",
         "showlegend": false,
         "type": "scatter",
         "xaxis": "x",
         "yaxis": "y"
        },
        {
         "customdata": [
          [
           "Guyana"
          ]
         ],
         "hovertemplate": "location=%{customdata[0]}<br>aged_70_older=%{x}<br>total_deaths_per_million=%{y}<extra></extra>",
         "legendgroup": "Guyana",
         "marker": {
          "color": "#19d3f3",
          "symbol": "circle"
         },
         "mode": "markers",
         "name": "Guyana",
         "orientation": "v",
         "showlegend": true,
         "type": "scatter",
         "x": [
          2.837
         ],
         "xaxis": "x",
         "y": [
          151.292
         ],
         "yaxis": "y"
        },
        {
         "hovertemplate": "location=Guyana<extra></extra>",
         "legendgroup": "Guyana",
         "marker": {
          "color": "#19d3f3",
          "symbol": "circle"
         },
         "mode": "lines",
         "name": "Guyana",
         "showlegend": false,
         "type": "scatter",
         "xaxis": "x",
         "yaxis": "y"
        },
        {
         "customdata": [
          [
           "Haiti"
          ]
         ],
         "hovertemplate": "location=%{customdata[0]}<br>aged_70_older=%{x}<br>total_deaths_per_million=%{y}<extra></extra>",
         "legendgroup": "Haiti",
         "marker": {
          "color": "#FF6692",
          "symbol": "circle"
         },
         "mode": "markers",
         "name": "Haiti",
         "orientation": "v",
         "showlegend": true,
         "type": "scatter",
         "x": [
          2.954
         ],
         "xaxis": "x",
         "y": [
          20.346
         ],
         "yaxis": "y"
        },
        {
         "hovertemplate": "location=Haiti<extra></extra>",
         "legendgroup": "Haiti",
         "marker": {
          "color": "#FF6692",
          "symbol": "circle"
         },
         "mode": "lines",
         "name": "Haiti",
         "showlegend": false,
         "type": "scatter",
         "xaxis": "x",
         "yaxis": "y"
        },
        {
         "customdata": [
          [
           "Honduras"
          ]
         ],
         "hovertemplate": "location=%{customdata[0]}<br>aged_70_older=%{x}<br>total_deaths_per_million=%{y}<extra></extra>",
         "legendgroup": "Honduras",
         "marker": {
          "color": "#B6E880",
          "symbol": "circle"
         },
         "mode": "markers",
         "name": "Honduras",
         "orientation": "v",
         "showlegend": true,
         "type": "scatter",
         "x": [
          2.883
         ],
         "xaxis": "x",
         "y": [
          266.442
         ],
         "yaxis": "y"
        },
        {
         "hovertemplate": "location=Honduras<extra></extra>",
         "legendgroup": "Honduras",
         "marker": {
          "color": "#B6E880",
          "symbol": "circle"
         },
         "mode": "lines",
         "name": "Honduras",
         "showlegend": false,
         "type": "scatter",
         "xaxis": "x",
         "yaxis": "y"
        },
        {
         "customdata": [
          [
           "Hong Kong"
          ]
         ],
         "hovertemplate": "location=%{customdata[0]}<br>aged_70_older=%{x}<br>total_deaths_per_million=%{y}<extra></extra>",
         "legendgroup": "Hong Kong",
         "marker": {
          "color": "#FF97FF",
          "symbol": "circle"
         },
         "mode": "markers",
         "name": "Hong Kong",
         "orientation": "v",
         "showlegend": true,
         "type": "scatter",
         "x": [
          10.158
         ],
         "xaxis": "x",
         "y": [
          0
         ],
         "yaxis": "y"
        },
        {
         "hovertemplate": "location=Hong Kong<extra></extra>",
         "legendgroup": "Hong Kong",
         "marker": {
          "color": "#FF97FF",
          "symbol": "circle"
         },
         "mode": "lines",
         "name": "Hong Kong",
         "showlegend": false,
         "type": "scatter",
         "xaxis": "x",
         "yaxis": "y"
        },
        {
         "customdata": [
          [
           "Hungary"
          ]
         ],
         "hovertemplate": "location=%{customdata[0]}<br>aged_70_older=%{x}<br>total_deaths_per_million=%{y}<extra></extra>",
         "legendgroup": "Hungary",
         "marker": {
          "color": "#FECB52",
          "symbol": "circle"
         },
         "mode": "markers",
         "name": "Hungary",
         "orientation": "v",
         "showlegend": true,
         "type": "scatter",
         "x": [
          11.976
         ],
         "xaxis": "x",
         "y": [
          158.897
         ],
         "yaxis": "y"
        },
        {
         "hovertemplate": "location=Hungary<extra></extra>",
         "legendgroup": "Hungary",
         "marker": {
          "color": "#FECB52",
          "symbol": "circle"
         },
         "mode": "lines",
         "name": "Hungary",
         "showlegend": false,
         "type": "scatter",
         "xaxis": "x",
         "yaxis": "y"
        },
        {
         "customdata": [
          [
           "Iceland"
          ]
         ],
         "hovertemplate": "location=%{customdata[0]}<br>aged_70_older=%{x}<br>total_deaths_per_million=%{y}<extra></extra>",
         "legendgroup": "Iceland",
         "marker": {
          "color": "#636efa",
          "symbol": "circle"
         },
         "mode": "markers",
         "name": "Iceland",
         "orientation": "v",
         "showlegend": true,
         "type": "scatter",
         "x": [
          9.207
         ],
         "xaxis": "x",
         "y": [
          32.234
         ],
         "yaxis": "y"
        },
        {
         "hovertemplate": "location=Iceland<extra></extra>",
         "legendgroup": "Iceland",
         "marker": {
          "color": "#636efa",
          "symbol": "circle"
         },
         "mode": "lines",
         "name": "Iceland",
         "showlegend": false,
         "type": "scatter",
         "xaxis": "x",
         "yaxis": "y"
        },
        {
         "customdata": [
          [
           "India"
          ]
         ],
         "hovertemplate": "location=%{customdata[0]}<br>aged_70_older=%{x}<br>total_deaths_per_million=%{y}<extra></extra>",
         "legendgroup": "India",
         "marker": {
          "color": "#EF553B",
          "symbol": "circle"
         },
         "mode": "markers",
         "name": "India",
         "orientation": "v",
         "showlegend": true,
         "type": "scatter",
         "x": [
          3.414
         ],
         "xaxis": "x",
         "y": [
          86.963
         ],
         "yaxis": "y"
        },
        {
         "hovertemplate": "location=India<extra></extra>",
         "legendgroup": "India",
         "marker": {
          "color": "#EF553B",
          "symbol": "circle"
         },
         "mode": "lines",
         "name": "India",
         "showlegend": false,
         "type": "scatter",
         "xaxis": "x",
         "yaxis": "y"
        },
        {
         "customdata": [
          [
           "Indonesia"
          ]
         ],
         "hovertemplate": "location=%{customdata[0]}<br>aged_70_older=%{x}<br>total_deaths_per_million=%{y}<extra></extra>",
         "legendgroup": "Indonesia",
         "marker": {
          "color": "#00cc96",
          "symbol": "circle"
         },
         "mode": "markers",
         "name": "Indonesia",
         "orientation": "v",
         "showlegend": true,
         "type": "scatter",
         "x": [
          3.053
         ],
         "xaxis": "x",
         "y": [
          49.4
         ],
         "yaxis": "y"
        },
        {
         "hovertemplate": "location=Indonesia<extra></extra>",
         "legendgroup": "Indonesia",
         "marker": {
          "color": "#00cc96",
          "symbol": "circle"
         },
         "mode": "lines",
         "name": "Indonesia",
         "showlegend": false,
         "type": "scatter",
         "xaxis": "x",
         "yaxis": "y"
        },
        {
         "customdata": [
          [
           "International"
          ]
         ],
         "hovertemplate": "location=%{customdata[0]}<br>aged_70_older=%{x}<br>total_deaths_per_million=%{y}<extra></extra>",
         "legendgroup": "International",
         "marker": {
          "color": "#ab63fa",
          "symbol": "circle"
         },
         "mode": "markers",
         "name": "International",
         "orientation": "v",
         "showlegend": true,
         "type": "scatter",
         "x": [
          0
         ],
         "xaxis": "x",
         "y": [
          0
         ],
         "yaxis": "y"
        },
        {
         "hovertemplate": "location=International<extra></extra>",
         "legendgroup": "International",
         "marker": {
          "color": "#ab63fa",
          "symbol": "circle"
         },
         "mode": "lines",
         "name": "International",
         "showlegend": false,
         "type": "scatter",
         "xaxis": "x",
         "yaxis": "y"
        },
        {
         "customdata": [
          [
           "Iran"
          ]
         ],
         "hovertemplate": "location=%{customdata[0]}<br>aged_70_older=%{x}<br>total_deaths_per_million=%{y}<extra></extra>",
         "legendgroup": "Iran",
         "marker": {
          "color": "#FFA15A",
          "symbol": "circle"
         },
         "mode": "markers",
         "name": "Iran",
         "orientation": "v",
         "showlegend": true,
         "type": "scatter",
         "x": [
          3.182
         ],
         "xaxis": "x",
         "y": [
          396.45
         ],
         "yaxis": "y"
        },
        {
         "hovertemplate": "location=Iran<extra></extra>",
         "legendgroup": "Iran",
         "marker": {
          "color": "#FFA15A",
          "symbol": "circle"
         },
         "mode": "lines",
         "name": "Iran",
         "showlegend": false,
         "type": "scatter",
         "xaxis": "x",
         "yaxis": "y"
        },
        {
         "customdata": [
          [
           "Iraq"
          ]
         ],
         "hovertemplate": "location=%{customdata[0]}<br>aged_70_older=%{x}<br>total_deaths_per_million=%{y}<extra></extra>",
         "legendgroup": "Iraq",
         "marker": {
          "color": "#19d3f3",
          "symbol": "circle"
         },
         "mode": "markers",
         "name": "Iraq",
         "orientation": "v",
         "showlegend": true,
         "type": "scatter",
         "x": [
          1.957
         ],
         "xaxis": "x",
         "y": [
          266.617
         ],
         "yaxis": "y"
        },
        {
         "hovertemplate": "location=Iraq<extra></extra>",
         "legendgroup": "Iraq",
         "marker": {
          "color": "#19d3f3",
          "symbol": "circle"
         },
         "mode": "lines",
         "name": "Iraq",
         "showlegend": false,
         "type": "scatter",
         "xaxis": "x",
         "yaxis": "y"
        },
        {
         "customdata": [
          [
           "Ireland"
          ]
         ],
         "hovertemplate": "location=%{customdata[0]}<br>aged_70_older=%{x}<br>total_deaths_per_million=%{y}<extra></extra>",
         "legendgroup": "Ireland",
         "marker": {
          "color": "#FF6692",
          "symbol": "circle"
         },
         "mode": "markers",
         "name": "Ireland",
         "orientation": "v",
         "showlegend": true,
         "type": "scatter",
         "x": [
          8.678
         ],
         "xaxis": "x",
         "y": [
          382.762
         ],
         "yaxis": "y"
        },
        {
         "hovertemplate": "location=Ireland<extra></extra>",
         "legendgroup": "Ireland",
         "marker": {
          "color": "#FF6692",
          "symbol": "circle"
         },
         "mode": "lines",
         "name": "Ireland",
         "showlegend": false,
         "type": "scatter",
         "xaxis": "x",
         "yaxis": "y"
        },
        {
         "customdata": [
          [
           "Israel"
          ]
         ],
         "hovertemplate": "location=%{customdata[0]}<br>aged_70_older=%{x}<br>total_deaths_per_million=%{y}<extra></extra>",
         "legendgroup": "Israel",
         "marker": {
          "color": "#B6E880",
          "symbol": "circle"
         },
         "mode": "markers",
         "name": "Israel",
         "orientation": "v",
         "showlegend": true,
         "type": "scatter",
         "x": [
          7.359
         ],
         "xaxis": "x",
         "y": [
          288.37
         ],
         "yaxis": "y"
        },
        {
         "hovertemplate": "location=Israel<extra></extra>",
         "legendgroup": "Israel",
         "marker": {
          "color": "#B6E880",
          "symbol": "circle"
         },
         "mode": "lines",
         "name": "Israel",
         "showlegend": false,
         "type": "scatter",
         "xaxis": "x",
         "yaxis": "y"
        },
        {
         "customdata": [
          [
           "Italy"
          ]
         ],
         "hovertemplate": "location=%{customdata[0]}<br>aged_70_older=%{x}<br>total_deaths_per_million=%{y}<extra></extra>",
         "legendgroup": "Italy",
         "marker": {
          "color": "#FF97FF",
          "symbol": "circle"
         },
         "mode": "markers",
         "name": "Italy",
         "orientation": "v",
         "showlegend": true,
         "type": "scatter",
         "x": [
          16.24
         ],
         "xaxis": "x",
         "y": [
          623.534
         ],
         "yaxis": "y"
        },
        {
         "hovertemplate": "location=Italy<extra></extra>",
         "legendgroup": "Italy",
         "marker": {
          "color": "#FF97FF",
          "symbol": "circle"
         },
         "mode": "lines",
         "name": "Italy",
         "showlegend": false,
         "type": "scatter",
         "xaxis": "x",
         "yaxis": "y"
        },
        {
         "customdata": [
          [
           "Jamaica"
          ]
         ],
         "hovertemplate": "location=%{customdata[0]}<br>aged_70_older=%{x}<br>total_deaths_per_million=%{y}<extra></extra>",
         "legendgroup": "Jamaica",
         "marker": {
          "color": "#FECB52",
          "symbol": "circle"
         },
         "mode": "markers",
         "name": "Jamaica",
         "orientation": "v",
         "showlegend": true,
         "type": "scatter",
         "x": [
          6.39
         ],
         "xaxis": "x",
         "y": [
          66.19
         ],
         "yaxis": "y"
        },
        {
         "hovertemplate": "location=Jamaica<extra></extra>",
         "legendgroup": "Jamaica",
         "marker": {
          "color": "#FECB52",
          "symbol": "circle"
         },
         "mode": "lines",
         "name": "Jamaica",
         "showlegend": false,
         "type": "scatter",
         "xaxis": "x",
         "yaxis": "y"
        },
        {
         "customdata": [
          [
           "Japan"
          ]
         ],
         "hovertemplate": "location=%{customdata[0]}<br>aged_70_older=%{x}<br>total_deaths_per_million=%{y}<extra></extra>",
         "legendgroup": "Japan",
         "marker": {
          "color": "#636efa",
          "symbol": "circle"
         },
         "mode": "markers",
         "name": "Japan",
         "orientation": "v",
         "showlegend": true,
         "type": "scatter",
         "x": [
          18.493
         ],
         "xaxis": "x",
         "y": [
          13.647
         ],
         "yaxis": "y"
        },
        {
         "hovertemplate": "location=Japan<extra></extra>",
         "legendgroup": "Japan",
         "marker": {
          "color": "#636efa",
          "symbol": "circle"
         },
         "mode": "lines",
         "name": "Japan",
         "showlegend": false,
         "type": "scatter",
         "xaxis": "x",
         "yaxis": "y"
        },
        {
         "customdata": [
          [
           "Jordan"
          ]
         ],
         "hovertemplate": "location=%{customdata[0]}<br>aged_70_older=%{x}<br>total_deaths_per_million=%{y}<extra></extra>",
         "legendgroup": "Jordan",
         "marker": {
          "color": "#EF553B",
          "symbol": "circle"
         },
         "mode": "markers",
         "name": "Jordan",
         "orientation": "v",
         "showlegend": true,
         "type": "scatter",
         "x": [
          2.361
         ],
         "xaxis": "x",
         "y": [
          65.47
         ],
         "yaxis": "y"
        },
        {
         "hovertemplate": "location=Jordan<extra></extra>",
         "legendgroup": "Jordan",
         "marker": {
          "color": "#EF553B",
          "symbol": "circle"
         },
         "mode": "lines",
         "name": "Jordan",
         "showlegend": false,
         "type": "scatter",
         "xaxis": "x",
         "yaxis": "y"
        },
        {
         "customdata": [
          [
           "Kazakhstan"
          ]
         ],
         "hovertemplate": "location=%{customdata[0]}<br>aged_70_older=%{x}<br>total_deaths_per_million=%{y}<extra></extra>",
         "legendgroup": "Kazakhstan",
         "marker": {
          "color": "#00cc96",
          "symbol": "circle"
         },
         "mode": "markers",
         "name": "Kazakhstan",
         "orientation": "v",
         "showlegend": true,
         "type": "scatter",
         "x": [
          4.625
         ],
         "xaxis": "x",
         "y": [
          116.687
         ],
         "yaxis": "y"
        },
        {
         "hovertemplate": "location=Kazakhstan<extra></extra>",
         "legendgroup": "Kazakhstan",
         "marker": {
          "color": "#00cc96",
          "symbol": "circle"
         },
         "mode": "lines",
         "name": "Kazakhstan",
         "showlegend": false,
         "type": "scatter",
         "xaxis": "x",
         "yaxis": "y"
        },
        {
         "customdata": [
          [
           "Kenya"
          ]
         ],
         "hovertemplate": "location=%{customdata[0]}<br>aged_70_older=%{x}<br>total_deaths_per_million=%{y}<extra></extra>",
         "legendgroup": "Kenya",
         "marker": {
          "color": "#ab63fa",
          "symbol": "circle"
         },
         "mode": "markers",
         "name": "Kenya",
         "orientation": "v",
         "showlegend": true,
         "type": "scatter",
         "x": [
          1.528
         ],
         "xaxis": "x",
         "y": [
          17.37
         ],
         "yaxis": "y"
        },
        {
         "hovertemplate": "location=Kenya<extra></extra>",
         "legendgroup": "Kenya",
         "marker": {
          "color": "#ab63fa",
          "symbol": "circle"
         },
         "mode": "lines",
         "name": "Kenya",
         "showlegend": false,
         "type": "scatter",
         "xaxis": "x",
         "yaxis": "y"
        },
        {
         "customdata": [
          [
           "Kosovo"
          ]
         ],
         "hovertemplate": "location=%{customdata[0]}<br>aged_70_older=%{x}<br>total_deaths_per_million=%{y}<extra></extra>",
         "legendgroup": "Kosovo",
         "marker": {
          "color": "#FFA15A",
          "symbol": "circle"
         },
         "mode": "markers",
         "name": "Kosovo",
         "orientation": "v",
         "showlegend": true,
         "type": "scatter",
         "x": [
          0
         ],
         "xaxis": "x",
         "y": [
          343.03
         ],
         "yaxis": "y"
        },
        {
         "hovertemplate": "location=Kosovo<extra></extra>",
         "legendgroup": "Kosovo",
         "marker": {
          "color": "#FFA15A",
          "symbol": "circle"
         },
         "mode": "lines",
         "name": "Kosovo",
         "showlegend": false,
         "type": "scatter",
         "xaxis": "x",
         "yaxis": "y"
        },
        {
         "customdata": [
          [
           "Kuwait"
          ]
         ],
         "hovertemplate": "location=%{customdata[0]}<br>aged_70_older=%{x}<br>total_deaths_per_million=%{y}<extra></extra>",
         "legendgroup": "Kuwait",
         "marker": {
          "color": "#19d3f3",
          "symbol": "circle"
         },
         "mode": "markers",
         "name": "Kuwait",
         "orientation": "v",
         "showlegend": true,
         "type": "scatter",
         "x": [
          1.114
         ],
         "xaxis": "x",
         "y": [
          177.026
         ],
         "yaxis": "y"
        },
        {
         "hovertemplate": "location=Kuwait<extra></extra>",
         "legendgroup": "Kuwait",
         "marker": {
          "color": "#19d3f3",
          "symbol": "circle"
         },
         "mode": "lines",
         "name": "Kuwait",
         "showlegend": false,
         "type": "scatter",
         "xaxis": "x",
         "yaxis": "y"
        },
        {
         "customdata": [
          [
           "Kyrgyzstan"
          ]
         ],
         "hovertemplate": "location=%{customdata[0]}<br>aged_70_older=%{x}<br>total_deaths_per_million=%{y}<extra></extra>",
         "legendgroup": "Kyrgyzstan",
         "marker": {
          "color": "#FF6692",
          "symbol": "circle"
         },
         "mode": "markers",
         "name": "Kyrgyzstan",
         "orientation": "v",
         "showlegend": true,
         "type": "scatter",
         "x": [
          2.882
         ],
         "xaxis": "x",
         "y": [
          174.121
         ],
         "yaxis": "y"
        },
        {
         "hovertemplate": "location=Kyrgyzstan<extra></extra>",
         "legendgroup": "Kyrgyzstan",
         "marker": {
          "color": "#FF6692",
          "symbol": "circle"
         },
         "mode": "lines",
         "name": "Kyrgyzstan",
         "showlegend": false,
         "type": "scatter",
         "xaxis": "x",
         "yaxis": "y"
        },
        {
         "customdata": [
          [
           "Laos"
          ]
         ],
         "hovertemplate": "location=%{customdata[0]}<br>aged_70_older=%{x}<br>total_deaths_per_million=%{y}<extra></extra>",
         "legendgroup": "Laos",
         "marker": {
          "color": "#B6E880",
          "symbol": "circle"
         },
         "mode": "markers",
         "name": "Laos",
         "orientation": "v",
         "showlegend": true,
         "type": "scatter",
         "x": [
          2.322
         ],
         "xaxis": "x",
         "y": [
          0
         ],
         "yaxis": "y"
        },
        {
         "hovertemplate": "location=Laos<extra></extra>",
         "legendgroup": "Laos",
         "marker": {
          "color": "#B6E880",
          "symbol": "circle"
         },
         "mode": "lines",
         "name": "Laos",
         "showlegend": false,
         "type": "scatter",
         "xaxis": "x",
         "yaxis": "y"
        },
        {
         "customdata": [
          [
           "Latvia"
          ]
         ],
         "hovertemplate": "location=%{customdata[0]}<br>aged_70_older=%{x}<br>total_deaths_per_million=%{y}<extra></extra>",
         "legendgroup": "Latvia",
         "marker": {
          "color": "#FF97FF",
          "symbol": "circle"
         },
         "mode": "markers",
         "name": "Latvia",
         "orientation": "v",
         "showlegend": true,
         "type": "scatter",
         "x": [
          14.136
         ],
         "xaxis": "x",
         "y": [
          33.4
         ],
         "yaxis": "y"
        },
        {
         "hovertemplate": "location=Latvia<extra></extra>",
         "legendgroup": "Latvia",
         "marker": {
          "color": "#FF97FF",
          "symbol": "circle"
         },
         "mode": "lines",
         "name": "Latvia",
         "showlegend": false,
         "type": "scatter",
         "xaxis": "x",
         "yaxis": "y"
        },
        {
         "customdata": [
          [
           "Lebanon"
          ]
         ],
         "hovertemplate": "location=%{customdata[0]}<br>aged_70_older=%{x}<br>total_deaths_per_million=%{y}<extra></extra>",
         "legendgroup": "Lebanon",
         "marker": {
          "color": "#FECB52",
          "symbol": "circle"
         },
         "mode": "markers",
         "name": "Lebanon",
         "orientation": "v",
         "showlegend": true,
         "type": "scatter",
         "x": [
          5.43
         ],
         "xaxis": "x",
         "y": [
          86.441
         ],
         "yaxis": "y"
        },
        {
         "hovertemplate": "location=Lebanon<extra></extra>",
         "legendgroup": "Lebanon",
         "marker": {
          "color": "#FECB52",
          "symbol": "circle"
         },
         "mode": "lines",
         "name": "Lebanon",
         "showlegend": false,
         "type": "scatter",
         "xaxis": "x",
         "yaxis": "y"
        },
        {
         "customdata": [
          [
           "Lesotho"
          ]
         ],
         "hovertemplate": "location=%{customdata[0]}<br>aged_70_older=%{x}<br>total_deaths_per_million=%{y}<extra></extra>",
         "legendgroup": "Lesotho",
         "marker": {
          "color": "#636efa",
          "symbol": "circle"
         },
         "mode": "markers",
         "name": "Lesotho",
         "orientation": "v",
         "showlegend": true,
         "type": "scatter",
         "x": [
          2.647
         ],
         "xaxis": "x",
         "y": [
          20.072
         ],
         "yaxis": "y"
        },
        {
         "hovertemplate": "location=Lesotho<extra></extra>",
         "legendgroup": "Lesotho",
         "marker": {
          "color": "#636efa",
          "symbol": "circle"
         },
         "mode": "lines",
         "name": "Lesotho",
         "showlegend": false,
         "type": "scatter",
         "xaxis": "x",
         "yaxis": "y"
        },
        {
         "customdata": [
          [
           "Liberia"
          ]
         ],
         "hovertemplate": "location=%{customdata[0]}<br>aged_70_older=%{x}<br>total_deaths_per_million=%{y}<extra></extra>",
         "legendgroup": "Liberia",
         "marker": {
          "color": "#EF553B",
          "symbol": "circle"
         },
         "mode": "markers",
         "name": "Liberia",
         "orientation": "v",
         "showlegend": true,
         "type": "scatter",
         "x": [
          1.756
         ],
         "xaxis": "x",
         "y": [
          16.213
         ],
         "yaxis": "y"
        },
        {
         "hovertemplate": "location=Liberia<extra></extra>",
         "legendgroup": "Liberia",
         "marker": {
          "color": "#EF553B",
          "symbol": "circle"
         },
         "mode": "lines",
         "name": "Liberia",
         "showlegend": false,
         "type": "scatter",
         "xaxis": "x",
         "yaxis": "y"
        },
        {
         "customdata": [
          [
           "Libya"
          ]
         ],
         "hovertemplate": "location=%{customdata[0]}<br>aged_70_older=%{x}<br>total_deaths_per_million=%{y}<extra></extra>",
         "legendgroup": "Libya",
         "marker": {
          "color": "#00cc96",
          "symbol": "circle"
         },
         "mode": "markers",
         "name": "Libya",
         "orientation": "v",
         "showlegend": true,
         "type": "scatter",
         "x": [
          2.816
         ],
         "xaxis": "x",
         "y": [
          118.173
         ],
         "yaxis": "y"
        },
        {
         "hovertemplate": "location=Libya<extra></extra>",
         "legendgroup": "Libya",
         "marker": {
          "color": "#00cc96",
          "symbol": "circle"
         },
         "mode": "lines",
         "name": "Libya",
         "showlegend": false,
         "type": "scatter",
         "xaxis": "x",
         "yaxis": "y"
        },
        {
         "customdata": [
          [
           "Liechtenstein"
          ]
         ],
         "hovertemplate": "location=%{customdata[0]}<br>aged_70_older=%{x}<br>total_deaths_per_million=%{y}<extra></extra>",
         "legendgroup": "Liechtenstein",
         "marker": {
          "color": "#ab63fa",
          "symbol": "circle"
         },
         "mode": "markers",
         "name": "Liechtenstein",
         "orientation": "v",
         "showlegend": true,
         "type": "scatter",
         "x": [
          0
         ],
         "xaxis": "x",
         "y": [
          26.221
         ],
         "yaxis": "y"
        },
        {
         "hovertemplate": "location=Liechtenstein<extra></extra>",
         "legendgroup": "Liechtenstein",
         "marker": {
          "color": "#ab63fa",
          "symbol": "circle"
         },
         "mode": "lines",
         "name": "Liechtenstein",
         "showlegend": false,
         "type": "scatter",
         "xaxis": "x",
         "yaxis": "y"
        },
        {
         "customdata": [
          [
           "Lithuania"
          ]
         ],
         "hovertemplate": "location=%{customdata[0]}<br>aged_70_older=%{x}<br>total_deaths_per_million=%{y}<extra></extra>",
         "legendgroup": "Lithuania",
         "marker": {
          "color": "#FFA15A",
          "symbol": "circle"
         },
         "mode": "markers",
         "name": "Lithuania",
         "orientation": "v",
         "showlegend": true,
         "type": "scatter",
         "x": [
          13.778
         ],
         "xaxis": "x",
         "y": [
          47.387
         ],
         "yaxis": "y"
        },
        {
         "hovertemplate": "location=Lithuania<extra></extra>",
         "legendgroup": "Lithuania",
         "marker": {
          "color": "#FFA15A",
          "symbol": "circle"
         },
         "mode": "lines",
         "name": "Lithuania",
         "showlegend": false,
         "type": "scatter",
         "xaxis": "x",
         "yaxis": "y"
        },
        {
         "customdata": [
          [
           "Luxembourg"
          ]
         ],
         "hovertemplate": "location=%{customdata[0]}<br>aged_70_older=%{x}<br>total_deaths_per_million=%{y}<extra></extra>",
         "legendgroup": "Luxembourg",
         "marker": {
          "color": "#19d3f3",
          "symbol": "circle"
         },
         "mode": "markers",
         "name": "Luxembourg",
         "orientation": "v",
         "showlegend": true,
         "type": "scatter",
         "x": [
          9.842
         ],
         "xaxis": "x",
         "y": [
          234.833
         ],
         "yaxis": "y"
        },
        {
         "hovertemplate": "location=Luxembourg<extra></extra>",
         "legendgroup": "Luxembourg",
         "marker": {
          "color": "#19d3f3",
          "symbol": "circle"
         },
         "mode": "lines",
         "name": "Luxembourg",
         "showlegend": false,
         "type": "scatter",
         "xaxis": "x",
         "yaxis": "y"
        },
        {
         "customdata": [
          [
           "Madagascar"
          ]
         ],
         "hovertemplate": "location=%{customdata[0]}<br>aged_70_older=%{x}<br>total_deaths_per_million=%{y}<extra></extra>",
         "legendgroup": "Madagascar",
         "marker": {
          "color": "#FF6692",
          "symbol": "circle"
         },
         "mode": "markers",
         "name": "Madagascar",
         "orientation": "v",
         "showlegend": true,
         "type": "scatter",
         "x": [
          1.686
         ],
         "xaxis": "x",
         "y": [
          8.812
         ],
         "yaxis": "y"
        },
        {
         "hovertemplate": "location=Madagascar<extra></extra>",
         "legendgroup": "Madagascar",
         "marker": {
          "color": "#FF6692",
          "symbol": "circle"
         },
         "mode": "lines",
         "name": "Madagascar",
         "showlegend": false,
         "type": "scatter",
         "xaxis": "x",
         "yaxis": "y"
        },
        {
         "customdata": [
          [
           "Malawi"
          ]
         ],
         "hovertemplate": "location=%{customdata[0]}<br>aged_70_older=%{x}<br>total_deaths_per_million=%{y}<extra></extra>",
         "legendgroup": "Malawi",
         "marker": {
          "color": "#B6E880",
          "symbol": "circle"
         },
         "mode": "markers",
         "name": "Malawi",
         "orientation": "v",
         "showlegend": true,
         "type": "scatter",
         "x": [
          1.783
         ],
         "xaxis": "x",
         "y": [
          9.566
         ],
         "yaxis": "y"
        },
        {
         "hovertemplate": "location=Malawi<extra></extra>",
         "legendgroup": "Malawi",
         "marker": {
          "color": "#B6E880",
          "symbol": "circle"
         },
         "mode": "lines",
         "name": "Malawi",
         "showlegend": false,
         "type": "scatter",
         "xaxis": "x",
         "yaxis": "y"
        },
        {
         "customdata": [
          [
           "Malaysia"
          ]
         ],
         "hovertemplate": "location=%{customdata[0]}<br>aged_70_older=%{x}<br>total_deaths_per_million=%{y}<extra></extra>",
         "legendgroup": "Malaysia",
         "marker": {
          "color": "#FF97FF",
          "symbol": "circle"
         },
         "mode": "markers",
         "name": "Malaysia",
         "orientation": "v",
         "showlegend": true,
         "type": "scatter",
         "x": [
          3.407
         ],
         "xaxis": "x",
         "y": [
          7.353
         ],
         "yaxis": "y"
        },
        {
         "hovertemplate": "location=Malaysia<extra></extra>",
         "legendgroup": "Malaysia",
         "marker": {
          "color": "#FF97FF",
          "symbol": "circle"
         },
         "mode": "lines",
         "name": "Malaysia",
         "showlegend": false,
         "type": "scatter",
         "xaxis": "x",
         "yaxis": "y"
        },
        {
         "customdata": [
          [
           "Maldives"
          ]
         ],
         "hovertemplate": "location=%{customdata[0]}<br>aged_70_older=%{x}<br>total_deaths_per_million=%{y}<extra></extra>",
         "legendgroup": "Maldives",
         "marker": {
          "color": "#FECB52",
          "symbol": "circle"
         },
         "mode": "markers",
         "name": "Maldives",
         "orientation": "v",
         "showlegend": true,
         "type": "scatter",
         "x": [
          2.875
         ],
         "xaxis": "x",
         "y": [
          68.45
         ],
         "yaxis": "y"
        },
        {
         "hovertemplate": "location=Maldives<extra></extra>",
         "legendgroup": "Maldives",
         "marker": {
          "color": "#FECB52",
          "symbol": "circle"
         },
         "mode": "lines",
         "name": "Maldives",
         "showlegend": false,
         "type": "scatter",
         "xaxis": "x",
         "yaxis": "y"
        },
        {
         "customdata": [
          [
           "Mali"
          ]
         ],
         "hovertemplate": "location=%{customdata[0]}<br>aged_70_older=%{x}<br>total_deaths_per_million=%{y}<extra></extra>",
         "legendgroup": "Mali",
         "marker": {
          "color": "#636efa",
          "symbol": "circle"
         },
         "mode": "markers",
         "name": "Mali",
         "orientation": "v",
         "showlegend": true,
         "type": "scatter",
         "x": [
          1.486
         ],
         "xaxis": "x",
         "y": [
          6.716
         ],
         "yaxis": "y"
        },
        {
         "hovertemplate": "location=Mali<extra></extra>",
         "legendgroup": "Mali",
         "marker": {
          "color": "#636efa",
          "symbol": "circle"
         },
         "mode": "lines",
         "name": "Mali",
         "showlegend": false,
         "type": "scatter",
         "xaxis": "x",
         "yaxis": "y"
        },
        {
         "customdata": [
          [
           "Malta"
          ]
         ],
         "hovertemplate": "location=%{customdata[0]}<br>aged_70_older=%{x}<br>total_deaths_per_million=%{y}<extra></extra>",
         "legendgroup": "Malta",
         "marker": {
          "color": "#EF553B",
          "symbol": "circle"
         },
         "mode": "markers",
         "name": "Malta",
         "orientation": "v",
         "showlegend": true,
         "type": "scatter",
         "x": [
          11.324
         ],
         "xaxis": "x",
         "y": [
          124.564
         ],
         "yaxis": "y"
        },
        {
         "hovertemplate": "location=Malta<extra></extra>",
         "legendgroup": "Malta",
         "marker": {
          "color": "#EF553B",
          "symbol": "circle"
         },
         "mode": "lines",
         "name": "Malta",
         "showlegend": false,
         "type": "scatter",
         "xaxis": "x",
         "yaxis": "y"
        },
        {
         "customdata": [
          [
           "Mauritania"
          ]
         ],
         "hovertemplate": "location=%{customdata[0]}<br>aged_70_older=%{x}<br>total_deaths_per_million=%{y}<extra></extra>",
         "legendgroup": "Mauritania",
         "marker": {
          "color": "#00cc96",
          "symbol": "circle"
         },
         "mode": "markers",
         "name": "Mauritania",
         "orientation": "v",
         "showlegend": true,
         "type": "scatter",
         "x": [
          1.792
         ],
         "xaxis": "x",
         "y": [
          35.056
         ],
         "yaxis": "y"
        },
        {
         "hovertemplate": "location=Mauritania<extra></extra>",
         "legendgroup": "Mauritania",
         "marker": {
          "color": "#00cc96",
          "symbol": "circle"
         },
         "mode": "lines",
         "name": "Mauritania",
         "showlegend": false,
         "type": "scatter",
         "xaxis": "x",
         "yaxis": "y"
        },
        {
         "customdata": [
          [
           "Mauritius"
          ]
         ],
         "hovertemplate": "location=%{customdata[0]}<br>aged_70_older=%{x}<br>total_deaths_per_million=%{y}<extra></extra>",
         "legendgroup": "Mauritius",
         "marker": {
          "color": "#ab63fa",
          "symbol": "circle"
         },
         "mode": "markers",
         "name": "Mauritius",
         "orientation": "v",
         "showlegend": true,
         "type": "scatter",
         "x": [
          5.884
         ],
         "xaxis": "x",
         "y": [
          7.863
         ],
         "yaxis": "y"
        },
        {
         "hovertemplate": "location=Mauritius<extra></extra>",
         "legendgroup": "Mauritius",
         "marker": {
          "color": "#ab63fa",
          "symbol": "circle"
         },
         "mode": "lines",
         "name": "Mauritius",
         "showlegend": false,
         "type": "scatter",
         "xaxis": "x",
         "yaxis": "y"
        },
        {
         "customdata": [
          [
           "Mexico"
          ]
         ],
         "hovertemplate": "location=%{customdata[0]}<br>aged_70_older=%{x}<br>total_deaths_per_million=%{y}<extra></extra>",
         "legendgroup": "Mexico",
         "marker": {
          "color": "#FFA15A",
          "symbol": "circle"
         },
         "mode": "markers",
         "name": "Mexico",
         "orientation": "v",
         "showlegend": true,
         "type": "scatter",
         "x": [
          4.321
         ],
         "xaxis": "x",
         "y": [
          696.596
         ],
         "yaxis": "y"
        },
        {
         "hovertemplate": "location=Mexico<extra></extra>",
         "legendgroup": "Mexico",
         "marker": {
          "color": "#FFA15A",
          "symbol": "circle"
         },
         "mode": "lines",
         "name": "Mexico",
         "showlegend": false,
         "type": "scatter",
         "xaxis": "x",
         "yaxis": "y"
        },
        {
         "customdata": [
          [
           "Moldova"
          ]
         ],
         "hovertemplate": "location=%{customdata[0]}<br>aged_70_older=%{x}<br>total_deaths_per_million=%{y}<extra></extra>",
         "legendgroup": "Moldova",
         "marker": {
          "color": "#19d3f3",
          "symbol": "circle"
         },
         "mode": "markers",
         "name": "Moldova",
         "orientation": "v",
         "showlegend": true,
         "type": "scatter",
         "x": [
          6.955
         ],
         "xaxis": "x",
         "y": [
          423.901
         ],
         "yaxis": "y"
        },
        {
         "hovertemplate": "location=Moldova<extra></extra>",
         "legendgroup": "Moldova",
         "marker": {
          "color": "#19d3f3",
          "symbol": "circle"
         },
         "mode": "lines",
         "name": "Moldova",
         "showlegend": false,
         "type": "scatter",
         "xaxis": "x",
         "yaxis": "y"
        },
        {
         "customdata": [
          [
           "Monaco"
          ]
         ],
         "hovertemplate": "location=%{customdata[0]}<br>aged_70_older=%{x}<br>total_deaths_per_million=%{y}<extra></extra>",
         "legendgroup": "Monaco",
         "marker": {
          "color": "#FF6692",
          "symbol": "circle"
         },
         "mode": "markers",
         "name": "Monaco",
         "orientation": "v",
         "showlegend": true,
         "type": "scatter",
         "x": [
          0
         ],
         "xaxis": "x",
         "y": [
          50.963
         ],
         "yaxis": "y"
        },
        {
         "hovertemplate": "location=Monaco<extra></extra>",
         "legendgroup": "Monaco",
         "marker": {
          "color": "#FF6692",
          "symbol": "circle"
         },
         "mode": "lines",
         "name": "Monaco",
         "showlegend": false,
         "type": "scatter",
         "xaxis": "x",
         "yaxis": "y"
        },
        {
         "customdata": [
          [
           "Mongolia"
          ]
         ],
         "hovertemplate": "location=%{customdata[0]}<br>aged_70_older=%{x}<br>total_deaths_per_million=%{y}<extra></extra>",
         "legendgroup": "Mongolia",
         "marker": {
          "color": "#B6E880",
          "symbol": "circle"
         },
         "mode": "markers",
         "name": "Mongolia",
         "orientation": "v",
         "showlegend": true,
         "type": "scatter",
         "x": [
          2.421
         ],
         "xaxis": "x",
         "y": [
          0
         ],
         "yaxis": "y"
        },
        {
         "hovertemplate": "location=Mongolia<extra></extra>",
         "legendgroup": "Mongolia",
         "marker": {
          "color": "#B6E880",
          "symbol": "circle"
         },
         "mode": "lines",
         "name": "Mongolia",
         "showlegend": false,
         "type": "scatter",
         "xaxis": "x",
         "yaxis": "y"
        },
        {
         "customdata": [
          [
           "Montenegro"
          ]
         ],
         "hovertemplate": "location=%{customdata[0]}<br>aged_70_older=%{x}<br>total_deaths_per_million=%{y}<extra></extra>",
         "legendgroup": "Montenegro",
         "marker": {
          "color": "#FF97FF",
          "symbol": "circle"
         },
         "mode": "markers",
         "name": "Montenegro",
         "orientation": "v",
         "showlegend": true,
         "type": "scatter",
         "x": [
          9.395
         ],
         "xaxis": "x",
         "y": [
          437.855
         ],
         "yaxis": "y"
        },
        {
         "hovertemplate": "location=Montenegro<extra></extra>",
         "legendgroup": "Montenegro",
         "marker": {
          "color": "#FF97FF",
          "symbol": "circle"
         },
         "mode": "lines",
         "name": "Montenegro",
         "showlegend": false,
         "type": "scatter",
         "xaxis": "x",
         "yaxis": "y"
        },
        {
         "customdata": [
          [
           "Morocco"
          ]
         ],
         "hovertemplate": "location=%{customdata[0]}<br>aged_70_older=%{x}<br>total_deaths_per_million=%{y}<extra></extra>",
         "legendgroup": "Morocco",
         "marker": {
          "color": "#FECB52",
          "symbol": "circle"
         },
         "mode": "markers",
         "name": "Morocco",
         "orientation": "v",
         "showlegend": true,
         "type": "scatter",
         "x": [
          4.209
         ],
         "xaxis": "x",
         "y": [
          93.334
         ],
         "yaxis": "y"
        },
        {
         "hovertemplate": "location=Morocco<extra></extra>",
         "legendgroup": "Morocco",
         "marker": {
          "color": "#FECB52",
          "symbol": "circle"
         },
         "mode": "lines",
         "name": "Morocco",
         "showlegend": false,
         "type": "scatter",
         "xaxis": "x",
         "yaxis": "y"
        },
        {
         "customdata": [
          [
           "Mozambique"
          ]
         ],
         "hovertemplate": "location=%{customdata[0]}<br>aged_70_older=%{x}<br>total_deaths_per_million=%{y}<extra></extra>",
         "legendgroup": "Mozambique",
         "marker": {
          "color": "#636efa",
          "symbol": "circle"
         },
         "mode": "markers",
         "name": "Mozambique",
         "orientation": "v",
         "showlegend": true,
         "type": "scatter",
         "x": [
          1.87
         ],
         "xaxis": "x",
         "y": [
          2.848
         ],
         "yaxis": "y"
        },
        {
         "hovertemplate": "location=Mozambique<extra></extra>",
         "legendgroup": "Mozambique",
         "marker": {
          "color": "#636efa",
          "symbol": "circle"
         },
         "mode": "lines",
         "name": "Mozambique",
         "showlegend": false,
         "type": "scatter",
         "xaxis": "x",
         "yaxis": "y"
        },
        {
         "customdata": [
          [
           "Myanmar"
          ]
         ],
         "hovertemplate": "location=%{customdata[0]}<br>aged_70_older=%{x}<br>total_deaths_per_million=%{y}<extra></extra>",
         "legendgroup": "Myanmar",
         "marker": {
          "color": "#EF553B",
          "symbol": "circle"
         },
         "mode": "markers",
         "name": "Myanmar",
         "orientation": "v",
         "showlegend": true,
         "type": "scatter",
         "x": [
          3.12
         ],
         "xaxis": "x",
         "y": [
          21.081
         ],
         "yaxis": "y"
        },
        {
         "hovertemplate": "location=Myanmar<extra></extra>",
         "legendgroup": "Myanmar",
         "marker": {
          "color": "#EF553B",
          "symbol": "circle"
         },
         "mode": "lines",
         "name": "Myanmar",
         "showlegend": false,
         "type": "scatter",
         "xaxis": "x",
         "yaxis": "y"
        },
        {
         "customdata": [
          [
           "Namibia"
          ]
         ],
         "hovertemplate": "location=%{customdata[0]}<br>aged_70_older=%{x}<br>total_deaths_per_million=%{y}<extra></extra>",
         "legendgroup": "Namibia",
         "marker": {
          "color": "#00cc96",
          "symbol": "circle"
         },
         "mode": "markers",
         "name": "Namibia",
         "orientation": "v",
         "showlegend": true,
         "type": "scatter",
         "x": [
          2.085
         ],
         "xaxis": "x",
         "y": [
          52.343
         ],
         "yaxis": "y"
        },
        {
         "hovertemplate": "location=Namibia<extra></extra>",
         "legendgroup": "Namibia",
         "marker": {
          "color": "#00cc96",
          "symbol": "circle"
         },
         "mode": "lines",
         "name": "Namibia",
         "showlegend": false,
         "type": "scatter",
         "xaxis": "x",
         "yaxis": "y"
        },
        {
         "customdata": [
          [
           "Nepal"
          ]
         ],
         "hovertemplate": "location=%{customdata[0]}<br>aged_70_older=%{x}<br>total_deaths_per_million=%{y}<extra></extra>",
         "legendgroup": "Nepal",
         "marker": {
          "color": "#ab63fa",
          "symbol": "circle"
         },
         "mode": "markers",
         "name": "Nepal",
         "orientation": "v",
         "showlegend": true,
         "type": "scatter",
         "x": [
          3.212
         ],
         "xaxis": "x",
         "y": [
          30.065
         ],
         "yaxis": "y"
        },
        {
         "hovertemplate": "location=Nepal<extra></extra>",
         "legendgroup": "Nepal",
         "marker": {
          "color": "#ab63fa",
          "symbol": "circle"
         },
         "mode": "lines",
         "name": "Nepal",
         "showlegend": false,
         "type": "scatter",
         "xaxis": "x",
         "yaxis": "y"
        },
        {
         "customdata": [
          [
           "Netherlands"
          ]
         ],
         "hovertemplate": "location=%{customdata[0]}<br>aged_70_older=%{x}<br>total_deaths_per_million=%{y}<extra></extra>",
         "legendgroup": "Netherlands",
         "marker": {
          "color": "#FFA15A",
          "symbol": "circle"
         },
         "mode": "markers",
         "name": "Netherlands",
         "orientation": "v",
         "showlegend": true,
         "type": "scatter",
         "x": [
          11.881
         ],
         "xaxis": "x",
         "y": [
          420.429
         ],
         "yaxis": "y"
        },
        {
         "hovertemplate": "location=Netherlands<extra></extra>",
         "legendgroup": "Netherlands",
         "marker": {
          "color": "#FFA15A",
          "symbol": "circle"
         },
         "mode": "lines",
         "name": "Netherlands",
         "showlegend": false,
         "type": "scatter",
         "xaxis": "x",
         "yaxis": "y"
        },
        {
         "customdata": [
          [
           "New Zealand"
          ]
         ],
         "hovertemplate": "location=%{customdata[0]}<br>aged_70_older=%{x}<br>total_deaths_per_million=%{y}<extra></extra>",
         "legendgroup": "New Zealand",
         "marker": {
          "color": "#19d3f3",
          "symbol": "circle"
         },
         "mode": "markers",
         "name": "New Zealand",
         "orientation": "v",
         "showlegend": true,
         "type": "scatter",
         "x": [
          9.72
         ],
         "xaxis": "x",
         "y": [
          5.184
         ],
         "yaxis": "y"
        },
        {
         "hovertemplate": "location=New Zealand<extra></extra>",
         "legendgroup": "New Zealand",
         "marker": {
          "color": "#19d3f3",
          "symbol": "circle"
         },
         "mode": "lines",
         "name": "New Zealand",
         "showlegend": false,
         "type": "scatter",
         "xaxis": "x",
         "yaxis": "y"
        },
        {
         "customdata": [
          [
           "Nicaragua"
          ]
         ],
         "hovertemplate": "location=%{customdata[0]}<br>aged_70_older=%{x}<br>total_deaths_per_million=%{y}<extra></extra>",
         "legendgroup": "Nicaragua",
         "marker": {
          "color": "#FF6692",
          "symbol": "circle"
         },
         "mode": "markers",
         "name": "Nicaragua",
         "orientation": "v",
         "showlegend": true,
         "type": "scatter",
         "x": [
          3.519
         ],
         "xaxis": "x",
         "y": [
          23.549
         ],
         "yaxis": "y"
        },
        {
         "hovertemplate": "location=Nicaragua<extra></extra>",
         "legendgroup": "Nicaragua",
         "marker": {
          "color": "#FF6692",
          "symbol": "circle"
         },
         "mode": "lines",
         "name": "Nicaragua",
         "showlegend": false,
         "type": "scatter",
         "xaxis": "x",
         "yaxis": "y"
        },
        {
         "customdata": [
          [
           "Niger"
          ]
         ],
         "hovertemplate": "location=%{customdata[0]}<br>aged_70_older=%{x}<br>total_deaths_per_million=%{y}<extra></extra>",
         "legendgroup": "Niger",
         "marker": {
          "color": "#B6E880",
          "symbol": "circle"
         },
         "mode": "markers",
         "name": "Niger",
         "orientation": "v",
         "showlegend": true,
         "type": "scatter",
         "x": [
          1.378
         ],
         "xaxis": "x",
         "y": [
          2.85
         ],
         "yaxis": "y"
        },
        {
         "hovertemplate": "location=Niger<extra></extra>",
         "legendgroup": "Niger",
         "marker": {
          "color": "#B6E880",
          "symbol": "circle"
         },
         "mode": "lines",
         "name": "Niger",
         "showlegend": false,
         "type": "scatter",
         "xaxis": "x",
         "yaxis": "y"
        },
        {
         "customdata": [
          [
           "Nigeria"
          ]
         ],
         "hovertemplate": "location=%{customdata[0]}<br>aged_70_older=%{x}<br>total_deaths_per_million=%{y}<extra></extra>",
         "legendgroup": "Nigeria",
         "marker": {
          "color": "#FF97FF",
          "symbol": "circle"
         },
         "mode": "markers",
         "name": "Nigeria",
         "orientation": "v",
         "showlegend": true,
         "type": "scatter",
         "x": [
          1.447
         ],
         "xaxis": "x",
         "y": [
          5.506
         ],
         "yaxis": "y"
        },
        {
         "hovertemplate": "location=Nigeria<extra></extra>",
         "legendgroup": "Nigeria",
         "marker": {
          "color": "#FF97FF",
          "symbol": "circle"
         },
         "mode": "lines",
         "name": "Nigeria",
         "showlegend": false,
         "type": "scatter",
         "xaxis": "x",
         "yaxis": "y"
        },
        {
         "customdata": [
          [
           "North America"
          ]
         ],
         "hovertemplate": "location=%{customdata[0]}<br>aged_70_older=%{x}<br>total_deaths_per_million=%{y}<extra></extra>",
         "legendgroup": "North America",
         "marker": {
          "color": "#FECB52",
          "symbol": "circle"
         },
         "mode": "markers",
         "name": "North America",
         "orientation": "v",
         "showlegend": true,
         "type": "scatter",
         "x": [
          0
         ],
         "xaxis": "x",
         "y": [
          577.865
         ],
         "yaxis": "y"
        },
        {
         "hovertemplate": "location=North America<extra></extra>",
         "legendgroup": "North America",
         "marker": {
          "color": "#FECB52",
          "symbol": "circle"
         },
         "mode": "lines",
         "name": "North America",
         "showlegend": false,
         "type": "scatter",
         "xaxis": "x",
         "yaxis": "y"
        },
        {
         "customdata": [
          [
           "North Macedonia"
          ]
         ],
         "hovertemplate": "location=%{customdata[0]}<br>aged_70_older=%{x}<br>total_deaths_per_million=%{y}<extra></extra>",
         "legendgroup": "North Macedonia",
         "marker": {
          "color": "#636efa",
          "symbol": "circle"
         },
         "mode": "markers",
         "name": "North Macedonia",
         "orientation": "v",
         "showlegend": true,
         "type": "scatter",
         "x": [
          8.16
         ],
         "xaxis": "x",
         "y": [
          455.51
         ],
         "yaxis": "y"
        },
        {
         "hovertemplate": "location=North Macedonia<extra></extra>",
         "legendgroup": "North Macedonia",
         "marker": {
          "color": "#636efa",
          "symbol": "circle"
         },
         "mode": "lines",
         "name": "North Macedonia",
         "showlegend": false,
         "type": "scatter",
         "xaxis": "x",
         "yaxis": "y"
        },
        {
         "customdata": [
          [
           "Norway"
          ]
         ],
         "hovertemplate": "location=%{customdata[0]}<br>aged_70_older=%{x}<br>total_deaths_per_million=%{y}<extra></extra>",
         "legendgroup": "Norway",
         "marker": {
          "color": "#EF553B",
          "symbol": "circle"
         },
         "mode": "markers",
         "name": "Norway",
         "orientation": "v",
         "showlegend": true,
         "type": "scatter",
         "x": [
          10.813
         ],
         "xaxis": "x",
         "y": [
          51.649
         ],
         "yaxis": "y"
        },
        {
         "hovertemplate": "location=Norway<extra></extra>",
         "legendgroup": "Norway",
         "marker": {
          "color": "#EF553B",
          "symbol": "circle"
         },
         "mode": "lines",
         "name": "Norway",
         "showlegend": false,
         "type": "scatter",
         "xaxis": "x",
         "yaxis": "y"
        },
        {
         "customdata": [
          [
           "Oceania"
          ]
         ],
         "hovertemplate": "location=%{customdata[0]}<br>aged_70_older=%{x}<br>total_deaths_per_million=%{y}<extra></extra>",
         "legendgroup": "Oceania",
         "marker": {
          "color": "#00cc96",
          "symbol": "circle"
         },
         "mode": "markers",
         "name": "Oceania",
         "orientation": "v",
         "showlegend": true,
         "type": "scatter",
         "x": [
          0
         ],
         "xaxis": "x",
         "y": [
          22.049
         ],
         "yaxis": "y"
        },
        {
         "hovertemplate": "location=Oceania<extra></extra>",
         "legendgroup": "Oceania",
         "marker": {
          "color": "#00cc96",
          "symbol": "circle"
         },
         "mode": "lines",
         "name": "Oceania",
         "showlegend": false,
         "type": "scatter",
         "xaxis": "x",
         "yaxis": "y"
        },
        {
         "customdata": [
          [
           "Oman"
          ]
         ],
         "hovertemplate": "location=%{customdata[0]}<br>aged_70_older=%{x}<br>total_deaths_per_million=%{y}<extra></extra>",
         "legendgroup": "Oman",
         "marker": {
          "color": "#ab63fa",
          "symbol": "circle"
         },
         "mode": "markers",
         "name": "Oman",
         "orientation": "v",
         "showlegend": true,
         "type": "scatter",
         "x": [
          1.53
         ],
         "xaxis": "x",
         "y": [
          235.576
         ],
         "yaxis": "y"
        },
        {
         "hovertemplate": "location=Oman<extra></extra>",
         "legendgroup": "Oman",
         "marker": {
          "color": "#ab63fa",
          "symbol": "circle"
         },
         "mode": "lines",
         "name": "Oman",
         "showlegend": false,
         "type": "scatter",
         "xaxis": "x",
         "yaxis": "y"
        },
        {
         "customdata": [
          [
           "Pakistan"
          ]
         ],
         "hovertemplate": "location=%{customdata[0]}<br>aged_70_older=%{x}<br>total_deaths_per_million=%{y}<extra></extra>",
         "legendgroup": "Pakistan",
         "marker": {
          "color": "#FFA15A",
          "symbol": "circle"
         },
         "mode": "markers",
         "name": "Pakistan",
         "orientation": "v",
         "showlegend": true,
         "type": "scatter",
         "x": [
          2.78
         ],
         "xaxis": "x",
         "y": [
          30.599
         ],
         "yaxis": "y"
        },
        {
         "hovertemplate": "location=Pakistan<extra></extra>",
         "legendgroup": "Pakistan",
         "marker": {
          "color": "#FFA15A",
          "symbol": "circle"
         },
         "mode": "lines",
         "name": "Pakistan",
         "showlegend": false,
         "type": "scatter",
         "xaxis": "x",
         "yaxis": "y"
        },
        {
         "customdata": [
          [
           "Palestine"
          ]
         ],
         "hovertemplate": "location=%{customdata[0]}<br>aged_70_older=%{x}<br>total_deaths_per_million=%{y}<extra></extra>",
         "legendgroup": "Palestine",
         "marker": {
          "color": "#19d3f3",
          "symbol": "circle"
         },
         "mode": "markers",
         "name": "Palestine",
         "orientation": "v",
         "showlegend": true,
         "type": "scatter",
         "x": [
          1.726
         ],
         "xaxis": "x",
         "y": [
          89.779
         ],
         "yaxis": "y"
        },
        {
         "hovertemplate": "location=Palestine<extra></extra>",
         "legendgroup": "Palestine",
         "marker": {
          "color": "#19d3f3",
          "symbol": "circle"
         },
         "mode": "lines",
         "name": "Palestine",
         "showlegend": false,
         "type": "scatter",
         "xaxis": "x",
         "yaxis": "y"
        },
        {
         "customdata": [
          [
           "Panama"
          ]
         ],
         "hovertemplate": "location=%{customdata[0]}<br>aged_70_older=%{x}<br>total_deaths_per_million=%{y}<extra></extra>",
         "legendgroup": "Panama",
         "marker": {
          "color": "#FF6692",
          "symbol": "circle"
         },
         "mode": "markers",
         "name": "Panama",
         "orientation": "v",
         "showlegend": true,
         "type": "scatter",
         "x": [
          5.03
         ],
         "xaxis": "x",
         "y": [
          614.17
         ],
         "yaxis": "y"
        },
        {
         "hovertemplate": "location=Panama<extra></extra>",
         "legendgroup": "Panama",
         "marker": {
          "color": "#FF6692",
          "symbol": "circle"
         },
         "mode": "lines",
         "name": "Panama",
         "showlegend": false,
         "type": "scatter",
         "xaxis": "x",
         "yaxis": "y"
        },
        {
         "customdata": [
          [
           "Papua New Guinea"
          ]
         ],
         "hovertemplate": "location=%{customdata[0]}<br>aged_70_older=%{x}<br>total_deaths_per_million=%{y}<extra></extra>",
         "legendgroup": "Papua New Guinea",
         "marker": {
          "color": "#B6E880",
          "symbol": "circle"
         },
         "mode": "markers",
         "name": "Papua New Guinea",
         "orientation": "v",
         "showlegend": true,
         "type": "scatter",
         "x": [
          2.142
         ],
         "xaxis": "x",
         "y": [
          0.782
         ],
         "yaxis": "y"
        },
        {
         "hovertemplate": "location=Papua New Guinea<extra></extra>",
         "legendgroup": "Papua New Guinea",
         "marker": {
          "color": "#B6E880",
          "symbol": "circle"
         },
         "mode": "lines",
         "name": "Papua New Guinea",
         "showlegend": false,
         "type": "scatter",
         "xaxis": "x",
         "yaxis": "y"
        },
        {
         "customdata": [
          [
           "Paraguay"
          ]
         ],
         "hovertemplate": "location=%{customdata[0]}<br>aged_70_older=%{x}<br>total_deaths_per_million=%{y}<extra></extra>",
         "legendgroup": "Paraguay",
         "marker": {
          "color": "#FF97FF",
          "symbol": "circle"
         },
         "mode": "markers",
         "name": "Paraguay",
         "orientation": "v",
         "showlegend": true,
         "type": "scatter",
         "x": [
          3.833
         ],
         "xaxis": "x",
         "y": [
          188.853
         ],
         "yaxis": "y"
        },
        {
         "hovertemplate": "location=Paraguay<extra></extra>",
         "legendgroup": "Paraguay",
         "marker": {
          "color": "#FF97FF",
          "symbol": "circle"
         },
         "mode": "lines",
         "name": "Paraguay",
         "showlegend": false,
         "type": "scatter",
         "xaxis": "x",
         "yaxis": "y"
        },
        {
         "customdata": [
          [
           "Peru"
          ]
         ],
         "hovertemplate": "location=%{customdata[0]}<br>aged_70_older=%{x}<br>total_deaths_per_million=%{y}<extra></extra>",
         "legendgroup": "Peru",
         "marker": {
          "color": "#FECB52",
          "symbol": "circle"
         },
         "mode": "markers",
         "name": "Peru",
         "orientation": "v",
         "showlegend": true,
         "type": "scatter",
         "x": [
          4.455
         ],
         "xaxis": "x",
         "y": [
          1037.158
         ],
         "yaxis": "y"
        },
        {
         "hovertemplate": "location=Peru<extra></extra>",
         "legendgroup": "Peru",
         "marker": {
          "color": "#FECB52",
          "symbol": "circle"
         },
         "mode": "lines",
         "name": "Peru",
         "showlegend": false,
         "type": "scatter",
         "xaxis": "x",
         "yaxis": "y"
        },
        {
         "customdata": [
          [
           "Philippines"
          ]
         ],
         "hovertemplate": "location=%{customdata[0]}<br>aged_70_older=%{x}<br>total_deaths_per_million=%{y}<extra></extra>",
         "legendgroup": "Philippines",
         "marker": {
          "color": "#636efa",
          "symbol": "circle"
         },
         "mode": "markers",
         "name": "Philippines",
         "orientation": "v",
         "showlegend": true,
         "type": "scatter",
         "x": [
          2.661
         ],
         "xaxis": "x",
         "y": [
          64.363
         ],
         "yaxis": "y"
        },
        {
         "hovertemplate": "location=Philippines<extra></extra>",
         "legendgroup": "Philippines",
         "marker": {
          "color": "#636efa",
          "symbol": "circle"
         },
         "mode": "lines",
         "name": "Philippines",
         "showlegend": false,
         "type": "scatter",
         "xaxis": "x",
         "yaxis": "y"
        },
        {
         "customdata": [
          [
           "Poland"
          ]
         ],
         "hovertemplate": "location=%{customdata[0]}<br>aged_70_older=%{x}<br>total_deaths_per_million=%{y}<extra></extra>",
         "legendgroup": "Poland",
         "marker": {
          "color": "#EF553B",
          "symbol": "circle"
         },
         "mode": "markers",
         "name": "Poland",
         "orientation": "v",
         "showlegend": true,
         "type": "scatter",
         "x": [
          10.202
         ],
         "xaxis": "x",
         "y": [
          121.94
         ],
         "yaxis": "y"
        },
        {
         "hovertemplate": "location=Poland<extra></extra>",
         "legendgroup": "Poland",
         "marker": {
          "color": "#EF553B",
          "symbol": "circle"
         },
         "mode": "lines",
         "name": "Poland",
         "showlegend": false,
         "type": "scatter",
         "xaxis": "x",
         "yaxis": "y"
        },
        {
         "customdata": [
          [
           "Portugal"
          ]
         ],
         "hovertemplate": "location=%{customdata[0]}<br>aged_70_older=%{x}<br>total_deaths_per_million=%{y}<extra></extra>",
         "legendgroup": "Portugal",
         "marker": {
          "color": "#00cc96",
          "symbol": "circle"
         },
         "mode": "markers",
         "name": "Portugal",
         "orientation": "v",
         "showlegend": true,
         "type": "scatter",
         "x": [
          14.924
         ],
         "xaxis": "x",
         "y": [
          232.526
         ],
         "yaxis": "y"
        },
        {
         "hovertemplate": "location=Portugal<extra></extra>",
         "legendgroup": "Portugal",
         "marker": {
          "color": "#00cc96",
          "symbol": "circle"
         },
         "mode": "lines",
         "name": "Portugal",
         "showlegend": false,
         "type": "scatter",
         "xaxis": "x",
         "yaxis": "y"
        },
        {
         "customdata": [
          [
           "Qatar"
          ]
         ],
         "hovertemplate": "location=%{customdata[0]}<br>aged_70_older=%{x}<br>total_deaths_per_million=%{y}<extra></extra>",
         "legendgroup": "Qatar",
         "marker": {
          "color": "#ab63fa",
          "symbol": "circle"
         },
         "mode": "markers",
         "name": "Qatar",
         "orientation": "v",
         "showlegend": true,
         "type": "scatter",
         "x": [
          0.617
         ],
         "xaxis": "x",
         "y": [
          79.832
         ],
         "yaxis": "y"
        },
        {
         "hovertemplate": "location=Qatar<extra></extra>",
         "legendgroup": "Qatar",
         "marker": {
          "color": "#ab63fa",
          "symbol": "circle"
         },
         "mode": "lines",
         "name": "Qatar",
         "showlegend": false,
         "type": "scatter",
         "xaxis": "x",
         "yaxis": "y"
        },
        {
         "customdata": [
          [
           "Romania"
          ]
         ],
         "hovertemplate": "location=%{customdata[0]}<br>aged_70_older=%{x}<br>total_deaths_per_million=%{y}<extra></extra>",
         "legendgroup": "Romania",
         "marker": {
          "color": "#FFA15A",
          "symbol": "circle"
         },
         "mode": "markers",
         "name": "Romania",
         "orientation": "v",
         "showlegend": true,
         "type": "scatter",
         "x": [
          11.69
         ],
         "xaxis": "x",
         "y": [
          341.725
         ],
         "yaxis": "y"
        },
        {
         "hovertemplate": "location=Romania<extra></extra>",
         "legendgroup": "Romania",
         "marker": {
          "color": "#FFA15A",
          "symbol": "circle"
         },
         "mode": "lines",
         "name": "Romania",
         "showlegend": false,
         "type": "scatter",
         "xaxis": "x",
         "yaxis": "y"
        },
        {
         "customdata": [
          [
           "Russia"
          ]
         ],
         "hovertemplate": "location=%{customdata[0]}<br>aged_70_older=%{x}<br>total_deaths_per_million=%{y}<extra></extra>",
         "legendgroup": "Russia",
         "marker": {
          "color": "#19d3f3",
          "symbol": "circle"
         },
         "mode": "markers",
         "name": "Russia",
         "orientation": "v",
         "showlegend": true,
         "type": "scatter",
         "x": [
          9.393
         ],
         "xaxis": "x",
         "y": [
          180.965
         ],
         "yaxis": "y"
        },
        {
         "hovertemplate": "location=Russia<extra></extra>",
         "legendgroup": "Russia",
         "marker": {
          "color": "#19d3f3",
          "symbol": "circle"
         },
         "mode": "lines",
         "name": "Russia",
         "showlegend": false,
         "type": "scatter",
         "xaxis": "x",
         "yaxis": "y"
        },
        {
         "customdata": [
          [
           "Rwanda"
          ]
         ],
         "hovertemplate": "location=%{customdata[0]}<br>aged_70_older=%{x}<br>total_deaths_per_million=%{y}<extra></extra>",
         "legendgroup": "Rwanda",
         "marker": {
          "color": "#FF6692",
          "symbol": "circle"
         },
         "mode": "markers",
         "name": "Rwanda",
         "orientation": "v",
         "showlegend": true,
         "type": "scatter",
         "x": [
          1.642
         ],
         "xaxis": "x",
         "y": [
          2.702
         ],
         "yaxis": "y"
        },
        {
         "hovertemplate": "location=Rwanda<extra></extra>",
         "legendgroup": "Rwanda",
         "marker": {
          "color": "#FF6692",
          "symbol": "circle"
         },
         "mode": "lines",
         "name": "Rwanda",
         "showlegend": false,
         "type": "scatter",
         "xaxis": "x",
         "yaxis": "y"
        },
        {
         "customdata": [
          [
           "Saint Kitts and Nevis"
          ]
         ],
         "hovertemplate": "location=%{customdata[0]}<br>aged_70_older=%{x}<br>total_deaths_per_million=%{y}<extra></extra>",
         "legendgroup": "Saint Kitts and Nevis",
         "marker": {
          "color": "#B6E880",
          "symbol": "circle"
         },
         "mode": "markers",
         "name": "Saint Kitts and Nevis",
         "orientation": "v",
         "showlegend": true,
         "type": "scatter",
         "x": [
          0
         ],
         "xaxis": "x",
         "y": [
          0
         ],
         "yaxis": "y"
        },
        {
         "hovertemplate": "location=Saint Kitts and Nevis<extra></extra>",
         "legendgroup": "Saint Kitts and Nevis",
         "marker": {
          "color": "#B6E880",
          "symbol": "circle"
         },
         "mode": "lines",
         "name": "Saint Kitts and Nevis",
         "showlegend": false,
         "type": "scatter",
         "xaxis": "x",
         "yaxis": "y"
        },
        {
         "customdata": [
          [
           "Saint Lucia"
          ]
         ],
         "hovertemplate": "location=%{customdata[0]}<br>aged_70_older=%{x}<br>total_deaths_per_million=%{y}<extra></extra>",
         "legendgroup": "Saint Lucia",
         "marker": {
          "color": "#FF97FF",
          "symbol": "circle"
         },
         "mode": "markers",
         "name": "Saint Lucia",
         "orientation": "v",
         "showlegend": true,
         "type": "scatter",
         "x": [
          6.405
         ],
         "xaxis": "x",
         "y": [
          0
         ],
         "yaxis": "y"
        },
        {
         "hovertemplate": "location=Saint Lucia<extra></extra>",
         "legendgroup": "Saint Lucia",
         "marker": {
          "color": "#FF97FF",
          "symbol": "circle"
         },
         "mode": "lines",
         "name": "Saint Lucia",
         "showlegend": false,
         "type": "scatter",
         "xaxis": "x",
         "yaxis": "y"
        },
        {
         "customdata": [
          [
           "Saint Vincent and the Grenadines"
          ]
         ],
         "hovertemplate": "location=%{customdata[0]}<br>aged_70_older=%{x}<br>total_deaths_per_million=%{y}<extra></extra>",
         "legendgroup": "Saint Vincent and the Grenadines",
         "marker": {
          "color": "#FECB52",
          "symbol": "circle"
         },
         "mode": "markers",
         "name": "Saint Vincent and the Grenadines",
         "orientation": "v",
         "showlegend": true,
         "type": "scatter",
         "x": [
          4.832
         ],
         "xaxis": "x",
         "y": [
          0
         ],
         "yaxis": "y"
        },
        {
         "hovertemplate": "location=Saint Vincent and the Grenadines<extra></extra>",
         "legendgroup": "Saint Vincent and the Grenadines",
         "marker": {
          "color": "#FECB52",
          "symbol": "circle"
         },
         "mode": "lines",
         "name": "Saint Vincent and the Grenadines",
         "showlegend": false,
         "type": "scatter",
         "xaxis": "x",
         "yaxis": "y"
        },
        {
         "customdata": [
          [
           "San Marino"
          ]
         ],
         "hovertemplate": "location=%{customdata[0]}<br>aged_70_older=%{x}<br>total_deaths_per_million=%{y}<extra></extra>",
         "legendgroup": "San Marino",
         "marker": {
          "color": "#636efa",
          "symbol": "circle"
         },
         "mode": "markers",
         "name": "San Marino",
         "orientation": "v",
         "showlegend": true,
         "type": "scatter",
         "x": [
          0
         ],
         "xaxis": "x",
         "y": [
          1237.551
         ],
         "yaxis": "y"
        },
        {
         "hovertemplate": "location=San Marino<extra></extra>",
         "legendgroup": "San Marino",
         "marker": {
          "color": "#636efa",
          "symbol": "circle"
         },
         "mode": "lines",
         "name": "San Marino",
         "showlegend": false,
         "type": "scatter",
         "xaxis": "x",
         "yaxis": "y"
        },
        {
         "customdata": [
          [
           "Sao Tome and Principe"
          ]
         ],
         "hovertemplate": "location=%{customdata[0]}<br>aged_70_older=%{x}<br>total_deaths_per_million=%{y}<extra></extra>",
         "legendgroup": "Sao Tome and Principe",
         "marker": {
          "color": "#EF553B",
          "symbol": "circle"
         },
         "mode": "markers",
         "name": "Sao Tome and Principe",
         "orientation": "v",
         "showlegend": true,
         "type": "scatter",
         "x": [
          2.162
         ],
         "xaxis": "x",
         "y": [
          68.443
         ],
         "yaxis": "y"
        },
        {
         "hovertemplate": "location=Sao Tome and Principe<extra></extra>",
         "legendgroup": "Sao Tome and Principe",
         "marker": {
          "color": "#EF553B",
          "symbol": "circle"
         },
         "mode": "lines",
         "name": "Sao Tome and Principe",
         "showlegend": false,
         "type": "scatter",
         "xaxis": "x",
         "yaxis": "y"
        },
        {
         "customdata": [
          [
           "Saudi Arabia"
          ]
         ],
         "hovertemplate": "location=%{customdata[0]}<br>aged_70_older=%{x}<br>total_deaths_per_million=%{y}<extra></extra>",
         "legendgroup": "Saudi Arabia",
         "marker": {
          "color": "#00cc96",
          "symbol": "circle"
         },
         "mode": "markers",
         "name": "Saudi Arabia",
         "orientation": "v",
         "showlegend": true,
         "type": "scatter",
         "x": [
          1.845
         ],
         "xaxis": "x",
         "y": [
          153.071
         ],
         "yaxis": "y"
        },
        {
         "hovertemplate": "location=Saudi Arabia<extra></extra>",
         "legendgroup": "Saudi Arabia",
         "marker": {
          "color": "#00cc96",
          "symbol": "circle"
         },
         "mode": "lines",
         "name": "Saudi Arabia",
         "showlegend": false,
         "type": "scatter",
         "xaxis": "x",
         "yaxis": "y"
        },
        {
         "customdata": [
          [
           "Senegal"
          ]
         ],
         "hovertemplate": "location=%{customdata[0]}<br>aged_70_older=%{x}<br>total_deaths_per_million=%{y}<extra></extra>",
         "legendgroup": "Senegal",
         "marker": {
          "color": "#ab63fa",
          "symbol": "circle"
         },
         "mode": "markers",
         "name": "Senegal",
         "orientation": "v",
         "showlegend": true,
         "type": "scatter",
         "x": [
          1.796
         ],
         "xaxis": "x",
         "y": [
          19.231
         ],
         "yaxis": "y"
        },
        {
         "hovertemplate": "location=Senegal<extra></extra>",
         "legendgroup": "Senegal",
         "marker": {
          "color": "#ab63fa",
          "symbol": "circle"
         },
         "mode": "lines",
         "name": "Senegal",
         "showlegend": false,
         "type": "scatter",
         "xaxis": "x",
         "yaxis": "y"
        },
        {
         "customdata": [
          [
           "Serbia"
          ]
         ],
         "hovertemplate": "location=%{customdata[0]}<br>aged_70_older=%{x}<br>total_deaths_per_million=%{y}<extra></extra>",
         "legendgroup": "Serbia",
         "marker": {
          "color": "#FFA15A",
          "symbol": "circle"
         },
         "mode": "markers",
         "name": "Serbia",
         "orientation": "v",
         "showlegend": true,
         "type": "scatter",
         "x": [
          0
         ],
         "xaxis": "x",
         "y": [
          117.274
         ],
         "yaxis": "y"
        },
        {
         "hovertemplate": "location=Serbia<extra></extra>",
         "legendgroup": "Serbia",
         "marker": {
          "color": "#FFA15A",
          "symbol": "circle"
         },
         "mode": "lines",
         "name": "Serbia",
         "showlegend": false,
         "type": "scatter",
         "xaxis": "x",
         "yaxis": "y"
        },
        {
         "customdata": [
          [
           "Seychelles"
          ]
         ],
         "hovertemplate": "location=%{customdata[0]}<br>aged_70_older=%{x}<br>total_deaths_per_million=%{y}<extra></extra>",
         "legendgroup": "Seychelles",
         "marker": {
          "color": "#19d3f3",
          "symbol": "circle"
         },
         "mode": "markers",
         "name": "Seychelles",
         "orientation": "v",
         "showlegend": true,
         "type": "scatter",
         "x": [
          5.586
         ],
         "xaxis": "x",
         "y": [
          0
         ],
         "yaxis": "y"
        },
        {
         "hovertemplate": "location=Seychelles<extra></extra>",
         "legendgroup": "Seychelles",
         "marker": {
          "color": "#19d3f3",
          "symbol": "circle"
         },
         "mode": "lines",
         "name": "Seychelles",
         "showlegend": false,
         "type": "scatter",
         "xaxis": "x",
         "yaxis": "y"
        },
        {
         "customdata": [
          [
           "Sierra Leone"
          ]
         ],
         "hovertemplate": "location=%{customdata[0]}<br>aged_70_older=%{x}<br>total_deaths_per_million=%{y}<extra></extra>",
         "legendgroup": "Sierra Leone",
         "marker": {
          "color": "#FF6692",
          "symbol": "circle"
         },
         "mode": "markers",
         "name": "Sierra Leone",
         "orientation": "v",
         "showlegend": true,
         "type": "scatter",
         "x": [
          1.285
         ],
         "xaxis": "x",
         "y": [
          9.277
         ],
         "yaxis": "y"
        },
        {
         "hovertemplate": "location=Sierra Leone<extra></extra>",
         "legendgroup": "Sierra Leone",
         "marker": {
          "color": "#FF6692",
          "symbol": "circle"
         },
         "mode": "lines",
         "name": "Sierra Leone",
         "showlegend": false,
         "type": "scatter",
         "xaxis": "x",
         "yaxis": "y"
        },
        {
         "customdata": [
          [
           "Singapore"
          ]
         ],
         "hovertemplate": "location=%{customdata[0]}<br>aged_70_older=%{x}<br>total_deaths_per_million=%{y}<extra></extra>",
         "legendgroup": "Singapore",
         "marker": {
          "color": "#B6E880",
          "symbol": "circle"
         },
         "mode": "markers",
         "name": "Singapore",
         "orientation": "v",
         "showlegend": true,
         "type": "scatter",
         "x": [
          7.049
         ],
         "xaxis": "x",
         "y": [
          4.786
         ],
         "yaxis": "y"
        },
        {
         "hovertemplate": "location=Singapore<extra></extra>",
         "legendgroup": "Singapore",
         "marker": {
          "color": "#B6E880",
          "symbol": "circle"
         },
         "mode": "lines",
         "name": "Singapore",
         "showlegend": false,
         "type": "scatter",
         "xaxis": "x",
         "yaxis": "y"
        },
        {
         "customdata": [
          [
           "Slovakia"
          ]
         ],
         "hovertemplate": "location=%{customdata[0]}<br>aged_70_older=%{x}<br>total_deaths_per_million=%{y}<extra></extra>",
         "legendgroup": "Slovakia",
         "marker": {
          "color": "#FF97FF",
          "symbol": "circle"
         },
         "mode": "markers",
         "name": "Slovakia",
         "orientation": "v",
         "showlegend": true,
         "type": "scatter",
         "x": [
          9.167
         ],
         "xaxis": "x",
         "y": [
          32.237
         ],
         "yaxis": "y"
        },
        {
         "hovertemplate": "location=Slovakia<extra></extra>",
         "legendgroup": "Slovakia",
         "marker": {
          "color": "#FF97FF",
          "symbol": "circle"
         },
         "mode": "lines",
         "name": "Slovakia",
         "showlegend": false,
         "type": "scatter",
         "xaxis": "x",
         "yaxis": "y"
        },
        {
         "customdata": [
          [
           "Slovenia"
          ]
         ],
         "hovertemplate": "location=%{customdata[0]}<br>aged_70_older=%{x}<br>total_deaths_per_million=%{y}<extra></extra>",
         "legendgroup": "Slovenia",
         "marker": {
          "color": "#FECB52",
          "symbol": "circle"
         },
         "mode": "markers",
         "name": "Slovenia",
         "orientation": "v",
         "showlegend": true,
         "type": "scatter",
         "x": [
          12.93
         ],
         "xaxis": "x",
         "y": [
          126.988
         ],
         "yaxis": "y"
        },
        {
         "hovertemplate": "location=Slovenia<extra></extra>",
         "legendgroup": "Slovenia",
         "marker": {
          "color": "#FECB52",
          "symbol": "circle"
         },
         "mode": "lines",
         "name": "Slovenia",
         "showlegend": false,
         "type": "scatter",
         "xaxis": "x",
         "yaxis": "y"
        },
        {
         "customdata": [
          [
           "Solomon Islands"
          ]
         ],
         "hovertemplate": "location=%{customdata[0]}<br>aged_70_older=%{x}<br>total_deaths_per_million=%{y}<extra></extra>",
         "legendgroup": "Solomon Islands",
         "marker": {
          "color": "#636efa",
          "symbol": "circle"
         },
         "mode": "markers",
         "name": "Solomon Islands",
         "orientation": "v",
         "showlegend": true,
         "type": "scatter",
         "x": [
          2.043
         ],
         "xaxis": "x",
         "y": [
          0
         ],
         "yaxis": "y"
        },
        {
         "hovertemplate": "location=Solomon Islands<extra></extra>",
         "legendgroup": "Solomon Islands",
         "marker": {
          "color": "#636efa",
          "symbol": "circle"
         },
         "mode": "lines",
         "name": "Solomon Islands",
         "showlegend": false,
         "type": "scatter",
         "xaxis": "x",
         "yaxis": "y"
        },
        {
         "customdata": [
          [
           "Somalia"
          ]
         ],
         "hovertemplate": "location=%{customdata[0]}<br>aged_70_older=%{x}<br>total_deaths_per_million=%{y}<extra></extra>",
         "legendgroup": "Somalia",
         "marker": {
          "color": "#EF553B",
          "symbol": "circle"
         },
         "mode": "markers",
         "name": "Somalia",
         "orientation": "v",
         "showlegend": true,
         "type": "scatter",
         "x": [
          1.496
         ],
         "xaxis": "x",
         "y": [
          6.544
         ],
         "yaxis": "y"
        },
        {
         "hovertemplate": "location=Somalia<extra></extra>",
         "legendgroup": "Somalia",
         "marker": {
          "color": "#EF553B",
          "symbol": "circle"
         },
         "mode": "lines",
         "name": "Somalia",
         "showlegend": false,
         "type": "scatter",
         "xaxis": "x",
         "yaxis": "y"
        },
        {
         "customdata": [
          [
           "South Africa"
          ]
         ],
         "hovertemplate": "location=%{customdata[0]}<br>aged_70_older=%{x}<br>total_deaths_per_million=%{y}<extra></extra>",
         "legendgroup": "South Africa",
         "marker": {
          "color": "#00cc96",
          "symbol": "circle"
         },
         "mode": "markers",
         "name": "South Africa",
         "orientation": "v",
         "showlegend": true,
         "type": "scatter",
         "x": [
          3.053
         ],
         "xaxis": "x",
         "y": [
          321.251
         ],
         "yaxis": "y"
        },
        {
         "hovertemplate": "location=South Africa<extra></extra>",
         "legendgroup": "South Africa",
         "marker": {
          "color": "#00cc96",
          "symbol": "circle"
         },
         "mode": "lines",
         "name": "South Africa",
         "showlegend": false,
         "type": "scatter",
         "xaxis": "x",
         "yaxis": "y"
        },
        {
         "customdata": [
          [
           "South America"
          ]
         ],
         "hovertemplate": "location=%{customdata[0]}<br>aged_70_older=%{x}<br>total_deaths_per_million=%{y}<extra></extra>",
         "legendgroup": "South America",
         "marker": {
          "color": "#ab63fa",
          "symbol": "circle"
         },
         "mode": "markers",
         "name": "South America",
         "orientation": "v",
         "showlegend": true,
         "type": "scatter",
         "x": [
          0
         ],
         "xaxis": "x",
         "y": [
          673.542
         ],
         "yaxis": "y"
        },
        {
         "hovertemplate": "location=South America<extra></extra>",
         "legendgroup": "South America",
         "marker": {
          "color": "#ab63fa",
          "symbol": "circle"
         },
         "mode": "lines",
         "name": "South America",
         "showlegend": false,
         "type": "scatter",
         "xaxis": "x",
         "yaxis": "y"
        },
        {
         "customdata": [
          [
           "South Korea"
          ]
         ],
         "hovertemplate": "location=%{customdata[0]}<br>aged_70_older=%{x}<br>total_deaths_per_million=%{y}<extra></extra>",
         "legendgroup": "South Korea",
         "marker": {
          "color": "#FFA15A",
          "symbol": "circle"
         },
         "mode": "markers",
         "name": "South Korea",
         "orientation": "v",
         "showlegend": true,
         "type": "scatter",
         "x": [
          8.622
         ],
         "xaxis": "x",
         "y": [
          8.992
         ],
         "yaxis": "y"
        },
        {
         "hovertemplate": "location=South Korea<extra></extra>",
         "legendgroup": "South Korea",
         "marker": {
          "color": "#FFA15A",
          "symbol": "circle"
         },
         "mode": "lines",
         "name": "South Korea",
         "showlegend": false,
         "type": "scatter",
         "xaxis": "x",
         "yaxis": "y"
        },
        {
         "customdata": [
          [
           "South Sudan"
          ]
         ],
         "hovertemplate": "location=%{customdata[0]}<br>aged_70_older=%{x}<br>total_deaths_per_million=%{y}<extra></extra>",
         "legendgroup": "South Sudan",
         "marker": {
          "color": "#19d3f3",
          "symbol": "circle"
         },
         "mode": "markers",
         "name": "South Sudan",
         "orientation": "v",
         "showlegend": true,
         "type": "scatter",
         "x": [
          2.032
         ],
         "xaxis": "x",
         "y": [
          5.003
         ],
         "yaxis": "y"
        },
        {
         "hovertemplate": "location=South Sudan<extra></extra>",
         "legendgroup": "South Sudan",
         "marker": {
          "color": "#19d3f3",
          "symbol": "circle"
         },
         "mode": "lines",
         "name": "South Sudan",
         "showlegend": false,
         "type": "scatter",
         "xaxis": "x",
         "yaxis": "y"
        },
        {
         "customdata": [
          [
           "Spain"
          ]
         ],
         "hovertemplate": "location=%{customdata[0]}<br>aged_70_older=%{x}<br>total_deaths_per_million=%{y}<extra></extra>",
         "legendgroup": "Spain",
         "marker": {
          "color": "#FF6692",
          "symbol": "circle"
         },
         "mode": "markers",
         "name": "Spain",
         "orientation": "v",
         "showlegend": true,
         "type": "scatter",
         "x": [
          13.799
         ],
         "xaxis": "x",
         "y": [
          754.96
         ],
         "yaxis": "y"
        },
        {
         "hovertemplate": "location=Spain<extra></extra>",
         "legendgroup": "Spain",
         "marker": {
          "color": "#FF6692",
          "symbol": "circle"
         },
         "mode": "lines",
         "name": "Spain",
         "showlegend": false,
         "type": "scatter",
         "xaxis": "x",
         "yaxis": "y"
        },
        {
         "customdata": [
          [
           "Sri Lanka"
          ]
         ],
         "hovertemplate": "location=%{customdata[0]}<br>aged_70_older=%{x}<br>total_deaths_per_million=%{y}<extra></extra>",
         "legendgroup": "Sri Lanka",
         "marker": {
          "color": "#B6E880",
          "symbol": "circle"
         },
         "mode": "markers",
         "name": "Sri Lanka",
         "orientation": "v",
         "showlegend": true,
         "type": "scatter",
         "x": [
          5.331
         ],
         "xaxis": "x",
         "y": [
          0.887
         ],
         "yaxis": "y"
        },
        {
         "hovertemplate": "location=Sri Lanka<extra></extra>",
         "legendgroup": "Sri Lanka",
         "marker": {
          "color": "#B6E880",
          "symbol": "circle"
         },
         "mode": "lines",
         "name": "Sri Lanka",
         "showlegend": false,
         "type": "scatter",
         "xaxis": "x",
         "yaxis": "y"
        },
        {
         "customdata": [
          [
           "Sudan"
          ]
         ],
         "hovertemplate": "location=%{customdata[0]}<br>aged_70_older=%{x}<br>total_deaths_per_million=%{y}<extra></extra>",
         "legendgroup": "Sudan",
         "marker": {
          "color": "#FF97FF",
          "symbol": "circle"
         },
         "mode": "markers",
         "name": "Sudan",
         "orientation": "v",
         "showlegend": true,
         "type": "scatter",
         "x": [
          2.034
         ],
         "xaxis": "x",
         "y": [
          19.088
         ],
         "yaxis": "y"
        },
        {
         "hovertemplate": "location=Sudan<extra></extra>",
         "legendgroup": "Sudan",
         "marker": {
          "color": "#FF97FF",
          "symbol": "circle"
         },
         "mode": "lines",
         "name": "Sudan",
         "showlegend": false,
         "type": "scatter",
         "xaxis": "x",
         "yaxis": "y"
        },
        {
         "customdata": [
          [
           "Suriname"
          ]
         ],
         "hovertemplate": "location=%{customdata[0]}<br>aged_70_older=%{x}<br>total_deaths_per_million=%{y}<extra></extra>",
         "legendgroup": "Suriname",
         "marker": {
          "color": "#FECB52",
          "symbol": "circle"
         },
         "mode": "markers",
         "name": "Suriname",
         "orientation": "v",
         "showlegend": true,
         "type": "scatter",
         "x": [
          4.229
         ],
         "xaxis": "x",
         "y": [
          189.215
         ],
         "yaxis": "y"
        },
        {
         "hovertemplate": "location=Suriname<extra></extra>",
         "legendgroup": "Suriname",
         "marker": {
          "color": "#FECB52",
          "symbol": "circle"
         },
         "mode": "lines",
         "name": "Suriname",
         "showlegend": false,
         "type": "scatter",
         "xaxis": "x",
         "yaxis": "y"
        },
        {
         "customdata": [
          [
           "Sweden"
          ]
         ],
         "hovertemplate": "location=%{customdata[0]}<br>aged_70_older=%{x}<br>total_deaths_per_million=%{y}<extra></extra>",
         "legendgroup": "Sweden",
         "marker": {
          "color": "#636efa",
          "symbol": "circle"
         },
         "mode": "markers",
         "name": "Sweden",
         "orientation": "v",
         "showlegend": true,
         "type": "scatter",
         "x": [
          13.433
         ],
         "xaxis": "x",
         "y": [
          587.468
         ],
         "yaxis": "y"
        },
        {
         "hovertemplate": "location=Sweden<extra></extra>",
         "legendgroup": "Sweden",
         "marker": {
          "color": "#636efa",
          "symbol": "circle"
         },
         "mode": "lines",
         "name": "Sweden",
         "showlegend": false,
         "type": "scatter",
         "xaxis": "x",
         "yaxis": "y"
        },
        {
         "customdata": [
          [
           "Switzerland"
          ]
         ],
         "hovertemplate": "location=%{customdata[0]}<br>aged_70_older=%{x}<br>total_deaths_per_million=%{y}<extra></extra>",
         "legendgroup": "Switzerland",
         "marker": {
          "color": "#EF553B",
          "symbol": "circle"
         },
         "mode": "markers",
         "name": "Switzerland",
         "orientation": "v",
         "showlegend": true,
         "type": "scatter",
         "x": [
          12.644
         ],
         "xaxis": "x",
         "y": [
          248.076
         ],
         "yaxis": "y"
        },
        {
         "hovertemplate": "location=Switzerland<extra></extra>",
         "legendgroup": "Switzerland",
         "marker": {
          "color": "#EF553B",
          "symbol": "circle"
         },
         "mode": "lines",
         "name": "Switzerland",
         "showlegend": false,
         "type": "scatter",
         "xaxis": "x",
         "yaxis": "y"
        },
        {
         "customdata": [
          [
           "Syria"
          ]
         ],
         "hovertemplate": "location=%{customdata[0]}<br>aged_70_older=%{x}<br>total_deaths_per_million=%{y}<extra></extra>",
         "legendgroup": "Syria",
         "marker": {
          "color": "#00cc96",
          "symbol": "circle"
         },
         "mode": "markers",
         "name": "Syria",
         "orientation": "v",
         "showlegend": true,
         "type": "scatter",
         "x": [
          2.577
         ],
         "xaxis": "x",
         "y": [
          15.714
         ],
         "yaxis": "y"
        },
        {
         "hovertemplate": "location=Syria<extra></extra>",
         "legendgroup": "Syria",
         "marker": {
          "color": "#00cc96",
          "symbol": "circle"
         },
         "mode": "lines",
         "name": "Syria",
         "showlegend": false,
         "type": "scatter",
         "xaxis": "x",
         "yaxis": "y"
        },
        {
         "customdata": [
          [
           "Taiwan"
          ]
         ],
         "hovertemplate": "location=%{customdata[0]}<br>aged_70_older=%{x}<br>total_deaths_per_million=%{y}<extra></extra>",
         "legendgroup": "Taiwan",
         "marker": {
          "color": "#ab63fa",
          "symbol": "circle"
         },
         "mode": "markers",
         "name": "Taiwan",
         "orientation": "v",
         "showlegend": true,
         "type": "scatter",
         "x": [
          8.353
         ],
         "xaxis": "x",
         "y": [
          0.294
         ],
         "yaxis": "y"
        },
        {
         "hovertemplate": "location=Taiwan<extra></extra>",
         "legendgroup": "Taiwan",
         "marker": {
          "color": "#ab63fa",
          "symbol": "circle"
         },
         "mode": "lines",
         "name": "Taiwan",
         "showlegend": false,
         "type": "scatter",
         "xaxis": "x",
         "yaxis": "y"
        },
        {
         "customdata": [
          [
           "Tajikistan"
          ]
         ],
         "hovertemplate": "location=%{customdata[0]}<br>aged_70_older=%{x}<br>total_deaths_per_million=%{y}<extra></extra>",
         "legendgroup": "Tajikistan",
         "marker": {
          "color": "#FFA15A",
          "symbol": "circle"
         },
         "mode": "markers",
         "name": "Tajikistan",
         "orientation": "v",
         "showlegend": true,
         "type": "scatter",
         "x": [
          2.155
         ],
         "xaxis": "x",
         "y": [
          8.493
         ],
         "yaxis": "y"
        },
        {
         "hovertemplate": "location=Tajikistan<extra></extra>",
         "legendgroup": "Tajikistan",
         "marker": {
          "color": "#FFA15A",
          "symbol": "circle"
         },
         "mode": "lines",
         "name": "Tajikistan",
         "showlegend": false,
         "type": "scatter",
         "xaxis": "x",
         "yaxis": "y"
        },
        {
         "customdata": [
          [
           "Tanzania"
          ]
         ],
         "hovertemplate": "location=%{customdata[0]}<br>aged_70_older=%{x}<br>total_deaths_per_million=%{y}<extra></extra>",
         "legendgroup": "Tanzania",
         "marker": {
          "color": "#19d3f3",
          "symbol": "circle"
         },
         "mode": "markers",
         "name": "Tanzania",
         "orientation": "v",
         "showlegend": true,
         "type": "scatter",
         "x": [
          1.874
         ],
         "xaxis": "x",
         "y": [
          0.352
         ],
         "yaxis": "y"
        },
        {
         "hovertemplate": "location=Tanzania<extra></extra>",
         "legendgroup": "Tanzania",
         "marker": {
          "color": "#19d3f3",
          "symbol": "circle"
         },
         "mode": "lines",
         "name": "Tanzania",
         "showlegend": false,
         "type": "scatter",
         "xaxis": "x",
         "yaxis": "y"
        },
        {
         "customdata": [
          [
           "Thailand"
          ]
         ],
         "hovertemplate": "location=%{customdata[0]}<br>aged_70_older=%{x}<br>total_deaths_per_million=%{y}<extra></extra>",
         "legendgroup": "Thailand",
         "marker": {
          "color": "#FF6692",
          "symbol": "circle"
         },
         "mode": "markers",
         "name": "Thailand",
         "orientation": "v",
         "showlegend": true,
         "type": "scatter",
         "x": [
          6.89
         ],
         "xaxis": "x",
         "y": [
          0.845
         ],
         "yaxis": "y"
        },
        {
         "hovertemplate": "location=Thailand<extra></extra>",
         "legendgroup": "Thailand",
         "marker": {
          "color": "#FF6692",
          "symbol": "circle"
         },
         "mode": "lines",
         "name": "Thailand",
         "showlegend": false,
         "type": "scatter",
         "xaxis": "x",
         "yaxis": "y"
        },
        {
         "customdata": [
          [
           "Timor"
          ]
         ],
         "hovertemplate": "location=%{customdata[0]}<br>aged_70_older=%{x}<br>total_deaths_per_million=%{y}<extra></extra>",
         "legendgroup": "Timor",
         "marker": {
          "color": "#B6E880",
          "symbol": "circle"
         },
         "mode": "markers",
         "name": "Timor",
         "orientation": "v",
         "showlegend": true,
         "type": "scatter",
         "x": [
          1.897
         ],
         "xaxis": "x",
         "y": [
          0
         ],
         "yaxis": "y"
        },
        {
         "hovertemplate": "location=Timor<extra></extra>",
         "legendgroup": "Timor",
         "marker": {
          "color": "#B6E880",
          "symbol": "circle"
         },
         "mode": "lines",
         "name": "Timor",
         "showlegend": false,
         "type": "scatter",
         "xaxis": "x",
         "yaxis": "y"
        },
        {
         "customdata": [
          [
           "Togo"
          ]
         ],
         "hovertemplate": "location=%{customdata[0]}<br>aged_70_older=%{x}<br>total_deaths_per_million=%{y}<extra></extra>",
         "legendgroup": "Togo",
         "marker": {
          "color": "#FF97FF",
          "symbol": "circle"
         },
         "mode": "markers",
         "name": "Togo",
         "orientation": "v",
         "showlegend": true,
         "type": "scatter",
         "x": [
          1.525
         ],
         "xaxis": "x",
         "y": [
          6.523
         ],
         "yaxis": "y"
        },
        {
         "hovertemplate": "location=Togo<extra></extra>",
         "legendgroup": "Togo",
         "marker": {
          "color": "#FF97FF",
          "symbol": "circle"
         },
         "mode": "lines",
         "name": "Togo",
         "showlegend": false,
         "type": "scatter",
         "xaxis": "x",
         "yaxis": "y"
        },
        {
         "customdata": [
          [
           "Trinidad and Tobago"
          ]
         ],
         "hovertemplate": "location=%{customdata[0]}<br>aged_70_older=%{x}<br>total_deaths_per_million=%{y}<extra></extra>",
         "legendgroup": "Trinidad and Tobago",
         "marker": {
          "color": "#FECB52",
          "symbol": "circle"
         },
         "mode": "markers",
         "name": "Trinidad and Tobago",
         "orientation": "v",
         "showlegend": true,
         "type": "scatter",
         "x": [
          5.819
         ],
         "xaxis": "x",
         "y": [
          75.742
         ],
         "yaxis": "y"
        },
        {
         "hovertemplate": "location=Trinidad and Tobago<extra></extra>",
         "legendgroup": "Trinidad and Tobago",
         "marker": {
          "color": "#FECB52",
          "symbol": "circle"
         },
         "mode": "lines",
         "name": "Trinidad and Tobago",
         "showlegend": false,
         "type": "scatter",
         "xaxis": "x",
         "yaxis": "y"
        },
        {
         "customdata": [
          [
           "Tunisia"
          ]
         ],
         "hovertemplate": "location=%{customdata[0]}<br>aged_70_older=%{x}<br>total_deaths_per_million=%{y}<extra></extra>",
         "legendgroup": "Tunisia",
         "marker": {
          "color": "#636efa",
          "symbol": "circle"
         },
         "mode": "markers",
         "name": "Tunisia",
         "orientation": "v",
         "showlegend": true,
         "type": "scatter",
         "x": [
          5.075
         ],
         "xaxis": "x",
         "y": [
          83.174
         ],
         "yaxis": "y"
        },
        {
         "hovertemplate": "location=Tunisia<extra></extra>",
         "legendgroup": "Tunisia",
         "marker": {
          "color": "#636efa",
          "symbol": "circle"
         },
         "mode": "lines",
         "name": "Tunisia",
         "showlegend": false,
         "type": "scatter",
         "xaxis": "x",
         "yaxis": "y"
        },
        {
         "customdata": [
          [
           "Turkey"
          ]
         ],
         "hovertemplate": "location=%{customdata[0]}<br>aged_70_older=%{x}<br>total_deaths_per_million=%{y}<extra></extra>",
         "legendgroup": "Turkey",
         "marker": {
          "color": "#EF553B",
          "symbol": "circle"
         },
         "mode": "markers",
         "name": "Turkey",
         "orientation": "v",
         "showlegend": true,
         "type": "scatter",
         "x": [
          5.061
         ],
         "xaxis": "x",
         "y": [
          117.976
         ],
         "yaxis": "y"
        },
        {
         "hovertemplate": "location=Turkey<extra></extra>",
         "legendgroup": "Turkey",
         "marker": {
          "color": "#EF553B",
          "symbol": "circle"
         },
         "mode": "lines",
         "name": "Turkey",
         "showlegend": false,
         "type": "scatter",
         "xaxis": "x",
         "yaxis": "y"
        },
        {
         "customdata": [
          [
           "Uganda"
          ]
         ],
         "hovertemplate": "location=%{customdata[0]}<br>aged_70_older=%{x}<br>total_deaths_per_million=%{y}<extra></extra>",
         "legendgroup": "Uganda",
         "marker": {
          "color": "#00cc96",
          "symbol": "circle"
         },
         "mode": "markers",
         "name": "Uganda",
         "orientation": "v",
         "showlegend": true,
         "type": "scatter",
         "x": [
          1.308
         ],
         "xaxis": "x",
         "y": [
          2.252
         ],
         "yaxis": "y"
        },
        {
         "hovertemplate": "location=Uganda<extra></extra>",
         "legendgroup": "Uganda",
         "marker": {
          "color": "#00cc96",
          "symbol": "circle"
         },
         "mode": "lines",
         "name": "Uganda",
         "showlegend": false,
         "type": "scatter",
         "xaxis": "x",
         "yaxis": "y"
        },
        {
         "customdata": [
          [
           "Ukraine"
          ]
         ],
         "hovertemplate": "location=%{customdata[0]}<br>aged_70_older=%{x}<br>total_deaths_per_million=%{y}<extra></extra>",
         "legendgroup": "Ukraine",
         "marker": {
          "color": "#ab63fa",
          "symbol": "circle"
         },
         "mode": "markers",
         "name": "Ukraine",
         "orientation": "v",
         "showlegend": true,
         "type": "scatter",
         "x": [
          11.133
         ],
         "xaxis": "x",
         "y": [
          154.8
         ],
         "yaxis": "y"
        },
        {
         "hovertemplate": "location=Ukraine<extra></extra>",
         "legendgroup": "Ukraine",
         "marker": {
          "color": "#ab63fa",
          "symbol": "circle"
         },
         "mode": "lines",
         "name": "Ukraine",
         "showlegend": false,
         "type": "scatter",
         "xaxis": "x",
         "yaxis": "y"
        },
        {
         "customdata": [
          [
           "United Arab Emirates"
          ]
         ],
         "hovertemplate": "location=%{customdata[0]}<br>aged_70_older=%{x}<br>total_deaths_per_million=%{y}<extra></extra>",
         "legendgroup": "United Arab Emirates",
         "marker": {
          "color": "#FFA15A",
          "symbol": "circle"
         },
         "mode": "markers",
         "name": "United Arab Emirates",
         "orientation": "v",
         "showlegend": true,
         "type": "scatter",
         "x": [
          0.526
         ],
         "xaxis": "x",
         "y": [
          48.734
         ],
         "yaxis": "y"
        },
        {
         "hovertemplate": "location=United Arab Emirates<extra></extra>",
         "legendgroup": "United Arab Emirates",
         "marker": {
          "color": "#FFA15A",
          "symbol": "circle"
         },
         "mode": "lines",
         "name": "United Arab Emirates",
         "showlegend": false,
         "type": "scatter",
         "xaxis": "x",
         "yaxis": "y"
        },
        {
         "customdata": [
          [
           "United Kingdom"
          ]
         ],
         "hovertemplate": "location=%{customdata[0]}<br>aged_70_older=%{x}<br>total_deaths_per_million=%{y}<extra></extra>",
         "legendgroup": "United Kingdom",
         "marker": {
          "color": "#19d3f3",
          "symbol": "circle"
         },
         "mode": "markers",
         "name": "United Kingdom",
         "orientation": "v",
         "showlegend": true,
         "type": "scatter",
         "x": [
          12.527
         ],
         "xaxis": "x",
         "y": [
          669.578
         ],
         "yaxis": "y"
        },
        {
         "hovertemplate": "location=United Kingdom<extra></extra>",
         "legendgroup": "United Kingdom",
         "marker": {
          "color": "#19d3f3",
          "symbol": "circle"
         },
         "mode": "lines",
         "name": "United Kingdom",
         "showlegend": false,
         "type": "scatter",
         "xaxis": "x",
         "yaxis": "y"
        },
        {
         "customdata": [
          [
           "United States"
          ]
         ],
         "hovertemplate": "location=%{customdata[0]}<br>aged_70_older=%{x}<br>total_deaths_per_million=%{y}<extra></extra>",
         "legendgroup": "United States",
         "marker": {
          "color": "#FF6692",
          "symbol": "circle"
         },
         "mode": "markers",
         "name": "United States",
         "orientation": "v",
         "showlegend": true,
         "type": "scatter",
         "x": [
          9.732
         ],
         "xaxis": "x",
         "y": [
          687.979
         ],
         "yaxis": "y"
        },
        {
         "hovertemplate": "location=United States<extra></extra>",
         "legendgroup": "United States",
         "marker": {
          "color": "#FF6692",
          "symbol": "circle"
         },
         "mode": "lines",
         "name": "United States",
         "showlegend": false,
         "type": "scatter",
         "xaxis": "x",
         "yaxis": "y"
        },
        {
         "customdata": [
          [
           "Uruguay"
          ]
         ],
         "hovertemplate": "location=%{customdata[0]}<br>aged_70_older=%{x}<br>total_deaths_per_million=%{y}<extra></extra>",
         "legendgroup": "Uruguay",
         "marker": {
          "color": "#B6E880",
          "symbol": "circle"
         },
         "mode": "markers",
         "name": "Uruguay",
         "orientation": "v",
         "showlegend": true,
         "type": "scatter",
         "x": [
          10.361
         ],
         "xaxis": "x",
         "y": [
          15.545
         ],
         "yaxis": "y"
        },
        {
         "hovertemplate": "location=Uruguay<extra></extra>",
         "legendgroup": "Uruguay",
         "marker": {
          "color": "#B6E880",
          "symbol": "circle"
         },
         "mode": "lines",
         "name": "Uruguay",
         "showlegend": false,
         "type": "scatter",
         "xaxis": "x",
         "yaxis": "y"
        },
        {
         "customdata": [
          [
           "Uzbekistan"
          ]
         ],
         "hovertemplate": "location=%{customdata[0]}<br>aged_70_older=%{x}<br>total_deaths_per_million=%{y}<extra></extra>",
         "legendgroup": "Uzbekistan",
         "marker": {
          "color": "#FF97FF",
          "symbol": "circle"
         },
         "mode": "markers",
         "name": "Uzbekistan",
         "orientation": "v",
         "showlegend": true,
         "type": "scatter",
         "x": [
          2.873
         ],
         "xaxis": "x",
         "y": [
          16.612
         ],
         "yaxis": "y"
        },
        {
         "hovertemplate": "location=Uzbekistan<extra></extra>",
         "legendgroup": "Uzbekistan",
         "marker": {
          "color": "#FF97FF",
          "symbol": "circle"
         },
         "mode": "lines",
         "name": "Uzbekistan",
         "showlegend": false,
         "type": "scatter",
         "xaxis": "x",
         "yaxis": "y"
        },
        {
         "customdata": [
          [
           "Vatican"
          ]
         ],
         "hovertemplate": "location=%{customdata[0]}<br>aged_70_older=%{x}<br>total_deaths_per_million=%{y}<extra></extra>",
         "legendgroup": "Vatican",
         "marker": {
          "color": "#FECB52",
          "symbol": "circle"
         },
         "mode": "markers",
         "name": "Vatican",
         "orientation": "v",
         "showlegend": true,
         "type": "scatter",
         "x": [
          0
         ],
         "xaxis": "x",
         "y": [
          0
         ],
         "yaxis": "y"
        },
        {
         "hovertemplate": "location=Vatican<extra></extra>",
         "legendgroup": "Vatican",
         "marker": {
          "color": "#FECB52",
          "symbol": "circle"
         },
         "mode": "lines",
         "name": "Vatican",
         "showlegend": false,
         "type": "scatter",
         "xaxis": "x",
         "yaxis": "y"
        },
        {
         "customdata": [
          [
           "Venezuela"
          ]
         ],
         "hovertemplate": "location=%{customdata[0]}<br>aged_70_older=%{x}<br>total_deaths_per_million=%{y}<extra></extra>",
         "legendgroup": "Venezuela",
         "marker": {
          "color": "#636efa",
          "symbol": "circle"
         },
         "mode": "markers",
         "name": "Venezuela",
         "orientation": "v",
         "showlegend": true,
         "type": "scatter",
         "x": [
          3.915
         ],
         "xaxis": "x",
         "y": [
          27.43
         ],
         "yaxis": "y"
        },
        {
         "hovertemplate": "location=Venezuela<extra></extra>",
         "legendgroup": "Venezuela",
         "marker": {
          "color": "#636efa",
          "symbol": "circle"
         },
         "mode": "lines",
         "name": "Venezuela",
         "showlegend": false,
         "type": "scatter",
         "xaxis": "x",
         "yaxis": "y"
        },
        {
         "customdata": [
          [
           "Vietnam"
          ]
         ],
         "hovertemplate": "location=%{customdata[0]}<br>aged_70_older=%{x}<br>total_deaths_per_million=%{y}<extra></extra>",
         "legendgroup": "Vietnam",
         "marker": {
          "color": "#EF553B",
          "symbol": "circle"
         },
         "mode": "markers",
         "name": "Vietnam",
         "orientation": "v",
         "showlegend": true,
         "type": "scatter",
         "x": [
          4.718
         ],
         "xaxis": "x",
         "y": [
          0.36
         ],
         "yaxis": "y"
        },
        {
         "hovertemplate": "location=Vietnam<extra></extra>",
         "legendgroup": "Vietnam",
         "marker": {
          "color": "#EF553B",
          "symbol": "circle"
         },
         "mode": "lines",
         "name": "Vietnam",
         "showlegend": false,
         "type": "scatter",
         "xaxis": "x",
         "yaxis": "y"
        },
        {
         "customdata": [
          [
           "World"
          ]
         ],
         "hovertemplate": "location=%{customdata[0]}<br>aged_70_older=%{x}<br>total_deaths_per_million=%{y}<extra></extra>",
         "legendgroup": "World",
         "marker": {
          "color": "#00cc96",
          "symbol": "circle"
         },
         "mode": "markers",
         "name": "World",
         "orientation": "v",
         "showlegend": true,
         "type": "scatter",
         "x": [
          5.355
         ],
         "xaxis": "x",
         "y": [
          149.889
         ],
         "yaxis": "y"
        },
        {
         "hovertemplate": "location=World<extra></extra>",
         "legendgroup": "World",
         "marker": {
          "color": "#00cc96",
          "symbol": "circle"
         },
         "mode": "lines",
         "name": "World",
         "showlegend": false,
         "type": "scatter",
         "xaxis": "x",
         "yaxis": "y"
        },
        {
         "customdata": [
          [
           "Yemen"
          ]
         ],
         "hovertemplate": "location=%{customdata[0]}<br>aged_70_older=%{x}<br>total_deaths_per_million=%{y}<extra></extra>",
         "legendgroup": "Yemen",
         "marker": {
          "color": "#ab63fa",
          "symbol": "circle"
         },
         "mode": "markers",
         "name": "Yemen",
         "orientation": "v",
         "showlegend": true,
         "type": "scatter",
         "x": [
          1.583
         ],
         "xaxis": "x",
         "y": [
          20.083
         ],
         "yaxis": "y"
        },
        {
         "hovertemplate": "location=Yemen<extra></extra>",
         "legendgroup": "Yemen",
         "marker": {
          "color": "#ab63fa",
          "symbol": "circle"
         },
         "mode": "lines",
         "name": "Yemen",
         "showlegend": false,
         "type": "scatter",
         "xaxis": "x",
         "yaxis": "y"
        },
        {
         "customdata": [
          [
           "Zambia"
          ]
         ],
         "hovertemplate": "location=%{customdata[0]}<br>aged_70_older=%{x}<br>total_deaths_per_million=%{y}<extra></extra>",
         "legendgroup": "Zambia",
         "marker": {
          "color": "#FFA15A",
          "symbol": "circle"
         },
         "mode": "markers",
         "name": "Zambia",
         "orientation": "v",
         "showlegend": true,
         "type": "scatter",
         "x": [
          1.542
         ],
         "xaxis": "x",
         "y": [
          18.93
         ],
         "yaxis": "y"
        },
        {
         "hovertemplate": "location=Zambia<extra></extra>",
         "legendgroup": "Zambia",
         "marker": {
          "color": "#FFA15A",
          "symbol": "circle"
         },
         "mode": "lines",
         "name": "Zambia",
         "showlegend": false,
         "type": "scatter",
         "xaxis": "x",
         "yaxis": "y"
        },
        {
         "customdata": [
          [
           "Zimbabwe"
          ]
         ],
         "hovertemplate": "location=%{customdata[0]}<br>aged_70_older=%{x}<br>total_deaths_per_million=%{y}<extra></extra>",
         "legendgroup": "Zimbabwe",
         "marker": {
          "color": "#19d3f3",
          "symbol": "circle"
         },
         "mode": "markers",
         "name": "Zimbabwe",
         "orientation": "v",
         "showlegend": true,
         "type": "scatter",
         "x": [
          1.882
         ],
         "xaxis": "x",
         "y": [
          16.282
         ],
         "yaxis": "y"
        },
        {
         "hovertemplate": "location=Zimbabwe<extra></extra>",
         "legendgroup": "Zimbabwe",
         "marker": {
          "color": "#19d3f3",
          "symbol": "circle"
         },
         "mode": "lines",
         "name": "Zimbabwe",
         "showlegend": false,
         "type": "scatter",
         "xaxis": "x",
         "yaxis": "y"
        }
       ],
       "layout": {
        "legend": {
         "title": {
          "text": "location"
         },
         "tracegroupgap": 0
        },
        "margin": {
         "t": 60
        },
        "template": {
         "data": {
          "bar": [
           {
            "error_x": {
             "color": "#2a3f5f"
            },
            "error_y": {
             "color": "#2a3f5f"
            },
            "marker": {
             "line": {
              "color": "#E5ECF6",
              "width": 0.5
             }
            },
            "type": "bar"
           }
          ],
          "barpolar": [
           {
            "marker": {
             "line": {
              "color": "#E5ECF6",
              "width": 0.5
             }
            },
            "type": "barpolar"
           }
          ],
          "carpet": [
           {
            "aaxis": {
             "endlinecolor": "#2a3f5f",
             "gridcolor": "white",
             "linecolor": "white",
             "minorgridcolor": "white",
             "startlinecolor": "#2a3f5f"
            },
            "baxis": {
             "endlinecolor": "#2a3f5f",
             "gridcolor": "white",
             "linecolor": "white",
             "minorgridcolor": "white",
             "startlinecolor": "#2a3f5f"
            },
            "type": "carpet"
           }
          ],
          "choropleth": [
           {
            "colorbar": {
             "outlinewidth": 0,
             "ticks": ""
            },
            "type": "choropleth"
           }
          ],
          "contour": [
           {
            "colorbar": {
             "outlinewidth": 0,
             "ticks": ""
            },
            "colorscale": [
             [
              0,
              "#0d0887"
             ],
             [
              0.1111111111111111,
              "#46039f"
             ],
             [
              0.2222222222222222,
              "#7201a8"
             ],
             [
              0.3333333333333333,
              "#9c179e"
             ],
             [
              0.4444444444444444,
              "#bd3786"
             ],
             [
              0.5555555555555556,
              "#d8576b"
             ],
             [
              0.6666666666666666,
              "#ed7953"
             ],
             [
              0.7777777777777778,
              "#fb9f3a"
             ],
             [
              0.8888888888888888,
              "#fdca26"
             ],
             [
              1,
              "#f0f921"
             ]
            ],
            "type": "contour"
           }
          ],
          "contourcarpet": [
           {
            "colorbar": {
             "outlinewidth": 0,
             "ticks": ""
            },
            "type": "contourcarpet"
           }
          ],
          "heatmap": [
           {
            "colorbar": {
             "outlinewidth": 0,
             "ticks": ""
            },
            "colorscale": [
             [
              0,
              "#0d0887"
             ],
             [
              0.1111111111111111,
              "#46039f"
             ],
             [
              0.2222222222222222,
              "#7201a8"
             ],
             [
              0.3333333333333333,
              "#9c179e"
             ],
             [
              0.4444444444444444,
              "#bd3786"
             ],
             [
              0.5555555555555556,
              "#d8576b"
             ],
             [
              0.6666666666666666,
              "#ed7953"
             ],
             [
              0.7777777777777778,
              "#fb9f3a"
             ],
             [
              0.8888888888888888,
              "#fdca26"
             ],
             [
              1,
              "#f0f921"
             ]
            ],
            "type": "heatmap"
           }
          ],
          "heatmapgl": [
           {
            "colorbar": {
             "outlinewidth": 0,
             "ticks": ""
            },
            "colorscale": [
             [
              0,
              "#0d0887"
             ],
             [
              0.1111111111111111,
              "#46039f"
             ],
             [
              0.2222222222222222,
              "#7201a8"
             ],
             [
              0.3333333333333333,
              "#9c179e"
             ],
             [
              0.4444444444444444,
              "#bd3786"
             ],
             [
              0.5555555555555556,
              "#d8576b"
             ],
             [
              0.6666666666666666,
              "#ed7953"
             ],
             [
              0.7777777777777778,
              "#fb9f3a"
             ],
             [
              0.8888888888888888,
              "#fdca26"
             ],
             [
              1,
              "#f0f921"
             ]
            ],
            "type": "heatmapgl"
           }
          ],
          "histogram": [
           {
            "marker": {
             "colorbar": {
              "outlinewidth": 0,
              "ticks": ""
             }
            },
            "type": "histogram"
           }
          ],
          "histogram2d": [
           {
            "colorbar": {
             "outlinewidth": 0,
             "ticks": ""
            },
            "colorscale": [
             [
              0,
              "#0d0887"
             ],
             [
              0.1111111111111111,
              "#46039f"
             ],
             [
              0.2222222222222222,
              "#7201a8"
             ],
             [
              0.3333333333333333,
              "#9c179e"
             ],
             [
              0.4444444444444444,
              "#bd3786"
             ],
             [
              0.5555555555555556,
              "#d8576b"
             ],
             [
              0.6666666666666666,
              "#ed7953"
             ],
             [
              0.7777777777777778,
              "#fb9f3a"
             ],
             [
              0.8888888888888888,
              "#fdca26"
             ],
             [
              1,
              "#f0f921"
             ]
            ],
            "type": "histogram2d"
           }
          ],
          "histogram2dcontour": [
           {
            "colorbar": {
             "outlinewidth": 0,
             "ticks": ""
            },
            "colorscale": [
             [
              0,
              "#0d0887"
             ],
             [
              0.1111111111111111,
              "#46039f"
             ],
             [
              0.2222222222222222,
              "#7201a8"
             ],
             [
              0.3333333333333333,
              "#9c179e"
             ],
             [
              0.4444444444444444,
              "#bd3786"
             ],
             [
              0.5555555555555556,
              "#d8576b"
             ],
             [
              0.6666666666666666,
              "#ed7953"
             ],
             [
              0.7777777777777778,
              "#fb9f3a"
             ],
             [
              0.8888888888888888,
              "#fdca26"
             ],
             [
              1,
              "#f0f921"
             ]
            ],
            "type": "histogram2dcontour"
           }
          ],
          "mesh3d": [
           {
            "colorbar": {
             "outlinewidth": 0,
             "ticks": ""
            },
            "type": "mesh3d"
           }
          ],
          "parcoords": [
           {
            "line": {
             "colorbar": {
              "outlinewidth": 0,
              "ticks": ""
             }
            },
            "type": "parcoords"
           }
          ],
          "pie": [
           {
            "automargin": true,
            "type": "pie"
           }
          ],
          "scatter": [
           {
            "marker": {
             "colorbar": {
              "outlinewidth": 0,
              "ticks": ""
             }
            },
            "type": "scatter"
           }
          ],
          "scatter3d": [
           {
            "line": {
             "colorbar": {
              "outlinewidth": 0,
              "ticks": ""
             }
            },
            "marker": {
             "colorbar": {
              "outlinewidth": 0,
              "ticks": ""
             }
            },
            "type": "scatter3d"
           }
          ],
          "scattercarpet": [
           {
            "marker": {
             "colorbar": {
              "outlinewidth": 0,
              "ticks": ""
             }
            },
            "type": "scattercarpet"
           }
          ],
          "scattergeo": [
           {
            "marker": {
             "colorbar": {
              "outlinewidth": 0,
              "ticks": ""
             }
            },
            "type": "scattergeo"
           }
          ],
          "scattergl": [
           {
            "marker": {
             "colorbar": {
              "outlinewidth": 0,
              "ticks": ""
             }
            },
            "type": "scattergl"
           }
          ],
          "scattermapbox": [
           {
            "marker": {
             "colorbar": {
              "outlinewidth": 0,
              "ticks": ""
             }
            },
            "type": "scattermapbox"
           }
          ],
          "scatterpolar": [
           {
            "marker": {
             "colorbar": {
              "outlinewidth": 0,
              "ticks": ""
             }
            },
            "type": "scatterpolar"
           }
          ],
          "scatterpolargl": [
           {
            "marker": {
             "colorbar": {
              "outlinewidth": 0,
              "ticks": ""
             }
            },
            "type": "scatterpolargl"
           }
          ],
          "scatterternary": [
           {
            "marker": {
             "colorbar": {
              "outlinewidth": 0,
              "ticks": ""
             }
            },
            "type": "scatterternary"
           }
          ],
          "surface": [
           {
            "colorbar": {
             "outlinewidth": 0,
             "ticks": ""
            },
            "colorscale": [
             [
              0,
              "#0d0887"
             ],
             [
              0.1111111111111111,
              "#46039f"
             ],
             [
              0.2222222222222222,
              "#7201a8"
             ],
             [
              0.3333333333333333,
              "#9c179e"
             ],
             [
              0.4444444444444444,
              "#bd3786"
             ],
             [
              0.5555555555555556,
              "#d8576b"
             ],
             [
              0.6666666666666666,
              "#ed7953"
             ],
             [
              0.7777777777777778,
              "#fb9f3a"
             ],
             [
              0.8888888888888888,
              "#fdca26"
             ],
             [
              1,
              "#f0f921"
             ]
            ],
            "type": "surface"
           }
          ],
          "table": [
           {
            "cells": {
             "fill": {
              "color": "#EBF0F8"
             },
             "line": {
              "color": "white"
             }
            },
            "header": {
             "fill": {
              "color": "#C8D4E3"
             },
             "line": {
              "color": "white"
             }
            },
            "type": "table"
           }
          ]
         },
         "layout": {
          "annotationdefaults": {
           "arrowcolor": "#2a3f5f",
           "arrowhead": 0,
           "arrowwidth": 1
          },
          "autotypenumbers": "strict",
          "coloraxis": {
           "colorbar": {
            "outlinewidth": 0,
            "ticks": ""
           }
          },
          "colorscale": {
           "diverging": [
            [
             0,
             "#8e0152"
            ],
            [
             0.1,
             "#c51b7d"
            ],
            [
             0.2,
             "#de77ae"
            ],
            [
             0.3,
             "#f1b6da"
            ],
            [
             0.4,
             "#fde0ef"
            ],
            [
             0.5,
             "#f7f7f7"
            ],
            [
             0.6,
             "#e6f5d0"
            ],
            [
             0.7,
             "#b8e186"
            ],
            [
             0.8,
             "#7fbc41"
            ],
            [
             0.9,
             "#4d9221"
            ],
            [
             1,
             "#276419"
            ]
           ],
           "sequential": [
            [
             0,
             "#0d0887"
            ],
            [
             0.1111111111111111,
             "#46039f"
            ],
            [
             0.2222222222222222,
             "#7201a8"
            ],
            [
             0.3333333333333333,
             "#9c179e"
            ],
            [
             0.4444444444444444,
             "#bd3786"
            ],
            [
             0.5555555555555556,
             "#d8576b"
            ],
            [
             0.6666666666666666,
             "#ed7953"
            ],
            [
             0.7777777777777778,
             "#fb9f3a"
            ],
            [
             0.8888888888888888,
             "#fdca26"
            ],
            [
             1,
             "#f0f921"
            ]
           ],
           "sequentialminus": [
            [
             0,
             "#0d0887"
            ],
            [
             0.1111111111111111,
             "#46039f"
            ],
            [
             0.2222222222222222,
             "#7201a8"
            ],
            [
             0.3333333333333333,
             "#9c179e"
            ],
            [
             0.4444444444444444,
             "#bd3786"
            ],
            [
             0.5555555555555556,
             "#d8576b"
            ],
            [
             0.6666666666666666,
             "#ed7953"
            ],
            [
             0.7777777777777778,
             "#fb9f3a"
            ],
            [
             0.8888888888888888,
             "#fdca26"
            ],
            [
             1,
             "#f0f921"
            ]
           ]
          },
          "colorway": [
           "#636efa",
           "#EF553B",
           "#00cc96",
           "#ab63fa",
           "#FFA15A",
           "#19d3f3",
           "#FF6692",
           "#B6E880",
           "#FF97FF",
           "#FECB52"
          ],
          "font": {
           "color": "#2a3f5f"
          },
          "geo": {
           "bgcolor": "white",
           "lakecolor": "white",
           "landcolor": "#E5ECF6",
           "showlakes": true,
           "showland": true,
           "subunitcolor": "white"
          },
          "hoverlabel": {
           "align": "left"
          },
          "hovermode": "closest",
          "mapbox": {
           "style": "light"
          },
          "paper_bgcolor": "white",
          "plot_bgcolor": "#E5ECF6",
          "polar": {
           "angularaxis": {
            "gridcolor": "white",
            "linecolor": "white",
            "ticks": ""
           },
           "bgcolor": "#E5ECF6",
           "radialaxis": {
            "gridcolor": "white",
            "linecolor": "white",
            "ticks": ""
           }
          },
          "scene": {
           "xaxis": {
            "backgroundcolor": "#E5ECF6",
            "gridcolor": "white",
            "gridwidth": 2,
            "linecolor": "white",
            "showbackground": true,
            "ticks": "",
            "zerolinecolor": "white"
           },
           "yaxis": {
            "backgroundcolor": "#E5ECF6",
            "gridcolor": "white",
            "gridwidth": 2,
            "linecolor": "white",
            "showbackground": true,
            "ticks": "",
            "zerolinecolor": "white"
           },
           "zaxis": {
            "backgroundcolor": "#E5ECF6",
            "gridcolor": "white",
            "gridwidth": 2,
            "linecolor": "white",
            "showbackground": true,
            "ticks": "",
            "zerolinecolor": "white"
           }
          },
          "shapedefaults": {
           "line": {
            "color": "#2a3f5f"
           }
          },
          "ternary": {
           "aaxis": {
            "gridcolor": "white",
            "linecolor": "white",
            "ticks": ""
           },
           "baxis": {
            "gridcolor": "white",
            "linecolor": "white",
            "ticks": ""
           },
           "bgcolor": "#E5ECF6",
           "caxis": {
            "gridcolor": "white",
            "linecolor": "white",
            "ticks": ""
           }
          },
          "title": {
           "x": 0.05
          },
          "xaxis": {
           "automargin": true,
           "gridcolor": "white",
           "linecolor": "white",
           "ticks": "",
           "title": {
            "standoff": 15
           },
           "zerolinecolor": "white",
           "zerolinewidth": 2
          },
          "yaxis": {
           "automargin": true,
           "gridcolor": "white",
           "linecolor": "white",
           "ticks": "",
           "title": {
            "standoff": 15
           },
           "zerolinecolor": "white",
           "zerolinewidth": 2
          }
         }
        },
        "xaxis": {
         "anchor": "y",
         "domain": [
          0,
          1
         ],
         "title": {
          "text": "aged_70_older"
         }
        },
        "yaxis": {
         "anchor": "x",
         "domain": [
          0,
          1
         ],
         "title": {
          "text": "total_deaths_per_million"
         }
        }
       }
      },
      "text/html": [
       "<div>                            <div id=\"263b5256-4f66-4fde-8076-199adc4aea52\" class=\"plotly-graph-div\" style=\"height:525px; width:100%;\"></div>            <script type=\"text/javascript\">                require([\"plotly\"], function(Plotly) {                    window.PLOTLYENV=window.PLOTLYENV || {};                                    if (document.getElementById(\"263b5256-4f66-4fde-8076-199adc4aea52\")) {                    Plotly.newPlot(                        \"263b5256-4f66-4fde-8076-199adc4aea52\",                        [{\"customdata\": [[\"Afghanistan\"]], \"hovertemplate\": \"location=%{customdata[0]}<br>aged_70_older=%{x}<br>total_deaths_per_million=%{y}<extra></extra>\", \"legendgroup\": \"Afghanistan\", \"marker\": {\"color\": \"#636efa\", \"symbol\": \"circle\"}, \"mode\": \"markers\", \"name\": \"Afghanistan\", \"orientation\": \"v\", \"showlegend\": true, \"type\": \"scatter\", \"x\": [1.337], \"xaxis\": \"x\", \"y\": [39.175], \"yaxis\": \"y\"}, {\"hovertemplate\": \"location=Afghanistan<extra></extra>\", \"legendgroup\": \"Afghanistan\", \"marker\": {\"color\": \"#636efa\", \"symbol\": \"circle\"}, \"mode\": \"lines\", \"name\": \"Afghanistan\", \"showlegend\": false, \"type\": \"scatter\", \"xaxis\": \"x\", \"yaxis\": \"y\"}, {\"customdata\": [[\"Africa\"]], \"hovertemplate\": \"location=%{customdata[0]}<br>aged_70_older=%{x}<br>total_deaths_per_million=%{y}<extra></extra>\", \"legendgroup\": \"Africa\", \"marker\": {\"color\": \"#EF553B\", \"symbol\": \"circle\"}, \"mode\": \"markers\", \"name\": \"Africa\", \"orientation\": \"v\", \"showlegend\": true, \"type\": \"scatter\", \"x\": [0.0], \"xaxis\": \"x\", \"y\": [31.172], \"yaxis\": \"y\"}, {\"hovertemplate\": \"location=Africa<extra></extra>\", \"legendgroup\": \"Africa\", \"marker\": {\"color\": \"#EF553B\", \"symbol\": \"circle\"}, \"mode\": \"lines\", \"name\": \"Africa\", \"showlegend\": false, \"type\": \"scatter\", \"xaxis\": \"x\", \"yaxis\": \"y\"}, {\"customdata\": [[\"Albania\"]], \"hovertemplate\": \"location=%{customdata[0]}<br>aged_70_older=%{x}<br>total_deaths_per_million=%{y}<extra></extra>\", \"legendgroup\": \"Albania\", \"marker\": {\"color\": \"#00cc96\", \"symbol\": \"circle\"}, \"mode\": \"markers\", \"name\": \"Albania\", \"orientation\": \"v\", \"showlegend\": true, \"type\": \"scatter\", \"x\": [8.643], \"xaxis\": \"x\", \"y\": [169.226], \"yaxis\": \"y\"}, {\"hovertemplate\": \"location=Albania<extra></extra>\", \"legendgroup\": \"Albania\", \"marker\": {\"color\": \"#00cc96\", \"symbol\": \"circle\"}, \"mode\": \"lines\", \"name\": \"Albania\", \"showlegend\": false, \"type\": \"scatter\", \"xaxis\": \"x\", \"yaxis\": \"y\"}, {\"customdata\": [[\"Algeria\"]], \"hovertemplate\": \"location=%{customdata[0]}<br>aged_70_older=%{x}<br>total_deaths_per_million=%{y}<extra></extra>\", \"legendgroup\": \"Algeria\", \"marker\": {\"color\": \"#ab63fa\", \"symbol\": \"circle\"}, \"mode\": \"markers\", \"name\": \"Algeria\", \"orientation\": \"v\", \"showlegend\": true, \"type\": \"scatter\", \"x\": [3.857], \"xaxis\": \"x\", \"y\": [44.035], \"yaxis\": \"y\"}, {\"hovertemplate\": \"location=Algeria<extra></extra>\", \"legendgroup\": \"Algeria\", \"marker\": {\"color\": \"#ab63fa\", \"symbol\": \"circle\"}, \"mode\": \"lines\", \"name\": \"Algeria\", \"showlegend\": false, \"type\": \"scatter\", \"xaxis\": \"x\", \"yaxis\": \"y\"}, {\"customdata\": [[\"Andorra\"]], \"hovertemplate\": \"location=%{customdata[0]}<br>aged_70_older=%{x}<br>total_deaths_per_million=%{y}<extra></extra>\", \"legendgroup\": \"Andorra\", \"marker\": {\"color\": \"#FFA15A\", \"symbol\": \"circle\"}, \"mode\": \"markers\", \"name\": \"Andorra\", \"orientation\": \"v\", \"showlegend\": true, \"type\": \"scatter\", \"x\": [0.0], \"xaxis\": \"x\", \"y\": [931.858], \"yaxis\": \"y\"}, {\"hovertemplate\": \"location=Andorra<extra></extra>\", \"legendgroup\": \"Andorra\", \"marker\": {\"color\": \"#FFA15A\", \"symbol\": \"circle\"}, \"mode\": \"lines\", \"name\": \"Andorra\", \"showlegend\": false, \"type\": \"scatter\", \"xaxis\": \"x\", \"yaxis\": \"y\"}, {\"customdata\": [[\"Angola\"]], \"hovertemplate\": \"location=%{customdata[0]}<br>aged_70_older=%{x}<br>total_deaths_per_million=%{y}<extra></extra>\", \"legendgroup\": \"Angola\", \"marker\": {\"color\": \"#19d3f3\", \"symbol\": \"circle\"}, \"mode\": \"markers\", \"name\": \"Angola\", \"orientation\": \"v\", \"showlegend\": true, \"type\": \"scatter\", \"x\": [1.362], \"xaxis\": \"x\", \"y\": [8.246], \"yaxis\": \"y\"}, {\"hovertemplate\": \"location=Angola<extra></extra>\", \"legendgroup\": \"Angola\", \"marker\": {\"color\": \"#19d3f3\", \"symbol\": \"circle\"}, \"mode\": \"lines\", \"name\": \"Angola\", \"showlegend\": false, \"type\": \"scatter\", \"xaxis\": \"x\", \"yaxis\": \"y\"}, {\"customdata\": [[\"Antigua and Barbuda\"]], \"hovertemplate\": \"location=%{customdata[0]}<br>aged_70_older=%{x}<br>total_deaths_per_million=%{y}<extra></extra>\", \"legendgroup\": \"Antigua and Barbuda\", \"marker\": {\"color\": \"#FF6692\", \"symbol\": \"circle\"}, \"mode\": \"markers\", \"name\": \"Antigua and Barbuda\", \"orientation\": \"v\", \"showlegend\": true, \"type\": \"scatter\", \"x\": [4.631], \"xaxis\": \"x\", \"y\": [30.635], \"yaxis\": \"y\"}, {\"hovertemplate\": \"location=Antigua and Barbuda<extra></extra>\", \"legendgroup\": \"Antigua and Barbuda\", \"marker\": {\"color\": \"#FF6692\", \"symbol\": \"circle\"}, \"mode\": \"lines\", \"name\": \"Antigua and Barbuda\", \"showlegend\": false, \"type\": \"scatter\", \"xaxis\": \"x\", \"yaxis\": \"y\"}, {\"customdata\": [[\"Argentina\"]], \"hovertemplate\": \"location=%{customdata[0]}<br>aged_70_older=%{x}<br>total_deaths_per_million=%{y}<extra></extra>\", \"legendgroup\": \"Argentina\", \"marker\": {\"color\": \"#B6E880\", \"symbol\": \"circle\"}, \"mode\": \"markers\", \"name\": \"Argentina\", \"orientation\": \"v\", \"showlegend\": true, \"type\": \"scatter\", \"x\": [7.441], \"xaxis\": \"x\", \"y\": [657.805], \"yaxis\": \"y\"}, {\"hovertemplate\": \"location=Argentina<extra></extra>\", \"legendgroup\": \"Argentina\", \"marker\": {\"color\": \"#B6E880\", \"symbol\": \"circle\"}, \"mode\": \"lines\", \"name\": \"Argentina\", \"showlegend\": false, \"type\": \"scatter\", \"xaxis\": \"x\", \"yaxis\": \"y\"}, {\"customdata\": [[\"Armenia\"]], \"hovertemplate\": \"location=%{customdata[0]}<br>aged_70_older=%{x}<br>total_deaths_per_million=%{y}<extra></extra>\", \"legendgroup\": \"Armenia\", \"marker\": {\"color\": \"#FF97FF\", \"symbol\": \"circle\"}, \"mode\": \"markers\", \"name\": \"Armenia\", \"orientation\": \"v\", \"showlegend\": true, \"type\": \"scatter\", \"x\": [7.571], \"xaxis\": \"x\", \"y\": [412.387], \"yaxis\": \"y\"}, {\"hovertemplate\": \"location=Armenia<extra></extra>\", \"legendgroup\": \"Armenia\", \"marker\": {\"color\": \"#FF97FF\", \"symbol\": \"circle\"}, \"mode\": \"lines\", \"name\": \"Armenia\", \"showlegend\": false, \"type\": \"scatter\", \"xaxis\": \"x\", \"yaxis\": \"y\"}, {\"customdata\": [[\"Asia\"]], \"hovertemplate\": \"location=%{customdata[0]}<br>aged_70_older=%{x}<br>total_deaths_per_million=%{y}<extra></extra>\", \"legendgroup\": \"Asia\", \"marker\": {\"color\": \"#FECB52\", \"symbol\": \"circle\"}, \"mode\": \"markers\", \"name\": \"Asia\", \"orientation\": \"v\", \"showlegend\": true, \"type\": \"scatter\", \"x\": [0.0], \"xaxis\": \"x\", \"y\": [51.2], \"yaxis\": \"y\"}, {\"hovertemplate\": \"location=Asia<extra></extra>\", \"legendgroup\": \"Asia\", \"marker\": {\"color\": \"#FECB52\", \"symbol\": \"circle\"}, \"mode\": \"lines\", \"name\": \"Asia\", \"showlegend\": false, \"type\": \"scatter\", \"xaxis\": \"x\", \"yaxis\": \"y\"}, {\"customdata\": [[\"Australia\"]], \"hovertemplate\": \"location=%{customdata[0]}<br>aged_70_older=%{x}<br>total_deaths_per_million=%{y}<extra></extra>\", \"legendgroup\": \"Australia\", \"marker\": {\"color\": \"#636efa\", \"symbol\": \"circle\"}, \"mode\": \"markers\", \"name\": \"Australia\", \"orientation\": \"v\", \"showlegend\": true, \"type\": \"scatter\", \"x\": [10.129], \"xaxis\": \"x\", \"y\": [35.569], \"yaxis\": \"y\"}, {\"hovertemplate\": \"location=Australia<extra></extra>\", \"legendgroup\": \"Australia\", \"marker\": {\"color\": \"#636efa\", \"symbol\": \"circle\"}, \"mode\": \"lines\", \"name\": \"Australia\", \"showlegend\": false, \"type\": \"scatter\", \"xaxis\": \"x\", \"yaxis\": \"y\"}, {\"customdata\": [[\"Austria\"]], \"hovertemplate\": \"location=%{customdata[0]}<br>aged_70_older=%{x}<br>total_deaths_per_million=%{y}<extra></extra>\", \"legendgroup\": \"Austria\", \"marker\": {\"color\": \"#EF553B\", \"symbol\": \"circle\"}, \"mode\": \"markers\", \"name\": \"Austria\", \"orientation\": \"v\", \"showlegend\": true, \"type\": \"scatter\", \"x\": [13.748], \"xaxis\": \"x\", \"y\": [111.587], \"yaxis\": \"y\"}, {\"hovertemplate\": \"location=Austria<extra></extra>\", \"legendgroup\": \"Austria\", \"marker\": {\"color\": \"#EF553B\", \"symbol\": \"circle\"}, \"mode\": \"lines\", \"name\": \"Austria\", \"showlegend\": false, \"type\": \"scatter\", \"xaxis\": \"x\", \"yaxis\": \"y\"}, {\"customdata\": [[\"Azerbaijan\"]], \"hovertemplate\": \"location=%{customdata[0]}<br>aged_70_older=%{x}<br>total_deaths_per_million=%{y}<extra></extra>\", \"legendgroup\": \"Azerbaijan\", \"marker\": {\"color\": \"#00cc96\", \"symbol\": \"circle\"}, \"mode\": \"markers\", \"name\": \"Azerbaijan\", \"orientation\": \"v\", \"showlegend\": true, \"type\": \"scatter\", \"x\": [3.871], \"xaxis\": \"x\", \"y\": [67.856], \"yaxis\": \"y\"}, {\"hovertemplate\": \"location=Azerbaijan<extra></extra>\", \"legendgroup\": \"Azerbaijan\", \"marker\": {\"color\": \"#00cc96\", \"symbol\": \"circle\"}, \"mode\": \"lines\", \"name\": \"Azerbaijan\", \"showlegend\": false, \"type\": \"scatter\", \"xaxis\": \"x\", \"yaxis\": \"y\"}, {\"customdata\": [[\"Bahamas\"]], \"hovertemplate\": \"location=%{customdata[0]}<br>aged_70_older=%{x}<br>total_deaths_per_million=%{y}<extra></extra>\", \"legendgroup\": \"Bahamas\", \"marker\": {\"color\": \"#ab63fa\", \"symbol\": \"circle\"}, \"mode\": \"markers\", \"name\": \"Bahamas\", \"orientation\": \"v\", \"showlegend\": true, \"type\": \"scatter\", \"x\": [5.2], \"xaxis\": \"x\", \"y\": [345.838], \"yaxis\": \"y\"}, {\"hovertemplate\": \"location=Bahamas<extra></extra>\", \"legendgroup\": \"Bahamas\", \"marker\": {\"color\": \"#ab63fa\", \"symbol\": \"circle\"}, \"mode\": \"lines\", \"name\": \"Bahamas\", \"showlegend\": false, \"type\": \"scatter\", \"xaxis\": \"x\", \"yaxis\": \"y\"}, {\"customdata\": [[\"Bahrain\"]], \"hovertemplate\": \"location=%{customdata[0]}<br>aged_70_older=%{x}<br>total_deaths_per_million=%{y}<extra></extra>\", \"legendgroup\": \"Bahrain\", \"marker\": {\"color\": \"#FFA15A\", \"symbol\": \"circle\"}, \"mode\": \"markers\", \"name\": \"Bahrain\", \"orientation\": \"v\", \"showlegend\": true, \"type\": \"scatter\", \"x\": [1.387], \"xaxis\": \"x\", \"y\": [185.709], \"yaxis\": \"y\"}, {\"hovertemplate\": \"location=Bahrain<extra></extra>\", \"legendgroup\": \"Bahrain\", \"marker\": {\"color\": \"#FFA15A\", \"symbol\": \"circle\"}, \"mode\": \"lines\", \"name\": \"Bahrain\", \"showlegend\": false, \"type\": \"scatter\", \"xaxis\": \"x\", \"yaxis\": \"y\"}, {\"customdata\": [[\"Bangladesh\"]], \"hovertemplate\": \"location=%{customdata[0]}<br>aged_70_older=%{x}<br>total_deaths_per_million=%{y}<extra></extra>\", \"legendgroup\": \"Bangladesh\", \"marker\": {\"color\": \"#19d3f3\", \"symbol\": \"circle\"}, \"mode\": \"markers\", \"name\": \"Bangladesh\", \"orientation\": \"v\", \"showlegend\": true, \"type\": \"scatter\", \"x\": [3.262], \"xaxis\": \"x\", \"y\": [35.449], \"yaxis\": \"y\"}, {\"hovertemplate\": \"location=Bangladesh<extra></extra>\", \"legendgroup\": \"Bangladesh\", \"marker\": {\"color\": \"#19d3f3\", \"symbol\": \"circle\"}, \"mode\": \"lines\", \"name\": \"Bangladesh\", \"showlegend\": false, \"type\": \"scatter\", \"xaxis\": \"x\", \"yaxis\": \"y\"}, {\"customdata\": [[\"Barbados\"]], \"hovertemplate\": \"location=%{customdata[0]}<br>aged_70_older=%{x}<br>total_deaths_per_million=%{y}<extra></extra>\", \"legendgroup\": \"Barbados\", \"marker\": {\"color\": \"#FF6692\", \"symbol\": \"circle\"}, \"mode\": \"markers\", \"name\": \"Barbados\", \"orientation\": \"v\", \"showlegend\": true, \"type\": \"scatter\", \"x\": [9.473], \"xaxis\": \"x\", \"y\": [24.359], \"yaxis\": \"y\"}, {\"hovertemplate\": \"location=Barbados<extra></extra>\", \"legendgroup\": \"Barbados\", \"marker\": {\"color\": \"#FF6692\", \"symbol\": \"circle\"}, \"mode\": \"lines\", \"name\": \"Barbados\", \"showlegend\": false, \"type\": \"scatter\", \"xaxis\": \"x\", \"yaxis\": \"y\"}, {\"customdata\": [[\"Belarus\"]], \"hovertemplate\": \"location=%{customdata[0]}<br>aged_70_older=%{x}<br>total_deaths_per_million=%{y}<extra></extra>\", \"legendgroup\": \"Belarus\", \"marker\": {\"color\": \"#B6E880\", \"symbol\": \"circle\"}, \"mode\": \"markers\", \"name\": \"Belarus\", \"orientation\": \"v\", \"showlegend\": true, \"type\": \"scatter\", \"x\": [9.788], \"xaxis\": \"x\", \"y\": [102.124], \"yaxis\": \"y\"}, {\"hovertemplate\": \"location=Belarus<extra></extra>\", \"legendgroup\": \"Belarus\", \"marker\": {\"color\": \"#B6E880\", \"symbol\": \"circle\"}, \"mode\": \"lines\", \"name\": \"Belarus\", \"showlegend\": false, \"type\": \"scatter\", \"xaxis\": \"x\", \"yaxis\": \"y\"}, {\"customdata\": [[\"Belgium\"]], \"hovertemplate\": \"location=%{customdata[0]}<br>aged_70_older=%{x}<br>total_deaths_per_million=%{y}<extra></extra>\", \"legendgroup\": \"Belgium\", \"marker\": {\"color\": \"#FF97FF\", \"symbol\": \"circle\"}, \"mode\": \"markers\", \"name\": \"Belgium\", \"orientation\": \"v\", \"showlegend\": true, \"type\": \"scatter\", \"x\": [12.849], \"xaxis\": \"x\", \"y\": [952.404], \"yaxis\": \"y\"}, {\"hovertemplate\": \"location=Belgium<extra></extra>\", \"legendgroup\": \"Belgium\", \"marker\": {\"color\": \"#FF97FF\", \"symbol\": \"circle\"}, \"mode\": \"lines\", \"name\": \"Belgium\", \"showlegend\": false, \"type\": \"scatter\", \"xaxis\": \"x\", \"yaxis\": \"y\"}, {\"customdata\": [[\"Belize\"]], \"hovertemplate\": \"location=%{customdata[0]}<br>aged_70_older=%{x}<br>total_deaths_per_million=%{y}<extra></extra>\", \"legendgroup\": \"Belize\", \"marker\": {\"color\": \"#FECB52\", \"symbol\": \"circle\"}, \"mode\": \"markers\", \"name\": \"Belize\", \"orientation\": \"v\", \"showlegend\": true, \"type\": \"scatter\", \"x\": [2.279], \"xaxis\": \"x\", \"y\": [128.263], \"yaxis\": \"y\"}, {\"hovertemplate\": \"location=Belize<extra></extra>\", \"legendgroup\": \"Belize\", \"marker\": {\"color\": \"#FECB52\", \"symbol\": \"circle\"}, \"mode\": \"lines\", \"name\": \"Belize\", \"showlegend\": false, \"type\": \"scatter\", \"xaxis\": \"x\", \"yaxis\": \"y\"}, {\"customdata\": [[\"Benin\"]], \"hovertemplate\": \"location=%{customdata[0]}<br>aged_70_older=%{x}<br>total_deaths_per_million=%{y}<extra></extra>\", \"legendgroup\": \"Benin\", \"marker\": {\"color\": \"#636efa\", \"symbol\": \"circle\"}, \"mode\": \"markers\", \"name\": \"Benin\", \"orientation\": \"v\", \"showlegend\": true, \"type\": \"scatter\", \"x\": [1.942], \"xaxis\": \"x\", \"y\": [3.382], \"yaxis\": \"y\"}, {\"hovertemplate\": \"location=Benin<extra></extra>\", \"legendgroup\": \"Benin\", \"marker\": {\"color\": \"#636efa\", \"symbol\": \"circle\"}, \"mode\": \"lines\", \"name\": \"Benin\", \"showlegend\": false, \"type\": \"scatter\", \"xaxis\": \"x\", \"yaxis\": \"y\"}, {\"customdata\": [[\"Bhutan\"]], \"hovertemplate\": \"location=%{customdata[0]}<br>aged_70_older=%{x}<br>total_deaths_per_million=%{y}<extra></extra>\", \"legendgroup\": \"Bhutan\", \"marker\": {\"color\": \"#EF553B\", \"symbol\": \"circle\"}, \"mode\": \"markers\", \"name\": \"Bhutan\", \"orientation\": \"v\", \"showlegend\": true, \"type\": \"scatter\", \"x\": [2.977], \"xaxis\": \"x\", \"y\": [0.0], \"yaxis\": \"y\"}, {\"hovertemplate\": \"location=Bhutan<extra></extra>\", \"legendgroup\": \"Bhutan\", \"marker\": {\"color\": \"#EF553B\", \"symbol\": \"circle\"}, \"mode\": \"lines\", \"name\": \"Bhutan\", \"showlegend\": false, \"type\": \"scatter\", \"xaxis\": \"x\", \"yaxis\": \"y\"}, {\"customdata\": [[\"Bolivia\"]], \"hovertemplate\": \"location=%{customdata[0]}<br>aged_70_older=%{x}<br>total_deaths_per_million=%{y}<extra></extra>\", \"legendgroup\": \"Bolivia\", \"marker\": {\"color\": \"#00cc96\", \"symbol\": \"circle\"}, \"mode\": \"markers\", \"name\": \"Bolivia\", \"orientation\": \"v\", \"showlegend\": true, \"type\": \"scatter\", \"x\": [4.393], \"xaxis\": \"x\", \"y\": [742.909], \"yaxis\": \"y\"}, {\"hovertemplate\": \"location=Bolivia<extra></extra>\", \"legendgroup\": \"Bolivia\", \"marker\": {\"color\": \"#00cc96\", \"symbol\": \"circle\"}, \"mode\": \"lines\", \"name\": \"Bolivia\", \"showlegend\": false, \"type\": \"scatter\", \"xaxis\": \"x\", \"yaxis\": \"y\"}, {\"customdata\": [[\"Bosnia and Herzegovina\"]], \"hovertemplate\": \"location=%{customdata[0]}<br>aged_70_older=%{x}<br>total_deaths_per_million=%{y}<extra></extra>\", \"legendgroup\": \"Bosnia and Herzegovina\", \"marker\": {\"color\": \"#ab63fa\", \"symbol\": \"circle\"}, \"mode\": \"markers\", \"name\": \"Bosnia and Herzegovina\", \"orientation\": \"v\", \"showlegend\": true, \"type\": \"scatter\", \"x\": [10.711], \"xaxis\": \"x\", \"y\": [342.903], \"yaxis\": \"y\"}, {\"hovertemplate\": \"location=Bosnia and Herzegovina<extra></extra>\", \"legendgroup\": \"Bosnia and Herzegovina\", \"marker\": {\"color\": \"#ab63fa\", \"symbol\": \"circle\"}, \"mode\": \"lines\", \"name\": \"Bosnia and Herzegovina\", \"showlegend\": false, \"type\": \"scatter\", \"xaxis\": \"x\", \"yaxis\": \"y\"}, {\"customdata\": [[\"Botswana\"]], \"hovertemplate\": \"location=%{customdata[0]}<br>aged_70_older=%{x}<br>total_deaths_per_million=%{y}<extra></extra>\", \"legendgroup\": \"Botswana\", \"marker\": {\"color\": \"#FFA15A\", \"symbol\": \"circle\"}, \"mode\": \"markers\", \"name\": \"Botswana\", \"orientation\": \"v\", \"showlegend\": true, \"type\": \"scatter\", \"x\": [2.242], \"xaxis\": \"x\", \"y\": [8.93], \"yaxis\": \"y\"}, {\"hovertemplate\": \"location=Botswana<extra></extra>\", \"legendgroup\": \"Botswana\", \"marker\": {\"color\": \"#FFA15A\", \"symbol\": \"circle\"}, \"mode\": \"lines\", \"name\": \"Botswana\", \"showlegend\": false, \"type\": \"scatter\", \"xaxis\": \"x\", \"yaxis\": \"y\"}, {\"customdata\": [[\"Brazil\"]], \"hovertemplate\": \"location=%{customdata[0]}<br>aged_70_older=%{x}<br>total_deaths_per_million=%{y}<extra></extra>\", \"legendgroup\": \"Brazil\", \"marker\": {\"color\": \"#19d3f3\", \"symbol\": \"circle\"}, \"mode\": \"markers\", \"name\": \"Brazil\", \"orientation\": \"v\", \"showlegend\": true, \"type\": \"scatter\", \"x\": [5.06], \"xaxis\": \"x\", \"y\": [743.068], \"yaxis\": \"y\"}, {\"hovertemplate\": \"location=Brazil<extra></extra>\", \"legendgroup\": \"Brazil\", \"marker\": {\"color\": \"#19d3f3\", \"symbol\": \"circle\"}, \"mode\": \"lines\", \"name\": \"Brazil\", \"showlegend\": false, \"type\": \"scatter\", \"xaxis\": \"x\", \"yaxis\": \"y\"}, {\"customdata\": [[\"Brunei\"]], \"hovertemplate\": \"location=%{customdata[0]}<br>aged_70_older=%{x}<br>total_deaths_per_million=%{y}<extra></extra>\", \"legendgroup\": \"Brunei\", \"marker\": {\"color\": \"#FF6692\", \"symbol\": \"circle\"}, \"mode\": \"markers\", \"name\": \"Brunei\", \"orientation\": \"v\", \"showlegend\": true, \"type\": \"scatter\", \"x\": [2.382], \"xaxis\": \"x\", \"y\": [6.857], \"yaxis\": \"y\"}, {\"hovertemplate\": \"location=Brunei<extra></extra>\", \"legendgroup\": \"Brunei\", \"marker\": {\"color\": \"#FF6692\", \"symbol\": \"circle\"}, \"mode\": \"lines\", \"name\": \"Brunei\", \"showlegend\": false, \"type\": \"scatter\", \"xaxis\": \"x\", \"yaxis\": \"y\"}, {\"customdata\": [[\"Bulgaria\"]], \"hovertemplate\": \"location=%{customdata[0]}<br>aged_70_older=%{x}<br>total_deaths_per_million=%{y}<extra></extra>\", \"legendgroup\": \"Bulgaria\", \"marker\": {\"color\": \"#B6E880\", \"symbol\": \"circle\"}, \"mode\": \"markers\", \"name\": \"Bulgaria\", \"orientation\": \"v\", \"showlegend\": true, \"type\": \"scatter\", \"x\": [13.272], \"xaxis\": \"x\", \"y\": [167.088], \"yaxis\": \"y\"}, {\"hovertemplate\": \"location=Bulgaria<extra></extra>\", \"legendgroup\": \"Bulgaria\", \"marker\": {\"color\": \"#B6E880\", \"symbol\": \"circle\"}, \"mode\": \"lines\", \"name\": \"Bulgaria\", \"showlegend\": false, \"type\": \"scatter\", \"xaxis\": \"x\", \"yaxis\": \"y\"}, {\"customdata\": [[\"Burkina Faso\"]], \"hovertemplate\": \"location=%{customdata[0]}<br>aged_70_older=%{x}<br>total_deaths_per_million=%{y}<extra></extra>\", \"legendgroup\": \"Burkina Faso\", \"marker\": {\"color\": \"#FF97FF\", \"symbol\": \"circle\"}, \"mode\": \"markers\", \"name\": \"Burkina Faso\", \"orientation\": \"v\", \"showlegend\": true, \"type\": \"scatter\", \"x\": [1.358], \"xaxis\": \"x\", \"y\": [3.205], \"yaxis\": \"y\"}, {\"hovertemplate\": \"location=Burkina Faso<extra></extra>\", \"legendgroup\": \"Burkina Faso\", \"marker\": {\"color\": \"#FF97FF\", \"symbol\": \"circle\"}, \"mode\": \"lines\", \"name\": \"Burkina Faso\", \"showlegend\": false, \"type\": \"scatter\", \"xaxis\": \"x\", \"yaxis\": \"y\"}, {\"customdata\": [[\"Burundi\"]], \"hovertemplate\": \"location=%{customdata[0]}<br>aged_70_older=%{x}<br>total_deaths_per_million=%{y}<extra></extra>\", \"legendgroup\": \"Burundi\", \"marker\": {\"color\": \"#FECB52\", \"symbol\": \"circle\"}, \"mode\": \"markers\", \"name\": \"Burundi\", \"orientation\": \"v\", \"showlegend\": true, \"type\": \"scatter\", \"x\": [1.504], \"xaxis\": \"x\", \"y\": [0.084], \"yaxis\": \"y\"}, {\"hovertemplate\": \"location=Burundi<extra></extra>\", \"legendgroup\": \"Burundi\", \"marker\": {\"color\": \"#FECB52\", \"symbol\": \"circle\"}, \"mode\": \"lines\", \"name\": \"Burundi\", \"showlegend\": false, \"type\": \"scatter\", \"xaxis\": \"x\", \"yaxis\": \"y\"}, {\"customdata\": [[\"Cambodia\"]], \"hovertemplate\": \"location=%{customdata[0]}<br>aged_70_older=%{x}<br>total_deaths_per_million=%{y}<extra></extra>\", \"legendgroup\": \"Cambodia\", \"marker\": {\"color\": \"#636efa\", \"symbol\": \"circle\"}, \"mode\": \"markers\", \"name\": \"Cambodia\", \"orientation\": \"v\", \"showlegend\": true, \"type\": \"scatter\", \"x\": [2.385], \"xaxis\": \"x\", \"y\": [0.0], \"yaxis\": \"y\"}, {\"hovertemplate\": \"location=Cambodia<extra></extra>\", \"legendgroup\": \"Cambodia\", \"marker\": {\"color\": \"#636efa\", \"symbol\": \"circle\"}, \"mode\": \"lines\", \"name\": \"Cambodia\", \"showlegend\": false, \"type\": \"scatter\", \"xaxis\": \"x\", \"yaxis\": \"y\"}, {\"customdata\": [[\"Cameroon\"]], \"hovertemplate\": \"location=%{customdata[0]}<br>aged_70_older=%{x}<br>total_deaths_per_million=%{y}<extra></extra>\", \"legendgroup\": \"Cameroon\", \"marker\": {\"color\": \"#EF553B\", \"symbol\": \"circle\"}, \"mode\": \"markers\", \"name\": \"Cameroon\", \"orientation\": \"v\", \"showlegend\": true, \"type\": \"scatter\", \"x\": [1.919], \"xaxis\": \"x\", \"y\": [16.048], \"yaxis\": \"y\"}, {\"hovertemplate\": \"location=Cameroon<extra></extra>\", \"legendgroup\": \"Cameroon\", \"marker\": {\"color\": \"#EF553B\", \"symbol\": \"circle\"}, \"mode\": \"lines\", \"name\": \"Cameroon\", \"showlegend\": false, \"type\": \"scatter\", \"xaxis\": \"x\", \"yaxis\": \"y\"}, {\"customdata\": [[\"Canada\"]], \"hovertemplate\": \"location=%{customdata[0]}<br>aged_70_older=%{x}<br>total_deaths_per_million=%{y}<extra></extra>\", \"legendgroup\": \"Canada\", \"marker\": {\"color\": \"#00cc96\", \"symbol\": \"circle\"}, \"mode\": \"markers\", \"name\": \"Canada\", \"orientation\": \"v\", \"showlegend\": true, \"type\": \"scatter\", \"x\": [10.797], \"xaxis\": \"x\", \"y\": [268.135], \"yaxis\": \"y\"}, {\"hovertemplate\": \"location=Canada<extra></extra>\", \"legendgroup\": \"Canada\", \"marker\": {\"color\": \"#00cc96\", \"symbol\": \"circle\"}, \"mode\": \"lines\", \"name\": \"Canada\", \"showlegend\": false, \"type\": \"scatter\", \"xaxis\": \"x\", \"yaxis\": \"y\"}, {\"customdata\": [[\"Cape Verde\"]], \"hovertemplate\": \"location=%{customdata[0]}<br>aged_70_older=%{x}<br>total_deaths_per_million=%{y}<extra></extra>\", \"legendgroup\": \"Cape Verde\", \"marker\": {\"color\": \"#ab63fa\", \"symbol\": \"circle\"}, \"mode\": \"markers\", \"name\": \"Cape Verde\", \"orientation\": \"v\", \"showlegend\": true, \"type\": \"scatter\", \"x\": [3.437], \"xaxis\": \"x\", \"y\": [169.068], \"yaxis\": \"y\"}, {\"hovertemplate\": \"location=Cape Verde<extra></extra>\", \"legendgroup\": \"Cape Verde\", \"marker\": {\"color\": \"#ab63fa\", \"symbol\": \"circle\"}, \"mode\": \"lines\", \"name\": \"Cape Verde\", \"showlegend\": false, \"type\": \"scatter\", \"xaxis\": \"x\", \"yaxis\": \"y\"}, {\"customdata\": [[\"Central African Republic\"]], \"hovertemplate\": \"location=%{customdata[0]}<br>aged_70_older=%{x}<br>total_deaths_per_million=%{y}<extra></extra>\", \"legendgroup\": \"Central African Republic\", \"marker\": {\"color\": \"#FFA15A\", \"symbol\": \"circle\"}, \"mode\": \"markers\", \"name\": \"Central African Republic\", \"orientation\": \"v\", \"showlegend\": true, \"type\": \"scatter\", \"x\": [2.251], \"xaxis\": \"x\", \"y\": [12.837], \"yaxis\": \"y\"}, {\"hovertemplate\": \"location=Central African Republic<extra></extra>\", \"legendgroup\": \"Central African Republic\", \"marker\": {\"color\": \"#FFA15A\", \"symbol\": \"circle\"}, \"mode\": \"lines\", \"name\": \"Central African Republic\", \"showlegend\": false, \"type\": \"scatter\", \"xaxis\": \"x\", \"yaxis\": \"y\"}, {\"customdata\": [[\"Chad\"]], \"hovertemplate\": \"location=%{customdata[0]}<br>aged_70_older=%{x}<br>total_deaths_per_million=%{y}<extra></extra>\", \"legendgroup\": \"Chad\", \"marker\": {\"color\": \"#19d3f3\", \"symbol\": \"circle\"}, \"mode\": \"markers\", \"name\": \"Chad\", \"orientation\": \"v\", \"showlegend\": true, \"type\": \"scatter\", \"x\": [1.446], \"xaxis\": \"x\", \"y\": [5.844], \"yaxis\": \"y\"}, {\"hovertemplate\": \"location=Chad<extra></extra>\", \"legendgroup\": \"Chad\", \"marker\": {\"color\": \"#19d3f3\", \"symbol\": \"circle\"}, \"mode\": \"lines\", \"name\": \"Chad\", \"showlegend\": false, \"type\": \"scatter\", \"xaxis\": \"x\", \"yaxis\": \"y\"}, {\"customdata\": [[\"Chile\"]], \"hovertemplate\": \"location=%{customdata[0]}<br>aged_70_older=%{x}<br>total_deaths_per_million=%{y}<extra></extra>\", \"legendgroup\": \"Chile\", \"marker\": {\"color\": \"#FF6692\", \"symbol\": \"circle\"}, \"mode\": \"markers\", \"name\": \"Chile\", \"orientation\": \"v\", \"showlegend\": true, \"type\": \"scatter\", \"x\": [6.938], \"xaxis\": \"x\", \"y\": [733.723], \"yaxis\": \"y\"}, {\"hovertemplate\": \"location=Chile<extra></extra>\", \"legendgroup\": \"Chile\", \"marker\": {\"color\": \"#FF6692\", \"symbol\": \"circle\"}, \"mode\": \"lines\", \"name\": \"Chile\", \"showlegend\": false, \"type\": \"scatter\", \"xaxis\": \"x\", \"yaxis\": \"y\"}, {\"customdata\": [[\"China\"]], \"hovertemplate\": \"location=%{customdata[0]}<br>aged_70_older=%{x}<br>total_deaths_per_million=%{y}<extra></extra>\", \"legendgroup\": \"China\", \"marker\": {\"color\": \"#B6E880\", \"symbol\": \"circle\"}, \"mode\": \"markers\", \"name\": \"China\", \"orientation\": \"v\", \"showlegend\": true, \"type\": \"scatter\", \"x\": [5.929], \"xaxis\": \"x\", \"y\": [3.293], \"yaxis\": \"y\"}, {\"hovertemplate\": \"location=China<extra></extra>\", \"legendgroup\": \"China\", \"marker\": {\"color\": \"#B6E880\", \"symbol\": \"circle\"}, \"mode\": \"lines\", \"name\": \"China\", \"showlegend\": false, \"type\": \"scatter\", \"xaxis\": \"x\", \"yaxis\": \"y\"}, {\"customdata\": [[\"Colombia\"]], \"hovertemplate\": \"location=%{customdata[0]}<br>aged_70_older=%{x}<br>total_deaths_per_million=%{y}<extra></extra>\", \"legendgroup\": \"Colombia\", \"marker\": {\"color\": \"#FF97FF\", \"symbol\": \"circle\"}, \"mode\": \"markers\", \"name\": \"Colombia\", \"orientation\": \"v\", \"showlegend\": true, \"type\": \"scatter\", \"x\": [4.312], \"xaxis\": \"x\", \"y\": [600.693], \"yaxis\": \"y\"}, {\"hovertemplate\": \"location=Colombia<extra></extra>\", \"legendgroup\": \"Colombia\", \"marker\": {\"color\": \"#FF97FF\", \"symbol\": \"circle\"}, \"mode\": \"lines\", \"name\": \"Colombia\", \"showlegend\": false, \"type\": \"scatter\", \"xaxis\": \"x\", \"yaxis\": \"y\"}, {\"customdata\": [[\"Comoros\"]], \"hovertemplate\": \"location=%{customdata[0]}<br>aged_70_older=%{x}<br>total_deaths_per_million=%{y}<extra></extra>\", \"legendgroup\": \"Comoros\", \"marker\": {\"color\": \"#FECB52\", \"symbol\": \"circle\"}, \"mode\": \"markers\", \"name\": \"Comoros\", \"orientation\": \"v\", \"showlegend\": true, \"type\": \"scatter\", \"x\": [1.726], \"xaxis\": \"x\", \"y\": [8.05], \"yaxis\": \"y\"}, {\"hovertemplate\": \"location=Comoros<extra></extra>\", \"legendgroup\": \"Comoros\", \"marker\": {\"color\": \"#FECB52\", \"symbol\": \"circle\"}, \"mode\": \"lines\", \"name\": \"Comoros\", \"showlegend\": false, \"type\": \"scatter\", \"xaxis\": \"x\", \"yaxis\": \"y\"}, {\"customdata\": [[\"Congo\"]], \"hovertemplate\": \"location=%{customdata[0]}<br>aged_70_older=%{x}<br>total_deaths_per_million=%{y}<extra></extra>\", \"legendgroup\": \"Congo\", \"marker\": {\"color\": \"#636efa\", \"symbol\": \"circle\"}, \"mode\": \"markers\", \"name\": \"Congo\", \"orientation\": \"v\", \"showlegend\": true, \"type\": \"scatter\", \"x\": [2.063], \"xaxis\": \"x\", \"y\": [16.672], \"yaxis\": \"y\"}, {\"hovertemplate\": \"location=Congo<extra></extra>\", \"legendgroup\": \"Congo\", \"marker\": {\"color\": \"#636efa\", \"symbol\": \"circle\"}, \"mode\": \"lines\", \"name\": \"Congo\", \"showlegend\": false, \"type\": \"scatter\", \"xaxis\": \"x\", \"yaxis\": \"y\"}, {\"customdata\": [[\"Costa Rica\"]], \"hovertemplate\": \"location=%{customdata[0]}<br>aged_70_older=%{x}<br>total_deaths_per_million=%{y}<extra></extra>\", \"legendgroup\": \"Costa Rica\", \"marker\": {\"color\": \"#EF553B\", \"symbol\": \"circle\"}, \"mode\": \"markers\", \"name\": \"Costa Rica\", \"orientation\": \"v\", \"showlegend\": true, \"type\": \"scatter\", \"x\": [5.694], \"xaxis\": \"x\", \"y\": [260.889], \"yaxis\": \"y\"}, {\"hovertemplate\": \"location=Costa Rica<extra></extra>\", \"legendgroup\": \"Costa Rica\", \"marker\": {\"color\": \"#EF553B\", \"symbol\": \"circle\"}, \"mode\": \"lines\", \"name\": \"Costa Rica\", \"showlegend\": false, \"type\": \"scatter\", \"xaxis\": \"x\", \"yaxis\": \"y\"}, {\"customdata\": [[\"Cote d'Ivoire\"]], \"hovertemplate\": \"location=%{customdata[0]}<br>aged_70_older=%{x}<br>total_deaths_per_million=%{y}<extra></extra>\", \"legendgroup\": \"Cote d'Ivoire\", \"marker\": {\"color\": \"#00cc96\", \"symbol\": \"circle\"}, \"mode\": \"markers\", \"name\": \"Cote d'Ivoire\", \"orientation\": \"v\", \"showlegend\": true, \"type\": \"scatter\", \"x\": [1.582], \"xaxis\": \"x\", \"y\": [4.625], \"yaxis\": \"y\"}, {\"hovertemplate\": \"location=Cote d'Ivoire<extra></extra>\", \"legendgroup\": \"Cote d'Ivoire\", \"marker\": {\"color\": \"#00cc96\", \"symbol\": \"circle\"}, \"mode\": \"lines\", \"name\": \"Cote d'Ivoire\", \"showlegend\": false, \"type\": \"scatter\", \"xaxis\": \"x\", \"yaxis\": \"y\"}, {\"customdata\": [[\"Croatia\"]], \"hovertemplate\": \"location=%{customdata[0]}<br>aged_70_older=%{x}<br>total_deaths_per_million=%{y}<extra></extra>\", \"legendgroup\": \"Croatia\", \"marker\": {\"color\": \"#ab63fa\", \"symbol\": \"circle\"}, \"mode\": \"markers\", \"name\": \"Croatia\", \"orientation\": \"v\", \"showlegend\": true, \"type\": \"scatter\", \"x\": [13.053], \"xaxis\": \"x\", \"y\": [114.487], \"yaxis\": \"y\"}, {\"hovertemplate\": \"location=Croatia<extra></extra>\", \"legendgroup\": \"Croatia\", \"marker\": {\"color\": \"#ab63fa\", \"symbol\": \"circle\"}, \"mode\": \"lines\", \"name\": \"Croatia\", \"showlegend\": false, \"type\": \"scatter\", \"xaxis\": \"x\", \"yaxis\": \"y\"}, {\"customdata\": [[\"Cuba\"]], \"hovertemplate\": \"location=%{customdata[0]}<br>aged_70_older=%{x}<br>total_deaths_per_million=%{y}<extra></extra>\", \"legendgroup\": \"Cuba\", \"marker\": {\"color\": \"#FFA15A\", \"symbol\": \"circle\"}, \"mode\": \"markers\", \"name\": \"Cuba\", \"orientation\": \"v\", \"showlegend\": true, \"type\": \"scatter\", \"x\": [9.719], \"xaxis\": \"x\", \"y\": [11.301], \"yaxis\": \"y\"}, {\"hovertemplate\": \"location=Cuba<extra></extra>\", \"legendgroup\": \"Cuba\", \"marker\": {\"color\": \"#FFA15A\", \"symbol\": \"circle\"}, \"mode\": \"lines\", \"name\": \"Cuba\", \"showlegend\": false, \"type\": \"scatter\", \"xaxis\": \"x\", \"yaxis\": \"y\"}, {\"customdata\": [[\"Cyprus\"]], \"hovertemplate\": \"location=%{customdata[0]}<br>aged_70_older=%{x}<br>total_deaths_per_million=%{y}<extra></extra>\", \"legendgroup\": \"Cyprus\", \"marker\": {\"color\": \"#19d3f3\", \"symbol\": \"circle\"}, \"mode\": \"markers\", \"name\": \"Cyprus\", \"orientation\": \"v\", \"showlegend\": true, \"type\": \"scatter\", \"x\": [8.563], \"xaxis\": \"x\", \"y\": [28.542], \"yaxis\": \"y\"}, {\"hovertemplate\": \"location=Cyprus<extra></extra>\", \"legendgroup\": \"Cyprus\", \"marker\": {\"color\": \"#19d3f3\", \"symbol\": \"circle\"}, \"mode\": \"lines\", \"name\": \"Cyprus\", \"showlegend\": false, \"type\": \"scatter\", \"xaxis\": \"x\", \"yaxis\": \"y\"}, {\"customdata\": [[\"Czechia\"]], \"hovertemplate\": \"location=%{customdata[0]}<br>aged_70_older=%{x}<br>total_deaths_per_million=%{y}<extra></extra>\", \"legendgroup\": \"Czechia\", \"marker\": {\"color\": \"#FF6692\", \"symbol\": \"circle\"}, \"mode\": \"markers\", \"name\": \"Czechia\", \"orientation\": \"v\", \"showlegend\": true, \"type\": \"scatter\", \"x\": [11.58], \"xaxis\": \"x\", \"y\": [237.838], \"yaxis\": \"y\"}, {\"hovertemplate\": \"location=Czechia<extra></extra>\", \"legendgroup\": \"Czechia\", \"marker\": {\"color\": \"#FF6692\", \"symbol\": \"circle\"}, \"mode\": \"lines\", \"name\": \"Czechia\", \"showlegend\": false, \"type\": \"scatter\", \"xaxis\": \"x\", \"yaxis\": \"y\"}, {\"customdata\": [[\"Democratic Republic of Congo\"]], \"hovertemplate\": \"location=%{customdata[0]}<br>aged_70_older=%{x}<br>total_deaths_per_million=%{y}<extra></extra>\", \"legendgroup\": \"Democratic Republic of Congo\", \"marker\": {\"color\": \"#B6E880\", \"symbol\": \"circle\"}, \"mode\": \"markers\", \"name\": \"Democratic Republic of Congo\", \"orientation\": \"v\", \"showlegend\": true, \"type\": \"scatter\", \"x\": [1.745], \"xaxis\": \"x\", \"y\": [3.405], \"yaxis\": \"y\"}, {\"hovertemplate\": \"location=Democratic Republic of Congo<extra></extra>\", \"legendgroup\": \"Democratic Republic of Congo\", \"marker\": {\"color\": \"#B6E880\", \"symbol\": \"circle\"}, \"mode\": \"lines\", \"name\": \"Democratic Republic of Congo\", \"showlegend\": false, \"type\": \"scatter\", \"xaxis\": \"x\", \"yaxis\": \"y\"}, {\"customdata\": [[\"Denmark\"]], \"hovertemplate\": \"location=%{customdata[0]}<br>aged_70_older=%{x}<br>total_deaths_per_million=%{y}<extra></extra>\", \"legendgroup\": \"Denmark\", \"marker\": {\"color\": \"#FF97FF\", \"symbol\": \"circle\"}, \"mode\": \"markers\", \"name\": \"Denmark\", \"orientation\": \"v\", \"showlegend\": true, \"type\": \"scatter\", \"x\": [12.325], \"xaxis\": \"x\", \"y\": [122.406], \"yaxis\": \"y\"}, {\"hovertemplate\": \"location=Denmark<extra></extra>\", \"legendgroup\": \"Denmark\", \"marker\": {\"color\": \"#FF97FF\", \"symbol\": \"circle\"}, \"mode\": \"lines\", \"name\": \"Denmark\", \"showlegend\": false, \"type\": \"scatter\", \"xaxis\": \"x\", \"yaxis\": \"y\"}, {\"customdata\": [[\"Djibouti\"]], \"hovertemplate\": \"location=%{customdata[0]}<br>aged_70_older=%{x}<br>total_deaths_per_million=%{y}<extra></extra>\", \"legendgroup\": \"Djibouti\", \"marker\": {\"color\": \"#FECB52\", \"symbol\": \"circle\"}, \"mode\": \"markers\", \"name\": \"Djibouti\", \"orientation\": \"v\", \"showlegend\": true, \"type\": \"scatter\", \"x\": [2.38], \"xaxis\": \"x\", \"y\": [61.741], \"yaxis\": \"y\"}, {\"hovertemplate\": \"location=Djibouti<extra></extra>\", \"legendgroup\": \"Djibouti\", \"marker\": {\"color\": \"#FECB52\", \"symbol\": \"circle\"}, \"mode\": \"lines\", \"name\": \"Djibouti\", \"showlegend\": false, \"type\": \"scatter\", \"xaxis\": \"x\", \"yaxis\": \"y\"}, {\"customdata\": [[\"Dominica\"]], \"hovertemplate\": \"location=%{customdata[0]}<br>aged_70_older=%{x}<br>total_deaths_per_million=%{y}<extra></extra>\", \"legendgroup\": \"Dominica\", \"marker\": {\"color\": \"#636efa\", \"symbol\": \"circle\"}, \"mode\": \"markers\", \"name\": \"Dominica\", \"orientation\": \"v\", \"showlegend\": true, \"type\": \"scatter\", \"x\": [0.0], \"xaxis\": \"x\", \"y\": [0.0], \"yaxis\": \"y\"}, {\"hovertemplate\": \"location=Dominica<extra></extra>\", \"legendgroup\": \"Dominica\", \"marker\": {\"color\": \"#636efa\", \"symbol\": \"circle\"}, \"mode\": \"lines\", \"name\": \"Dominica\", \"showlegend\": false, \"type\": \"scatter\", \"xaxis\": \"x\", \"yaxis\": \"y\"}, {\"customdata\": [[\"Dominican Republic\"]], \"hovertemplate\": \"location=%{customdata[0]}<br>aged_70_older=%{x}<br>total_deaths_per_million=%{y}<extra></extra>\", \"legendgroup\": \"Dominican Republic\", \"marker\": {\"color\": \"#EF553B\", \"symbol\": \"circle\"}, \"mode\": \"markers\", \"name\": \"Dominican Republic\", \"orientation\": \"v\", \"showlegend\": true, \"type\": \"scatter\", \"x\": [4.419], \"xaxis\": \"x\", \"y\": [205.201], \"yaxis\": \"y\"}, {\"hovertemplate\": \"location=Dominican Republic<extra></extra>\", \"legendgroup\": \"Dominican Republic\", \"marker\": {\"color\": \"#EF553B\", \"symbol\": \"circle\"}, \"mode\": \"lines\", \"name\": \"Dominican Republic\", \"showlegend\": false, \"type\": \"scatter\", \"xaxis\": \"x\", \"yaxis\": \"y\"}, {\"customdata\": [[\"Ecuador\"]], \"hovertemplate\": \"location=%{customdata[0]}<br>aged_70_older=%{x}<br>total_deaths_per_million=%{y}<extra></extra>\", \"legendgroup\": \"Ecuador\", \"marker\": {\"color\": \"#00cc96\", \"symbol\": \"circle\"}, \"mode\": \"markers\", \"name\": \"Ecuador\", \"orientation\": \"v\", \"showlegend\": true, \"type\": \"scatter\", \"x\": [4.458], \"xaxis\": \"x\", \"y\": [713.482], \"yaxis\": \"y\"}, {\"hovertemplate\": \"location=Ecuador<extra></extra>\", \"legendgroup\": \"Ecuador\", \"marker\": {\"color\": \"#00cc96\", \"symbol\": \"circle\"}, \"mode\": \"lines\", \"name\": \"Ecuador\", \"showlegend\": false, \"type\": \"scatter\", \"xaxis\": \"x\", \"yaxis\": \"y\"}, {\"customdata\": [[\"Egypt\"]], \"hovertemplate\": \"location=%{customdata[0]}<br>aged_70_older=%{x}<br>total_deaths_per_million=%{y}<extra></extra>\", \"legendgroup\": \"Egypt\", \"marker\": {\"color\": \"#ab63fa\", \"symbol\": \"circle\"}, \"mode\": \"markers\", \"name\": \"Egypt\", \"orientation\": \"v\", \"showlegend\": true, \"type\": \"scatter\", \"x\": [2.891], \"xaxis\": \"x\", \"y\": [60.801], \"yaxis\": \"y\"}, {\"hovertemplate\": \"location=Egypt<extra></extra>\", \"legendgroup\": \"Egypt\", \"marker\": {\"color\": \"#ab63fa\", \"symbol\": \"circle\"}, \"mode\": \"lines\", \"name\": \"Egypt\", \"showlegend\": false, \"type\": \"scatter\", \"xaxis\": \"x\", \"yaxis\": \"y\"}, {\"customdata\": [[\"El Salvador\"]], \"hovertemplate\": \"location=%{customdata[0]}<br>aged_70_older=%{x}<br>total_deaths_per_million=%{y}<extra></extra>\", \"legendgroup\": \"El Salvador\", \"marker\": {\"color\": \"#FFA15A\", \"symbol\": \"circle\"}, \"mode\": \"markers\", \"name\": \"El Salvador\", \"orientation\": \"v\", \"showlegend\": true, \"type\": \"scatter\", \"x\": [5.417], \"xaxis\": \"x\", \"y\": [147.544], \"yaxis\": \"y\"}, {\"hovertemplate\": \"location=El Salvador<extra></extra>\", \"legendgroup\": \"El Salvador\", \"marker\": {\"color\": \"#FFA15A\", \"symbol\": \"circle\"}, \"mode\": \"lines\", \"name\": \"El Salvador\", \"showlegend\": false, \"type\": \"scatter\", \"xaxis\": \"x\", \"yaxis\": \"y\"}, {\"customdata\": [[\"Equatorial Guinea\"]], \"hovertemplate\": \"location=%{customdata[0]}<br>aged_70_older=%{x}<br>total_deaths_per_million=%{y}<extra></extra>\", \"legendgroup\": \"Equatorial Guinea\", \"marker\": {\"color\": \"#19d3f3\", \"symbol\": \"circle\"}, \"mode\": \"markers\", \"name\": \"Equatorial Guinea\", \"orientation\": \"v\", \"showlegend\": true, \"type\": \"scatter\", \"x\": [1.752], \"xaxis\": \"x\", \"y\": [59.16], \"yaxis\": \"y\"}, {\"hovertemplate\": \"location=Equatorial Guinea<extra></extra>\", \"legendgroup\": \"Equatorial Guinea\", \"marker\": {\"color\": \"#19d3f3\", \"symbol\": \"circle\"}, \"mode\": \"lines\", \"name\": \"Equatorial Guinea\", \"showlegend\": false, \"type\": \"scatter\", \"xaxis\": \"x\", \"yaxis\": \"y\"}, {\"customdata\": [[\"Eritrea\"]], \"hovertemplate\": \"location=%{customdata[0]}<br>aged_70_older=%{x}<br>total_deaths_per_million=%{y}<extra></extra>\", \"legendgroup\": \"Eritrea\", \"marker\": {\"color\": \"#FF6692\", \"symbol\": \"circle\"}, \"mode\": \"markers\", \"name\": \"Eritrea\", \"orientation\": \"v\", \"showlegend\": true, \"type\": \"scatter\", \"x\": [2.171], \"xaxis\": \"x\", \"y\": [0.0], \"yaxis\": \"y\"}, {\"hovertemplate\": \"location=Eritrea<extra></extra>\", \"legendgroup\": \"Eritrea\", \"marker\": {\"color\": \"#FF6692\", \"symbol\": \"circle\"}, \"mode\": \"lines\", \"name\": \"Eritrea\", \"showlegend\": false, \"type\": \"scatter\", \"xaxis\": \"x\", \"yaxis\": \"y\"}, {\"customdata\": [[\"Estonia\"]], \"hovertemplate\": \"location=%{customdata[0]}<br>aged_70_older=%{x}<br>total_deaths_per_million=%{y}<extra></extra>\", \"legendgroup\": \"Estonia\", \"marker\": {\"color\": \"#B6E880\", \"symbol\": \"circle\"}, \"mode\": \"markers\", \"name\": \"Estonia\", \"orientation\": \"v\", \"showlegend\": true, \"type\": \"scatter\", \"x\": [13.491], \"xaxis\": \"x\", \"y\": [55.03], \"yaxis\": \"y\"}, {\"hovertemplate\": \"location=Estonia<extra></extra>\", \"legendgroup\": \"Estonia\", \"marker\": {\"color\": \"#B6E880\", \"symbol\": \"circle\"}, \"mode\": \"lines\", \"name\": \"Estonia\", \"showlegend\": false, \"type\": \"scatter\", \"xaxis\": \"x\", \"yaxis\": \"y\"}, {\"customdata\": [[\"Eswatini\"]], \"hovertemplate\": \"location=%{customdata[0]}<br>aged_70_older=%{x}<br>total_deaths_per_million=%{y}<extra></extra>\", \"legendgroup\": \"Eswatini\", \"marker\": {\"color\": \"#FF97FF\", \"symbol\": \"circle\"}, \"mode\": \"markers\", \"name\": \"Eswatini\", \"orientation\": \"v\", \"showlegend\": true, \"type\": \"scatter\", \"x\": [1.845], \"xaxis\": \"x\", \"y\": [99.986], \"yaxis\": \"y\"}, {\"hovertemplate\": \"location=Eswatini<extra></extra>\", \"legendgroup\": \"Eswatini\", \"marker\": {\"color\": \"#FF97FF\", \"symbol\": \"circle\"}, \"mode\": \"lines\", \"name\": \"Eswatini\", \"showlegend\": false, \"type\": \"scatter\", \"xaxis\": \"x\", \"yaxis\": \"y\"}, {\"customdata\": [[\"Ethiopia\"]], \"hovertemplate\": \"location=%{customdata[0]}<br>aged_70_older=%{x}<br>total_deaths_per_million=%{y}<extra></extra>\", \"legendgroup\": \"Ethiopia\", \"marker\": {\"color\": \"#FECB52\", \"symbol\": \"circle\"}, \"mode\": \"markers\", \"name\": \"Ethiopia\", \"orientation\": \"v\", \"showlegend\": true, \"type\": \"scatter\", \"x\": [2.063], \"xaxis\": \"x\", \"y\": [12.569], \"yaxis\": \"y\"}, {\"hovertemplate\": \"location=Ethiopia<extra></extra>\", \"legendgroup\": \"Ethiopia\", \"marker\": {\"color\": \"#FECB52\", \"symbol\": \"circle\"}, \"mode\": \"lines\", \"name\": \"Ethiopia\", \"showlegend\": false, \"type\": \"scatter\", \"xaxis\": \"x\", \"yaxis\": \"y\"}, {\"customdata\": [[\"Europe\"]], \"hovertemplate\": \"location=%{customdata[0]}<br>aged_70_older=%{x}<br>total_deaths_per_million=%{y}<extra></extra>\", \"legendgroup\": \"Europe\", \"marker\": {\"color\": \"#636efa\", \"symbol\": \"circle\"}, \"mode\": \"markers\", \"name\": \"Europe\", \"orientation\": \"v\", \"showlegend\": true, \"type\": \"scatter\", \"x\": [0.0], \"xaxis\": \"x\", \"y\": [341.639], \"yaxis\": \"y\"}, {\"hovertemplate\": \"location=Europe<extra></extra>\", \"legendgroup\": \"Europe\", \"marker\": {\"color\": \"#636efa\", \"symbol\": \"circle\"}, \"mode\": \"lines\", \"name\": \"Europe\", \"showlegend\": false, \"type\": \"scatter\", \"xaxis\": \"x\", \"yaxis\": \"y\"}, {\"customdata\": [[\"European Union\"]], \"hovertemplate\": \"location=%{customdata[0]}<br>aged_70_older=%{x}<br>total_deaths_per_million=%{y}<extra></extra>\", \"legendgroup\": \"European Union\", \"marker\": {\"color\": \"#EF553B\", \"symbol\": \"circle\"}, \"mode\": \"markers\", \"name\": \"European Union\", \"orientation\": \"v\", \"showlegend\": true, \"type\": \"scatter\", \"x\": [0.0], \"xaxis\": \"x\", \"y\": [376.736], \"yaxis\": \"y\"}, {\"hovertemplate\": \"location=European Union<extra></extra>\", \"legendgroup\": \"European Union\", \"marker\": {\"color\": \"#EF553B\", \"symbol\": \"circle\"}, \"mode\": \"lines\", \"name\": \"European Union\", \"showlegend\": false, \"type\": \"scatter\", \"xaxis\": \"x\", \"yaxis\": \"y\"}, {\"customdata\": [[\"Fiji\"]], \"hovertemplate\": \"location=%{customdata[0]}<br>aged_70_older=%{x}<br>total_deaths_per_million=%{y}<extra></extra>\", \"legendgroup\": \"Fiji\", \"marker\": {\"color\": \"#00cc96\", \"symbol\": \"circle\"}, \"mode\": \"markers\", \"name\": \"Fiji\", \"orientation\": \"v\", \"showlegend\": true, \"type\": \"scatter\", \"x\": [3.284], \"xaxis\": \"x\", \"y\": [2.231], \"yaxis\": \"y\"}, {\"hovertemplate\": \"location=Fiji<extra></extra>\", \"legendgroup\": \"Fiji\", \"marker\": {\"color\": \"#00cc96\", \"symbol\": \"circle\"}, \"mode\": \"lines\", \"name\": \"Fiji\", \"showlegend\": false, \"type\": \"scatter\", \"xaxis\": \"x\", \"yaxis\": \"y\"}, {\"customdata\": [[\"Finland\"]], \"hovertemplate\": \"location=%{customdata[0]}<br>aged_70_older=%{x}<br>total_deaths_per_million=%{y}<extra></extra>\", \"legendgroup\": \"Finland\", \"marker\": {\"color\": \"#ab63fa\", \"symbol\": \"circle\"}, \"mode\": \"markers\", \"name\": \"Finland\", \"orientation\": \"v\", \"showlegend\": true, \"type\": \"scatter\", \"x\": [13.264], \"xaxis\": \"x\", \"y\": [63.891], \"yaxis\": \"y\"}, {\"hovertemplate\": \"location=Finland<extra></extra>\", \"legendgroup\": \"Finland\", \"marker\": {\"color\": \"#ab63fa\", \"symbol\": \"circle\"}, \"mode\": \"lines\", \"name\": \"Finland\", \"showlegend\": false, \"type\": \"scatter\", \"xaxis\": \"x\", \"yaxis\": \"y\"}, {\"customdata\": [[\"France\"]], \"hovertemplate\": \"location=%{customdata[0]}<br>aged_70_older=%{x}<br>total_deaths_per_million=%{y}<extra></extra>\", \"legendgroup\": \"France\", \"marker\": {\"color\": \"#FFA15A\", \"symbol\": \"circle\"}, \"mode\": \"markers\", \"name\": \"France\", \"orientation\": \"v\", \"showlegend\": true, \"type\": \"scatter\", \"x\": [13.079], \"xaxis\": \"x\", \"y\": [521.911], \"yaxis\": \"y\"}, {\"hovertemplate\": \"location=France<extra></extra>\", \"legendgroup\": \"France\", \"marker\": {\"color\": \"#FFA15A\", \"symbol\": \"circle\"}, \"mode\": \"lines\", \"name\": \"France\", \"showlegend\": false, \"type\": \"scatter\", \"xaxis\": \"x\", \"yaxis\": \"y\"}, {\"customdata\": [[\"Gabon\"]], \"hovertemplate\": \"location=%{customdata[0]}<br>aged_70_older=%{x}<br>total_deaths_per_million=%{y}<extra></extra>\", \"legendgroup\": \"Gabon\", \"marker\": {\"color\": \"#19d3f3\", \"symbol\": \"circle\"}, \"mode\": \"markers\", \"name\": \"Gabon\", \"orientation\": \"v\", \"showlegend\": true, \"type\": \"scatter\", \"x\": [2.976], \"xaxis\": \"x\", \"y\": [24.262], \"yaxis\": \"y\"}, {\"hovertemplate\": \"location=Gabon<extra></extra>\", \"legendgroup\": \"Gabon\", \"marker\": {\"color\": \"#19d3f3\", \"symbol\": \"circle\"}, \"mode\": \"lines\", \"name\": \"Gabon\", \"showlegend\": false, \"type\": \"scatter\", \"xaxis\": \"x\", \"yaxis\": \"y\"}, {\"customdata\": [[\"Gambia\"]], \"hovertemplate\": \"location=%{customdata[0]}<br>aged_70_older=%{x}<br>total_deaths_per_million=%{y}<extra></extra>\", \"legendgroup\": \"Gambia\", \"marker\": {\"color\": \"#FF6692\", \"symbol\": \"circle\"}, \"mode\": \"markers\", \"name\": \"Gambia\", \"orientation\": \"v\", \"showlegend\": true, \"type\": \"scatter\", \"x\": [1.417], \"xaxis\": \"x\", \"y\": [49.241], \"yaxis\": \"y\"}, {\"hovertemplate\": \"location=Gambia<extra></extra>\", \"legendgroup\": \"Gambia\", \"marker\": {\"color\": \"#FF6692\", \"symbol\": \"circle\"}, \"mode\": \"lines\", \"name\": \"Gambia\", \"showlegend\": false, \"type\": \"scatter\", \"xaxis\": \"x\", \"yaxis\": \"y\"}, {\"customdata\": [[\"Georgia\"]], \"hovertemplate\": \"location=%{customdata[0]}<br>aged_70_older=%{x}<br>total_deaths_per_million=%{y}<extra></extra>\", \"legendgroup\": \"Georgia\", \"marker\": {\"color\": \"#B6E880\", \"symbol\": \"circle\"}, \"mode\": \"markers\", \"name\": \"Georgia\", \"orientation\": \"v\", \"showlegend\": true, \"type\": \"scatter\", \"x\": [10.244], \"xaxis\": \"x\", \"y\": [59.661], \"yaxis\": \"y\"}, {\"hovertemplate\": \"location=Georgia<extra></extra>\", \"legendgroup\": \"Georgia\", \"marker\": {\"color\": \"#B6E880\", \"symbol\": \"circle\"}, \"mode\": \"lines\", \"name\": \"Georgia\", \"showlegend\": false, \"type\": \"scatter\", \"xaxis\": \"x\", \"yaxis\": \"y\"}, {\"customdata\": [[\"Germany\"]], \"hovertemplate\": \"location=%{customdata[0]}<br>aged_70_older=%{x}<br>total_deaths_per_million=%{y}<extra></extra>\", \"legendgroup\": \"Germany\", \"marker\": {\"color\": \"#FF97FF\", \"symbol\": \"circle\"}, \"mode\": \"markers\", \"name\": \"Germany\", \"orientation\": \"v\", \"showlegend\": true, \"type\": \"scatter\", \"x\": [15.957], \"xaxis\": \"x\", \"y\": [120.799], \"yaxis\": \"y\"}, {\"hovertemplate\": \"location=Germany<extra></extra>\", \"legendgroup\": \"Germany\", \"marker\": {\"color\": \"#FF97FF\", \"symbol\": \"circle\"}, \"mode\": \"lines\", \"name\": \"Germany\", \"showlegend\": false, \"type\": \"scatter\", \"xaxis\": \"x\", \"yaxis\": \"y\"}, {\"customdata\": [[\"Ghana\"]], \"hovertemplate\": \"location=%{customdata[0]}<br>aged_70_older=%{x}<br>total_deaths_per_million=%{y}<extra></extra>\", \"legendgroup\": \"Ghana\", \"marker\": {\"color\": \"#FECB52\", \"symbol\": \"circle\"}, \"mode\": \"markers\", \"name\": \"Ghana\", \"orientation\": \"v\", \"showlegend\": true, \"type\": \"scatter\", \"x\": [1.948], \"xaxis\": \"x\", \"y\": [10.17], \"yaxis\": \"y\"}, {\"hovertemplate\": \"location=Ghana<extra></extra>\", \"legendgroup\": \"Ghana\", \"marker\": {\"color\": \"#FECB52\", \"symbol\": \"circle\"}, \"mode\": \"lines\", \"name\": \"Ghana\", \"showlegend\": false, \"type\": \"scatter\", \"xaxis\": \"x\", \"yaxis\": \"y\"}, {\"customdata\": [[\"Greece\"]], \"hovertemplate\": \"location=%{customdata[0]}<br>aged_70_older=%{x}<br>total_deaths_per_million=%{y}<extra></extra>\", \"legendgroup\": \"Greece\", \"marker\": {\"color\": \"#636efa\", \"symbol\": \"circle\"}, \"mode\": \"markers\", \"name\": \"Greece\", \"orientation\": \"v\", \"showlegend\": true, \"type\": \"scatter\", \"x\": [14.524], \"xaxis\": \"x\", \"y\": [56.893], \"yaxis\": \"y\"}, {\"hovertemplate\": \"location=Greece<extra></extra>\", \"legendgroup\": \"Greece\", \"marker\": {\"color\": \"#636efa\", \"symbol\": \"circle\"}, \"mode\": \"lines\", \"name\": \"Greece\", \"showlegend\": false, \"type\": \"scatter\", \"xaxis\": \"x\", \"yaxis\": \"y\"}, {\"customdata\": [[\"Grenada\"]], \"hovertemplate\": \"location=%{customdata[0]}<br>aged_70_older=%{x}<br>total_deaths_per_million=%{y}<extra></extra>\", \"legendgroup\": \"Grenada\", \"marker\": {\"color\": \"#EF553B\", \"symbol\": \"circle\"}, \"mode\": \"markers\", \"name\": \"Grenada\", \"orientation\": \"v\", \"showlegend\": true, \"type\": \"scatter\", \"x\": [5.021], \"xaxis\": \"x\", \"y\": [0.0], \"yaxis\": \"y\"}, {\"hovertemplate\": \"location=Grenada<extra></extra>\", \"legendgroup\": \"Grenada\", \"marker\": {\"color\": \"#EF553B\", \"symbol\": \"circle\"}, \"mode\": \"lines\", \"name\": \"Grenada\", \"showlegend\": false, \"type\": \"scatter\", \"xaxis\": \"x\", \"yaxis\": \"y\"}, {\"customdata\": [[\"Guatemala\"]], \"hovertemplate\": \"location=%{customdata[0]}<br>aged_70_older=%{x}<br>total_deaths_per_million=%{y}<extra></extra>\", \"legendgroup\": \"Guatemala\", \"marker\": {\"color\": \"#00cc96\", \"symbol\": \"circle\"}, \"mode\": \"markers\", \"name\": \"Guatemala\", \"orientation\": \"v\", \"showlegend\": true, \"type\": \"scatter\", \"x\": [3.016], \"xaxis\": \"x\", \"y\": [204.571], \"yaxis\": \"y\"}, {\"hovertemplate\": \"location=Guatemala<extra></extra>\", \"legendgroup\": \"Guatemala\", \"marker\": {\"color\": \"#00cc96\", \"symbol\": \"circle\"}, \"mode\": \"lines\", \"name\": \"Guatemala\", \"showlegend\": false, \"type\": \"scatter\", \"xaxis\": \"x\", \"yaxis\": \"y\"}, {\"customdata\": [[\"Guinea\"]], \"hovertemplate\": \"location=%{customdata[0]}<br>aged_70_older=%{x}<br>total_deaths_per_million=%{y}<extra></extra>\", \"legendgroup\": \"Guinea\", \"marker\": {\"color\": \"#ab63fa\", \"symbol\": \"circle\"}, \"mode\": \"markers\", \"name\": \"Guinea\", \"orientation\": \"v\", \"showlegend\": true, \"type\": \"scatter\", \"x\": [1.733], \"xaxis\": \"x\", \"y\": [5.406], \"yaxis\": \"y\"}, {\"hovertemplate\": \"location=Guinea<extra></extra>\", \"legendgroup\": \"Guinea\", \"marker\": {\"color\": \"#ab63fa\", \"symbol\": \"circle\"}, \"mode\": \"lines\", \"name\": \"Guinea\", \"showlegend\": false, \"type\": \"scatter\", \"xaxis\": \"x\", \"yaxis\": \"y\"}, {\"customdata\": [[\"Guinea-Bissau\"]], \"hovertemplate\": \"location=%{customdata[0]}<br>aged_70_older=%{x}<br>total_deaths_per_million=%{y}<extra></extra>\", \"legendgroup\": \"Guinea-Bissau\", \"marker\": {\"color\": \"#FFA15A\", \"symbol\": \"circle\"}, \"mode\": \"markers\", \"name\": \"Guinea-Bissau\", \"orientation\": \"v\", \"showlegend\": true, \"type\": \"scatter\", \"x\": [1.565], \"xaxis\": \"x\", \"y\": [20.833], \"yaxis\": \"y\"}, {\"hovertemplate\": \"location=Guinea-Bissau<extra></extra>\", \"legendgroup\": \"Guinea-Bissau\", \"marker\": {\"color\": \"#FFA15A\", \"symbol\": \"circle\"}, \"mode\": \"lines\", \"name\": \"Guinea-Bissau\", \"showlegend\": false, \"type\": \"scatter\", \"xaxis\": \"x\", \"yaxis\": \"y\"}, {\"customdata\": [[\"Guyana\"]], \"hovertemplate\": \"location=%{customdata[0]}<br>aged_70_older=%{x}<br>total_deaths_per_million=%{y}<extra></extra>\", \"legendgroup\": \"Guyana\", \"marker\": {\"color\": \"#19d3f3\", \"symbol\": \"circle\"}, \"mode\": \"markers\", \"name\": \"Guyana\", \"orientation\": \"v\", \"showlegend\": true, \"type\": \"scatter\", \"x\": [2.837], \"xaxis\": \"x\", \"y\": [151.292], \"yaxis\": \"y\"}, {\"hovertemplate\": \"location=Guyana<extra></extra>\", \"legendgroup\": \"Guyana\", \"marker\": {\"color\": \"#19d3f3\", \"symbol\": \"circle\"}, \"mode\": \"lines\", \"name\": \"Guyana\", \"showlegend\": false, \"type\": \"scatter\", \"xaxis\": \"x\", \"yaxis\": \"y\"}, {\"customdata\": [[\"Haiti\"]], \"hovertemplate\": \"location=%{customdata[0]}<br>aged_70_older=%{x}<br>total_deaths_per_million=%{y}<extra></extra>\", \"legendgroup\": \"Haiti\", \"marker\": {\"color\": \"#FF6692\", \"symbol\": \"circle\"}, \"mode\": \"markers\", \"name\": \"Haiti\", \"orientation\": \"v\", \"showlegend\": true, \"type\": \"scatter\", \"x\": [2.954], \"xaxis\": \"x\", \"y\": [20.346], \"yaxis\": \"y\"}, {\"hovertemplate\": \"location=Haiti<extra></extra>\", \"legendgroup\": \"Haiti\", \"marker\": {\"color\": \"#FF6692\", \"symbol\": \"circle\"}, \"mode\": \"lines\", \"name\": \"Haiti\", \"showlegend\": false, \"type\": \"scatter\", \"xaxis\": \"x\", \"yaxis\": \"y\"}, {\"customdata\": [[\"Honduras\"]], \"hovertemplate\": \"location=%{customdata[0]}<br>aged_70_older=%{x}<br>total_deaths_per_million=%{y}<extra></extra>\", \"legendgroup\": \"Honduras\", \"marker\": {\"color\": \"#B6E880\", \"symbol\": \"circle\"}, \"mode\": \"markers\", \"name\": \"Honduras\", \"orientation\": \"v\", \"showlegend\": true, \"type\": \"scatter\", \"x\": [2.883], \"xaxis\": \"x\", \"y\": [266.442], \"yaxis\": \"y\"}, {\"hovertemplate\": \"location=Honduras<extra></extra>\", \"legendgroup\": \"Honduras\", \"marker\": {\"color\": \"#B6E880\", \"symbol\": \"circle\"}, \"mode\": \"lines\", \"name\": \"Honduras\", \"showlegend\": false, \"type\": \"scatter\", \"xaxis\": \"x\", \"yaxis\": \"y\"}, {\"customdata\": [[\"Hong Kong\"]], \"hovertemplate\": \"location=%{customdata[0]}<br>aged_70_older=%{x}<br>total_deaths_per_million=%{y}<extra></extra>\", \"legendgroup\": \"Hong Kong\", \"marker\": {\"color\": \"#FF97FF\", \"symbol\": \"circle\"}, \"mode\": \"markers\", \"name\": \"Hong Kong\", \"orientation\": \"v\", \"showlegend\": true, \"type\": \"scatter\", \"x\": [10.158], \"xaxis\": \"x\", \"y\": [0.0], \"yaxis\": \"y\"}, {\"hovertemplate\": \"location=Hong Kong<extra></extra>\", \"legendgroup\": \"Hong Kong\", \"marker\": {\"color\": \"#FF97FF\", \"symbol\": \"circle\"}, \"mode\": \"lines\", \"name\": \"Hong Kong\", \"showlegend\": false, \"type\": \"scatter\", \"xaxis\": \"x\", \"yaxis\": \"y\"}, {\"customdata\": [[\"Hungary\"]], \"hovertemplate\": \"location=%{customdata[0]}<br>aged_70_older=%{x}<br>total_deaths_per_million=%{y}<extra></extra>\", \"legendgroup\": \"Hungary\", \"marker\": {\"color\": \"#FECB52\", \"symbol\": \"circle\"}, \"mode\": \"markers\", \"name\": \"Hungary\", \"orientation\": \"v\", \"showlegend\": true, \"type\": \"scatter\", \"x\": [11.976], \"xaxis\": \"x\", \"y\": [158.897], \"yaxis\": \"y\"}, {\"hovertemplate\": \"location=Hungary<extra></extra>\", \"legendgroup\": \"Hungary\", \"marker\": {\"color\": \"#FECB52\", \"symbol\": \"circle\"}, \"mode\": \"lines\", \"name\": \"Hungary\", \"showlegend\": false, \"type\": \"scatter\", \"xaxis\": \"x\", \"yaxis\": \"y\"}, {\"customdata\": [[\"Iceland\"]], \"hovertemplate\": \"location=%{customdata[0]}<br>aged_70_older=%{x}<br>total_deaths_per_million=%{y}<extra></extra>\", \"legendgroup\": \"Iceland\", \"marker\": {\"color\": \"#636efa\", \"symbol\": \"circle\"}, \"mode\": \"markers\", \"name\": \"Iceland\", \"orientation\": \"v\", \"showlegend\": true, \"type\": \"scatter\", \"x\": [9.207], \"xaxis\": \"x\", \"y\": [32.234], \"yaxis\": \"y\"}, {\"hovertemplate\": \"location=Iceland<extra></extra>\", \"legendgroup\": \"Iceland\", \"marker\": {\"color\": \"#636efa\", \"symbol\": \"circle\"}, \"mode\": \"lines\", \"name\": \"Iceland\", \"showlegend\": false, \"type\": \"scatter\", \"xaxis\": \"x\", \"yaxis\": \"y\"}, {\"customdata\": [[\"India\"]], \"hovertemplate\": \"location=%{customdata[0]}<br>aged_70_older=%{x}<br>total_deaths_per_million=%{y}<extra></extra>\", \"legendgroup\": \"India\", \"marker\": {\"color\": \"#EF553B\", \"symbol\": \"circle\"}, \"mode\": \"markers\", \"name\": \"India\", \"orientation\": \"v\", \"showlegend\": true, \"type\": \"scatter\", \"x\": [3.414], \"xaxis\": \"x\", \"y\": [86.963], \"yaxis\": \"y\"}, {\"hovertemplate\": \"location=India<extra></extra>\", \"legendgroup\": \"India\", \"marker\": {\"color\": \"#EF553B\", \"symbol\": \"circle\"}, \"mode\": \"lines\", \"name\": \"India\", \"showlegend\": false, \"type\": \"scatter\", \"xaxis\": \"x\", \"yaxis\": \"y\"}, {\"customdata\": [[\"Indonesia\"]], \"hovertemplate\": \"location=%{customdata[0]}<br>aged_70_older=%{x}<br>total_deaths_per_million=%{y}<extra></extra>\", \"legendgroup\": \"Indonesia\", \"marker\": {\"color\": \"#00cc96\", \"symbol\": \"circle\"}, \"mode\": \"markers\", \"name\": \"Indonesia\", \"orientation\": \"v\", \"showlegend\": true, \"type\": \"scatter\", \"x\": [3.053], \"xaxis\": \"x\", \"y\": [49.4], \"yaxis\": \"y\"}, {\"hovertemplate\": \"location=Indonesia<extra></extra>\", \"legendgroup\": \"Indonesia\", \"marker\": {\"color\": \"#00cc96\", \"symbol\": \"circle\"}, \"mode\": \"lines\", \"name\": \"Indonesia\", \"showlegend\": false, \"type\": \"scatter\", \"xaxis\": \"x\", \"yaxis\": \"y\"}, {\"customdata\": [[\"International\"]], \"hovertemplate\": \"location=%{customdata[0]}<br>aged_70_older=%{x}<br>total_deaths_per_million=%{y}<extra></extra>\", \"legendgroup\": \"International\", \"marker\": {\"color\": \"#ab63fa\", \"symbol\": \"circle\"}, \"mode\": \"markers\", \"name\": \"International\", \"orientation\": \"v\", \"showlegend\": true, \"type\": \"scatter\", \"x\": [0.0], \"xaxis\": \"x\", \"y\": [0.0], \"yaxis\": \"y\"}, {\"hovertemplate\": \"location=International<extra></extra>\", \"legendgroup\": \"International\", \"marker\": {\"color\": \"#ab63fa\", \"symbol\": \"circle\"}, \"mode\": \"lines\", \"name\": \"International\", \"showlegend\": false, \"type\": \"scatter\", \"xaxis\": \"x\", \"yaxis\": \"y\"}, {\"customdata\": [[\"Iran\"]], \"hovertemplate\": \"location=%{customdata[0]}<br>aged_70_older=%{x}<br>total_deaths_per_million=%{y}<extra></extra>\", \"legendgroup\": \"Iran\", \"marker\": {\"color\": \"#FFA15A\", \"symbol\": \"circle\"}, \"mode\": \"markers\", \"name\": \"Iran\", \"orientation\": \"v\", \"showlegend\": true, \"type\": \"scatter\", \"x\": [3.182], \"xaxis\": \"x\", \"y\": [396.45], \"yaxis\": \"y\"}, {\"hovertemplate\": \"location=Iran<extra></extra>\", \"legendgroup\": \"Iran\", \"marker\": {\"color\": \"#FFA15A\", \"symbol\": \"circle\"}, \"mode\": \"lines\", \"name\": \"Iran\", \"showlegend\": false, \"type\": \"scatter\", \"xaxis\": \"x\", \"yaxis\": \"y\"}, {\"customdata\": [[\"Iraq\"]], \"hovertemplate\": \"location=%{customdata[0]}<br>aged_70_older=%{x}<br>total_deaths_per_million=%{y}<extra></extra>\", \"legendgroup\": \"Iraq\", \"marker\": {\"color\": \"#19d3f3\", \"symbol\": \"circle\"}, \"mode\": \"markers\", \"name\": \"Iraq\", \"orientation\": \"v\", \"showlegend\": true, \"type\": \"scatter\", \"x\": [1.957], \"xaxis\": \"x\", \"y\": [266.617], \"yaxis\": \"y\"}, {\"hovertemplate\": \"location=Iraq<extra></extra>\", \"legendgroup\": \"Iraq\", \"marker\": {\"color\": \"#19d3f3\", \"symbol\": \"circle\"}, \"mode\": \"lines\", \"name\": \"Iraq\", \"showlegend\": false, \"type\": \"scatter\", \"xaxis\": \"x\", \"yaxis\": \"y\"}, {\"customdata\": [[\"Ireland\"]], \"hovertemplate\": \"location=%{customdata[0]}<br>aged_70_older=%{x}<br>total_deaths_per_million=%{y}<extra></extra>\", \"legendgroup\": \"Ireland\", \"marker\": {\"color\": \"#FF6692\", \"symbol\": \"circle\"}, \"mode\": \"markers\", \"name\": \"Ireland\", \"orientation\": \"v\", \"showlegend\": true, \"type\": \"scatter\", \"x\": [8.678], \"xaxis\": \"x\", \"y\": [382.762], \"yaxis\": \"y\"}, {\"hovertemplate\": \"location=Ireland<extra></extra>\", \"legendgroup\": \"Ireland\", \"marker\": {\"color\": \"#FF6692\", \"symbol\": \"circle\"}, \"mode\": \"lines\", \"name\": \"Ireland\", \"showlegend\": false, \"type\": \"scatter\", \"xaxis\": \"x\", \"yaxis\": \"y\"}, {\"customdata\": [[\"Israel\"]], \"hovertemplate\": \"location=%{customdata[0]}<br>aged_70_older=%{x}<br>total_deaths_per_million=%{y}<extra></extra>\", \"legendgroup\": \"Israel\", \"marker\": {\"color\": \"#B6E880\", \"symbol\": \"circle\"}, \"mode\": \"markers\", \"name\": \"Israel\", \"orientation\": \"v\", \"showlegend\": true, \"type\": \"scatter\", \"x\": [7.359], \"xaxis\": \"x\", \"y\": [288.37], \"yaxis\": \"y\"}, {\"hovertemplate\": \"location=Israel<extra></extra>\", \"legendgroup\": \"Israel\", \"marker\": {\"color\": \"#B6E880\", \"symbol\": \"circle\"}, \"mode\": \"lines\", \"name\": \"Israel\", \"showlegend\": false, \"type\": \"scatter\", \"xaxis\": \"x\", \"yaxis\": \"y\"}, {\"customdata\": [[\"Italy\"]], \"hovertemplate\": \"location=%{customdata[0]}<br>aged_70_older=%{x}<br>total_deaths_per_million=%{y}<extra></extra>\", \"legendgroup\": \"Italy\", \"marker\": {\"color\": \"#FF97FF\", \"symbol\": \"circle\"}, \"mode\": \"markers\", \"name\": \"Italy\", \"orientation\": \"v\", \"showlegend\": true, \"type\": \"scatter\", \"x\": [16.24], \"xaxis\": \"x\", \"y\": [623.534], \"yaxis\": \"y\"}, {\"hovertemplate\": \"location=Italy<extra></extra>\", \"legendgroup\": \"Italy\", \"marker\": {\"color\": \"#FF97FF\", \"symbol\": \"circle\"}, \"mode\": \"lines\", \"name\": \"Italy\", \"showlegend\": false, \"type\": \"scatter\", \"xaxis\": \"x\", \"yaxis\": \"y\"}, {\"customdata\": [[\"Jamaica\"]], \"hovertemplate\": \"location=%{customdata[0]}<br>aged_70_older=%{x}<br>total_deaths_per_million=%{y}<extra></extra>\", \"legendgroup\": \"Jamaica\", \"marker\": {\"color\": \"#FECB52\", \"symbol\": \"circle\"}, \"mode\": \"markers\", \"name\": \"Jamaica\", \"orientation\": \"v\", \"showlegend\": true, \"type\": \"scatter\", \"x\": [6.39], \"xaxis\": \"x\", \"y\": [66.19], \"yaxis\": \"y\"}, {\"hovertemplate\": \"location=Jamaica<extra></extra>\", \"legendgroup\": \"Jamaica\", \"marker\": {\"color\": \"#FECB52\", \"symbol\": \"circle\"}, \"mode\": \"lines\", \"name\": \"Jamaica\", \"showlegend\": false, \"type\": \"scatter\", \"xaxis\": \"x\", \"yaxis\": \"y\"}, {\"customdata\": [[\"Japan\"]], \"hovertemplate\": \"location=%{customdata[0]}<br>aged_70_older=%{x}<br>total_deaths_per_million=%{y}<extra></extra>\", \"legendgroup\": \"Japan\", \"marker\": {\"color\": \"#636efa\", \"symbol\": \"circle\"}, \"mode\": \"markers\", \"name\": \"Japan\", \"orientation\": \"v\", \"showlegend\": true, \"type\": \"scatter\", \"x\": [18.493], \"xaxis\": \"x\", \"y\": [13.647], \"yaxis\": \"y\"}, {\"hovertemplate\": \"location=Japan<extra></extra>\", \"legendgroup\": \"Japan\", \"marker\": {\"color\": \"#636efa\", \"symbol\": \"circle\"}, \"mode\": \"lines\", \"name\": \"Japan\", \"showlegend\": false, \"type\": \"scatter\", \"xaxis\": \"x\", \"yaxis\": \"y\"}, {\"customdata\": [[\"Jordan\"]], \"hovertemplate\": \"location=%{customdata[0]}<br>aged_70_older=%{x}<br>total_deaths_per_million=%{y}<extra></extra>\", \"legendgroup\": \"Jordan\", \"marker\": {\"color\": \"#EF553B\", \"symbol\": \"circle\"}, \"mode\": \"markers\", \"name\": \"Jordan\", \"orientation\": \"v\", \"showlegend\": true, \"type\": \"scatter\", \"x\": [2.361], \"xaxis\": \"x\", \"y\": [65.47], \"yaxis\": \"y\"}, {\"hovertemplate\": \"location=Jordan<extra></extra>\", \"legendgroup\": \"Jordan\", \"marker\": {\"color\": \"#EF553B\", \"symbol\": \"circle\"}, \"mode\": \"lines\", \"name\": \"Jordan\", \"showlegend\": false, \"type\": \"scatter\", \"xaxis\": \"x\", \"yaxis\": \"y\"}, {\"customdata\": [[\"Kazakhstan\"]], \"hovertemplate\": \"location=%{customdata[0]}<br>aged_70_older=%{x}<br>total_deaths_per_million=%{y}<extra></extra>\", \"legendgroup\": \"Kazakhstan\", \"marker\": {\"color\": \"#00cc96\", \"symbol\": \"circle\"}, \"mode\": \"markers\", \"name\": \"Kazakhstan\", \"orientation\": \"v\", \"showlegend\": true, \"type\": \"scatter\", \"x\": [4.625], \"xaxis\": \"x\", \"y\": [116.687], \"yaxis\": \"y\"}, {\"hovertemplate\": \"location=Kazakhstan<extra></extra>\", \"legendgroup\": \"Kazakhstan\", \"marker\": {\"color\": \"#00cc96\", \"symbol\": \"circle\"}, \"mode\": \"lines\", \"name\": \"Kazakhstan\", \"showlegend\": false, \"type\": \"scatter\", \"xaxis\": \"x\", \"yaxis\": \"y\"}, {\"customdata\": [[\"Kenya\"]], \"hovertemplate\": \"location=%{customdata[0]}<br>aged_70_older=%{x}<br>total_deaths_per_million=%{y}<extra></extra>\", \"legendgroup\": \"Kenya\", \"marker\": {\"color\": \"#ab63fa\", \"symbol\": \"circle\"}, \"mode\": \"markers\", \"name\": \"Kenya\", \"orientation\": \"v\", \"showlegend\": true, \"type\": \"scatter\", \"x\": [1.528], \"xaxis\": \"x\", \"y\": [17.37], \"yaxis\": \"y\"}, {\"hovertemplate\": \"location=Kenya<extra></extra>\", \"legendgroup\": \"Kenya\", \"marker\": {\"color\": \"#ab63fa\", \"symbol\": \"circle\"}, \"mode\": \"lines\", \"name\": \"Kenya\", \"showlegend\": false, \"type\": \"scatter\", \"xaxis\": \"x\", \"yaxis\": \"y\"}, {\"customdata\": [[\"Kosovo\"]], \"hovertemplate\": \"location=%{customdata[0]}<br>aged_70_older=%{x}<br>total_deaths_per_million=%{y}<extra></extra>\", \"legendgroup\": \"Kosovo\", \"marker\": {\"color\": \"#FFA15A\", \"symbol\": \"circle\"}, \"mode\": \"markers\", \"name\": \"Kosovo\", \"orientation\": \"v\", \"showlegend\": true, \"type\": \"scatter\", \"x\": [0.0], \"xaxis\": \"x\", \"y\": [343.03], \"yaxis\": \"y\"}, {\"hovertemplate\": \"location=Kosovo<extra></extra>\", \"legendgroup\": \"Kosovo\", \"marker\": {\"color\": \"#FFA15A\", \"symbol\": \"circle\"}, \"mode\": \"lines\", \"name\": \"Kosovo\", \"showlegend\": false, \"type\": \"scatter\", \"xaxis\": \"x\", \"yaxis\": \"y\"}, {\"customdata\": [[\"Kuwait\"]], \"hovertemplate\": \"location=%{customdata[0]}<br>aged_70_older=%{x}<br>total_deaths_per_million=%{y}<extra></extra>\", \"legendgroup\": \"Kuwait\", \"marker\": {\"color\": \"#19d3f3\", \"symbol\": \"circle\"}, \"mode\": \"markers\", \"name\": \"Kuwait\", \"orientation\": \"v\", \"showlegend\": true, \"type\": \"scatter\", \"x\": [1.114], \"xaxis\": \"x\", \"y\": [177.026], \"yaxis\": \"y\"}, {\"hovertemplate\": \"location=Kuwait<extra></extra>\", \"legendgroup\": \"Kuwait\", \"marker\": {\"color\": \"#19d3f3\", \"symbol\": \"circle\"}, \"mode\": \"lines\", \"name\": \"Kuwait\", \"showlegend\": false, \"type\": \"scatter\", \"xaxis\": \"x\", \"yaxis\": \"y\"}, {\"customdata\": [[\"Kyrgyzstan\"]], \"hovertemplate\": \"location=%{customdata[0]}<br>aged_70_older=%{x}<br>total_deaths_per_million=%{y}<extra></extra>\", \"legendgroup\": \"Kyrgyzstan\", \"marker\": {\"color\": \"#FF6692\", \"symbol\": \"circle\"}, \"mode\": \"markers\", \"name\": \"Kyrgyzstan\", \"orientation\": \"v\", \"showlegend\": true, \"type\": \"scatter\", \"x\": [2.882], \"xaxis\": \"x\", \"y\": [174.121], \"yaxis\": \"y\"}, {\"hovertemplate\": \"location=Kyrgyzstan<extra></extra>\", \"legendgroup\": \"Kyrgyzstan\", \"marker\": {\"color\": \"#FF6692\", \"symbol\": \"circle\"}, \"mode\": \"lines\", \"name\": \"Kyrgyzstan\", \"showlegend\": false, \"type\": \"scatter\", \"xaxis\": \"x\", \"yaxis\": \"y\"}, {\"customdata\": [[\"Laos\"]], \"hovertemplate\": \"location=%{customdata[0]}<br>aged_70_older=%{x}<br>total_deaths_per_million=%{y}<extra></extra>\", \"legendgroup\": \"Laos\", \"marker\": {\"color\": \"#B6E880\", \"symbol\": \"circle\"}, \"mode\": \"markers\", \"name\": \"Laos\", \"orientation\": \"v\", \"showlegend\": true, \"type\": \"scatter\", \"x\": [2.322], \"xaxis\": \"x\", \"y\": [0.0], \"yaxis\": \"y\"}, {\"hovertemplate\": \"location=Laos<extra></extra>\", \"legendgroup\": \"Laos\", \"marker\": {\"color\": \"#B6E880\", \"symbol\": \"circle\"}, \"mode\": \"lines\", \"name\": \"Laos\", \"showlegend\": false, \"type\": \"scatter\", \"xaxis\": \"x\", \"yaxis\": \"y\"}, {\"customdata\": [[\"Latvia\"]], \"hovertemplate\": \"location=%{customdata[0]}<br>aged_70_older=%{x}<br>total_deaths_per_million=%{y}<extra></extra>\", \"legendgroup\": \"Latvia\", \"marker\": {\"color\": \"#FF97FF\", \"symbol\": \"circle\"}, \"mode\": \"markers\", \"name\": \"Latvia\", \"orientation\": \"v\", \"showlegend\": true, \"type\": \"scatter\", \"x\": [14.136], \"xaxis\": \"x\", \"y\": [33.4], \"yaxis\": \"y\"}, {\"hovertemplate\": \"location=Latvia<extra></extra>\", \"legendgroup\": \"Latvia\", \"marker\": {\"color\": \"#FF97FF\", \"symbol\": \"circle\"}, \"mode\": \"lines\", \"name\": \"Latvia\", \"showlegend\": false, \"type\": \"scatter\", \"xaxis\": \"x\", \"yaxis\": \"y\"}, {\"customdata\": [[\"Lebanon\"]], \"hovertemplate\": \"location=%{customdata[0]}<br>aged_70_older=%{x}<br>total_deaths_per_million=%{y}<extra></extra>\", \"legendgroup\": \"Lebanon\", \"marker\": {\"color\": \"#FECB52\", \"symbol\": \"circle\"}, \"mode\": \"markers\", \"name\": \"Lebanon\", \"orientation\": \"v\", \"showlegend\": true, \"type\": \"scatter\", \"x\": [5.43], \"xaxis\": \"x\", \"y\": [86.441], \"yaxis\": \"y\"}, {\"hovertemplate\": \"location=Lebanon<extra></extra>\", \"legendgroup\": \"Lebanon\", \"marker\": {\"color\": \"#FECB52\", \"symbol\": \"circle\"}, \"mode\": \"lines\", \"name\": \"Lebanon\", \"showlegend\": false, \"type\": \"scatter\", \"xaxis\": \"x\", \"yaxis\": \"y\"}, {\"customdata\": [[\"Lesotho\"]], \"hovertemplate\": \"location=%{customdata[0]}<br>aged_70_older=%{x}<br>total_deaths_per_million=%{y}<extra></extra>\", \"legendgroup\": \"Lesotho\", \"marker\": {\"color\": \"#636efa\", \"symbol\": \"circle\"}, \"mode\": \"markers\", \"name\": \"Lesotho\", \"orientation\": \"v\", \"showlegend\": true, \"type\": \"scatter\", \"x\": [2.647], \"xaxis\": \"x\", \"y\": [20.072], \"yaxis\": \"y\"}, {\"hovertemplate\": \"location=Lesotho<extra></extra>\", \"legendgroup\": \"Lesotho\", \"marker\": {\"color\": \"#636efa\", \"symbol\": \"circle\"}, \"mode\": \"lines\", \"name\": \"Lesotho\", \"showlegend\": false, \"type\": \"scatter\", \"xaxis\": \"x\", \"yaxis\": \"y\"}, {\"customdata\": [[\"Liberia\"]], \"hovertemplate\": \"location=%{customdata[0]}<br>aged_70_older=%{x}<br>total_deaths_per_million=%{y}<extra></extra>\", \"legendgroup\": \"Liberia\", \"marker\": {\"color\": \"#EF553B\", \"symbol\": \"circle\"}, \"mode\": \"markers\", \"name\": \"Liberia\", \"orientation\": \"v\", \"showlegend\": true, \"type\": \"scatter\", \"x\": [1.756], \"xaxis\": \"x\", \"y\": [16.213], \"yaxis\": \"y\"}, {\"hovertemplate\": \"location=Liberia<extra></extra>\", \"legendgroup\": \"Liberia\", \"marker\": {\"color\": \"#EF553B\", \"symbol\": \"circle\"}, \"mode\": \"lines\", \"name\": \"Liberia\", \"showlegend\": false, \"type\": \"scatter\", \"xaxis\": \"x\", \"yaxis\": \"y\"}, {\"customdata\": [[\"Libya\"]], \"hovertemplate\": \"location=%{customdata[0]}<br>aged_70_older=%{x}<br>total_deaths_per_million=%{y}<extra></extra>\", \"legendgroup\": \"Libya\", \"marker\": {\"color\": \"#00cc96\", \"symbol\": \"circle\"}, \"mode\": \"markers\", \"name\": \"Libya\", \"orientation\": \"v\", \"showlegend\": true, \"type\": \"scatter\", \"x\": [2.816], \"xaxis\": \"x\", \"y\": [118.173], \"yaxis\": \"y\"}, {\"hovertemplate\": \"location=Libya<extra></extra>\", \"legendgroup\": \"Libya\", \"marker\": {\"color\": \"#00cc96\", \"symbol\": \"circle\"}, \"mode\": \"lines\", \"name\": \"Libya\", \"showlegend\": false, \"type\": \"scatter\", \"xaxis\": \"x\", \"yaxis\": \"y\"}, {\"customdata\": [[\"Liechtenstein\"]], \"hovertemplate\": \"location=%{customdata[0]}<br>aged_70_older=%{x}<br>total_deaths_per_million=%{y}<extra></extra>\", \"legendgroup\": \"Liechtenstein\", \"marker\": {\"color\": \"#ab63fa\", \"symbol\": \"circle\"}, \"mode\": \"markers\", \"name\": \"Liechtenstein\", \"orientation\": \"v\", \"showlegend\": true, \"type\": \"scatter\", \"x\": [0.0], \"xaxis\": \"x\", \"y\": [26.221], \"yaxis\": \"y\"}, {\"hovertemplate\": \"location=Liechtenstein<extra></extra>\", \"legendgroup\": \"Liechtenstein\", \"marker\": {\"color\": \"#ab63fa\", \"symbol\": \"circle\"}, \"mode\": \"lines\", \"name\": \"Liechtenstein\", \"showlegend\": false, \"type\": \"scatter\", \"xaxis\": \"x\", \"yaxis\": \"y\"}, {\"customdata\": [[\"Lithuania\"]], \"hovertemplate\": \"location=%{customdata[0]}<br>aged_70_older=%{x}<br>total_deaths_per_million=%{y}<extra></extra>\", \"legendgroup\": \"Lithuania\", \"marker\": {\"color\": \"#FFA15A\", \"symbol\": \"circle\"}, \"mode\": \"markers\", \"name\": \"Lithuania\", \"orientation\": \"v\", \"showlegend\": true, \"type\": \"scatter\", \"x\": [13.778], \"xaxis\": \"x\", \"y\": [47.387], \"yaxis\": \"y\"}, {\"hovertemplate\": \"location=Lithuania<extra></extra>\", \"legendgroup\": \"Lithuania\", \"marker\": {\"color\": \"#FFA15A\", \"symbol\": \"circle\"}, \"mode\": \"lines\", \"name\": \"Lithuania\", \"showlegend\": false, \"type\": \"scatter\", \"xaxis\": \"x\", \"yaxis\": \"y\"}, {\"customdata\": [[\"Luxembourg\"]], \"hovertemplate\": \"location=%{customdata[0]}<br>aged_70_older=%{x}<br>total_deaths_per_million=%{y}<extra></extra>\", \"legendgroup\": \"Luxembourg\", \"marker\": {\"color\": \"#19d3f3\", \"symbol\": \"circle\"}, \"mode\": \"markers\", \"name\": \"Luxembourg\", \"orientation\": \"v\", \"showlegend\": true, \"type\": \"scatter\", \"x\": [9.842], \"xaxis\": \"x\", \"y\": [234.833], \"yaxis\": \"y\"}, {\"hovertemplate\": \"location=Luxembourg<extra></extra>\", \"legendgroup\": \"Luxembourg\", \"marker\": {\"color\": \"#19d3f3\", \"symbol\": \"circle\"}, \"mode\": \"lines\", \"name\": \"Luxembourg\", \"showlegend\": false, \"type\": \"scatter\", \"xaxis\": \"x\", \"yaxis\": \"y\"}, {\"customdata\": [[\"Madagascar\"]], \"hovertemplate\": \"location=%{customdata[0]}<br>aged_70_older=%{x}<br>total_deaths_per_million=%{y}<extra></extra>\", \"legendgroup\": \"Madagascar\", \"marker\": {\"color\": \"#FF6692\", \"symbol\": \"circle\"}, \"mode\": \"markers\", \"name\": \"Madagascar\", \"orientation\": \"v\", \"showlegend\": true, \"type\": \"scatter\", \"x\": [1.686], \"xaxis\": \"x\", \"y\": [8.812], \"yaxis\": \"y\"}, {\"hovertemplate\": \"location=Madagascar<extra></extra>\", \"legendgroup\": \"Madagascar\", \"marker\": {\"color\": \"#FF6692\", \"symbol\": \"circle\"}, \"mode\": \"lines\", \"name\": \"Madagascar\", \"showlegend\": false, \"type\": \"scatter\", \"xaxis\": \"x\", \"yaxis\": \"y\"}, {\"customdata\": [[\"Malawi\"]], \"hovertemplate\": \"location=%{customdata[0]}<br>aged_70_older=%{x}<br>total_deaths_per_million=%{y}<extra></extra>\", \"legendgroup\": \"Malawi\", \"marker\": {\"color\": \"#B6E880\", \"symbol\": \"circle\"}, \"mode\": \"markers\", \"name\": \"Malawi\", \"orientation\": \"v\", \"showlegend\": true, \"type\": \"scatter\", \"x\": [1.783], \"xaxis\": \"x\", \"y\": [9.566], \"yaxis\": \"y\"}, {\"hovertemplate\": \"location=Malawi<extra></extra>\", \"legendgroup\": \"Malawi\", \"marker\": {\"color\": \"#B6E880\", \"symbol\": \"circle\"}, \"mode\": \"lines\", \"name\": \"Malawi\", \"showlegend\": false, \"type\": \"scatter\", \"xaxis\": \"x\", \"yaxis\": \"y\"}, {\"customdata\": [[\"Malaysia\"]], \"hovertemplate\": \"location=%{customdata[0]}<br>aged_70_older=%{x}<br>total_deaths_per_million=%{y}<extra></extra>\", \"legendgroup\": \"Malaysia\", \"marker\": {\"color\": \"#FF97FF\", \"symbol\": \"circle\"}, \"mode\": \"markers\", \"name\": \"Malaysia\", \"orientation\": \"v\", \"showlegend\": true, \"type\": \"scatter\", \"x\": [3.407], \"xaxis\": \"x\", \"y\": [7.353], \"yaxis\": \"y\"}, {\"hovertemplate\": \"location=Malaysia<extra></extra>\", \"legendgroup\": \"Malaysia\", \"marker\": {\"color\": \"#FF97FF\", \"symbol\": \"circle\"}, \"mode\": \"lines\", \"name\": \"Malaysia\", \"showlegend\": false, \"type\": \"scatter\", \"xaxis\": \"x\", \"yaxis\": \"y\"}, {\"customdata\": [[\"Maldives\"]], \"hovertemplate\": \"location=%{customdata[0]}<br>aged_70_older=%{x}<br>total_deaths_per_million=%{y}<extra></extra>\", \"legendgroup\": \"Maldives\", \"marker\": {\"color\": \"#FECB52\", \"symbol\": \"circle\"}, \"mode\": \"markers\", \"name\": \"Maldives\", \"orientation\": \"v\", \"showlegend\": true, \"type\": \"scatter\", \"x\": [2.875], \"xaxis\": \"x\", \"y\": [68.45], \"yaxis\": \"y\"}, {\"hovertemplate\": \"location=Maldives<extra></extra>\", \"legendgroup\": \"Maldives\", \"marker\": {\"color\": \"#FECB52\", \"symbol\": \"circle\"}, \"mode\": \"lines\", \"name\": \"Maldives\", \"showlegend\": false, \"type\": \"scatter\", \"xaxis\": \"x\", \"yaxis\": \"y\"}, {\"customdata\": [[\"Mali\"]], \"hovertemplate\": \"location=%{customdata[0]}<br>aged_70_older=%{x}<br>total_deaths_per_million=%{y}<extra></extra>\", \"legendgroup\": \"Mali\", \"marker\": {\"color\": \"#636efa\", \"symbol\": \"circle\"}, \"mode\": \"markers\", \"name\": \"Mali\", \"orientation\": \"v\", \"showlegend\": true, \"type\": \"scatter\", \"x\": [1.486], \"xaxis\": \"x\", \"y\": [6.716], \"yaxis\": \"y\"}, {\"hovertemplate\": \"location=Mali<extra></extra>\", \"legendgroup\": \"Mali\", \"marker\": {\"color\": \"#636efa\", \"symbol\": \"circle\"}, \"mode\": \"lines\", \"name\": \"Mali\", \"showlegend\": false, \"type\": \"scatter\", \"xaxis\": \"x\", \"yaxis\": \"y\"}, {\"customdata\": [[\"Malta\"]], \"hovertemplate\": \"location=%{customdata[0]}<br>aged_70_older=%{x}<br>total_deaths_per_million=%{y}<extra></extra>\", \"legendgroup\": \"Malta\", \"marker\": {\"color\": \"#EF553B\", \"symbol\": \"circle\"}, \"mode\": \"markers\", \"name\": \"Malta\", \"orientation\": \"v\", \"showlegend\": true, \"type\": \"scatter\", \"x\": [11.324], \"xaxis\": \"x\", \"y\": [124.564], \"yaxis\": \"y\"}, {\"hovertemplate\": \"location=Malta<extra></extra>\", \"legendgroup\": \"Malta\", \"marker\": {\"color\": \"#EF553B\", \"symbol\": \"circle\"}, \"mode\": \"lines\", \"name\": \"Malta\", \"showlegend\": false, \"type\": \"scatter\", \"xaxis\": \"x\", \"yaxis\": \"y\"}, {\"customdata\": [[\"Mauritania\"]], \"hovertemplate\": \"location=%{customdata[0]}<br>aged_70_older=%{x}<br>total_deaths_per_million=%{y}<extra></extra>\", \"legendgroup\": \"Mauritania\", \"marker\": {\"color\": \"#00cc96\", \"symbol\": \"circle\"}, \"mode\": \"markers\", \"name\": \"Mauritania\", \"orientation\": \"v\", \"showlegend\": true, \"type\": \"scatter\", \"x\": [1.792], \"xaxis\": \"x\", \"y\": [35.056], \"yaxis\": \"y\"}, {\"hovertemplate\": \"location=Mauritania<extra></extra>\", \"legendgroup\": \"Mauritania\", \"marker\": {\"color\": \"#00cc96\", \"symbol\": \"circle\"}, \"mode\": \"lines\", \"name\": \"Mauritania\", \"showlegend\": false, \"type\": \"scatter\", \"xaxis\": \"x\", \"yaxis\": \"y\"}, {\"customdata\": [[\"Mauritius\"]], \"hovertemplate\": \"location=%{customdata[0]}<br>aged_70_older=%{x}<br>total_deaths_per_million=%{y}<extra></extra>\", \"legendgroup\": \"Mauritius\", \"marker\": {\"color\": \"#ab63fa\", \"symbol\": \"circle\"}, \"mode\": \"markers\", \"name\": \"Mauritius\", \"orientation\": \"v\", \"showlegend\": true, \"type\": \"scatter\", \"x\": [5.884], \"xaxis\": \"x\", \"y\": [7.863], \"yaxis\": \"y\"}, {\"hovertemplate\": \"location=Mauritius<extra></extra>\", \"legendgroup\": \"Mauritius\", \"marker\": {\"color\": \"#ab63fa\", \"symbol\": \"circle\"}, \"mode\": \"lines\", \"name\": \"Mauritius\", \"showlegend\": false, \"type\": \"scatter\", \"xaxis\": \"x\", \"yaxis\": \"y\"}, {\"customdata\": [[\"Mexico\"]], \"hovertemplate\": \"location=%{customdata[0]}<br>aged_70_older=%{x}<br>total_deaths_per_million=%{y}<extra></extra>\", \"legendgroup\": \"Mexico\", \"marker\": {\"color\": \"#FFA15A\", \"symbol\": \"circle\"}, \"mode\": \"markers\", \"name\": \"Mexico\", \"orientation\": \"v\", \"showlegend\": true, \"type\": \"scatter\", \"x\": [4.321], \"xaxis\": \"x\", \"y\": [696.596], \"yaxis\": \"y\"}, {\"hovertemplate\": \"location=Mexico<extra></extra>\", \"legendgroup\": \"Mexico\", \"marker\": {\"color\": \"#FFA15A\", \"symbol\": \"circle\"}, \"mode\": \"lines\", \"name\": \"Mexico\", \"showlegend\": false, \"type\": \"scatter\", \"xaxis\": \"x\", \"yaxis\": \"y\"}, {\"customdata\": [[\"Moldova\"]], \"hovertemplate\": \"location=%{customdata[0]}<br>aged_70_older=%{x}<br>total_deaths_per_million=%{y}<extra></extra>\", \"legendgroup\": \"Moldova\", \"marker\": {\"color\": \"#19d3f3\", \"symbol\": \"circle\"}, \"mode\": \"markers\", \"name\": \"Moldova\", \"orientation\": \"v\", \"showlegend\": true, \"type\": \"scatter\", \"x\": [6.955], \"xaxis\": \"x\", \"y\": [423.901], \"yaxis\": \"y\"}, {\"hovertemplate\": \"location=Moldova<extra></extra>\", \"legendgroup\": \"Moldova\", \"marker\": {\"color\": \"#19d3f3\", \"symbol\": \"circle\"}, \"mode\": \"lines\", \"name\": \"Moldova\", \"showlegend\": false, \"type\": \"scatter\", \"xaxis\": \"x\", \"yaxis\": \"y\"}, {\"customdata\": [[\"Monaco\"]], \"hovertemplate\": \"location=%{customdata[0]}<br>aged_70_older=%{x}<br>total_deaths_per_million=%{y}<extra></extra>\", \"legendgroup\": \"Monaco\", \"marker\": {\"color\": \"#FF6692\", \"symbol\": \"circle\"}, \"mode\": \"markers\", \"name\": \"Monaco\", \"orientation\": \"v\", \"showlegend\": true, \"type\": \"scatter\", \"x\": [0.0], \"xaxis\": \"x\", \"y\": [50.963], \"yaxis\": \"y\"}, {\"hovertemplate\": \"location=Monaco<extra></extra>\", \"legendgroup\": \"Monaco\", \"marker\": {\"color\": \"#FF6692\", \"symbol\": \"circle\"}, \"mode\": \"lines\", \"name\": \"Monaco\", \"showlegend\": false, \"type\": \"scatter\", \"xaxis\": \"x\", \"yaxis\": \"y\"}, {\"customdata\": [[\"Mongolia\"]], \"hovertemplate\": \"location=%{customdata[0]}<br>aged_70_older=%{x}<br>total_deaths_per_million=%{y}<extra></extra>\", \"legendgroup\": \"Mongolia\", \"marker\": {\"color\": \"#B6E880\", \"symbol\": \"circle\"}, \"mode\": \"markers\", \"name\": \"Mongolia\", \"orientation\": \"v\", \"showlegend\": true, \"type\": \"scatter\", \"x\": [2.421], \"xaxis\": \"x\", \"y\": [0.0], \"yaxis\": \"y\"}, {\"hovertemplate\": \"location=Mongolia<extra></extra>\", \"legendgroup\": \"Mongolia\", \"marker\": {\"color\": \"#B6E880\", \"symbol\": \"circle\"}, \"mode\": \"lines\", \"name\": \"Mongolia\", \"showlegend\": false, \"type\": \"scatter\", \"xaxis\": \"x\", \"yaxis\": \"y\"}, {\"customdata\": [[\"Montenegro\"]], \"hovertemplate\": \"location=%{customdata[0]}<br>aged_70_older=%{x}<br>total_deaths_per_million=%{y}<extra></extra>\", \"legendgroup\": \"Montenegro\", \"marker\": {\"color\": \"#FF97FF\", \"symbol\": \"circle\"}, \"mode\": \"markers\", \"name\": \"Montenegro\", \"orientation\": \"v\", \"showlegend\": true, \"type\": \"scatter\", \"x\": [9.395], \"xaxis\": \"x\", \"y\": [437.855], \"yaxis\": \"y\"}, {\"hovertemplate\": \"location=Montenegro<extra></extra>\", \"legendgroup\": \"Montenegro\", \"marker\": {\"color\": \"#FF97FF\", \"symbol\": \"circle\"}, \"mode\": \"lines\", \"name\": \"Montenegro\", \"showlegend\": false, \"type\": \"scatter\", \"xaxis\": \"x\", \"yaxis\": \"y\"}, {\"customdata\": [[\"Morocco\"]], \"hovertemplate\": \"location=%{customdata[0]}<br>aged_70_older=%{x}<br>total_deaths_per_million=%{y}<extra></extra>\", \"legendgroup\": \"Morocco\", \"marker\": {\"color\": \"#FECB52\", \"symbol\": \"circle\"}, \"mode\": \"markers\", \"name\": \"Morocco\", \"orientation\": \"v\", \"showlegend\": true, \"type\": \"scatter\", \"x\": [4.209], \"xaxis\": \"x\", \"y\": [93.334], \"yaxis\": \"y\"}, {\"hovertemplate\": \"location=Morocco<extra></extra>\", \"legendgroup\": \"Morocco\", \"marker\": {\"color\": \"#FECB52\", \"symbol\": \"circle\"}, \"mode\": \"lines\", \"name\": \"Morocco\", \"showlegend\": false, \"type\": \"scatter\", \"xaxis\": \"x\", \"yaxis\": \"y\"}, {\"customdata\": [[\"Mozambique\"]], \"hovertemplate\": \"location=%{customdata[0]}<br>aged_70_older=%{x}<br>total_deaths_per_million=%{y}<extra></extra>\", \"legendgroup\": \"Mozambique\", \"marker\": {\"color\": \"#636efa\", \"symbol\": \"circle\"}, \"mode\": \"markers\", \"name\": \"Mozambique\", \"orientation\": \"v\", \"showlegend\": true, \"type\": \"scatter\", \"x\": [1.87], \"xaxis\": \"x\", \"y\": [2.848], \"yaxis\": \"y\"}, {\"hovertemplate\": \"location=Mozambique<extra></extra>\", \"legendgroup\": \"Mozambique\", \"marker\": {\"color\": \"#636efa\", \"symbol\": \"circle\"}, \"mode\": \"lines\", \"name\": \"Mozambique\", \"showlegend\": false, \"type\": \"scatter\", \"xaxis\": \"x\", \"yaxis\": \"y\"}, {\"customdata\": [[\"Myanmar\"]], \"hovertemplate\": \"location=%{customdata[0]}<br>aged_70_older=%{x}<br>total_deaths_per_million=%{y}<extra></extra>\", \"legendgroup\": \"Myanmar\", \"marker\": {\"color\": \"#EF553B\", \"symbol\": \"circle\"}, \"mode\": \"markers\", \"name\": \"Myanmar\", \"orientation\": \"v\", \"showlegend\": true, \"type\": \"scatter\", \"x\": [3.12], \"xaxis\": \"x\", \"y\": [21.081], \"yaxis\": \"y\"}, {\"hovertemplate\": \"location=Myanmar<extra></extra>\", \"legendgroup\": \"Myanmar\", \"marker\": {\"color\": \"#EF553B\", \"symbol\": \"circle\"}, \"mode\": \"lines\", \"name\": \"Myanmar\", \"showlegend\": false, \"type\": \"scatter\", \"xaxis\": \"x\", \"yaxis\": \"y\"}, {\"customdata\": [[\"Namibia\"]], \"hovertemplate\": \"location=%{customdata[0]}<br>aged_70_older=%{x}<br>total_deaths_per_million=%{y}<extra></extra>\", \"legendgroup\": \"Namibia\", \"marker\": {\"color\": \"#00cc96\", \"symbol\": \"circle\"}, \"mode\": \"markers\", \"name\": \"Namibia\", \"orientation\": \"v\", \"showlegend\": true, \"type\": \"scatter\", \"x\": [2.085], \"xaxis\": \"x\", \"y\": [52.343], \"yaxis\": \"y\"}, {\"hovertemplate\": \"location=Namibia<extra></extra>\", \"legendgroup\": \"Namibia\", \"marker\": {\"color\": \"#00cc96\", \"symbol\": \"circle\"}, \"mode\": \"lines\", \"name\": \"Namibia\", \"showlegend\": false, \"type\": \"scatter\", \"xaxis\": \"x\", \"yaxis\": \"y\"}, {\"customdata\": [[\"Nepal\"]], \"hovertemplate\": \"location=%{customdata[0]}<br>aged_70_older=%{x}<br>total_deaths_per_million=%{y}<extra></extra>\", \"legendgroup\": \"Nepal\", \"marker\": {\"color\": \"#ab63fa\", \"symbol\": \"circle\"}, \"mode\": \"markers\", \"name\": \"Nepal\", \"orientation\": \"v\", \"showlegend\": true, \"type\": \"scatter\", \"x\": [3.212], \"xaxis\": \"x\", \"y\": [30.065], \"yaxis\": \"y\"}, {\"hovertemplate\": \"location=Nepal<extra></extra>\", \"legendgroup\": \"Nepal\", \"marker\": {\"color\": \"#ab63fa\", \"symbol\": \"circle\"}, \"mode\": \"lines\", \"name\": \"Nepal\", \"showlegend\": false, \"type\": \"scatter\", \"xaxis\": \"x\", \"yaxis\": \"y\"}, {\"customdata\": [[\"Netherlands\"]], \"hovertemplate\": \"location=%{customdata[0]}<br>aged_70_older=%{x}<br>total_deaths_per_million=%{y}<extra></extra>\", \"legendgroup\": \"Netherlands\", \"marker\": {\"color\": \"#FFA15A\", \"symbol\": \"circle\"}, \"mode\": \"markers\", \"name\": \"Netherlands\", \"orientation\": \"v\", \"showlegend\": true, \"type\": \"scatter\", \"x\": [11.881], \"xaxis\": \"x\", \"y\": [420.429], \"yaxis\": \"y\"}, {\"hovertemplate\": \"location=Netherlands<extra></extra>\", \"legendgroup\": \"Netherlands\", \"marker\": {\"color\": \"#FFA15A\", \"symbol\": \"circle\"}, \"mode\": \"lines\", \"name\": \"Netherlands\", \"showlegend\": false, \"type\": \"scatter\", \"xaxis\": \"x\", \"yaxis\": \"y\"}, {\"customdata\": [[\"New Zealand\"]], \"hovertemplate\": \"location=%{customdata[0]}<br>aged_70_older=%{x}<br>total_deaths_per_million=%{y}<extra></extra>\", \"legendgroup\": \"New Zealand\", \"marker\": {\"color\": \"#19d3f3\", \"symbol\": \"circle\"}, \"mode\": \"markers\", \"name\": \"New Zealand\", \"orientation\": \"v\", \"showlegend\": true, \"type\": \"scatter\", \"x\": [9.72], \"xaxis\": \"x\", \"y\": [5.184], \"yaxis\": \"y\"}, {\"hovertemplate\": \"location=New Zealand<extra></extra>\", \"legendgroup\": \"New Zealand\", \"marker\": {\"color\": \"#19d3f3\", \"symbol\": \"circle\"}, \"mode\": \"lines\", \"name\": \"New Zealand\", \"showlegend\": false, \"type\": \"scatter\", \"xaxis\": \"x\", \"yaxis\": \"y\"}, {\"customdata\": [[\"Nicaragua\"]], \"hovertemplate\": \"location=%{customdata[0]}<br>aged_70_older=%{x}<br>total_deaths_per_million=%{y}<extra></extra>\", \"legendgroup\": \"Nicaragua\", \"marker\": {\"color\": \"#FF6692\", \"symbol\": \"circle\"}, \"mode\": \"markers\", \"name\": \"Nicaragua\", \"orientation\": \"v\", \"showlegend\": true, \"type\": \"scatter\", \"x\": [3.519], \"xaxis\": \"x\", \"y\": [23.549], \"yaxis\": \"y\"}, {\"hovertemplate\": \"location=Nicaragua<extra></extra>\", \"legendgroup\": \"Nicaragua\", \"marker\": {\"color\": \"#FF6692\", \"symbol\": \"circle\"}, \"mode\": \"lines\", \"name\": \"Nicaragua\", \"showlegend\": false, \"type\": \"scatter\", \"xaxis\": \"x\", \"yaxis\": \"y\"}, {\"customdata\": [[\"Niger\"]], \"hovertemplate\": \"location=%{customdata[0]}<br>aged_70_older=%{x}<br>total_deaths_per_million=%{y}<extra></extra>\", \"legendgroup\": \"Niger\", \"marker\": {\"color\": \"#B6E880\", \"symbol\": \"circle\"}, \"mode\": \"markers\", \"name\": \"Niger\", \"orientation\": \"v\", \"showlegend\": true, \"type\": \"scatter\", \"x\": [1.378], \"xaxis\": \"x\", \"y\": [2.85], \"yaxis\": \"y\"}, {\"hovertemplate\": \"location=Niger<extra></extra>\", \"legendgroup\": \"Niger\", \"marker\": {\"color\": \"#B6E880\", \"symbol\": \"circle\"}, \"mode\": \"lines\", \"name\": \"Niger\", \"showlegend\": false, \"type\": \"scatter\", \"xaxis\": \"x\", \"yaxis\": \"y\"}, {\"customdata\": [[\"Nigeria\"]], \"hovertemplate\": \"location=%{customdata[0]}<br>aged_70_older=%{x}<br>total_deaths_per_million=%{y}<extra></extra>\", \"legendgroup\": \"Nigeria\", \"marker\": {\"color\": \"#FF97FF\", \"symbol\": \"circle\"}, \"mode\": \"markers\", \"name\": \"Nigeria\", \"orientation\": \"v\", \"showlegend\": true, \"type\": \"scatter\", \"x\": [1.447], \"xaxis\": \"x\", \"y\": [5.506], \"yaxis\": \"y\"}, {\"hovertemplate\": \"location=Nigeria<extra></extra>\", \"legendgroup\": \"Nigeria\", \"marker\": {\"color\": \"#FF97FF\", \"symbol\": \"circle\"}, \"mode\": \"lines\", \"name\": \"Nigeria\", \"showlegend\": false, \"type\": \"scatter\", \"xaxis\": \"x\", \"yaxis\": \"y\"}, {\"customdata\": [[\"North America\"]], \"hovertemplate\": \"location=%{customdata[0]}<br>aged_70_older=%{x}<br>total_deaths_per_million=%{y}<extra></extra>\", \"legendgroup\": \"North America\", \"marker\": {\"color\": \"#FECB52\", \"symbol\": \"circle\"}, \"mode\": \"markers\", \"name\": \"North America\", \"orientation\": \"v\", \"showlegend\": true, \"type\": \"scatter\", \"x\": [0.0], \"xaxis\": \"x\", \"y\": [577.865], \"yaxis\": \"y\"}, {\"hovertemplate\": \"location=North America<extra></extra>\", \"legendgroup\": \"North America\", \"marker\": {\"color\": \"#FECB52\", \"symbol\": \"circle\"}, \"mode\": \"lines\", \"name\": \"North America\", \"showlegend\": false, \"type\": \"scatter\", \"xaxis\": \"x\", \"yaxis\": \"y\"}, {\"customdata\": [[\"North Macedonia\"]], \"hovertemplate\": \"location=%{customdata[0]}<br>aged_70_older=%{x}<br>total_deaths_per_million=%{y}<extra></extra>\", \"legendgroup\": \"North Macedonia\", \"marker\": {\"color\": \"#636efa\", \"symbol\": \"circle\"}, \"mode\": \"markers\", \"name\": \"North Macedonia\", \"orientation\": \"v\", \"showlegend\": true, \"type\": \"scatter\", \"x\": [8.16], \"xaxis\": \"x\", \"y\": [455.51], \"yaxis\": \"y\"}, {\"hovertemplate\": \"location=North Macedonia<extra></extra>\", \"legendgroup\": \"North Macedonia\", \"marker\": {\"color\": \"#636efa\", \"symbol\": \"circle\"}, \"mode\": \"lines\", \"name\": \"North Macedonia\", \"showlegend\": false, \"type\": \"scatter\", \"xaxis\": \"x\", \"yaxis\": \"y\"}, {\"customdata\": [[\"Norway\"]], \"hovertemplate\": \"location=%{customdata[0]}<br>aged_70_older=%{x}<br>total_deaths_per_million=%{y}<extra></extra>\", \"legendgroup\": \"Norway\", \"marker\": {\"color\": \"#EF553B\", \"symbol\": \"circle\"}, \"mode\": \"markers\", \"name\": \"Norway\", \"orientation\": \"v\", \"showlegend\": true, \"type\": \"scatter\", \"x\": [10.813], \"xaxis\": \"x\", \"y\": [51.649], \"yaxis\": \"y\"}, {\"hovertemplate\": \"location=Norway<extra></extra>\", \"legendgroup\": \"Norway\", \"marker\": {\"color\": \"#EF553B\", \"symbol\": \"circle\"}, \"mode\": \"lines\", \"name\": \"Norway\", \"showlegend\": false, \"type\": \"scatter\", \"xaxis\": \"x\", \"yaxis\": \"y\"}, {\"customdata\": [[\"Oceania\"]], \"hovertemplate\": \"location=%{customdata[0]}<br>aged_70_older=%{x}<br>total_deaths_per_million=%{y}<extra></extra>\", \"legendgroup\": \"Oceania\", \"marker\": {\"color\": \"#00cc96\", \"symbol\": \"circle\"}, \"mode\": \"markers\", \"name\": \"Oceania\", \"orientation\": \"v\", \"showlegend\": true, \"type\": \"scatter\", \"x\": [0.0], \"xaxis\": \"x\", \"y\": [22.049], \"yaxis\": \"y\"}, {\"hovertemplate\": \"location=Oceania<extra></extra>\", \"legendgroup\": \"Oceania\", \"marker\": {\"color\": \"#00cc96\", \"symbol\": \"circle\"}, \"mode\": \"lines\", \"name\": \"Oceania\", \"showlegend\": false, \"type\": \"scatter\", \"xaxis\": \"x\", \"yaxis\": \"y\"}, {\"customdata\": [[\"Oman\"]], \"hovertemplate\": \"location=%{customdata[0]}<br>aged_70_older=%{x}<br>total_deaths_per_million=%{y}<extra></extra>\", \"legendgroup\": \"Oman\", \"marker\": {\"color\": \"#ab63fa\", \"symbol\": \"circle\"}, \"mode\": \"markers\", \"name\": \"Oman\", \"orientation\": \"v\", \"showlegend\": true, \"type\": \"scatter\", \"x\": [1.53], \"xaxis\": \"x\", \"y\": [235.576], \"yaxis\": \"y\"}, {\"hovertemplate\": \"location=Oman<extra></extra>\", \"legendgroup\": \"Oman\", \"marker\": {\"color\": \"#ab63fa\", \"symbol\": \"circle\"}, \"mode\": \"lines\", \"name\": \"Oman\", \"showlegend\": false, \"type\": \"scatter\", \"xaxis\": \"x\", \"yaxis\": \"y\"}, {\"customdata\": [[\"Pakistan\"]], \"hovertemplate\": \"location=%{customdata[0]}<br>aged_70_older=%{x}<br>total_deaths_per_million=%{y}<extra></extra>\", \"legendgroup\": \"Pakistan\", \"marker\": {\"color\": \"#FFA15A\", \"symbol\": \"circle\"}, \"mode\": \"markers\", \"name\": \"Pakistan\", \"orientation\": \"v\", \"showlegend\": true, \"type\": \"scatter\", \"x\": [2.78], \"xaxis\": \"x\", \"y\": [30.599], \"yaxis\": \"y\"}, {\"hovertemplate\": \"location=Pakistan<extra></extra>\", \"legendgroup\": \"Pakistan\", \"marker\": {\"color\": \"#FFA15A\", \"symbol\": \"circle\"}, \"mode\": \"lines\", \"name\": \"Pakistan\", \"showlegend\": false, \"type\": \"scatter\", \"xaxis\": \"x\", \"yaxis\": \"y\"}, {\"customdata\": [[\"Palestine\"]], \"hovertemplate\": \"location=%{customdata[0]}<br>aged_70_older=%{x}<br>total_deaths_per_million=%{y}<extra></extra>\", \"legendgroup\": \"Palestine\", \"marker\": {\"color\": \"#19d3f3\", \"symbol\": \"circle\"}, \"mode\": \"markers\", \"name\": \"Palestine\", \"orientation\": \"v\", \"showlegend\": true, \"type\": \"scatter\", \"x\": [1.726], \"xaxis\": \"x\", \"y\": [89.779], \"yaxis\": \"y\"}, {\"hovertemplate\": \"location=Palestine<extra></extra>\", \"legendgroup\": \"Palestine\", \"marker\": {\"color\": \"#19d3f3\", \"symbol\": \"circle\"}, \"mode\": \"lines\", \"name\": \"Palestine\", \"showlegend\": false, \"type\": \"scatter\", \"xaxis\": \"x\", \"yaxis\": \"y\"}, {\"customdata\": [[\"Panama\"]], \"hovertemplate\": \"location=%{customdata[0]}<br>aged_70_older=%{x}<br>total_deaths_per_million=%{y}<extra></extra>\", \"legendgroup\": \"Panama\", \"marker\": {\"color\": \"#FF6692\", \"symbol\": \"circle\"}, \"mode\": \"markers\", \"name\": \"Panama\", \"orientation\": \"v\", \"showlegend\": true, \"type\": \"scatter\", \"x\": [5.03], \"xaxis\": \"x\", \"y\": [614.17], \"yaxis\": \"y\"}, {\"hovertemplate\": \"location=Panama<extra></extra>\", \"legendgroup\": \"Panama\", \"marker\": {\"color\": \"#FF6692\", \"symbol\": \"circle\"}, \"mode\": \"lines\", \"name\": \"Panama\", \"showlegend\": false, \"type\": \"scatter\", \"xaxis\": \"x\", \"yaxis\": \"y\"}, {\"customdata\": [[\"Papua New Guinea\"]], \"hovertemplate\": \"location=%{customdata[0]}<br>aged_70_older=%{x}<br>total_deaths_per_million=%{y}<extra></extra>\", \"legendgroup\": \"Papua New Guinea\", \"marker\": {\"color\": \"#B6E880\", \"symbol\": \"circle\"}, \"mode\": \"markers\", \"name\": \"Papua New Guinea\", \"orientation\": \"v\", \"showlegend\": true, \"type\": \"scatter\", \"x\": [2.142], \"xaxis\": \"x\", \"y\": [0.782], \"yaxis\": \"y\"}, {\"hovertemplate\": \"location=Papua New Guinea<extra></extra>\", \"legendgroup\": \"Papua New Guinea\", \"marker\": {\"color\": \"#B6E880\", \"symbol\": \"circle\"}, \"mode\": \"lines\", \"name\": \"Papua New Guinea\", \"showlegend\": false, \"type\": \"scatter\", \"xaxis\": \"x\", \"yaxis\": \"y\"}, {\"customdata\": [[\"Paraguay\"]], \"hovertemplate\": \"location=%{customdata[0]}<br>aged_70_older=%{x}<br>total_deaths_per_million=%{y}<extra></extra>\", \"legendgroup\": \"Paraguay\", \"marker\": {\"color\": \"#FF97FF\", \"symbol\": \"circle\"}, \"mode\": \"markers\", \"name\": \"Paraguay\", \"orientation\": \"v\", \"showlegend\": true, \"type\": \"scatter\", \"x\": [3.833], \"xaxis\": \"x\", \"y\": [188.853], \"yaxis\": \"y\"}, {\"hovertemplate\": \"location=Paraguay<extra></extra>\", \"legendgroup\": \"Paraguay\", \"marker\": {\"color\": \"#FF97FF\", \"symbol\": \"circle\"}, \"mode\": \"lines\", \"name\": \"Paraguay\", \"showlegend\": false, \"type\": \"scatter\", \"xaxis\": \"x\", \"yaxis\": \"y\"}, {\"customdata\": [[\"Peru\"]], \"hovertemplate\": \"location=%{customdata[0]}<br>aged_70_older=%{x}<br>total_deaths_per_million=%{y}<extra></extra>\", \"legendgroup\": \"Peru\", \"marker\": {\"color\": \"#FECB52\", \"symbol\": \"circle\"}, \"mode\": \"markers\", \"name\": \"Peru\", \"orientation\": \"v\", \"showlegend\": true, \"type\": \"scatter\", \"x\": [4.455], \"xaxis\": \"x\", \"y\": [1037.158], \"yaxis\": \"y\"}, {\"hovertemplate\": \"location=Peru<extra></extra>\", \"legendgroup\": \"Peru\", \"marker\": {\"color\": \"#FECB52\", \"symbol\": \"circle\"}, \"mode\": \"lines\", \"name\": \"Peru\", \"showlegend\": false, \"type\": \"scatter\", \"xaxis\": \"x\", \"yaxis\": \"y\"}, {\"customdata\": [[\"Philippines\"]], \"hovertemplate\": \"location=%{customdata[0]}<br>aged_70_older=%{x}<br>total_deaths_per_million=%{y}<extra></extra>\", \"legendgroup\": \"Philippines\", \"marker\": {\"color\": \"#636efa\", \"symbol\": \"circle\"}, \"mode\": \"markers\", \"name\": \"Philippines\", \"orientation\": \"v\", \"showlegend\": true, \"type\": \"scatter\", \"x\": [2.661], \"xaxis\": \"x\", \"y\": [64.363], \"yaxis\": \"y\"}, {\"hovertemplate\": \"location=Philippines<extra></extra>\", \"legendgroup\": \"Philippines\", \"marker\": {\"color\": \"#636efa\", \"symbol\": \"circle\"}, \"mode\": \"lines\", \"name\": \"Philippines\", \"showlegend\": false, \"type\": \"scatter\", \"xaxis\": \"x\", \"yaxis\": \"y\"}, {\"customdata\": [[\"Poland\"]], \"hovertemplate\": \"location=%{customdata[0]}<br>aged_70_older=%{x}<br>total_deaths_per_million=%{y}<extra></extra>\", \"legendgroup\": \"Poland\", \"marker\": {\"color\": \"#EF553B\", \"symbol\": \"circle\"}, \"mode\": \"markers\", \"name\": \"Poland\", \"orientation\": \"v\", \"showlegend\": true, \"type\": \"scatter\", \"x\": [10.202], \"xaxis\": \"x\", \"y\": [121.94], \"yaxis\": \"y\"}, {\"hovertemplate\": \"location=Poland<extra></extra>\", \"legendgroup\": \"Poland\", \"marker\": {\"color\": \"#EF553B\", \"symbol\": \"circle\"}, \"mode\": \"lines\", \"name\": \"Poland\", \"showlegend\": false, \"type\": \"scatter\", \"xaxis\": \"x\", \"yaxis\": \"y\"}, {\"customdata\": [[\"Portugal\"]], \"hovertemplate\": \"location=%{customdata[0]}<br>aged_70_older=%{x}<br>total_deaths_per_million=%{y}<extra></extra>\", \"legendgroup\": \"Portugal\", \"marker\": {\"color\": \"#00cc96\", \"symbol\": \"circle\"}, \"mode\": \"markers\", \"name\": \"Portugal\", \"orientation\": \"v\", \"showlegend\": true, \"type\": \"scatter\", \"x\": [14.924], \"xaxis\": \"x\", \"y\": [232.526], \"yaxis\": \"y\"}, {\"hovertemplate\": \"location=Portugal<extra></extra>\", \"legendgroup\": \"Portugal\", \"marker\": {\"color\": \"#00cc96\", \"symbol\": \"circle\"}, \"mode\": \"lines\", \"name\": \"Portugal\", \"showlegend\": false, \"type\": \"scatter\", \"xaxis\": \"x\", \"yaxis\": \"y\"}, {\"customdata\": [[\"Qatar\"]], \"hovertemplate\": \"location=%{customdata[0]}<br>aged_70_older=%{x}<br>total_deaths_per_million=%{y}<extra></extra>\", \"legendgroup\": \"Qatar\", \"marker\": {\"color\": \"#ab63fa\", \"symbol\": \"circle\"}, \"mode\": \"markers\", \"name\": \"Qatar\", \"orientation\": \"v\", \"showlegend\": true, \"type\": \"scatter\", \"x\": [0.617], \"xaxis\": \"x\", \"y\": [79.832], \"yaxis\": \"y\"}, {\"hovertemplate\": \"location=Qatar<extra></extra>\", \"legendgroup\": \"Qatar\", \"marker\": {\"color\": \"#ab63fa\", \"symbol\": \"circle\"}, \"mode\": \"lines\", \"name\": \"Qatar\", \"showlegend\": false, \"type\": \"scatter\", \"xaxis\": \"x\", \"yaxis\": \"y\"}, {\"customdata\": [[\"Romania\"]], \"hovertemplate\": \"location=%{customdata[0]}<br>aged_70_older=%{x}<br>total_deaths_per_million=%{y}<extra></extra>\", \"legendgroup\": \"Romania\", \"marker\": {\"color\": \"#FFA15A\", \"symbol\": \"circle\"}, \"mode\": \"markers\", \"name\": \"Romania\", \"orientation\": \"v\", \"showlegend\": true, \"type\": \"scatter\", \"x\": [11.69], \"xaxis\": \"x\", \"y\": [341.725], \"yaxis\": \"y\"}, {\"hovertemplate\": \"location=Romania<extra></extra>\", \"legendgroup\": \"Romania\", \"marker\": {\"color\": \"#FFA15A\", \"symbol\": \"circle\"}, \"mode\": \"lines\", \"name\": \"Romania\", \"showlegend\": false, \"type\": \"scatter\", \"xaxis\": \"x\", \"yaxis\": \"y\"}, {\"customdata\": [[\"Russia\"]], \"hovertemplate\": \"location=%{customdata[0]}<br>aged_70_older=%{x}<br>total_deaths_per_million=%{y}<extra></extra>\", \"legendgroup\": \"Russia\", \"marker\": {\"color\": \"#19d3f3\", \"symbol\": \"circle\"}, \"mode\": \"markers\", \"name\": \"Russia\", \"orientation\": \"v\", \"showlegend\": true, \"type\": \"scatter\", \"x\": [9.393], \"xaxis\": \"x\", \"y\": [180.965], \"yaxis\": \"y\"}, {\"hovertemplate\": \"location=Russia<extra></extra>\", \"legendgroup\": \"Russia\", \"marker\": {\"color\": \"#19d3f3\", \"symbol\": \"circle\"}, \"mode\": \"lines\", \"name\": \"Russia\", \"showlegend\": false, \"type\": \"scatter\", \"xaxis\": \"x\", \"yaxis\": \"y\"}, {\"customdata\": [[\"Rwanda\"]], \"hovertemplate\": \"location=%{customdata[0]}<br>aged_70_older=%{x}<br>total_deaths_per_million=%{y}<extra></extra>\", \"legendgroup\": \"Rwanda\", \"marker\": {\"color\": \"#FF6692\", \"symbol\": \"circle\"}, \"mode\": \"markers\", \"name\": \"Rwanda\", \"orientation\": \"v\", \"showlegend\": true, \"type\": \"scatter\", \"x\": [1.642], \"xaxis\": \"x\", \"y\": [2.702], \"yaxis\": \"y\"}, {\"hovertemplate\": \"location=Rwanda<extra></extra>\", \"legendgroup\": \"Rwanda\", \"marker\": {\"color\": \"#FF6692\", \"symbol\": \"circle\"}, \"mode\": \"lines\", \"name\": \"Rwanda\", \"showlegend\": false, \"type\": \"scatter\", \"xaxis\": \"x\", \"yaxis\": \"y\"}, {\"customdata\": [[\"Saint Kitts and Nevis\"]], \"hovertemplate\": \"location=%{customdata[0]}<br>aged_70_older=%{x}<br>total_deaths_per_million=%{y}<extra></extra>\", \"legendgroup\": \"Saint Kitts and Nevis\", \"marker\": {\"color\": \"#B6E880\", \"symbol\": \"circle\"}, \"mode\": \"markers\", \"name\": \"Saint Kitts and Nevis\", \"orientation\": \"v\", \"showlegend\": true, \"type\": \"scatter\", \"x\": [0.0], \"xaxis\": \"x\", \"y\": [0.0], \"yaxis\": \"y\"}, {\"hovertemplate\": \"location=Saint Kitts and Nevis<extra></extra>\", \"legendgroup\": \"Saint Kitts and Nevis\", \"marker\": {\"color\": \"#B6E880\", \"symbol\": \"circle\"}, \"mode\": \"lines\", \"name\": \"Saint Kitts and Nevis\", \"showlegend\": false, \"type\": \"scatter\", \"xaxis\": \"x\", \"yaxis\": \"y\"}, {\"customdata\": [[\"Saint Lucia\"]], \"hovertemplate\": \"location=%{customdata[0]}<br>aged_70_older=%{x}<br>total_deaths_per_million=%{y}<extra></extra>\", \"legendgroup\": \"Saint Lucia\", \"marker\": {\"color\": \"#FF97FF\", \"symbol\": \"circle\"}, \"mode\": \"markers\", \"name\": \"Saint Lucia\", \"orientation\": \"v\", \"showlegend\": true, \"type\": \"scatter\", \"x\": [6.405], \"xaxis\": \"x\", \"y\": [0.0], \"yaxis\": \"y\"}, {\"hovertemplate\": \"location=Saint Lucia<extra></extra>\", \"legendgroup\": \"Saint Lucia\", \"marker\": {\"color\": \"#FF97FF\", \"symbol\": \"circle\"}, \"mode\": \"lines\", \"name\": \"Saint Lucia\", \"showlegend\": false, \"type\": \"scatter\", \"xaxis\": \"x\", \"yaxis\": \"y\"}, {\"customdata\": [[\"Saint Vincent and the Grenadines\"]], \"hovertemplate\": \"location=%{customdata[0]}<br>aged_70_older=%{x}<br>total_deaths_per_million=%{y}<extra></extra>\", \"legendgroup\": \"Saint Vincent and the Grenadines\", \"marker\": {\"color\": \"#FECB52\", \"symbol\": \"circle\"}, \"mode\": \"markers\", \"name\": \"Saint Vincent and the Grenadines\", \"orientation\": \"v\", \"showlegend\": true, \"type\": \"scatter\", \"x\": [4.832], \"xaxis\": \"x\", \"y\": [0.0], \"yaxis\": \"y\"}, {\"hovertemplate\": \"location=Saint Vincent and the Grenadines<extra></extra>\", \"legendgroup\": \"Saint Vincent and the Grenadines\", \"marker\": {\"color\": \"#FECB52\", \"symbol\": \"circle\"}, \"mode\": \"lines\", \"name\": \"Saint Vincent and the Grenadines\", \"showlegend\": false, \"type\": \"scatter\", \"xaxis\": \"x\", \"yaxis\": \"y\"}, {\"customdata\": [[\"San Marino\"]], \"hovertemplate\": \"location=%{customdata[0]}<br>aged_70_older=%{x}<br>total_deaths_per_million=%{y}<extra></extra>\", \"legendgroup\": \"San Marino\", \"marker\": {\"color\": \"#636efa\", \"symbol\": \"circle\"}, \"mode\": \"markers\", \"name\": \"San Marino\", \"orientation\": \"v\", \"showlegend\": true, \"type\": \"scatter\", \"x\": [0.0], \"xaxis\": \"x\", \"y\": [1237.551], \"yaxis\": \"y\"}, {\"hovertemplate\": \"location=San Marino<extra></extra>\", \"legendgroup\": \"San Marino\", \"marker\": {\"color\": \"#636efa\", \"symbol\": \"circle\"}, \"mode\": \"lines\", \"name\": \"San Marino\", \"showlegend\": false, \"type\": \"scatter\", \"xaxis\": \"x\", \"yaxis\": \"y\"}, {\"customdata\": [[\"Sao Tome and Principe\"]], \"hovertemplate\": \"location=%{customdata[0]}<br>aged_70_older=%{x}<br>total_deaths_per_million=%{y}<extra></extra>\", \"legendgroup\": \"Sao Tome and Principe\", \"marker\": {\"color\": \"#EF553B\", \"symbol\": \"circle\"}, \"mode\": \"markers\", \"name\": \"Sao Tome and Principe\", \"orientation\": \"v\", \"showlegend\": true, \"type\": \"scatter\", \"x\": [2.162], \"xaxis\": \"x\", \"y\": [68.443], \"yaxis\": \"y\"}, {\"hovertemplate\": \"location=Sao Tome and Principe<extra></extra>\", \"legendgroup\": \"Sao Tome and Principe\", \"marker\": {\"color\": \"#EF553B\", \"symbol\": \"circle\"}, \"mode\": \"lines\", \"name\": \"Sao Tome and Principe\", \"showlegend\": false, \"type\": \"scatter\", \"xaxis\": \"x\", \"yaxis\": \"y\"}, {\"customdata\": [[\"Saudi Arabia\"]], \"hovertemplate\": \"location=%{customdata[0]}<br>aged_70_older=%{x}<br>total_deaths_per_million=%{y}<extra></extra>\", \"legendgroup\": \"Saudi Arabia\", \"marker\": {\"color\": \"#00cc96\", \"symbol\": \"circle\"}, \"mode\": \"markers\", \"name\": \"Saudi Arabia\", \"orientation\": \"v\", \"showlegend\": true, \"type\": \"scatter\", \"x\": [1.845], \"xaxis\": \"x\", \"y\": [153.071], \"yaxis\": \"y\"}, {\"hovertemplate\": \"location=Saudi Arabia<extra></extra>\", \"legendgroup\": \"Saudi Arabia\", \"marker\": {\"color\": \"#00cc96\", \"symbol\": \"circle\"}, \"mode\": \"lines\", \"name\": \"Saudi Arabia\", \"showlegend\": false, \"type\": \"scatter\", \"xaxis\": \"x\", \"yaxis\": \"y\"}, {\"customdata\": [[\"Senegal\"]], \"hovertemplate\": \"location=%{customdata[0]}<br>aged_70_older=%{x}<br>total_deaths_per_million=%{y}<extra></extra>\", \"legendgroup\": \"Senegal\", \"marker\": {\"color\": \"#ab63fa\", \"symbol\": \"circle\"}, \"mode\": \"markers\", \"name\": \"Senegal\", \"orientation\": \"v\", \"showlegend\": true, \"type\": \"scatter\", \"x\": [1.796], \"xaxis\": \"x\", \"y\": [19.231], \"yaxis\": \"y\"}, {\"hovertemplate\": \"location=Senegal<extra></extra>\", \"legendgroup\": \"Senegal\", \"marker\": {\"color\": \"#ab63fa\", \"symbol\": \"circle\"}, \"mode\": \"lines\", \"name\": \"Senegal\", \"showlegend\": false, \"type\": \"scatter\", \"xaxis\": \"x\", \"yaxis\": \"y\"}, {\"customdata\": [[\"Serbia\"]], \"hovertemplate\": \"location=%{customdata[0]}<br>aged_70_older=%{x}<br>total_deaths_per_million=%{y}<extra></extra>\", \"legendgroup\": \"Serbia\", \"marker\": {\"color\": \"#FFA15A\", \"symbol\": \"circle\"}, \"mode\": \"markers\", \"name\": \"Serbia\", \"orientation\": \"v\", \"showlegend\": true, \"type\": \"scatter\", \"x\": [0.0], \"xaxis\": \"x\", \"y\": [117.274], \"yaxis\": \"y\"}, {\"hovertemplate\": \"location=Serbia<extra></extra>\", \"legendgroup\": \"Serbia\", \"marker\": {\"color\": \"#FFA15A\", \"symbol\": \"circle\"}, \"mode\": \"lines\", \"name\": \"Serbia\", \"showlegend\": false, \"type\": \"scatter\", \"xaxis\": \"x\", \"yaxis\": \"y\"}, {\"customdata\": [[\"Seychelles\"]], \"hovertemplate\": \"location=%{customdata[0]}<br>aged_70_older=%{x}<br>total_deaths_per_million=%{y}<extra></extra>\", \"legendgroup\": \"Seychelles\", \"marker\": {\"color\": \"#19d3f3\", \"symbol\": \"circle\"}, \"mode\": \"markers\", \"name\": \"Seychelles\", \"orientation\": \"v\", \"showlegend\": true, \"type\": \"scatter\", \"x\": [5.586], \"xaxis\": \"x\", \"y\": [0.0], \"yaxis\": \"y\"}, {\"hovertemplate\": \"location=Seychelles<extra></extra>\", \"legendgroup\": \"Seychelles\", \"marker\": {\"color\": \"#19d3f3\", \"symbol\": \"circle\"}, \"mode\": \"lines\", \"name\": \"Seychelles\", \"showlegend\": false, \"type\": \"scatter\", \"xaxis\": \"x\", \"yaxis\": \"y\"}, {\"customdata\": [[\"Sierra Leone\"]], \"hovertemplate\": \"location=%{customdata[0]}<br>aged_70_older=%{x}<br>total_deaths_per_million=%{y}<extra></extra>\", \"legendgroup\": \"Sierra Leone\", \"marker\": {\"color\": \"#FF6692\", \"symbol\": \"circle\"}, \"mode\": \"markers\", \"name\": \"Sierra Leone\", \"orientation\": \"v\", \"showlegend\": true, \"type\": \"scatter\", \"x\": [1.285], \"xaxis\": \"x\", \"y\": [9.277], \"yaxis\": \"y\"}, {\"hovertemplate\": \"location=Sierra Leone<extra></extra>\", \"legendgroup\": \"Sierra Leone\", \"marker\": {\"color\": \"#FF6692\", \"symbol\": \"circle\"}, \"mode\": \"lines\", \"name\": \"Sierra Leone\", \"showlegend\": false, \"type\": \"scatter\", \"xaxis\": \"x\", \"yaxis\": \"y\"}, {\"customdata\": [[\"Singapore\"]], \"hovertemplate\": \"location=%{customdata[0]}<br>aged_70_older=%{x}<br>total_deaths_per_million=%{y}<extra></extra>\", \"legendgroup\": \"Singapore\", \"marker\": {\"color\": \"#B6E880\", \"symbol\": \"circle\"}, \"mode\": \"markers\", \"name\": \"Singapore\", \"orientation\": \"v\", \"showlegend\": true, \"type\": \"scatter\", \"x\": [7.049], \"xaxis\": \"x\", \"y\": [4.786], \"yaxis\": \"y\"}, {\"hovertemplate\": \"location=Singapore<extra></extra>\", \"legendgroup\": \"Singapore\", \"marker\": {\"color\": \"#B6E880\", \"symbol\": \"circle\"}, \"mode\": \"lines\", \"name\": \"Singapore\", \"showlegend\": false, \"type\": \"scatter\", \"xaxis\": \"x\", \"yaxis\": \"y\"}, {\"customdata\": [[\"Slovakia\"]], \"hovertemplate\": \"location=%{customdata[0]}<br>aged_70_older=%{x}<br>total_deaths_per_million=%{y}<extra></extra>\", \"legendgroup\": \"Slovakia\", \"marker\": {\"color\": \"#FF97FF\", \"symbol\": \"circle\"}, \"mode\": \"markers\", \"name\": \"Slovakia\", \"orientation\": \"v\", \"showlegend\": true, \"type\": \"scatter\", \"x\": [9.167], \"xaxis\": \"x\", \"y\": [32.237], \"yaxis\": \"y\"}, {\"hovertemplate\": \"location=Slovakia<extra></extra>\", \"legendgroup\": \"Slovakia\", \"marker\": {\"color\": \"#FF97FF\", \"symbol\": \"circle\"}, \"mode\": \"lines\", \"name\": \"Slovakia\", \"showlegend\": false, \"type\": \"scatter\", \"xaxis\": \"x\", \"yaxis\": \"y\"}, {\"customdata\": [[\"Slovenia\"]], \"hovertemplate\": \"location=%{customdata[0]}<br>aged_70_older=%{x}<br>total_deaths_per_million=%{y}<extra></extra>\", \"legendgroup\": \"Slovenia\", \"marker\": {\"color\": \"#FECB52\", \"symbol\": \"circle\"}, \"mode\": \"markers\", \"name\": \"Slovenia\", \"orientation\": \"v\", \"showlegend\": true, \"type\": \"scatter\", \"x\": [12.93], \"xaxis\": \"x\", \"y\": [126.988], \"yaxis\": \"y\"}, {\"hovertemplate\": \"location=Slovenia<extra></extra>\", \"legendgroup\": \"Slovenia\", \"marker\": {\"color\": \"#FECB52\", \"symbol\": \"circle\"}, \"mode\": \"lines\", \"name\": \"Slovenia\", \"showlegend\": false, \"type\": \"scatter\", \"xaxis\": \"x\", \"yaxis\": \"y\"}, {\"customdata\": [[\"Solomon Islands\"]], \"hovertemplate\": \"location=%{customdata[0]}<br>aged_70_older=%{x}<br>total_deaths_per_million=%{y}<extra></extra>\", \"legendgroup\": \"Solomon Islands\", \"marker\": {\"color\": \"#636efa\", \"symbol\": \"circle\"}, \"mode\": \"markers\", \"name\": \"Solomon Islands\", \"orientation\": \"v\", \"showlegend\": true, \"type\": \"scatter\", \"x\": [2.043], \"xaxis\": \"x\", \"y\": [0.0], \"yaxis\": \"y\"}, {\"hovertemplate\": \"location=Solomon Islands<extra></extra>\", \"legendgroup\": \"Solomon Islands\", \"marker\": {\"color\": \"#636efa\", \"symbol\": \"circle\"}, \"mode\": \"lines\", \"name\": \"Solomon Islands\", \"showlegend\": false, \"type\": \"scatter\", \"xaxis\": \"x\", \"yaxis\": \"y\"}, {\"customdata\": [[\"Somalia\"]], \"hovertemplate\": \"location=%{customdata[0]}<br>aged_70_older=%{x}<br>total_deaths_per_million=%{y}<extra></extra>\", \"legendgroup\": \"Somalia\", \"marker\": {\"color\": \"#EF553B\", \"symbol\": \"circle\"}, \"mode\": \"markers\", \"name\": \"Somalia\", \"orientation\": \"v\", \"showlegend\": true, \"type\": \"scatter\", \"x\": [1.496], \"xaxis\": \"x\", \"y\": [6.544], \"yaxis\": \"y\"}, {\"hovertemplate\": \"location=Somalia<extra></extra>\", \"legendgroup\": \"Somalia\", \"marker\": {\"color\": \"#EF553B\", \"symbol\": \"circle\"}, \"mode\": \"lines\", \"name\": \"Somalia\", \"showlegend\": false, \"type\": \"scatter\", \"xaxis\": \"x\", \"yaxis\": \"y\"}, {\"customdata\": [[\"South Africa\"]], \"hovertemplate\": \"location=%{customdata[0]}<br>aged_70_older=%{x}<br>total_deaths_per_million=%{y}<extra></extra>\", \"legendgroup\": \"South Africa\", \"marker\": {\"color\": \"#00cc96\", \"symbol\": \"circle\"}, \"mode\": \"markers\", \"name\": \"South Africa\", \"orientation\": \"v\", \"showlegend\": true, \"type\": \"scatter\", \"x\": [3.053], \"xaxis\": \"x\", \"y\": [321.251], \"yaxis\": \"y\"}, {\"hovertemplate\": \"location=South Africa<extra></extra>\", \"legendgroup\": \"South Africa\", \"marker\": {\"color\": \"#00cc96\", \"symbol\": \"circle\"}, \"mode\": \"lines\", \"name\": \"South Africa\", \"showlegend\": false, \"type\": \"scatter\", \"xaxis\": \"x\", \"yaxis\": \"y\"}, {\"customdata\": [[\"South America\"]], \"hovertemplate\": \"location=%{customdata[0]}<br>aged_70_older=%{x}<br>total_deaths_per_million=%{y}<extra></extra>\", \"legendgroup\": \"South America\", \"marker\": {\"color\": \"#ab63fa\", \"symbol\": \"circle\"}, \"mode\": \"markers\", \"name\": \"South America\", \"orientation\": \"v\", \"showlegend\": true, \"type\": \"scatter\", \"x\": [0.0], \"xaxis\": \"x\", \"y\": [673.542], \"yaxis\": \"y\"}, {\"hovertemplate\": \"location=South America<extra></extra>\", \"legendgroup\": \"South America\", \"marker\": {\"color\": \"#ab63fa\", \"symbol\": \"circle\"}, \"mode\": \"lines\", \"name\": \"South America\", \"showlegend\": false, \"type\": \"scatter\", \"xaxis\": \"x\", \"yaxis\": \"y\"}, {\"customdata\": [[\"South Korea\"]], \"hovertemplate\": \"location=%{customdata[0]}<br>aged_70_older=%{x}<br>total_deaths_per_million=%{y}<extra></extra>\", \"legendgroup\": \"South Korea\", \"marker\": {\"color\": \"#FFA15A\", \"symbol\": \"circle\"}, \"mode\": \"markers\", \"name\": \"South Korea\", \"orientation\": \"v\", \"showlegend\": true, \"type\": \"scatter\", \"x\": [8.622], \"xaxis\": \"x\", \"y\": [8.992], \"yaxis\": \"y\"}, {\"hovertemplate\": \"location=South Korea<extra></extra>\", \"legendgroup\": \"South Korea\", \"marker\": {\"color\": \"#FFA15A\", \"symbol\": \"circle\"}, \"mode\": \"lines\", \"name\": \"South Korea\", \"showlegend\": false, \"type\": \"scatter\", \"xaxis\": \"x\", \"yaxis\": \"y\"}, {\"customdata\": [[\"South Sudan\"]], \"hovertemplate\": \"location=%{customdata[0]}<br>aged_70_older=%{x}<br>total_deaths_per_million=%{y}<extra></extra>\", \"legendgroup\": \"South Sudan\", \"marker\": {\"color\": \"#19d3f3\", \"symbol\": \"circle\"}, \"mode\": \"markers\", \"name\": \"South Sudan\", \"orientation\": \"v\", \"showlegend\": true, \"type\": \"scatter\", \"x\": [2.032], \"xaxis\": \"x\", \"y\": [5.003], \"yaxis\": \"y\"}, {\"hovertemplate\": \"location=South Sudan<extra></extra>\", \"legendgroup\": \"South Sudan\", \"marker\": {\"color\": \"#19d3f3\", \"symbol\": \"circle\"}, \"mode\": \"lines\", \"name\": \"South Sudan\", \"showlegend\": false, \"type\": \"scatter\", \"xaxis\": \"x\", \"yaxis\": \"y\"}, {\"customdata\": [[\"Spain\"]], \"hovertemplate\": \"location=%{customdata[0]}<br>aged_70_older=%{x}<br>total_deaths_per_million=%{y}<extra></extra>\", \"legendgroup\": \"Spain\", \"marker\": {\"color\": \"#FF6692\", \"symbol\": \"circle\"}, \"mode\": \"markers\", \"name\": \"Spain\", \"orientation\": \"v\", \"showlegend\": true, \"type\": \"scatter\", \"x\": [13.799], \"xaxis\": \"x\", \"y\": [754.96], \"yaxis\": \"y\"}, {\"hovertemplate\": \"location=Spain<extra></extra>\", \"legendgroup\": \"Spain\", \"marker\": {\"color\": \"#FF6692\", \"symbol\": \"circle\"}, \"mode\": \"lines\", \"name\": \"Spain\", \"showlegend\": false, \"type\": \"scatter\", \"xaxis\": \"x\", \"yaxis\": \"y\"}, {\"customdata\": [[\"Sri Lanka\"]], \"hovertemplate\": \"location=%{customdata[0]}<br>aged_70_older=%{x}<br>total_deaths_per_million=%{y}<extra></extra>\", \"legendgroup\": \"Sri Lanka\", \"marker\": {\"color\": \"#B6E880\", \"symbol\": \"circle\"}, \"mode\": \"markers\", \"name\": \"Sri Lanka\", \"orientation\": \"v\", \"showlegend\": true, \"type\": \"scatter\", \"x\": [5.331], \"xaxis\": \"x\", \"y\": [0.887], \"yaxis\": \"y\"}, {\"hovertemplate\": \"location=Sri Lanka<extra></extra>\", \"legendgroup\": \"Sri Lanka\", \"marker\": {\"color\": \"#B6E880\", \"symbol\": \"circle\"}, \"mode\": \"lines\", \"name\": \"Sri Lanka\", \"showlegend\": false, \"type\": \"scatter\", \"xaxis\": \"x\", \"yaxis\": \"y\"}, {\"customdata\": [[\"Sudan\"]], \"hovertemplate\": \"location=%{customdata[0]}<br>aged_70_older=%{x}<br>total_deaths_per_million=%{y}<extra></extra>\", \"legendgroup\": \"Sudan\", \"marker\": {\"color\": \"#FF97FF\", \"symbol\": \"circle\"}, \"mode\": \"markers\", \"name\": \"Sudan\", \"orientation\": \"v\", \"showlegend\": true, \"type\": \"scatter\", \"x\": [2.034], \"xaxis\": \"x\", \"y\": [19.088], \"yaxis\": \"y\"}, {\"hovertemplate\": \"location=Sudan<extra></extra>\", \"legendgroup\": \"Sudan\", \"marker\": {\"color\": \"#FF97FF\", \"symbol\": \"circle\"}, \"mode\": \"lines\", \"name\": \"Sudan\", \"showlegend\": false, \"type\": \"scatter\", \"xaxis\": \"x\", \"yaxis\": \"y\"}, {\"customdata\": [[\"Suriname\"]], \"hovertemplate\": \"location=%{customdata[0]}<br>aged_70_older=%{x}<br>total_deaths_per_million=%{y}<extra></extra>\", \"legendgroup\": \"Suriname\", \"marker\": {\"color\": \"#FECB52\", \"symbol\": \"circle\"}, \"mode\": \"markers\", \"name\": \"Suriname\", \"orientation\": \"v\", \"showlegend\": true, \"type\": \"scatter\", \"x\": [4.229], \"xaxis\": \"x\", \"y\": [189.215], \"yaxis\": \"y\"}, {\"hovertemplate\": \"location=Suriname<extra></extra>\", \"legendgroup\": \"Suriname\", \"marker\": {\"color\": \"#FECB52\", \"symbol\": \"circle\"}, \"mode\": \"lines\", \"name\": \"Suriname\", \"showlegend\": false, \"type\": \"scatter\", \"xaxis\": \"x\", \"yaxis\": \"y\"}, {\"customdata\": [[\"Sweden\"]], \"hovertemplate\": \"location=%{customdata[0]}<br>aged_70_older=%{x}<br>total_deaths_per_million=%{y}<extra></extra>\", \"legendgroup\": \"Sweden\", \"marker\": {\"color\": \"#636efa\", \"symbol\": \"circle\"}, \"mode\": \"markers\", \"name\": \"Sweden\", \"orientation\": \"v\", \"showlegend\": true, \"type\": \"scatter\", \"x\": [13.433], \"xaxis\": \"x\", \"y\": [587.468], \"yaxis\": \"y\"}, {\"hovertemplate\": \"location=Sweden<extra></extra>\", \"legendgroup\": \"Sweden\", \"marker\": {\"color\": \"#636efa\", \"symbol\": \"circle\"}, \"mode\": \"lines\", \"name\": \"Sweden\", \"showlegend\": false, \"type\": \"scatter\", \"xaxis\": \"x\", \"yaxis\": \"y\"}, {\"customdata\": [[\"Switzerland\"]], \"hovertemplate\": \"location=%{customdata[0]}<br>aged_70_older=%{x}<br>total_deaths_per_million=%{y}<extra></extra>\", \"legendgroup\": \"Switzerland\", \"marker\": {\"color\": \"#EF553B\", \"symbol\": \"circle\"}, \"mode\": \"markers\", \"name\": \"Switzerland\", \"orientation\": \"v\", \"showlegend\": true, \"type\": \"scatter\", \"x\": [12.644], \"xaxis\": \"x\", \"y\": [248.076], \"yaxis\": \"y\"}, {\"hovertemplate\": \"location=Switzerland<extra></extra>\", \"legendgroup\": \"Switzerland\", \"marker\": {\"color\": \"#EF553B\", \"symbol\": \"circle\"}, \"mode\": \"lines\", \"name\": \"Switzerland\", \"showlegend\": false, \"type\": \"scatter\", \"xaxis\": \"x\", \"yaxis\": \"y\"}, {\"customdata\": [[\"Syria\"]], \"hovertemplate\": \"location=%{customdata[0]}<br>aged_70_older=%{x}<br>total_deaths_per_million=%{y}<extra></extra>\", \"legendgroup\": \"Syria\", \"marker\": {\"color\": \"#00cc96\", \"symbol\": \"circle\"}, \"mode\": \"markers\", \"name\": \"Syria\", \"orientation\": \"v\", \"showlegend\": true, \"type\": \"scatter\", \"x\": [2.577], \"xaxis\": \"x\", \"y\": [15.714], \"yaxis\": \"y\"}, {\"hovertemplate\": \"location=Syria<extra></extra>\", \"legendgroup\": \"Syria\", \"marker\": {\"color\": \"#00cc96\", \"symbol\": \"circle\"}, \"mode\": \"lines\", \"name\": \"Syria\", \"showlegend\": false, \"type\": \"scatter\", \"xaxis\": \"x\", \"yaxis\": \"y\"}, {\"customdata\": [[\"Taiwan\"]], \"hovertemplate\": \"location=%{customdata[0]}<br>aged_70_older=%{x}<br>total_deaths_per_million=%{y}<extra></extra>\", \"legendgroup\": \"Taiwan\", \"marker\": {\"color\": \"#ab63fa\", \"symbol\": \"circle\"}, \"mode\": \"markers\", \"name\": \"Taiwan\", \"orientation\": \"v\", \"showlegend\": true, \"type\": \"scatter\", \"x\": [8.353], \"xaxis\": \"x\", \"y\": [0.294], \"yaxis\": \"y\"}, {\"hovertemplate\": \"location=Taiwan<extra></extra>\", \"legendgroup\": \"Taiwan\", \"marker\": {\"color\": \"#ab63fa\", \"symbol\": \"circle\"}, \"mode\": \"lines\", \"name\": \"Taiwan\", \"showlegend\": false, \"type\": \"scatter\", \"xaxis\": \"x\", \"yaxis\": \"y\"}, {\"customdata\": [[\"Tajikistan\"]], \"hovertemplate\": \"location=%{customdata[0]}<br>aged_70_older=%{x}<br>total_deaths_per_million=%{y}<extra></extra>\", \"legendgroup\": \"Tajikistan\", \"marker\": {\"color\": \"#FFA15A\", \"symbol\": \"circle\"}, \"mode\": \"markers\", \"name\": \"Tajikistan\", \"orientation\": \"v\", \"showlegend\": true, \"type\": \"scatter\", \"x\": [2.155], \"xaxis\": \"x\", \"y\": [8.493], \"yaxis\": \"y\"}, {\"hovertemplate\": \"location=Tajikistan<extra></extra>\", \"legendgroup\": \"Tajikistan\", \"marker\": {\"color\": \"#FFA15A\", \"symbol\": \"circle\"}, \"mode\": \"lines\", \"name\": \"Tajikistan\", \"showlegend\": false, \"type\": \"scatter\", \"xaxis\": \"x\", \"yaxis\": \"y\"}, {\"customdata\": [[\"Tanzania\"]], \"hovertemplate\": \"location=%{customdata[0]}<br>aged_70_older=%{x}<br>total_deaths_per_million=%{y}<extra></extra>\", \"legendgroup\": \"Tanzania\", \"marker\": {\"color\": \"#19d3f3\", \"symbol\": \"circle\"}, \"mode\": \"markers\", \"name\": \"Tanzania\", \"orientation\": \"v\", \"showlegend\": true, \"type\": \"scatter\", \"x\": [1.874], \"xaxis\": \"x\", \"y\": [0.352], \"yaxis\": \"y\"}, {\"hovertemplate\": \"location=Tanzania<extra></extra>\", \"legendgroup\": \"Tanzania\", \"marker\": {\"color\": \"#19d3f3\", \"symbol\": \"circle\"}, \"mode\": \"lines\", \"name\": \"Tanzania\", \"showlegend\": false, \"type\": \"scatter\", \"xaxis\": \"x\", \"yaxis\": \"y\"}, {\"customdata\": [[\"Thailand\"]], \"hovertemplate\": \"location=%{customdata[0]}<br>aged_70_older=%{x}<br>total_deaths_per_million=%{y}<extra></extra>\", \"legendgroup\": \"Thailand\", \"marker\": {\"color\": \"#FF6692\", \"symbol\": \"circle\"}, \"mode\": \"markers\", \"name\": \"Thailand\", \"orientation\": \"v\", \"showlegend\": true, \"type\": \"scatter\", \"x\": [6.89], \"xaxis\": \"x\", \"y\": [0.845], \"yaxis\": \"y\"}, {\"hovertemplate\": \"location=Thailand<extra></extra>\", \"legendgroup\": \"Thailand\", \"marker\": {\"color\": \"#FF6692\", \"symbol\": \"circle\"}, \"mode\": \"lines\", \"name\": \"Thailand\", \"showlegend\": false, \"type\": \"scatter\", \"xaxis\": \"x\", \"yaxis\": \"y\"}, {\"customdata\": [[\"Timor\"]], \"hovertemplate\": \"location=%{customdata[0]}<br>aged_70_older=%{x}<br>total_deaths_per_million=%{y}<extra></extra>\", \"legendgroup\": \"Timor\", \"marker\": {\"color\": \"#B6E880\", \"symbol\": \"circle\"}, \"mode\": \"markers\", \"name\": \"Timor\", \"orientation\": \"v\", \"showlegend\": true, \"type\": \"scatter\", \"x\": [1.897], \"xaxis\": \"x\", \"y\": [0.0], \"yaxis\": \"y\"}, {\"hovertemplate\": \"location=Timor<extra></extra>\", \"legendgroup\": \"Timor\", \"marker\": {\"color\": \"#B6E880\", \"symbol\": \"circle\"}, \"mode\": \"lines\", \"name\": \"Timor\", \"showlegend\": false, \"type\": \"scatter\", \"xaxis\": \"x\", \"yaxis\": \"y\"}, {\"customdata\": [[\"Togo\"]], \"hovertemplate\": \"location=%{customdata[0]}<br>aged_70_older=%{x}<br>total_deaths_per_million=%{y}<extra></extra>\", \"legendgroup\": \"Togo\", \"marker\": {\"color\": \"#FF97FF\", \"symbol\": \"circle\"}, \"mode\": \"markers\", \"name\": \"Togo\", \"orientation\": \"v\", \"showlegend\": true, \"type\": \"scatter\", \"x\": [1.525], \"xaxis\": \"x\", \"y\": [6.523], \"yaxis\": \"y\"}, {\"hovertemplate\": \"location=Togo<extra></extra>\", \"legendgroup\": \"Togo\", \"marker\": {\"color\": \"#FF97FF\", \"symbol\": \"circle\"}, \"mode\": \"lines\", \"name\": \"Togo\", \"showlegend\": false, \"type\": \"scatter\", \"xaxis\": \"x\", \"yaxis\": \"y\"}, {\"customdata\": [[\"Trinidad and Tobago\"]], \"hovertemplate\": \"location=%{customdata[0]}<br>aged_70_older=%{x}<br>total_deaths_per_million=%{y}<extra></extra>\", \"legendgroup\": \"Trinidad and Tobago\", \"marker\": {\"color\": \"#FECB52\", \"symbol\": \"circle\"}, \"mode\": \"markers\", \"name\": \"Trinidad and Tobago\", \"orientation\": \"v\", \"showlegend\": true, \"type\": \"scatter\", \"x\": [5.819], \"xaxis\": \"x\", \"y\": [75.742], \"yaxis\": \"y\"}, {\"hovertemplate\": \"location=Trinidad and Tobago<extra></extra>\", \"legendgroup\": \"Trinidad and Tobago\", \"marker\": {\"color\": \"#FECB52\", \"symbol\": \"circle\"}, \"mode\": \"lines\", \"name\": \"Trinidad and Tobago\", \"showlegend\": false, \"type\": \"scatter\", \"xaxis\": \"x\", \"yaxis\": \"y\"}, {\"customdata\": [[\"Tunisia\"]], \"hovertemplate\": \"location=%{customdata[0]}<br>aged_70_older=%{x}<br>total_deaths_per_million=%{y}<extra></extra>\", \"legendgroup\": \"Tunisia\", \"marker\": {\"color\": \"#636efa\", \"symbol\": \"circle\"}, \"mode\": \"markers\", \"name\": \"Tunisia\", \"orientation\": \"v\", \"showlegend\": true, \"type\": \"scatter\", \"x\": [5.075], \"xaxis\": \"x\", \"y\": [83.174], \"yaxis\": \"y\"}, {\"hovertemplate\": \"location=Tunisia<extra></extra>\", \"legendgroup\": \"Tunisia\", \"marker\": {\"color\": \"#636efa\", \"symbol\": \"circle\"}, \"mode\": \"lines\", \"name\": \"Tunisia\", \"showlegend\": false, \"type\": \"scatter\", \"xaxis\": \"x\", \"yaxis\": \"y\"}, {\"customdata\": [[\"Turkey\"]], \"hovertemplate\": \"location=%{customdata[0]}<br>aged_70_older=%{x}<br>total_deaths_per_million=%{y}<extra></extra>\", \"legendgroup\": \"Turkey\", \"marker\": {\"color\": \"#EF553B\", \"symbol\": \"circle\"}, \"mode\": \"markers\", \"name\": \"Turkey\", \"orientation\": \"v\", \"showlegend\": true, \"type\": \"scatter\", \"x\": [5.061], \"xaxis\": \"x\", \"y\": [117.976], \"yaxis\": \"y\"}, {\"hovertemplate\": \"location=Turkey<extra></extra>\", \"legendgroup\": \"Turkey\", \"marker\": {\"color\": \"#EF553B\", \"symbol\": \"circle\"}, \"mode\": \"lines\", \"name\": \"Turkey\", \"showlegend\": false, \"type\": \"scatter\", \"xaxis\": \"x\", \"yaxis\": \"y\"}, {\"customdata\": [[\"Uganda\"]], \"hovertemplate\": \"location=%{customdata[0]}<br>aged_70_older=%{x}<br>total_deaths_per_million=%{y}<extra></extra>\", \"legendgroup\": \"Uganda\", \"marker\": {\"color\": \"#00cc96\", \"symbol\": \"circle\"}, \"mode\": \"markers\", \"name\": \"Uganda\", \"orientation\": \"v\", \"showlegend\": true, \"type\": \"scatter\", \"x\": [1.308], \"xaxis\": \"x\", \"y\": [2.252], \"yaxis\": \"y\"}, {\"hovertemplate\": \"location=Uganda<extra></extra>\", \"legendgroup\": \"Uganda\", \"marker\": {\"color\": \"#00cc96\", \"symbol\": \"circle\"}, \"mode\": \"lines\", \"name\": \"Uganda\", \"showlegend\": false, \"type\": \"scatter\", \"xaxis\": \"x\", \"yaxis\": \"y\"}, {\"customdata\": [[\"Ukraine\"]], \"hovertemplate\": \"location=%{customdata[0]}<br>aged_70_older=%{x}<br>total_deaths_per_million=%{y}<extra></extra>\", \"legendgroup\": \"Ukraine\", \"marker\": {\"color\": \"#ab63fa\", \"symbol\": \"circle\"}, \"mode\": \"markers\", \"name\": \"Ukraine\", \"orientation\": \"v\", \"showlegend\": true, \"type\": \"scatter\", \"x\": [11.133], \"xaxis\": \"x\", \"y\": [154.8], \"yaxis\": \"y\"}, {\"hovertemplate\": \"location=Ukraine<extra></extra>\", \"legendgroup\": \"Ukraine\", \"marker\": {\"color\": \"#ab63fa\", \"symbol\": \"circle\"}, \"mode\": \"lines\", \"name\": \"Ukraine\", \"showlegend\": false, \"type\": \"scatter\", \"xaxis\": \"x\", \"yaxis\": \"y\"}, {\"customdata\": [[\"United Arab Emirates\"]], \"hovertemplate\": \"location=%{customdata[0]}<br>aged_70_older=%{x}<br>total_deaths_per_million=%{y}<extra></extra>\", \"legendgroup\": \"United Arab Emirates\", \"marker\": {\"color\": \"#FFA15A\", \"symbol\": \"circle\"}, \"mode\": \"markers\", \"name\": \"United Arab Emirates\", \"orientation\": \"v\", \"showlegend\": true, \"type\": \"scatter\", \"x\": [0.526], \"xaxis\": \"x\", \"y\": [48.734], \"yaxis\": \"y\"}, {\"hovertemplate\": \"location=United Arab Emirates<extra></extra>\", \"legendgroup\": \"United Arab Emirates\", \"marker\": {\"color\": \"#FFA15A\", \"symbol\": \"circle\"}, \"mode\": \"lines\", \"name\": \"United Arab Emirates\", \"showlegend\": false, \"type\": \"scatter\", \"xaxis\": \"x\", \"yaxis\": \"y\"}, {\"customdata\": [[\"United Kingdom\"]], \"hovertemplate\": \"location=%{customdata[0]}<br>aged_70_older=%{x}<br>total_deaths_per_million=%{y}<extra></extra>\", \"legendgroup\": \"United Kingdom\", \"marker\": {\"color\": \"#19d3f3\", \"symbol\": \"circle\"}, \"mode\": \"markers\", \"name\": \"United Kingdom\", \"orientation\": \"v\", \"showlegend\": true, \"type\": \"scatter\", \"x\": [12.527], \"xaxis\": \"x\", \"y\": [669.578], \"yaxis\": \"y\"}, {\"hovertemplate\": \"location=United Kingdom<extra></extra>\", \"legendgroup\": \"United Kingdom\", \"marker\": {\"color\": \"#19d3f3\", \"symbol\": \"circle\"}, \"mode\": \"lines\", \"name\": \"United Kingdom\", \"showlegend\": false, \"type\": \"scatter\", \"xaxis\": \"x\", \"yaxis\": \"y\"}, {\"customdata\": [[\"United States\"]], \"hovertemplate\": \"location=%{customdata[0]}<br>aged_70_older=%{x}<br>total_deaths_per_million=%{y}<extra></extra>\", \"legendgroup\": \"United States\", \"marker\": {\"color\": \"#FF6692\", \"symbol\": \"circle\"}, \"mode\": \"markers\", \"name\": \"United States\", \"orientation\": \"v\", \"showlegend\": true, \"type\": \"scatter\", \"x\": [9.732], \"xaxis\": \"x\", \"y\": [687.979], \"yaxis\": \"y\"}, {\"hovertemplate\": \"location=United States<extra></extra>\", \"legendgroup\": \"United States\", \"marker\": {\"color\": \"#FF6692\", \"symbol\": \"circle\"}, \"mode\": \"lines\", \"name\": \"United States\", \"showlegend\": false, \"type\": \"scatter\", \"xaxis\": \"x\", \"yaxis\": \"y\"}, {\"customdata\": [[\"Uruguay\"]], \"hovertemplate\": \"location=%{customdata[0]}<br>aged_70_older=%{x}<br>total_deaths_per_million=%{y}<extra></extra>\", \"legendgroup\": \"Uruguay\", \"marker\": {\"color\": \"#B6E880\", \"symbol\": \"circle\"}, \"mode\": \"markers\", \"name\": \"Uruguay\", \"orientation\": \"v\", \"showlegend\": true, \"type\": \"scatter\", \"x\": [10.361], \"xaxis\": \"x\", \"y\": [15.545], \"yaxis\": \"y\"}, {\"hovertemplate\": \"location=Uruguay<extra></extra>\", \"legendgroup\": \"Uruguay\", \"marker\": {\"color\": \"#B6E880\", \"symbol\": \"circle\"}, \"mode\": \"lines\", \"name\": \"Uruguay\", \"showlegend\": false, \"type\": \"scatter\", \"xaxis\": \"x\", \"yaxis\": \"y\"}, {\"customdata\": [[\"Uzbekistan\"]], \"hovertemplate\": \"location=%{customdata[0]}<br>aged_70_older=%{x}<br>total_deaths_per_million=%{y}<extra></extra>\", \"legendgroup\": \"Uzbekistan\", \"marker\": {\"color\": \"#FF97FF\", \"symbol\": \"circle\"}, \"mode\": \"markers\", \"name\": \"Uzbekistan\", \"orientation\": \"v\", \"showlegend\": true, \"type\": \"scatter\", \"x\": [2.873], \"xaxis\": \"x\", \"y\": [16.612], \"yaxis\": \"y\"}, {\"hovertemplate\": \"location=Uzbekistan<extra></extra>\", \"legendgroup\": \"Uzbekistan\", \"marker\": {\"color\": \"#FF97FF\", \"symbol\": \"circle\"}, \"mode\": \"lines\", \"name\": \"Uzbekistan\", \"showlegend\": false, \"type\": \"scatter\", \"xaxis\": \"x\", \"yaxis\": \"y\"}, {\"customdata\": [[\"Vatican\"]], \"hovertemplate\": \"location=%{customdata[0]}<br>aged_70_older=%{x}<br>total_deaths_per_million=%{y}<extra></extra>\", \"legendgroup\": \"Vatican\", \"marker\": {\"color\": \"#FECB52\", \"symbol\": \"circle\"}, \"mode\": \"markers\", \"name\": \"Vatican\", \"orientation\": \"v\", \"showlegend\": true, \"type\": \"scatter\", \"x\": [0.0], \"xaxis\": \"x\", \"y\": [0.0], \"yaxis\": \"y\"}, {\"hovertemplate\": \"location=Vatican<extra></extra>\", \"legendgroup\": \"Vatican\", \"marker\": {\"color\": \"#FECB52\", \"symbol\": \"circle\"}, \"mode\": \"lines\", \"name\": \"Vatican\", \"showlegend\": false, \"type\": \"scatter\", \"xaxis\": \"x\", \"yaxis\": \"y\"}, {\"customdata\": [[\"Venezuela\"]], \"hovertemplate\": \"location=%{customdata[0]}<br>aged_70_older=%{x}<br>total_deaths_per_million=%{y}<extra></extra>\", \"legendgroup\": \"Venezuela\", \"marker\": {\"color\": \"#636efa\", \"symbol\": \"circle\"}, \"mode\": \"markers\", \"name\": \"Venezuela\", \"orientation\": \"v\", \"showlegend\": true, \"type\": \"scatter\", \"x\": [3.915], \"xaxis\": \"x\", \"y\": [27.43], \"yaxis\": \"y\"}, {\"hovertemplate\": \"location=Venezuela<extra></extra>\", \"legendgroup\": \"Venezuela\", \"marker\": {\"color\": \"#636efa\", \"symbol\": \"circle\"}, \"mode\": \"lines\", \"name\": \"Venezuela\", \"showlegend\": false, \"type\": \"scatter\", \"xaxis\": \"x\", \"yaxis\": \"y\"}, {\"customdata\": [[\"Vietnam\"]], \"hovertemplate\": \"location=%{customdata[0]}<br>aged_70_older=%{x}<br>total_deaths_per_million=%{y}<extra></extra>\", \"legendgroup\": \"Vietnam\", \"marker\": {\"color\": \"#EF553B\", \"symbol\": \"circle\"}, \"mode\": \"markers\", \"name\": \"Vietnam\", \"orientation\": \"v\", \"showlegend\": true, \"type\": \"scatter\", \"x\": [4.718], \"xaxis\": \"x\", \"y\": [0.36], \"yaxis\": \"y\"}, {\"hovertemplate\": \"location=Vietnam<extra></extra>\", \"legendgroup\": \"Vietnam\", \"marker\": {\"color\": \"#EF553B\", \"symbol\": \"circle\"}, \"mode\": \"lines\", \"name\": \"Vietnam\", \"showlegend\": false, \"type\": \"scatter\", \"xaxis\": \"x\", \"yaxis\": \"y\"}, {\"customdata\": [[\"World\"]], \"hovertemplate\": \"location=%{customdata[0]}<br>aged_70_older=%{x}<br>total_deaths_per_million=%{y}<extra></extra>\", \"legendgroup\": \"World\", \"marker\": {\"color\": \"#00cc96\", \"symbol\": \"circle\"}, \"mode\": \"markers\", \"name\": \"World\", \"orientation\": \"v\", \"showlegend\": true, \"type\": \"scatter\", \"x\": [5.355], \"xaxis\": \"x\", \"y\": [149.889], \"yaxis\": \"y\"}, {\"hovertemplate\": \"location=World<extra></extra>\", \"legendgroup\": \"World\", \"marker\": {\"color\": \"#00cc96\", \"symbol\": \"circle\"}, \"mode\": \"lines\", \"name\": \"World\", \"showlegend\": false, \"type\": \"scatter\", \"xaxis\": \"x\", \"yaxis\": \"y\"}, {\"customdata\": [[\"Yemen\"]], \"hovertemplate\": \"location=%{customdata[0]}<br>aged_70_older=%{x}<br>total_deaths_per_million=%{y}<extra></extra>\", \"legendgroup\": \"Yemen\", \"marker\": {\"color\": \"#ab63fa\", \"symbol\": \"circle\"}, \"mode\": \"markers\", \"name\": \"Yemen\", \"orientation\": \"v\", \"showlegend\": true, \"type\": \"scatter\", \"x\": [1.583], \"xaxis\": \"x\", \"y\": [20.083], \"yaxis\": \"y\"}, {\"hovertemplate\": \"location=Yemen<extra></extra>\", \"legendgroup\": \"Yemen\", \"marker\": {\"color\": \"#ab63fa\", \"symbol\": \"circle\"}, \"mode\": \"lines\", \"name\": \"Yemen\", \"showlegend\": false, \"type\": \"scatter\", \"xaxis\": \"x\", \"yaxis\": \"y\"}, {\"customdata\": [[\"Zambia\"]], \"hovertemplate\": \"location=%{customdata[0]}<br>aged_70_older=%{x}<br>total_deaths_per_million=%{y}<extra></extra>\", \"legendgroup\": \"Zambia\", \"marker\": {\"color\": \"#FFA15A\", \"symbol\": \"circle\"}, \"mode\": \"markers\", \"name\": \"Zambia\", \"orientation\": \"v\", \"showlegend\": true, \"type\": \"scatter\", \"x\": [1.542], \"xaxis\": \"x\", \"y\": [18.93], \"yaxis\": \"y\"}, {\"hovertemplate\": \"location=Zambia<extra></extra>\", \"legendgroup\": \"Zambia\", \"marker\": {\"color\": \"#FFA15A\", \"symbol\": \"circle\"}, \"mode\": \"lines\", \"name\": \"Zambia\", \"showlegend\": false, \"type\": \"scatter\", \"xaxis\": \"x\", \"yaxis\": \"y\"}, {\"customdata\": [[\"Zimbabwe\"]], \"hovertemplate\": \"location=%{customdata[0]}<br>aged_70_older=%{x}<br>total_deaths_per_million=%{y}<extra></extra>\", \"legendgroup\": \"Zimbabwe\", \"marker\": {\"color\": \"#19d3f3\", \"symbol\": \"circle\"}, \"mode\": \"markers\", \"name\": \"Zimbabwe\", \"orientation\": \"v\", \"showlegend\": true, \"type\": \"scatter\", \"x\": [1.882], \"xaxis\": \"x\", \"y\": [16.282], \"yaxis\": \"y\"}, {\"hovertemplate\": \"location=Zimbabwe<extra></extra>\", \"legendgroup\": \"Zimbabwe\", \"marker\": {\"color\": \"#19d3f3\", \"symbol\": \"circle\"}, \"mode\": \"lines\", \"name\": \"Zimbabwe\", \"showlegend\": false, \"type\": \"scatter\", \"xaxis\": \"x\", \"yaxis\": \"y\"}],                        {\"legend\": {\"title\": {\"text\": \"location\"}, \"tracegroupgap\": 0}, \"margin\": {\"t\": 60}, \"template\": {\"data\": {\"bar\": [{\"error_x\": {\"color\": \"#2a3f5f\"}, \"error_y\": {\"color\": \"#2a3f5f\"}, \"marker\": {\"line\": {\"color\": \"#E5ECF6\", \"width\": 0.5}}, \"type\": \"bar\"}], \"barpolar\": [{\"marker\": {\"line\": {\"color\": \"#E5ECF6\", \"width\": 0.5}}, \"type\": \"barpolar\"}], \"carpet\": [{\"aaxis\": {\"endlinecolor\": \"#2a3f5f\", \"gridcolor\": \"white\", \"linecolor\": \"white\", \"minorgridcolor\": \"white\", \"startlinecolor\": \"#2a3f5f\"}, \"baxis\": {\"endlinecolor\": \"#2a3f5f\", \"gridcolor\": \"white\", \"linecolor\": \"white\", \"minorgridcolor\": \"white\", \"startlinecolor\": \"#2a3f5f\"}, \"type\": \"carpet\"}], \"choropleth\": [{\"colorbar\": {\"outlinewidth\": 0, \"ticks\": \"\"}, \"type\": \"choropleth\"}], \"contour\": [{\"colorbar\": {\"outlinewidth\": 0, \"ticks\": \"\"}, \"colorscale\": [[0.0, \"#0d0887\"], [0.1111111111111111, \"#46039f\"], [0.2222222222222222, \"#7201a8\"], [0.3333333333333333, \"#9c179e\"], [0.4444444444444444, \"#bd3786\"], [0.5555555555555556, \"#d8576b\"], [0.6666666666666666, \"#ed7953\"], [0.7777777777777778, \"#fb9f3a\"], [0.8888888888888888, \"#fdca26\"], [1.0, \"#f0f921\"]], \"type\": \"contour\"}], \"contourcarpet\": [{\"colorbar\": {\"outlinewidth\": 0, \"ticks\": \"\"}, \"type\": \"contourcarpet\"}], \"heatmap\": [{\"colorbar\": {\"outlinewidth\": 0, \"ticks\": \"\"}, \"colorscale\": [[0.0, \"#0d0887\"], [0.1111111111111111, \"#46039f\"], [0.2222222222222222, \"#7201a8\"], [0.3333333333333333, \"#9c179e\"], [0.4444444444444444, \"#bd3786\"], [0.5555555555555556, \"#d8576b\"], [0.6666666666666666, \"#ed7953\"], [0.7777777777777778, \"#fb9f3a\"], [0.8888888888888888, \"#fdca26\"], [1.0, \"#f0f921\"]], \"type\": \"heatmap\"}], \"heatmapgl\": [{\"colorbar\": {\"outlinewidth\": 0, \"ticks\": \"\"}, \"colorscale\": [[0.0, \"#0d0887\"], [0.1111111111111111, \"#46039f\"], [0.2222222222222222, \"#7201a8\"], [0.3333333333333333, \"#9c179e\"], [0.4444444444444444, \"#bd3786\"], [0.5555555555555556, \"#d8576b\"], [0.6666666666666666, \"#ed7953\"], [0.7777777777777778, \"#fb9f3a\"], [0.8888888888888888, \"#fdca26\"], [1.0, \"#f0f921\"]], \"type\": \"heatmapgl\"}], \"histogram\": [{\"marker\": {\"colorbar\": {\"outlinewidth\": 0, \"ticks\": \"\"}}, \"type\": \"histogram\"}], \"histogram2d\": [{\"colorbar\": {\"outlinewidth\": 0, \"ticks\": \"\"}, \"colorscale\": [[0.0, \"#0d0887\"], [0.1111111111111111, \"#46039f\"], [0.2222222222222222, \"#7201a8\"], [0.3333333333333333, \"#9c179e\"], [0.4444444444444444, \"#bd3786\"], [0.5555555555555556, \"#d8576b\"], [0.6666666666666666, \"#ed7953\"], [0.7777777777777778, \"#fb9f3a\"], [0.8888888888888888, \"#fdca26\"], [1.0, \"#f0f921\"]], \"type\": \"histogram2d\"}], \"histogram2dcontour\": [{\"colorbar\": {\"outlinewidth\": 0, \"ticks\": \"\"}, \"colorscale\": [[0.0, \"#0d0887\"], [0.1111111111111111, \"#46039f\"], [0.2222222222222222, \"#7201a8\"], [0.3333333333333333, \"#9c179e\"], [0.4444444444444444, \"#bd3786\"], [0.5555555555555556, \"#d8576b\"], [0.6666666666666666, \"#ed7953\"], [0.7777777777777778, \"#fb9f3a\"], [0.8888888888888888, \"#fdca26\"], [1.0, \"#f0f921\"]], \"type\": \"histogram2dcontour\"}], \"mesh3d\": [{\"colorbar\": {\"outlinewidth\": 0, \"ticks\": \"\"}, \"type\": \"mesh3d\"}], \"parcoords\": [{\"line\": {\"colorbar\": {\"outlinewidth\": 0, \"ticks\": \"\"}}, \"type\": \"parcoords\"}], \"pie\": [{\"automargin\": true, \"type\": \"pie\"}], \"scatter\": [{\"marker\": {\"colorbar\": {\"outlinewidth\": 0, \"ticks\": \"\"}}, \"type\": \"scatter\"}], \"scatter3d\": [{\"line\": {\"colorbar\": {\"outlinewidth\": 0, \"ticks\": \"\"}}, \"marker\": {\"colorbar\": {\"outlinewidth\": 0, \"ticks\": \"\"}}, \"type\": \"scatter3d\"}], \"scattercarpet\": [{\"marker\": {\"colorbar\": {\"outlinewidth\": 0, \"ticks\": \"\"}}, \"type\": \"scattercarpet\"}], \"scattergeo\": [{\"marker\": {\"colorbar\": {\"outlinewidth\": 0, \"ticks\": \"\"}}, \"type\": \"scattergeo\"}], \"scattergl\": [{\"marker\": {\"colorbar\": {\"outlinewidth\": 0, \"ticks\": \"\"}}, \"type\": \"scattergl\"}], \"scattermapbox\": [{\"marker\": {\"colorbar\": {\"outlinewidth\": 0, \"ticks\": \"\"}}, \"type\": \"scattermapbox\"}], \"scatterpolar\": [{\"marker\": {\"colorbar\": {\"outlinewidth\": 0, \"ticks\": \"\"}}, \"type\": \"scatterpolar\"}], \"scatterpolargl\": [{\"marker\": {\"colorbar\": {\"outlinewidth\": 0, \"ticks\": \"\"}}, \"type\": \"scatterpolargl\"}], \"scatterternary\": [{\"marker\": {\"colorbar\": {\"outlinewidth\": 0, \"ticks\": \"\"}}, \"type\": \"scatterternary\"}], \"surface\": [{\"colorbar\": {\"outlinewidth\": 0, \"ticks\": \"\"}, \"colorscale\": [[0.0, \"#0d0887\"], [0.1111111111111111, \"#46039f\"], [0.2222222222222222, \"#7201a8\"], [0.3333333333333333, \"#9c179e\"], [0.4444444444444444, \"#bd3786\"], [0.5555555555555556, \"#d8576b\"], [0.6666666666666666, \"#ed7953\"], [0.7777777777777778, \"#fb9f3a\"], [0.8888888888888888, \"#fdca26\"], [1.0, \"#f0f921\"]], \"type\": \"surface\"}], \"table\": [{\"cells\": {\"fill\": {\"color\": \"#EBF0F8\"}, \"line\": {\"color\": \"white\"}}, \"header\": {\"fill\": {\"color\": \"#C8D4E3\"}, \"line\": {\"color\": \"white\"}}, \"type\": \"table\"}]}, \"layout\": {\"annotationdefaults\": {\"arrowcolor\": \"#2a3f5f\", \"arrowhead\": 0, \"arrowwidth\": 1}, \"autotypenumbers\": \"strict\", \"coloraxis\": {\"colorbar\": {\"outlinewidth\": 0, \"ticks\": \"\"}}, \"colorscale\": {\"diverging\": [[0, \"#8e0152\"], [0.1, \"#c51b7d\"], [0.2, \"#de77ae\"], [0.3, \"#f1b6da\"], [0.4, \"#fde0ef\"], [0.5, \"#f7f7f7\"], [0.6, \"#e6f5d0\"], [0.7, \"#b8e186\"], [0.8, \"#7fbc41\"], [0.9, \"#4d9221\"], [1, \"#276419\"]], \"sequential\": [[0.0, \"#0d0887\"], [0.1111111111111111, \"#46039f\"], [0.2222222222222222, \"#7201a8\"], [0.3333333333333333, \"#9c179e\"], [0.4444444444444444, \"#bd3786\"], [0.5555555555555556, \"#d8576b\"], [0.6666666666666666, \"#ed7953\"], [0.7777777777777778, \"#fb9f3a\"], [0.8888888888888888, \"#fdca26\"], [1.0, \"#f0f921\"]], \"sequentialminus\": [[0.0, \"#0d0887\"], [0.1111111111111111, \"#46039f\"], [0.2222222222222222, \"#7201a8\"], [0.3333333333333333, \"#9c179e\"], [0.4444444444444444, \"#bd3786\"], [0.5555555555555556, \"#d8576b\"], [0.6666666666666666, \"#ed7953\"], [0.7777777777777778, \"#fb9f3a\"], [0.8888888888888888, \"#fdca26\"], [1.0, \"#f0f921\"]]}, \"colorway\": [\"#636efa\", \"#EF553B\", \"#00cc96\", \"#ab63fa\", \"#FFA15A\", \"#19d3f3\", \"#FF6692\", \"#B6E880\", \"#FF97FF\", \"#FECB52\"], \"font\": {\"color\": \"#2a3f5f\"}, \"geo\": {\"bgcolor\": \"white\", \"lakecolor\": \"white\", \"landcolor\": \"#E5ECF6\", \"showlakes\": true, \"showland\": true, \"subunitcolor\": \"white\"}, \"hoverlabel\": {\"align\": \"left\"}, \"hovermode\": \"closest\", \"mapbox\": {\"style\": \"light\"}, \"paper_bgcolor\": \"white\", \"plot_bgcolor\": \"#E5ECF6\", \"polar\": {\"angularaxis\": {\"gridcolor\": \"white\", \"linecolor\": \"white\", \"ticks\": \"\"}, \"bgcolor\": \"#E5ECF6\", \"radialaxis\": {\"gridcolor\": \"white\", \"linecolor\": \"white\", \"ticks\": \"\"}}, \"scene\": {\"xaxis\": {\"backgroundcolor\": \"#E5ECF6\", \"gridcolor\": \"white\", \"gridwidth\": 2, \"linecolor\": \"white\", \"showbackground\": true, \"ticks\": \"\", \"zerolinecolor\": \"white\"}, \"yaxis\": {\"backgroundcolor\": \"#E5ECF6\", \"gridcolor\": \"white\", \"gridwidth\": 2, \"linecolor\": \"white\", \"showbackground\": true, \"ticks\": \"\", \"zerolinecolor\": \"white\"}, \"zaxis\": {\"backgroundcolor\": \"#E5ECF6\", \"gridcolor\": \"white\", \"gridwidth\": 2, \"linecolor\": \"white\", \"showbackground\": true, \"ticks\": \"\", \"zerolinecolor\": \"white\"}}, \"shapedefaults\": {\"line\": {\"color\": \"#2a3f5f\"}}, \"ternary\": {\"aaxis\": {\"gridcolor\": \"white\", \"linecolor\": \"white\", \"ticks\": \"\"}, \"baxis\": {\"gridcolor\": \"white\", \"linecolor\": \"white\", \"ticks\": \"\"}, \"bgcolor\": \"#E5ECF6\", \"caxis\": {\"gridcolor\": \"white\", \"linecolor\": \"white\", \"ticks\": \"\"}}, \"title\": {\"x\": 0.05}, \"xaxis\": {\"automargin\": true, \"gridcolor\": \"white\", \"linecolor\": \"white\", \"ticks\": \"\", \"title\": {\"standoff\": 15}, \"zerolinecolor\": \"white\", \"zerolinewidth\": 2}, \"yaxis\": {\"automargin\": true, \"gridcolor\": \"white\", \"linecolor\": \"white\", \"ticks\": \"\", \"title\": {\"standoff\": 15}, \"zerolinecolor\": \"white\", \"zerolinewidth\": 2}}}, \"xaxis\": {\"anchor\": \"y\", \"domain\": [0.0, 1.0], \"title\": {\"text\": \"aged_70_older\"}}, \"yaxis\": {\"anchor\": \"x\", \"domain\": [0.0, 1.0], \"title\": {\"text\": \"total_deaths_per_million\"}}},                        {\"responsive\": true}                    ).then(function(){\n",
       "                            \n",
       "var gd = document.getElementById('263b5256-4f66-4fde-8076-199adc4aea52');\n",
       "var x = new MutationObserver(function (mutations, observer) {{\n",
       "        var display = window.getComputedStyle(gd).display;\n",
       "        if (!display || display === 'none') {{\n",
       "            console.log([gd, 'removed!']);\n",
       "            Plotly.purge(gd);\n",
       "            observer.disconnect();\n",
       "        }}\n",
       "}});\n",
       "\n",
       "// Listen for the removal of the full notebook cells\n",
       "var notebookContainer = gd.closest('#notebook-container');\n",
       "if (notebookContainer) {{\n",
       "    x.observe(notebookContainer, {childList: true});\n",
       "}}\n",
       "\n",
       "// Listen for the clearing of the current output cell\n",
       "var outputEl = gd.closest('.output');\n",
       "if (outputEl) {{\n",
       "    x.observe(outputEl, {childList: true});\n",
       "}}\n",
       "\n",
       "                        })                };                });            </script>        </div>"
      ]
     },
     "metadata": {},
     "output_type": "display_data"
    },
    {
     "data": {
      "text/html": [
       "<div>\n",
       "<style scoped>\n",
       "    .dataframe tbody tr th:only-of-type {\n",
       "        vertical-align: middle;\n",
       "    }\n",
       "\n",
       "    .dataframe tbody tr th {\n",
       "        vertical-align: top;\n",
       "    }\n",
       "\n",
       "    .dataframe thead th {\n",
       "        text-align: right;\n",
       "    }\n",
       "</style>\n",
       "<table border=\"1\" class=\"dataframe\">\n",
       "  <thead>\n",
       "    <tr style=\"text-align: right;\">\n",
       "      <th></th>\n",
       "      <th>location</th>\n",
       "      <th>total_deaths_per_million</th>\n",
       "      <th>aged_70_older</th>\n",
       "    </tr>\n",
       "    <tr>\n",
       "      <th>date</th>\n",
       "      <th></th>\n",
       "      <th></th>\n",
       "      <th></th>\n",
       "    </tr>\n",
       "  </thead>\n",
       "  <tbody>\n",
       "    <tr>\n",
       "      <th>2020-10-27</th>\n",
       "      <td>Afghanistan</td>\n",
       "      <td>39.175</td>\n",
       "      <td>1.337</td>\n",
       "    </tr>\n",
       "    <tr>\n",
       "      <th>2020-10-27</th>\n",
       "      <td>Africa</td>\n",
       "      <td>31.172</td>\n",
       "      <td>0.000</td>\n",
       "    </tr>\n",
       "    <tr>\n",
       "      <th>2020-10-27</th>\n",
       "      <td>Albania</td>\n",
       "      <td>169.226</td>\n",
       "      <td>8.643</td>\n",
       "    </tr>\n",
       "    <tr>\n",
       "      <th>2020-10-27</th>\n",
       "      <td>Algeria</td>\n",
       "      <td>44.035</td>\n",
       "      <td>3.857</td>\n",
       "    </tr>\n",
       "    <tr>\n",
       "      <th>2020-10-27</th>\n",
       "      <td>Andorra</td>\n",
       "      <td>931.858</td>\n",
       "      <td>0.000</td>\n",
       "    </tr>\n",
       "    <tr>\n",
       "      <th>...</th>\n",
       "      <td>...</td>\n",
       "      <td>...</td>\n",
       "      <td>...</td>\n",
       "    </tr>\n",
       "    <tr>\n",
       "      <th>2020-10-27</th>\n",
       "      <td>Vietnam</td>\n",
       "      <td>0.360</td>\n",
       "      <td>4.718</td>\n",
       "    </tr>\n",
       "    <tr>\n",
       "      <th>2020-10-27</th>\n",
       "      <td>World</td>\n",
       "      <td>149.889</td>\n",
       "      <td>5.355</td>\n",
       "    </tr>\n",
       "    <tr>\n",
       "      <th>2020-10-27</th>\n",
       "      <td>Yemen</td>\n",
       "      <td>20.083</td>\n",
       "      <td>1.583</td>\n",
       "    </tr>\n",
       "    <tr>\n",
       "      <th>2020-10-27</th>\n",
       "      <td>Zambia</td>\n",
       "      <td>18.930</td>\n",
       "      <td>1.542</td>\n",
       "    </tr>\n",
       "    <tr>\n",
       "      <th>2020-10-27</th>\n",
       "      <td>Zimbabwe</td>\n",
       "      <td>16.282</td>\n",
       "      <td>1.882</td>\n",
       "    </tr>\n",
       "  </tbody>\n",
       "</table>\n",
       "<p>196 rows × 3 columns</p>\n",
       "</div>"
      ],
      "text/plain": [
       "               location  total_deaths_per_million  aged_70_older\n",
       "date                                                            \n",
       "2020-10-27  Afghanistan                    39.175          1.337\n",
       "2020-10-27       Africa                    31.172          0.000\n",
       "2020-10-27      Albania                   169.226          8.643\n",
       "2020-10-27      Algeria                    44.035          3.857\n",
       "2020-10-27      Andorra                   931.858          0.000\n",
       "...                 ...                       ...            ...\n",
       "2020-10-27      Vietnam                     0.360          4.718\n",
       "2020-10-27        World                   149.889          5.355\n",
       "2020-10-27        Yemen                    20.083          1.583\n",
       "2020-10-27       Zambia                    18.930          1.542\n",
       "2020-10-27     Zimbabwe                    16.282          1.882\n",
       "\n",
       "[196 rows x 3 columns]"
      ]
     },
     "execution_count": 12,
     "metadata": {},
     "output_type": "execute_result"
    }
   ],
   "source": [
    "def scatter_plot(date, col1, col2):\n",
    "    tot_df = pd.DataFrame(columns = ['date', 'location', col1, col2])\n",
    "    for c in country_df:\n",
    "        temp_df = covid_data[(covid_data['location']==c) & (covid_data['date']==date)][['date', 'location', col1, col2]]\n",
    "        tot_df = tot_df.append(temp_df, ignore_index = True).fillna(0)\n",
    "    tot_df.set_index('date', inplace=True)\n",
    "    \n",
    "    fig = px.scatter(data_frame=tot_df, x=col2, \n",
    "                     y=col1, color=\"location\", trendline=\"ols\",\n",
    "                 hover_data=['location'])\n",
    "    fig.show()\n",
    "    \n",
    "    return tot_df\n",
    "\n",
    "scatter_plot('2020-10-27', 'total_deaths_per_million', 'aged_70_older') "
   ]
  }
 ],
 "metadata": {
  "kernelspec": {
   "display_name": "Python 3",
   "language": "python",
   "name": "python3"
  },
  "language_info": {
   "codemirror_mode": {
    "name": "ipython",
    "version": 3
   },
   "file_extension": ".py",
   "mimetype": "text/x-python",
   "name": "python",
   "nbconvert_exporter": "python",
   "pygments_lexer": "ipython3",
   "version": "3.9.2"
  }
 },
 "nbformat": 4,
 "nbformat_minor": 5
}
